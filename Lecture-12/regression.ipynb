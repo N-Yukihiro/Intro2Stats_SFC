{
  "cells": [
    {
      "cell_type": "markdown",
      "id": "bb6c8148-64b6-4fc8-a5e1-620c20d1e66b",
      "metadata": {},
      "source": [
        "# 回帰分析\n",
        "\n",
        "## データ\n",
        "\n",
        "### データの読み込み\n",
        "\n",
        "米国のある大学における教員に対して支払われた9か月間の給与データを用いる.\n",
        "期間は2008年から2009年. 教員の役職(助教授, 准教授,\n",
        "教授)や研究分野(理論研究か応用研究か), 博士号取得からの年数, 勤務年数,\n",
        "性別が含まれている. 男女の賃金格差を検証するために収集された."
      ]
    },
    {
      "cell_type": "code",
      "execution_count": null,
      "id": "8c5ff6f0-f751-4b17-a657-babfe0d93fe1",
      "metadata": {},
      "outputs": [],
      "source": [
        "library(pacman)\n",
        "p_load(carData)"
      ]
    },
    {
      "cell_type": "markdown",
      "id": "36b0cb1c-5416-4475-b670-a7e92ff2f254",
      "metadata": {},
      "source": [
        "### データ構造の確認\n",
        "\n",
        "分析の前にデータの構造を確認する."
      ]
    },
    {
      "cell_type": "code",
      "execution_count": null,
      "id": "3554fe5e-9455-4168-a948-7105c9149a51",
      "metadata": {},
      "outputs": [],
      "source": [
        "p_load(dplyr)\n",
        "glimpse(Salaries)"
      ]
    },
    {
      "cell_type": "markdown",
      "id": "b23cd70d-380d-480a-a392-7c91fd7d6f0a",
      "metadata": {},
      "source": [
        "### factor型データのレベルチェック\n",
        "\n",
        "factor型データは見かけだけでなくどのような順番で定義されているかも確認しておいた方が問題を回避できる.\n",
        "factor型のデータの順序を確認するためには`levels()`関数を利用する."
      ]
    },
    {
      "cell_type": "code",
      "execution_count": null,
      "id": "d41169d2-24ab-49b4-923d-ebe435e15362",
      "metadata": {},
      "outputs": [],
      "source": [
        "levels(Salaries$rank)"
      ]
    },
    {
      "cell_type": "markdown",
      "id": "16591a4b-ba01-4e83-848e-518b4b41861d",
      "metadata": {},
      "source": [
        "### データの記述統計\n",
        "\n",
        "`summary()`関数を利用してデータの記述統計を確認する."
      ]
    },
    {
      "cell_type": "code",
      "execution_count": null,
      "id": "f3d5b548-9dcb-47f2-8060-e0f778193d19",
      "metadata": {},
      "outputs": [],
      "source": [
        "summary(Salaries)"
      ]
    },
    {
      "cell_type": "markdown",
      "id": "49879141-ef9b-4be3-b63a-4bb6c2f4df96",
      "metadata": {},
      "source": [
        "### データのペアプロット\n",
        "\n",
        "データのペアプロットをして列間の関係を把握する."
      ]
    },
    {
      "cell_type": "code",
      "execution_count": null,
      "id": "7571524a-7811-4bd3-a669-5388903a24b8",
      "metadata": {},
      "outputs": [],
      "source": [
        "p_load(ggplot2, GGally)\n",
        "ggpairs(Salaries)"
      ]
    },
    {
      "cell_type": "markdown",
      "id": "7580bd1e-2601-4f2f-939e-076ea46d7671",
      "metadata": {},
      "source": [
        "男女で色分けしてみる."
      ]
    },
    {
      "cell_type": "code",
      "execution_count": null,
      "id": "98ace290-f7df-40f8-8db4-14cbbb288744",
      "metadata": {},
      "outputs": [],
      "source": [
        "ggpairs(Salaries, aes(colour = sex, alpha = 0.5))"
      ]
    },
    {
      "cell_type": "markdown",
      "id": "5d1a0afb-77dc-40c4-bf73-3d3d0dcada39",
      "metadata": {},
      "source": [
        "### グラフの描画1\n",
        "\n",
        "ペアプロットの右上のグラフをx軸とy軸を反転してggplot2で描いてみる."
      ]
    },
    {
      "cell_type": "code",
      "execution_count": null,
      "id": "45b1d866-db5f-4891-b10c-950810181247",
      "metadata": {},
      "outputs": [],
      "source": [
        "ggplot(data = Salaries) +\n",
        "  aes(x      = sex,\n",
        "      y      = salary,\n",
        "      colour = sex) +\n",
        "  geom_boxplot() +\n",
        "  geom_jitter() +\n",
        "  facet_wrap(~rank)"
      ]
    },
    {
      "cell_type": "markdown",
      "id": "812a2fa5-f0ad-484e-bef6-c7cd0a38323e",
      "metadata": {},
      "source": [
        "### クロス集計表\n",
        "\n",
        "男女の人数差が大きいため,\n",
        "factor型データ同士で分割表(クロス集計表)を作って関係性を見る.\n",
        "`xtabs()`関数を利用し, 記法は相関や回帰と同様である."
      ]
    },
    {
      "cell_type": "code",
      "execution_count": null,
      "id": "ab5137aa-ed53-4f7f-a957-1e714f9b799c",
      "metadata": {},
      "outputs": [],
      "source": [
        "cross <- xtabs(~ rank + sex, data = Salaries)\n",
        "cross"
      ]
    },
    {
      "cell_type": "markdown",
      "id": "f36351ce-ea59-4d5d-9c80-36ee9be84986",
      "metadata": {},
      "source": [
        "### クロス集計表(相対度数)\n",
        "\n",
        "相対度数を見る場合は分割表を`prop.table()`関数に与える.\n",
        "表全体を合計すると1の場合."
      ]
    },
    {
      "cell_type": "code",
      "execution_count": null,
      "id": "a3d0058c-ffa2-4b51-8344-afd95db439b6",
      "metadata": {},
      "outputs": [],
      "source": [
        "prop.table(cross)"
      ]
    },
    {
      "cell_type": "markdown",
      "id": "7e0adcb3-9533-4ae6-a5cf-1461bfacf1f0",
      "metadata": {},
      "source": [
        "引数`margin = 1`とすると行の合計が1となり,\n",
        "`margin = 2`で列の合計が1となる."
      ]
    },
    {
      "cell_type": "code",
      "execution_count": null,
      "id": "e619af30-c12f-46fc-9035-674c418536d3",
      "metadata": {},
      "outputs": [],
      "source": [
        "prop.table(cross, margin = 2)"
      ]
    },
    {
      "cell_type": "markdown",
      "id": "4c05cf08-2c3d-4077-9b3b-947c79effa09",
      "metadata": {},
      "source": [
        "### 男女別給与の平均値\n",
        "\n",
        "男女別に給与の平均値がどれくらいかを算出する."
      ]
    },
    {
      "cell_type": "code",
      "execution_count": null,
      "id": "d2682562-091b-4de0-8e68-5576cb643df4",
      "metadata": {},
      "outputs": [],
      "source": [
        "Salaries |> \n",
        "  group_by(sex) |> \n",
        "  summarise(mean = mean(salary), \n",
        "            sd   = sd(salary))"
      ]
    },
    {
      "cell_type": "markdown",
      "id": "a0c4733c-3dba-4dd3-8a7d-4ca359ec22e4",
      "metadata": {},
      "source": [
        "### 平均値の差の検定(Studentのt検定)\n",
        "\n",
        "男性と女性で平均値に差があるのかを検定する.\n",
        "男性と女性で給与の分散が等しい(`var.equal = TRUE`)と仮定する."
      ]
    },
    {
      "cell_type": "code",
      "execution_count": null,
      "id": "1d5975fa-9613-4903-b7ab-a5d8c0941308",
      "metadata": {},
      "outputs": [],
      "source": [
        "t.test(salary ~ sex,   \n",
        "       data      = Salaries,\n",
        "       var.equal = TRUE)"
      ]
    },
    {
      "cell_type": "markdown",
      "id": "f12cfd8d-0fc1-4bbc-9148-12f675bbd111",
      "metadata": {},
      "source": [
        "### 平均値の差の検定(Welchのt検定)\n",
        "\n",
        "男性と女性で平均値に差があるのかを検定する.\n",
        "男性と女性で給与の分散が等しいと仮定を置かない(`var.equal = FALSE`)."
      ]
    },
    {
      "cell_type": "code",
      "execution_count": null,
      "id": "e99121e7-2bc7-4c63-8c0c-0cfc7614699f",
      "metadata": {},
      "outputs": [],
      "source": [
        "t.test(salary ~ sex,\n",
        "       data      = Salaries,\n",
        "       var.equal = FALSE)"
      ]
    },
    {
      "cell_type": "markdown",
      "id": "5d966219-08b9-4039-9380-00a6ccbf51c6",
      "metadata": {},
      "source": [
        "### 回帰分析(単回帰: ダミー変数のみ)\n",
        "\n",
        "まずはじめに性別のみを説明変数とする単回帰分析を行う.\n",
        "ダミー変数のみを説明変数とする単回帰分析の結果はStudentのt検定の結果と一致する."
      ]
    },
    {
      "cell_type": "code",
      "execution_count": null,
      "id": "0fcf176d-1101-4f8a-8ab6-40e444baaaef",
      "metadata": {},
      "outputs": [],
      "source": [
        "model1 <- lm(salary ~ sex, data = Salaries)\n",
        "p_load(jtools)\n",
        "summ(model1, confint = T)"
      ]
    },
    {
      "cell_type": "markdown",
      "id": "837c2e79-8fc7-4f8d-87f1-1ba505e76528",
      "metadata": {},
      "source": [
        "### 回帰係数の図示\n",
        "\n",
        "回帰分析の結果は表だけでなく, グラフ化するとわかりやすい."
      ]
    },
    {
      "cell_type": "code",
      "execution_count": null,
      "id": "203c4aff-1e19-47d2-bd8d-8f894967fc83",
      "metadata": {},
      "outputs": [],
      "source": [
        "p_load(coefplot)\n",
        "coefplot(model1)"
      ]
    },
    {
      "cell_type": "markdown",
      "id": "83729a06-844f-46d6-83b4-75c32cf8945f",
      "metadata": {},
      "source": [
        "### 回帰分析(フルモデル)\n",
        "\n",
        "とりあえず全ての変数を投入して重回帰分析を行う.\n",
        "データフレーム内の全ての変数を説明変数とするときには`lm(y ~ .)`のように`.`を利用する.\n",
        "\n",
        "多重共線性の疑い(Ph.D取得からの年数($\\simeq$ 年齢)と勤続年数)がある.\n",
        "勤続年数が長いほど給与が減少するという結果になっている."
      ]
    },
    {
      "cell_type": "code",
      "execution_count": null,
      "id": "ce1ba56a-a00a-45c7-870e-6dd3b23b94a6",
      "metadata": {},
      "outputs": [],
      "source": [
        "model2 <- lm(salary ~ ., data = Salaries)\n",
        "summ(model2, vifs = TRUE)"
      ]
    },
    {
      "cell_type": "markdown",
      "id": "599ff263-8f5f-4349-ae26-2690aafd04e2",
      "metadata": {},
      "source": [
        "### 結果の図示\n",
        "\n",
        "回帰分析の結果は表だけでなく, グラフ化するとわかりやすい.\n",
        "結果のグラフ化には`coefplot`パッケージの`coefplot()`関数が便利."
      ]
    },
    {
      "cell_type": "code",
      "execution_count": null,
      "id": "25de06e6-dc6e-4b67-8585-b85ac4306b26",
      "metadata": {},
      "outputs": [],
      "source": [
        "coefplot(model2)"
      ]
    },
    {
      "cell_type": "markdown",
      "id": "6876943c-b595-4416-8f21-f9e5978675bf",
      "metadata": {},
      "source": [
        "### 回帰分析(除く勤続年数年数)\n",
        "\n",
        "勤続年数を除いて推計する."
      ]
    },
    {
      "cell_type": "code",
      "execution_count": null,
      "id": "2074d94d-ce4e-4f87-a804-1bec7f95a957",
      "metadata": {},
      "outputs": [],
      "source": [
        "model3 <- lm(salary ~ rank + discipline + yrs.since.phd + sex,\n",
        "             data = Salaries)\n",
        "summ(model3)"
      ]
    },
    {
      "cell_type": "markdown",
      "id": "ce258ace-5487-46d0-a67f-b1c4bc84cb01",
      "metadata": {},
      "source": [
        "### 回帰分析(前提知識からのモデルの検討)\n",
        "\n",
        "女性であるがゆえに昇進できないとすると`rank`を除いた方がより女性であることによって給与に差があるのかを評価ができる.\n",
        "`rank`が含まれていると女性であるがゆえに昇進できないことは評価できず,\n",
        "同じ職階の時に性別によって年収に差が出るのかを検証する."
      ]
    },
    {
      "cell_type": "code",
      "execution_count": null,
      "id": "064d940c-1660-464b-a1c8-0101380c7626",
      "metadata": {},
      "outputs": [],
      "source": [
        "model4 <- lm(salary ~ discipline + yrs.since.phd + sex,\n",
        "             data = Salaries)\n",
        "summ(model4)"
      ]
    },
    {
      "cell_type": "markdown",
      "id": "1b25db3e-11a2-4ddc-9ab6-340ca3ff0449",
      "metadata": {},
      "source": [
        "### 分散不均一の考慮\n",
        "\n",
        "Welchのt検定のように分散不均一を考慮する際には`estimatr`パッケージの`lm_robust()`関数を利用すると分散不均一を補正した標準誤差を計算できる."
      ]
    },
    {
      "cell_type": "code",
      "execution_count": null,
      "id": "58f7c42a-90cf-46e4-be14-8453bcf110f3",
      "metadata": {},
      "outputs": [],
      "source": [
        "p_load(estimatr)"
      ]
    },
    {
      "cell_type": "markdown",
      "id": "4ccc56a0-de59-45c2-b6a5-0638e1578c3f",
      "metadata": {},
      "source": [
        "分散不均一を補正した結果は`summ()`関数の中で`robust`の引数を指定することでも表示できる."
      ]
    },
    {
      "cell_type": "code",
      "execution_count": null,
      "id": "46937036-9e5a-4469-a01a-f8bb6fd52dc9",
      "metadata": {},
      "outputs": [],
      "source": [
        "summ(model1, robust = \"HC3\")"
      ]
    },
    {
      "cell_type": "markdown",
      "id": "ca3bcc3b-419d-43ac-b57a-d008ed2d2a9d",
      "metadata": {},
      "source": [
        "### 回帰分析(交互作用項)\n",
        "\n",
        "交互作用項を追加する. 交互作用項を追加するには,\n",
        "交互作用を追加したい変数同士を`*`でつなぐ.\n",
        "今回は役職の博士号取得からの年数に与える効果は研究分野によって異なることを検討する.\n",
        "連続変数を一般的には中心化するがここでは省略."
      ]
    },
    {
      "cell_type": "code",
      "execution_count": null,
      "id": "cddbb131-2897-4759-a1d4-b2bf752a4ac5",
      "metadata": {},
      "outputs": [],
      "source": [
        "model5 <- lm(salary ~ rank + discipline * yrs.since.phd + sex,\n",
        "             data = Salaries)\n",
        "summ(model5)"
      ]
    },
    {
      "cell_type": "markdown",
      "id": "f1426e5d-b531-455a-b2ef-7cae05e98337",
      "metadata": {},
      "source": [
        "### 係数の解釈\n",
        "\n",
        "回帰分析の係数の解釈は他の変数を一定としたとき,\n",
        "その変数が1単位増加した時にどれだけ応答変数が変化するか.\n",
        "交互作用項を加えた際には他の変数を一定とするの解釈が難しい.\n",
        "理論研究を行う学部の教員における年数の効果を調べる."
      ]
    },
    {
      "cell_type": "code",
      "execution_count": null,
      "id": "de97c469-dd0a-412d-a2e1-f6b78f3e59c8",
      "metadata": {},
      "outputs": [],
      "source": [
        "model5$coefficients[5]"
      ]
    },
    {
      "cell_type": "markdown",
      "id": "eba9008f-2d51-45c4-90c2-d705a746ea25",
      "metadata": {},
      "source": [
        "応用研究を行う学部の教員における年数の効果を調べる. なお,\n",
        "今回は交互作用項は有意ではない."
      ]
    },
    {
      "cell_type": "code",
      "execution_count": null,
      "id": "a72b36c2-3267-49b3-8781-cd8cfa992465",
      "metadata": {},
      "outputs": [],
      "source": [
        "model5$coefficients[5] + model5$coefficients[7]"
      ]
    },
    {
      "cell_type": "markdown",
      "id": "636ecf4a-d496-4fb2-a1cf-3d42b4ea9f23",
      "metadata": {},
      "source": [
        "### 限界効果のプロット1\n",
        "\n",
        "教員が所属する学部の分野によって博士号取得からの年数の係数がどれだけ変化するかを図示する.\n",
        "`interplot`パッケージが便利."
      ]
    },
    {
      "cell_type": "code",
      "execution_count": null,
      "id": "68b8770d-7f48-4031-a00c-c2d118eba078",
      "metadata": {},
      "outputs": [],
      "source": [
        "p_load(interplot)"
      ]
    },
    {
      "cell_type": "markdown",
      "id": "86e65988-99c2-49bb-b75e-aa4db8a001aa",
      "metadata": {},
      "source": [
        "博士号取得からの年数によって教員が所属する学部の分野の係数どれだけ変化するかを図示する."
      ]
    },
    {
      "cell_type": "code",
      "execution_count": null,
      "id": "7c60a4b8-17b4-4048-a55a-1664458506a4",
      "metadata": {},
      "outputs": [],
      "source": [
        "interplot(\n",
        "  model5,\n",
        "  var1 = \"discipline\",\n",
        "  var2 = \"yrs.since.phd\"\n",
        "  )"
      ]
    },
    {
      "cell_type": "markdown",
      "id": "b107125c-fdea-4415-a3a1-c4a60bdf9870",
      "metadata": {},
      "source": [
        "### モデルの比較\n",
        "\n",
        "`stargazer`パッケージを使って結果を表にまとめる."
      ]
    },
    {
      "cell_type": "code",
      "execution_count": null,
      "id": "786b0a82-723a-4c9c-af79-644b565bf1f2",
      "metadata": {},
      "outputs": [],
      "source": [
        "p_load(stargazer)\n",
        "stargazer(model1, model2, model3, model4, model5,\n",
        "          type              = \"text\",\n",
        "          style             = \"all\",\n",
        "          star.cutoffs      = NA,\n",
        "          omit.table.layout = 'n',\n",
        "          ci                = TRUE,\n",
        "          align             = TRUE)"
      ]
    },
    {
      "cell_type": "markdown",
      "id": "29969aed-d746-49aa-b849-5c7d357a1b73",
      "metadata": {},
      "source": [
        "### AIC\n",
        "\n",
        "AICを各モデルで算出する."
      ]
    },
    {
      "cell_type": "code",
      "execution_count": null,
      "id": "b6477b62-fe2b-4de4-8268-070b67f1779a",
      "metadata": {},
      "outputs": [],
      "source": [
        "AIC(model1, model2, model3, model4, model5)"
      ]
    },
    {
      "cell_type": "markdown",
      "id": "56d2bf90-d948-4d9e-a3ca-1d9cd5327e98",
      "metadata": {},
      "source": [
        "### BIC\n",
        "\n",
        "BICを各モデルで算出する."
      ]
    },
    {
      "cell_type": "code",
      "execution_count": null,
      "id": "18635fe9-59b5-43ed-a581-3d59bcb210cb",
      "metadata": {},
      "outputs": [],
      "source": [
        "BIC(model1, model2, model3, model4, model5)"
      ]
    },
    {
      "cell_type": "markdown",
      "id": "d7f93c9a-50a1-4d67-a6aa-ad08498a48f2",
      "metadata": {},
      "source": [
        "### モデルの整理\n",
        "\n",
        "`caret`パッケージでまとめてLOOCVを行うためにモデルを整理する."
      ]
    },
    {
      "cell_type": "code",
      "execution_count": null,
      "id": "b81bc792-382d-4251-aa12-0148c41eaa80",
      "metadata": {},
      "outputs": [],
      "source": [
        "p_load(tibble)\n",
        "models <- c(salary ~ sex,\n",
        "            salary ~ .,\n",
        "            salary ~ rank + discipline + yrs.since.phd + sex,\n",
        "            salary ~ discipline + yrs.since.phd + sex,\n",
        "            salary ~ rank + discipline * yrs.since.phd + sex) |> \n",
        "  magrittr::set_names(c(\"model1\", \"model2\", \"model3\", \"model4\", \"model5\")) |>\n",
        "  tibble::enframe(name = \"model_index\", value = \"formula\")"
      ]
    },
    {
      "cell_type": "markdown",
      "id": "d409cd7a-6fe1-467a-adce-b77b1b71f782",
      "metadata": {},
      "source": [
        "### LOOCVの実行\n",
        "\n",
        "`purrr`パッケージなどを用いてまとめてLOOCVを行う.."
      ]
    },
    {
      "cell_type": "code",
      "execution_count": null,
      "id": "8ac03425-580a-4280-bd46-68630aa3e0c4",
      "metadata": {},
      "outputs": [],
      "source": [
        "p_load(purrr, caret, tidyr)\n",
        "models |> \n",
        "  mutate(model = map(.x = formula,\n",
        "                     .f = \\(model) train(model,\n",
        "                                         method = \"lm\",\n",
        "                                         data = Salaries,\n",
        "                                         trControl = trainControl(\"LOOCV\")))) |> \n",
        "  mutate(results = map(model, \"results\")) |> \n",
        "  dplyr::select(model_index, results) |> \n",
        "  tidyr::unnest()"
      ]
    },
    {
      "cell_type": "markdown",
      "id": "c671c321-afe8-4c5e-a11c-80caa048fecf",
      "metadata": {},
      "source": [
        "### 残差のチェック: model1"
      ]
    },
    {
      "cell_type": "code",
      "execution_count": null,
      "id": "32393458-d3e0-4626-9822-ce37d5342aab",
      "metadata": {},
      "outputs": [],
      "source": [
        "p_load(ggfortify)\n",
        "autoplot(model1)"
      ]
    },
    {
      "cell_type": "markdown",
      "id": "8b4c650a-2cfe-4eab-9ed1-47e6e2279b21",
      "metadata": {},
      "source": [
        "### 残差のチェック: model2"
      ]
    },
    {
      "cell_type": "code",
      "execution_count": null,
      "id": "4fe7a288-ac36-45fa-bda5-0a7c6021b4af",
      "metadata": {},
      "outputs": [],
      "source": [
        "autoplot(model2)"
      ]
    },
    {
      "cell_type": "markdown",
      "id": "2174384e-b02d-476b-b676-6c14253a3784",
      "metadata": {},
      "source": [
        "### 残差のチェック: model3"
      ]
    },
    {
      "cell_type": "code",
      "execution_count": null,
      "id": "7adb7cb1-fcbd-4532-b5f8-1ec5b9f340fe",
      "metadata": {},
      "outputs": [],
      "source": [
        "autoplot(model3)"
      ]
    },
    {
      "cell_type": "markdown",
      "id": "336bc328-0254-40dd-9e51-d5fe61dffe0c",
      "metadata": {},
      "source": [
        "### 残差のチェック: model4"
      ]
    },
    {
      "cell_type": "code",
      "execution_count": null,
      "id": "9d4fe6a6-c608-4cea-867e-4553a6f50da4",
      "metadata": {},
      "outputs": [],
      "source": [
        "autoplot(model4)"
      ]
    },
    {
      "cell_type": "markdown",
      "id": "e3f28252-3af5-4095-ad43-fe37d00750dd",
      "metadata": {},
      "source": [
        "### 残差のチェック: model5"
      ]
    },
    {
      "cell_type": "code",
      "execution_count": null,
      "id": "d013708a-b5c8-4c25-85cf-e28ad394761a",
      "metadata": {},
      "outputs": [],
      "source": [
        "autoplot(model5)"
      ]
    }
  ],
  "metadata": {
    "kernelspec": {
      "display_name": "Python 3",
      "language": "python",
      "name": "python3"
    }
  },
  "nbformat": 4,
  "nbformat_minor": 5
}
