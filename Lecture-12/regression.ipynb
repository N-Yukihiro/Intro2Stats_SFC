{
  "cells": [
    {
      "cell_type": "markdown",
      "metadata": {},
      "source": [
        "# 回帰分析\n",
        "\n",
        "## データ\n",
        "\n",
        "### データの読み込み\n",
        "\n",
        "米国のある大学における教員に対して支払われた9か月間の給与データを用いる.\n",
        "期間は2008年から2009年. 教員の役職(助教授, 准教授,\n",
        "教授)や研究分野(理論研究か応用研究か), 博士号取得からの年数, 勤務年数,\n",
        "性別が含まれている. 男女の賃金格差を検証するために収集された."
      ],
      "id": "e544f866-47d5-401b-bc15-a01066c9ce49"
    },
    {
      "cell_type": "code",
      "execution_count": null,
      "metadata": {},
      "outputs": [],
      "source": [
        "library(pacman)\n",
        "p_load(carData)\n",
        "data(\"Salaries\", package = \"carData\")\n",
        "names(Salaries)"
      ],
      "id": "f6d06049-7997-4119-b85c-5fe6cb09deb4"
    },
    {
      "cell_type": "markdown",
      "metadata": {},
      "source": [
        "### データ構造の確認\n",
        "\n",
        "分析の前にデータの構造を確認する."
      ],
      "id": "cf52ba54-2be6-415b-bac3-fd01737f76dd"
    },
    {
      "cell_type": "code",
      "execution_count": null,
      "metadata": {},
      "outputs": [],
      "source": [
        "p_load(dplyr)\n",
        "glimpse(Salaries)"
      ],
      "id": "4a902296-c8f2-4d43-94c7-9e1c114d1de6"
    },
    {
      "cell_type": "markdown",
      "metadata": {},
      "source": [
        "### factor型データのレベルチェック\n",
        "\n",
        "factor型データは見かけだけでなくどのような順番で定義されているかも確認しておいた方が問題を回避できる.\n",
        "factor型のデータの順序を確認するためには`levels()`関数を利用する."
      ],
      "id": "eb60bbc2-a9b6-4805-918d-e2ff312d646d"
    },
    {
      "cell_type": "code",
      "execution_count": null,
      "metadata": {},
      "outputs": [],
      "source": [
        "levels(Salaries$rank)\n",
        "levels(Salaries$discipline)\n",
        "levels(Salaries$sex)"
      ],
      "id": "9a853a31-26df-473f-b913-44a6e7fd46ec"
    },
    {
      "cell_type": "markdown",
      "metadata": {},
      "source": [
        "### データの記述統計\n",
        "\n",
        "`summary()`関数を利用してデータの記述統計を確認する."
      ],
      "id": "5b859493-e479-4ad7-9337-024edb275011"
    },
    {
      "cell_type": "code",
      "execution_count": null,
      "metadata": {},
      "outputs": [],
      "source": [
        "summary(Salaries)"
      ],
      "id": "9930a667-32c3-4f0f-9a9a-7a9589127f80"
    },
    {
      "cell_type": "markdown",
      "metadata": {},
      "source": [
        "### データのペアプロット\n",
        "\n",
        "データのペアプロットをして列間の関係を把握する."
      ],
      "id": "92925998-ad16-4d8f-aa2b-1eb2f6513a36"
    },
    {
      "cell_type": "code",
      "execution_count": null,
      "metadata": {},
      "outputs": [],
      "source": [
        "p_load(ggplot2, GGally)\n",
        "ggpairs(Salaries)"
      ],
      "id": "2e23fa4c-888b-4c1d-990f-3f90cf26c18a"
    },
    {
      "cell_type": "markdown",
      "metadata": {},
      "source": [
        "男女で色分けしてみる."
      ],
      "id": "49655176-7d13-4dde-a6a2-de708bcbeeef"
    },
    {
      "cell_type": "code",
      "execution_count": null,
      "metadata": {},
      "outputs": [],
      "source": [
        "ggpairs(Salaries, aes(colour = sex, alpha = 0.5))"
      ],
      "id": "e3d3fa9c-526d-4e90-b15e-53a7dcc42b70"
    },
    {
      "cell_type": "markdown",
      "metadata": {},
      "source": [
        "### グラフの描画1\n",
        "\n",
        "ペアプロットの右上のグラフをx軸とy軸を反転してggplot2で描いてみる."
      ],
      "id": "6031c54b-dc0f-40f4-bf9e-0c11dd1a1569"
    },
    {
      "cell_type": "code",
      "execution_count": null,
      "metadata": {},
      "outputs": [],
      "source": [
        "ggplot(data = Salaries) +\n",
        "  aes(x      = sex,\n",
        "      y      = salary,\n",
        "      colour = sex) +\n",
        "  geom_boxplot() +\n",
        "  geom_jitter() +\n",
        "  facet_wrap(~rank)"
      ],
      "id": "85e58607-e202-4f29-94c1-1bb7be74c169"
    },
    {
      "cell_type": "markdown",
      "metadata": {},
      "source": [
        "### クロス集計表\n",
        "\n",
        "男女の人数差が大きいため,\n",
        "factor型データ同士で分割表(クロス集計表)を作って関係性を見る.\n",
        "`xtabs()`関数を利用し, 記法は相関や回帰と同様である."
      ],
      "id": "f5a90ada-668f-4408-95ee-9f1c1fdea20b"
    },
    {
      "cell_type": "code",
      "execution_count": null,
      "metadata": {},
      "outputs": [],
      "source": [
        "cross <- xtabs(~ rank + sex, data = Salaries)\n",
        "cross\n",
        "xtabs(~ discipline + sex, data = Salaries)"
      ],
      "id": "0efe0271-5f27-42da-8160-d56edee724dd"
    },
    {
      "cell_type": "markdown",
      "metadata": {},
      "source": [
        "### クロス集計表(相対度数)\n",
        "\n",
        "相対度数を見る場合は分割表を`prop.table()`関数に与える.\n",
        "表全体を合計すると1の場合."
      ],
      "id": "4a304eb0-a8e4-4fdb-8f7e-3783164e1e37"
    },
    {
      "cell_type": "code",
      "execution_count": null,
      "metadata": {},
      "outputs": [],
      "source": [
        "prop.table(cross)"
      ],
      "id": "b7744fed-a7fa-42b6-9de7-d751a077f1f1"
    },
    {
      "cell_type": "markdown",
      "metadata": {},
      "source": [
        "引数`margin = 1`とすると行の合計が1となり,\n",
        "`margin = 2`で列の合計が1となる."
      ],
      "id": "cf21ca59-ccbf-47aa-9489-56222d525fa7"
    },
    {
      "cell_type": "code",
      "execution_count": null,
      "metadata": {},
      "outputs": [],
      "source": [
        "prop.table(cross, margin = 2)"
      ],
      "id": "42fdd1d5-f0d8-48c0-a4dd-b6be19bb131f"
    },
    {
      "cell_type": "markdown",
      "metadata": {},
      "source": [
        "### 男女別給与の平均値\n",
        "\n",
        "男女別に給与の平均値がどれくらいかを算出する."
      ],
      "id": "cf90a66a-c8aa-4cda-ada5-c5a1048e0128"
    },
    {
      "cell_type": "code",
      "execution_count": null,
      "metadata": {},
      "outputs": [],
      "source": [
        "Salaries |> \n",
        "  group_by(sex) |> \n",
        "  summarise(mean = mean(salary), \n",
        "            sd   = sd(salary))"
      ],
      "id": "8afa3e5f-338e-4206-9874-2de80adf8a7b"
    },
    {
      "cell_type": "markdown",
      "metadata": {},
      "source": [
        "### 平均値の差の検定(Studentのt検定)\n",
        "\n",
        "男性と女性で平均値に差があるのかを検定する.\n",
        "男性と女性で給与の分散が等しい(`var.equal = TRUE`)と仮定する."
      ],
      "id": "a4d7dba5-0086-404e-86f3-8c10045e605a"
    },
    {
      "cell_type": "code",
      "execution_count": null,
      "metadata": {},
      "outputs": [],
      "source": [
        "t.test(salary ~ sex,   \n",
        "       data      = Salaries,\n",
        "       paired    = FALSE,\n",
        "       var.equal = TRUE)"
      ],
      "id": "dda8a07d-8d8e-4488-9118-98dfab81bec1"
    },
    {
      "cell_type": "markdown",
      "metadata": {},
      "source": [
        "### 平均値の差の検定(Welchのt検定)\n",
        "\n",
        "男性と女性で平均値に差があるのかを検定する.\n",
        "男性と女性で給与の分散が等しいと仮定を置かない(`var.equal = FALSE`)."
      ],
      "id": "feea729f-9eb5-45ba-8fc5-05ee1b4e8a5f"
    },
    {
      "cell_type": "code",
      "execution_count": null,
      "metadata": {},
      "outputs": [],
      "source": [
        "t.test(salary ~ sex,\n",
        "       data      = Salaries,\n",
        "       paired    = FALSE,\n",
        "       var.equal = FALSE)"
      ],
      "id": "697a4398-2c97-44db-9bf4-84e27fc42eb9"
    },
    {
      "cell_type": "markdown",
      "metadata": {},
      "source": [
        "### 回帰分析(単回帰: ダミー変数のみ)\n",
        "\n",
        "まずはじめに性別のみを説明変数とする単回帰分析を行う.\n",
        "ダミー変数のみを説明変数とする単回帰分析の結果はStudentのt検定の結果と一致する."
      ],
      "id": "b144ca7f-b485-4194-a08a-63c8878e353b"
    },
    {
      "cell_type": "code",
      "execution_count": null,
      "metadata": {},
      "outputs": [],
      "source": [
        "model1 <- lm(salary ~ sex, data = Salaries)\n",
        "p_load(jtools)\n",
        "summ(model1, confint = T)"
      ],
      "id": "e12c14dc-4a21-43f3-b138-6c4abb778bd4"
    },
    {
      "cell_type": "markdown",
      "metadata": {},
      "source": [
        "### 回帰係数の図示\n",
        "\n",
        "回帰分析の結果は表だけでなく, グラフ化するとわかりやすい."
      ],
      "id": "7a906c82-f108-4bdf-a021-f24e0aa52960"
    },
    {
      "cell_type": "code",
      "execution_count": null,
      "metadata": {},
      "outputs": [],
      "source": [
        "p_load(coefplot)\n",
        "coefplot(model1)"
      ],
      "id": "e7317c05-033c-433c-b646-a40595b8f8b6"
    },
    {
      "cell_type": "markdown",
      "metadata": {},
      "source": [
        "### 回帰分析(フルモデル)\n",
        "\n",
        "とりあえず全ての変数を投入して重回帰分析を行う.\n",
        "データフレーム内の全ての変数を説明変数とするときには`lm(y ~ .)`のように`.`を利用する.\n",
        "\n",
        "多重共線性の疑い(Ph.D取得からの年数($\\simeq$ 年齢)と勤続年数)がある.\n",
        "勤続年数が長いほど給与が減少するという結果になっている."
      ],
      "id": "5b1bd051-eee4-4d4e-b094-dc281676a3c3"
    },
    {
      "cell_type": "code",
      "execution_count": null,
      "metadata": {},
      "outputs": [],
      "source": [
        "model2 <- lm(salary ~ ., data = Salaries)\n",
        "summ(model2, vifs = TRUE)"
      ],
      "id": "90221a40-6c58-4287-9233-6b7235a9de54"
    },
    {
      "cell_type": "markdown",
      "metadata": {},
      "source": [
        "### 結果の図示\n",
        "\n",
        "回帰分析の結果は表だけでなく, グラフ化するとわかりやすい.\n",
        "結果のグラフ化には`coefplot`パッケージの`coefplot()`関数が便利."
      ],
      "id": "a966c59f-84df-4498-88e8-d76fb27d57a9"
    },
    {
      "cell_type": "code",
      "execution_count": null,
      "metadata": {},
      "outputs": [],
      "source": [
        "coefplot(model2)"
      ],
      "id": "b7c1ce1d-bb8c-4603-aaf7-7372988d5929"
    },
    {
      "cell_type": "markdown",
      "metadata": {},
      "source": [
        "### 回帰分析(除く勤続年数年数)\n",
        "\n",
        "勤続年数を除いて推計する."
      ],
      "id": "25554293-28e6-4c38-bf05-0c6a146ef22d"
    },
    {
      "cell_type": "code",
      "execution_count": null,
      "metadata": {},
      "outputs": [],
      "source": [
        "model3 <- lm(salary ~ rank + discipline + yrs.since.phd + sex,\n",
        "             data = Salaries)\n",
        "summ(model3)"
      ],
      "id": "2aa46155-9b25-4ae2-b2fe-b9687fed9e91"
    },
    {
      "cell_type": "markdown",
      "metadata": {},
      "source": [
        "### 回帰分析(前提知識からのモデルの検討)\n",
        "\n",
        "女性であるがゆえに昇進できないとすると`rank`を除いた方がより女性であることによって給与に差があるのかを評価ができる.\n",
        "`rank`が含まれていると女性であるがゆえに昇進できないことは評価できず,\n",
        "同じ職階の時に性別によって年収に差が出るのかを検証する."
      ],
      "id": "858d8771-ec63-4e38-8957-6e8b906ff59c"
    },
    {
      "cell_type": "code",
      "execution_count": null,
      "metadata": {},
      "outputs": [],
      "source": [
        "model4 <- lm(salary ~ discipline + yrs.since.phd + sex,\n",
        "             data = Salaries)\n",
        "summ(model4)"
      ],
      "id": "2618d473-01a4-4005-a7cf-9dcc512bbfd3"
    },
    {
      "cell_type": "markdown",
      "metadata": {},
      "source": [
        "### 分散不均一の考慮\n",
        "\n",
        "Welchのt検定のように分散不均一を考慮する際には`estimatr`パッケージの`lm_robust()`関数を利用すると分散不均一を補正した標準誤差を計算できる."
      ],
      "id": "76ae0a92-aa78-461c-a551-efe6674bfb2b"
    },
    {
      "cell_type": "code",
      "execution_count": null,
      "metadata": {},
      "outputs": [],
      "source": [
        "p_load(estimatr)\n",
        "lm_robust(salary ~ discipline + yrs.since.phd + sex,\n",
        "          data    = Salaries, \n",
        "          se_type = \"HC3\") |> \n",
        "  summary()"
      ],
      "id": "420f9114-d786-46fb-8f60-292e3e96b17c"
    },
    {
      "cell_type": "markdown",
      "metadata": {},
      "source": [
        "分散不均一を補正した結果は`summ()`関数の中で`robust`の引数を指定することでも表示できる."
      ],
      "id": "93deb57a-5a2f-44ff-87f6-36947da8b4a0"
    },
    {
      "cell_type": "code",
      "execution_count": null,
      "metadata": {},
      "outputs": [],
      "source": [
        "summ(model1, robust = \"HC3\")"
      ],
      "id": "22ce5207-3a6d-485c-b344-960c66475c11"
    },
    {
      "cell_type": "markdown",
      "metadata": {},
      "source": [
        "### 回帰分析(交互作用項)\n",
        "\n",
        "交互作用項を追加する. 交互作用項を追加するには,\n",
        "交互作用を追加したい変数同士を`*`でつなぐ.\n",
        "今回は役職の博士号取得からの年数に与える効果は研究分野によって異なることを検討する.\n",
        "連続変数を一般的には中心化するがここでは省略."
      ],
      "id": "5de0f71f-fc00-4c6e-8581-a7e6498a3952"
    },
    {
      "cell_type": "code",
      "execution_count": null,
      "metadata": {},
      "outputs": [],
      "source": [
        "model5 <- lm(salary ~ rank + discipline * yrs.since.phd + sex,\n",
        "             data = Salaries)\n",
        "summ(model5)"
      ],
      "id": "8c1d2f10-a6e4-4c07-b403-997e55265077"
    },
    {
      "cell_type": "markdown",
      "metadata": {},
      "source": [
        "### 係数の解釈\n",
        "\n",
        "回帰分析の係数の解釈は他の変数を一定としたとき,\n",
        "その変数が1単位増加した時にどれだけ応答変数が変化するか.\n",
        "交互作用項を加えた際には他の変数を一定とするの解釈が難しい.\n",
        "理論研究を行う学部の教員における年数の効果を調べる."
      ],
      "id": "0ea8a718-f456-4d1f-ac5e-76d0c85adcd3"
    },
    {
      "cell_type": "code",
      "execution_count": null,
      "metadata": {},
      "outputs": [],
      "source": [
        "model5$coefficients[5]"
      ],
      "id": "afe38903-d6da-4f52-b1fa-c818fab1431e"
    },
    {
      "cell_type": "markdown",
      "metadata": {},
      "source": [
        "応用研究を行う学部の教員における年数の効果を調べる. なお,\n",
        "今回は交互作用項は有意ではない."
      ],
      "id": "3bff07a1-be3b-4da6-ab7e-ea0fa3c76017"
    },
    {
      "cell_type": "code",
      "execution_count": null,
      "metadata": {},
      "outputs": [],
      "source": [
        "model5$coefficients[5] + model5$coefficients[7]"
      ],
      "id": "914ef143-9cfd-4614-ade7-6a5b276caf6a"
    },
    {
      "cell_type": "markdown",
      "metadata": {},
      "source": [
        "### 限界効果のプロット1\n",
        "\n",
        "教員が所属する学部の分野によって博士号取得からの年数の係数がどれだけ変化するかを図示する.\n",
        "`interplot`パッケージが便利."
      ],
      "id": "357a6af2-820f-42dd-a754-97f2dd2a263d"
    },
    {
      "cell_type": "code",
      "execution_count": null,
      "metadata": {},
      "outputs": [],
      "source": [
        "p_load(interplot)\n",
        "interplot(\n",
        "  model5,\n",
        "  var1 = \"yrs.since.phd\",\n",
        "  var2 = \"discipline\"\n",
        "  )"
      ],
      "id": "60b5be94-2c8a-4b2b-93a8-ad941457545b"
    },
    {
      "cell_type": "markdown",
      "metadata": {},
      "source": [
        "博士号取得からの年数によって教員が所属する学部の分野の係数どれだけ変化するかを図示する."
      ],
      "id": "bcf9978a-a38a-4037-8a2a-69698a442bd6"
    },
    {
      "cell_type": "code",
      "execution_count": null,
      "metadata": {},
      "outputs": [],
      "source": [
        "interplot(\n",
        "  model5,\n",
        "  var1 = \"discipline\",\n",
        "  var2 = \"yrs.since.phd\"\n",
        "  )"
      ],
      "id": "f2728154-5857-4157-add3-076e6581a44a"
    },
    {
      "cell_type": "markdown",
      "metadata": {},
      "source": [
        "### モデルの比較\n",
        "\n",
        "`stargazer`パッケージを使って結果を表にまとめる."
      ],
      "id": "515f6d3a-a365-4a59-bd64-078293bc9bbe"
    },
    {
      "cell_type": "code",
      "execution_count": null,
      "metadata": {},
      "outputs": [],
      "source": [
        "p_load(stargazer)\n",
        "stargazer(model1, model2, model3, model4, model5,\n",
        "          type              = \"text\",\n",
        "          style             = \"all\",\n",
        "          star.cutoffs      = NA,\n",
        "          omit.table.layout = 'n',\n",
        "          ci                = TRUE,\n",
        "          align             = TRUE)"
      ],
      "id": "0c9451dd-b5f6-46e4-9004-1a839fec3ae8"
    },
    {
      "cell_type": "markdown",
      "metadata": {},
      "source": [
        "### AIC\n",
        "\n",
        "AICを各モデルで算出する."
      ],
      "id": "60c7d5e7-404a-4495-81ee-ba39eb85ac73"
    },
    {
      "cell_type": "code",
      "execution_count": null,
      "metadata": {},
      "outputs": [],
      "source": [
        "AIC(model1, model2, model3, model4, model5)"
      ],
      "id": "1adea04d-5d9f-440f-9a5d-cd4c48f07cbf"
    },
    {
      "cell_type": "markdown",
      "metadata": {},
      "source": [
        "### BIC\n",
        "\n",
        "BICを各モデルで算出する."
      ],
      "id": "68166df4-63c2-404f-8faf-5f8ccf298a05"
    },
    {
      "cell_type": "code",
      "execution_count": null,
      "metadata": {},
      "outputs": [],
      "source": [
        "BIC(model1, model2, model3, model4, model5)"
      ],
      "id": "7a6dc4b7-641f-48e0-bf5c-bf98bfa2c6df"
    },
    {
      "cell_type": "markdown",
      "metadata": {},
      "source": [
        "### モデルの整理\n",
        "\n",
        "`caret`パッケージでまとめてLOOCVを行うためにモデルを整理する."
      ],
      "id": "1a6e56d5-77d9-422d-ab9f-7adffd5a8049"
    },
    {
      "cell_type": "code",
      "execution_count": null,
      "metadata": {},
      "outputs": [],
      "source": [
        "p_load(tibble)\n",
        "models <- c(salary ~ sex,\n",
        "            salary ~ .,\n",
        "            salary ~ rank + discipline + yrs.since.phd + sex,\n",
        "            salary ~ discipline + yrs.since.phd + sex,\n",
        "            salary ~ rank + discipline * yrs.since.phd + sex) |> \n",
        "  magrittr::set_names(c(\"model1\", \"model2\", \"model3\", \"model4\", \"model5\")) |>\n",
        "  tibble::enframe(name = \"model_index\", value = \"formula\")"
      ],
      "id": "717f1973-eb70-44da-8639-8eac384758ab"
    },
    {
      "cell_type": "markdown",
      "metadata": {},
      "source": [
        "### LOOCVの実行\n",
        "\n",
        "`purrr`パッケージなどを用いてまとめてLOOCVを行う.."
      ],
      "id": "25dcdf20-a965-41e3-841d-2d9e30332322"
    },
    {
      "cell_type": "code",
      "execution_count": null,
      "metadata": {},
      "outputs": [],
      "source": [
        "p_load(purrr, caret, tidyr)\n",
        "models |> \n",
        "  mutate(model = map(.x = formula,\n",
        "                     .f = ~train(.x,\n",
        "                                 method = \"lm\",\n",
        "                                 data = Salaries,\n",
        "                                 trControl = trainControl(\"LOOCV\")))) |> \n",
        "  mutate(results = map(model, \"results\")) |> \n",
        "  dplyr::select(model_index, results) |> \n",
        "  tidyr::unnest()"
      ],
      "id": "74030ad0-a85f-42e9-a2dc-51d0acd05214"
    },
    {
      "cell_type": "markdown",
      "metadata": {},
      "source": [
        "### 残差のチェック: model1"
      ],
      "id": "d0aafbe9-920d-4048-b2ad-d69732d6c93a"
    },
    {
      "cell_type": "code",
      "execution_count": null,
      "metadata": {},
      "outputs": [],
      "source": [
        "p_load(ggfortify)\n",
        "autoplot(model1)"
      ],
      "id": "e3c54858-30de-4bfe-acb9-0614395e9521"
    },
    {
      "cell_type": "markdown",
      "metadata": {},
      "source": [
        "### 残差のチェック: model2"
      ],
      "id": "552b3368-2aed-431a-93a9-9ddc819feb37"
    },
    {
      "cell_type": "code",
      "execution_count": null,
      "metadata": {},
      "outputs": [],
      "source": [
        "autoplot(model2)"
      ],
      "id": "1e83a736-2e49-447e-9be6-34ddbac6f361"
    },
    {
      "cell_type": "markdown",
      "metadata": {},
      "source": [
        "### 残差のチェック: model3"
      ],
      "id": "ad594443-de92-4afe-a996-6df6c7c21dce"
    },
    {
      "cell_type": "code",
      "execution_count": null,
      "metadata": {},
      "outputs": [],
      "source": [
        "autoplot(model3)"
      ],
      "id": "a89c0fa0-bc75-475f-a55f-0dacf553c4dd"
    },
    {
      "cell_type": "markdown",
      "metadata": {},
      "source": [
        "### 残差のチェック: model4"
      ],
      "id": "baf0a0fc-8765-4bb1-9b43-325dc9ed2258"
    },
    {
      "cell_type": "code",
      "execution_count": null,
      "metadata": {},
      "outputs": [],
      "source": [
        "autoplot(model4)"
      ],
      "id": "8557ed44-0425-4bad-bbc2-9721a7bcb22d"
    },
    {
      "cell_type": "markdown",
      "metadata": {},
      "source": [
        "### 残差のチェック: model5"
      ],
      "id": "940dcfd3-d949-4595-a54b-e142d4346865"
    },
    {
      "cell_type": "code",
      "execution_count": null,
      "metadata": {},
      "outputs": [],
      "source": [
        "autoplot(model5)"
      ],
      "id": "157f37f1-c103-4ba8-a9cf-e7992cd97ba1"
    }
  ],
  "nbformat": 4,
  "nbformat_minor": 5,
  "metadata": {
    "kernelspec": {
      "display_name": "Python 3",
      "language": "python",
      "name": "python3"
    }
  }
}