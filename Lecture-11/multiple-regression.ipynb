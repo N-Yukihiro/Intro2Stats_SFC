{
  "cells": [
    {
      "cell_type": "markdown",
      "metadata": {},
      "source": [
        "# 重回帰分析\n",
        "\n",
        "# Multiple Linear Regression\n",
        "\n",
        "## 重回帰分析の実行\n",
        "\n",
        "### データの読み込み\n",
        "\n",
        "『家計調査』2017年11月、第2−6表「年間収入階級別1世帯当たり1か月間の収入と支出」から作成した所得階級と支出のデータ`kakei201709_l18.csv`を用いる\\[^url\\].\n",
        "\n",
        "月間消費支出(円)(`CONS`), 月間消費支出(1万円)(`CONS1`),\n",
        "年間収入(1万円)(INC), 有業人員(人)(`WORK`). いずれも調査世帯の平均値."
      ],
      "id": "a74313a0-3c29-4ee2-a78e-426866f2cfff"
    },
    {
      "cell_type": "code",
      "execution_count": null,
      "metadata": {},
      "outputs": [],
      "source": [
        "library(pacman)\n",
        "p_load(here, readr)\n",
        "kakei <- readr::read_csv(here(\"data\", \"kakei201709_l18.csv\"))"
      ],
      "id": "58ea5ecd-080d-448f-9ef8-403f9334589e"
    },
    {
      "cell_type": "markdown",
      "metadata": {},
      "source": [
        "### ペアプロット\n",
        "\n",
        "いくつかの変数をまとめて散布図を描くには,\n",
        "`GGally`パッケージの`ggpairs()`関数が便利.\n",
        "右上(upper)にはピアソンの積率相関係数を示し,\n",
        "対角線(diag)には密度などを表してくれる."
      ],
      "id": "eb982580-498b-43da-a904-c6c59f537d0e"
    },
    {
      "cell_type": "code",
      "execution_count": null,
      "metadata": {},
      "outputs": [],
      "source": [
        "p_load(GGally)\n",
        "ggpairs(kakei)"
      ],
      "id": "ae3b2553-410f-4d49-a5bb-5f05bd4d5298"
    },
    {
      "cell_type": "markdown",
      "metadata": {},
      "source": [
        "### 最尤推定\n",
        "\n",
        "最尤推定法を利用するには, `glm()`関数を利用する.\n",
        "確率密度関数の分布族として正規分布(ガウス分布)を利用することを`family = \"gaussian\"`で宣言する.\n",
        "説明変数を増やして重回帰分析とするには, 説明変数を`+`でつなぐ.\n",
        "最小二乗法を行う`lm()`関数でも同じ."
      ],
      "id": "eb47c9f2-866d-495d-b22e-2cf4d30b2e1a"
    },
    {
      "cell_type": "code",
      "execution_count": null,
      "metadata": {},
      "outputs": [],
      "source": [
        "model1 <- glm(CONS1 ~ INC, \n",
        "              family = \"gaussian\", data = kakei)\n",
        "model2 <- glm(CONS1 ~ INC + WORK, \n",
        "              family = \"gaussian\", data = kakei)\n",
        "model3 <- glm(CONS1 ~ WORK, \n",
        "              family = \"gaussian\", data = kakei)\n",
        "ols1   <- lm(CONS1 ~ INC, \n",
        "             data = kakei)"
      ],
      "id": "7454cc5b-469f-40fa-9134-fe7463acc553"
    },
    {
      "cell_type": "markdown",
      "metadata": {},
      "source": [
        "## 結果の表示\n",
        "\n",
        "### 結果の表示\n",
        "\n",
        "`jtools`パッケージの`summ()`関数を利用して結果を確認する.\n",
        "最尤推定法は正規分布以外も利用できるため,\n",
        "より汎用的な$R^2$などが計算されるが,\n",
        "今回は線形回帰分析であるため割愛する.\n",
        "最終行に$\\hat{\\sigma}^2$も計算される."
      ],
      "id": "818f6f4e-675c-42f8-97c4-466763415896"
    },
    {
      "cell_type": "code",
      "execution_count": null,
      "metadata": {},
      "outputs": [],
      "source": [
        "p_load(jtools)\n",
        "summ(model2)"
      ],
      "id": "658ff755-cb1a-4aa7-96c8-52cf94eee455"
    },
    {
      "cell_type": "markdown",
      "metadata": {},
      "source": [
        "### 標準回帰係数の算出\n",
        "\n",
        "標準回帰係数を算出するには,\n",
        "`scale = TRUE, transform.response = TRUE`を利用する."
      ],
      "id": "0e1e078f-ff3e-4411-b759-04c3e8c37f44"
    },
    {
      "cell_type": "code",
      "execution_count": null,
      "metadata": {},
      "outputs": [],
      "source": [
        "summ(model2, scale = TRUE, \n",
        "     transform.response = TRUE)"
      ],
      "id": "40f2e275-148f-4d2e-9e89-062a8cf3b56e"
    },
    {
      "cell_type": "markdown",
      "metadata": {},
      "source": [
        "### 複数の分析結果を並べる\n",
        "\n",
        "複数の分析結果を並べるのには`stargazer`は有用である."
      ],
      "id": "d8b0e40b-9e2b-4477-981d-d710b5a36cf3"
    },
    {
      "cell_type": "code",
      "execution_count": null,
      "metadata": {},
      "outputs": [],
      "source": [
        "p_load(stargazer)\n",
        "stargazer(model1, model2, model3,\n",
        "          type              = \"text\",\n",
        "          style             = \"all\", \n",
        "          ci                = TRUE,\n",
        "          star.cutoffs      = NA, \n",
        "          omit.table.layout = 'n',\n",
        "          align             = TRUE)"
      ],
      "id": "e45cc1c7-86f5-4a74-a27f-813408643f09"
    },
    {
      "cell_type": "markdown",
      "metadata": {},
      "source": [
        "### AICによるモデル間の比較\n",
        "\n",
        "`AIC()`関数を用いて、モデル推定結果を比較できる."
      ],
      "id": "bce3c71d-ead9-437a-ae33-70923b586901"
    },
    {
      "cell_type": "code",
      "execution_count": null,
      "metadata": {},
      "outputs": [],
      "source": [
        "AIC(model1, model2, model3)"
      ],
      "id": "2228b16b-efec-4237-bba5-efa47fa9fa47"
    },
    {
      "cell_type": "markdown",
      "metadata": {},
      "source": [
        "### BICによるモデル間の比較\n",
        "\n",
        "`BIC()`関数を用いて、モデル推定結果を比較できる."
      ],
      "id": "9505cfad-ea04-488f-9146-a627359caf26"
    },
    {
      "cell_type": "code",
      "execution_count": null,
      "metadata": {},
      "outputs": [],
      "source": [
        "BIC(model1, model2, model3)"
      ],
      "id": "b40d643c-a5c7-4bcf-b314-08ce89174cc9"
    },
    {
      "cell_type": "markdown",
      "metadata": {},
      "source": [
        "## 結果の図示\n",
        "\n",
        "### 結果の図示\n",
        "\n",
        "回帰分析の結果は表だけでなく, グラフ化するとわかりやすい.\n",
        "結果のグラフ化には`coefplot`パッケージの`coefplot()`関数が便利."
      ],
      "id": "db8dfc84-8b70-40bc-8949-dc2abe2042a3"
    },
    {
      "cell_type": "code",
      "execution_count": null,
      "metadata": {},
      "outputs": [],
      "source": [
        "p_load(coefplot)\n",
        "coefplot(model2)"
      ],
      "id": "07666e2c-c060-4640-96e9-11836d31e3c2"
    },
    {
      "cell_type": "markdown",
      "metadata": {},
      "source": [
        "定数項は基準が違うために一緒にプロットすると見づらい場合がある.\n",
        "`intercept = FALSE`を引数に入れれば定数項を表示しない."
      ],
      "id": "cc5830b3-74c8-4c51-bd06-8478f15bad35"
    },
    {
      "cell_type": "code",
      "execution_count": null,
      "metadata": {},
      "outputs": [],
      "source": [
        "coefplot(model2,\n",
        "         intercept = FALSE)"
      ],
      "id": "e38387f7-eafa-4e0b-b877-f4b636b8215c"
    },
    {
      "cell_type": "markdown",
      "metadata": {},
      "source": [
        "### 複数のモデルを比較\n",
        "\n",
        "複数のモデルをグラフを用いて比較するには,\n",
        "`coefplot`パッケージの`multiplot()`関数が便利."
      ],
      "id": "b9d0a398-855b-426e-80c3-d58a444b757c"
    },
    {
      "cell_type": "code",
      "execution_count": null,
      "metadata": {},
      "outputs": [],
      "source": [
        "multiplot(model1, \n",
        "          model2, \n",
        "          model3)"
      ],
      "id": "1975073b-7f99-48bb-aaed-f7c4d2bfdc61"
    },
    {
      "cell_type": "markdown",
      "metadata": {},
      "source": [
        "### 標準回帰係数のプロット\n",
        "\n",
        "標準回帰係数へは`arm`パッケージの`standardize(standardize.y = TRUE)`で変換できる."
      ],
      "id": "98cadda6-99f0-4075-8e0a-83ff26e82425"
    },
    {
      "cell_type": "code",
      "execution_count": null,
      "metadata": {},
      "outputs": [],
      "source": [
        "p_load(arm)\n",
        "coefplot::coefplot(\n",
        "  arm::standardize(model2,\n",
        "                   standardize.y = TRUE))"
      ],
      "id": "e33ace1d-21ed-4d28-b7df-a3c993a9db90"
    },
    {
      "cell_type": "markdown",
      "metadata": {},
      "source": [
        "### 標準回帰係数のマルチプロット\n",
        "\n",
        "標準回帰係数へは`arm`パッケージの`standardize(standardize.y = TRUE)`で変換すれば,\n",
        "マルチプロットもできる"
      ],
      "id": "ffbaa11f-e140-46d2-a989-fdfac52b2866"
    },
    {
      "cell_type": "code",
      "execution_count": null,
      "metadata": {},
      "outputs": [],
      "source": [
        "multiplot(\n",
        "  arm::standardize(model1,\n",
        "                   standardize.y = TRUE),\n",
        "  arm::standardize(model2,\n",
        "                   standardize.y = TRUE),\n",
        "  arm::standardize(model3,\n",
        "                   standardize.y = TRUE),\n",
        "  names = c(\"model1\", \"model2\", \"model3\"))"
      ],
      "id": "f57c47e0-744a-4ea3-a4a0-47ba5bb6355d"
    },
    {
      "cell_type": "markdown",
      "metadata": {},
      "source": [
        "## 予測\n",
        "\n",
        "### 予測値の算出\n",
        "\n",
        "`predict()`関数を利用して予測値を算出する."
      ],
      "id": "2a19c1ee-8571-4f41-9907-630d4efa57e2"
    },
    {
      "cell_type": "code",
      "execution_count": null,
      "metadata": {},
      "outputs": [],
      "source": [
        "p_load(dplyr)\n",
        "pred1 <- predict(model1)\n",
        "pred2 <- predict(model2)\n",
        "pred3 <- predict(model3)"
      ],
      "id": "0b4a10af-befa-4fe9-b98d-3e198c73ad20"
    },
    {
      "cell_type": "markdown",
      "metadata": {},
      "source": [
        "### 予測値と実測値のプロット\n",
        "\n",
        "予測値と実測値のプロットを行う"
      ],
      "id": "be8c94d2-9a90-4f2e-b585-b3da28434e3a"
    },
    {
      "cell_type": "code",
      "execution_count": null,
      "metadata": {},
      "outputs": [],
      "source": [
        "p_load(ggplot2)\n",
        "ggplot() +\n",
        "  aes(x = kakei$CONS1) +\n",
        "  geom_point(aes(y  = pred1),\n",
        "             colour = \"blue\") +\n",
        "  geom_point(aes(y  = pred2),\n",
        "             colour = \"red\") +\n",
        "  geom_point(aes(y  = pred3),\n",
        "             colour = \"green\") +\n",
        "  geom_abline(slope     = 1, \n",
        "              intercept = 0)"
      ],
      "id": "abe92747-e114-48c2-bdcf-98ae3579a57f"
    },
    {
      "cell_type": "markdown",
      "metadata": {},
      "source": [
        "### 予測(新しい説明変数のデータセットを作成)\n",
        "\n",
        "データを予測するため, まずは新しい説明変数のデータセットを作成する.\n",
        "データの列名は分析に利用したものと同じ名前とし,\n",
        "また同じ列数である必要性がある. 簡単のため,\n",
        "単回帰で行うが重回帰でも問題なく予測できる."
      ],
      "id": "00b748b1-a6cd-4141-8320-3415b434ca20"
    },
    {
      "cell_type": "code",
      "execution_count": null,
      "metadata": {},
      "outputs": [],
      "source": [
        "new_dat <- data.frame(\n",
        "  INC = seq(from       = 50,\n",
        "            to         = 2050,\n",
        "            length.out = 20)\n",
        ")"
      ],
      "id": "f9c2a0f3-620b-474d-867d-0d0702b1ef9c"
    },
    {
      "cell_type": "markdown",
      "metadata": {},
      "source": [
        "### 区間推定\n",
        "\n",
        "データを予測するためには, `predict()`関数を利用する.\n",
        "第1引数に回帰分析の結果のオブジェクト,\n",
        "`newdata`に新しい説明変数のデータフレーム, `interval`に求めたい区間,\n",
        "`level`に$100(1 - \\alpha)\\%$区間の値を指定する.\n",
        "`interval = \"confidence\"`で信頼区間が,\n",
        "`interval = \"prediction\"`で予測区間が求められる."
      ],
      "id": "f6af75a0-2365-4659-9f86-c9db4e7c7488"
    },
    {
      "cell_type": "code",
      "execution_count": null,
      "metadata": {},
      "outputs": [],
      "source": [
        "ci <- predict(ols1, \n",
        "              newdata  = new_dat, \n",
        "              interval = \"confidence\",\n",
        "              level    = 0.95)\n",
        "ci <- bind_cols(new_dat, ci)\n",
        "pred <- predict(ols1, \n",
        "                newdata  = new_dat, \n",
        "                interval = \"prediction\",\n",
        "                level    = 0.95)\n",
        "pred <- bind_cols(new_dat, pred)"
      ],
      "id": "a4feb065-6b2f-46eb-a43e-67af699d5f7c"
    },
    {
      "cell_type": "markdown",
      "metadata": {},
      "source": [
        "### 予測区間の図示\n",
        "\n",
        "データの散布図に予測区間を図示する."
      ],
      "id": "e78011f4-7f61-4e89-b4fe-e57ab9bc8a09"
    },
    {
      "cell_type": "code",
      "execution_count": null,
      "metadata": {},
      "outputs": [],
      "source": [
        "ggplot() +\n",
        "  aes(x = INC) +\n",
        "  geom_point(\n",
        "    data = kakei,\n",
        "    aes(y = CONS1)) +\n",
        "  geom_smooth(\n",
        "    data   = kakei,\n",
        "    aes(y = CONS1),\n",
        "    method = \"lm\",\n",
        "    se     = FALSE) +\n",
        "  geom_ribbon(\n",
        "    data     = pred,\n",
        "    aes(ymin = lwr,\n",
        "        ymax = upr),\n",
        "    fill     = \"lightblue\",\n",
        "    alpha    = 0.5)"
      ],
      "id": "c0da2d3a-c598-4620-a966-4430bf67f4b2"
    },
    {
      "cell_type": "markdown",
      "metadata": {},
      "source": [
        "### `geom_smooth()`と区間\n",
        "\n",
        "`geom_smooth()`関数を利用するとデフォルトでは回帰直線とともに,\n",
        "区間が表示されている. これは回帰直線の信頼区間である."
      ],
      "id": "122e3612-5eba-4f16-b828-ff3d0227e0dc"
    },
    {
      "cell_type": "code",
      "execution_count": null,
      "metadata": {},
      "outputs": [],
      "source": [
        "ggplot(data = kakei) +\n",
        "  aes(x = INC,\n",
        "      y = CONS1) +\n",
        "  geom_point() +\n",
        "  geom_smooth(\n",
        "    method = \"lm\"\n",
        "  )"
      ],
      "id": "70e144b3-4bd6-4a0a-b003-81bddb73e2c0"
    },
    {
      "cell_type": "markdown",
      "metadata": {},
      "source": [
        "### 回帰直線の信頼区間\n",
        "\n",
        "`predict(interval = \"confidence\")`で推定した値と`geom_smooth(se = TRUE)`は一致する."
      ],
      "id": "8c5f632e-c39d-47f9-a42d-5217c0ab8135"
    },
    {
      "cell_type": "code",
      "execution_count": null,
      "metadata": {},
      "outputs": [],
      "source": [
        "ggplot() +\n",
        "  aes(x = INC) +\n",
        "  geom_point(\n",
        "    data  = kakei,\n",
        "    aes(y = CONS1)) +\n",
        "  geom_smooth(\n",
        "    data   = kakei,\n",
        "    aes(y  = CONS1),\n",
        "    method = \"lm\",\n",
        "    se     = FALSE) +\n",
        "  geom_ribbon(\n",
        "    data     = ci,\n",
        "    aes(ymin = lwr,\n",
        "        ymax = upr),\n",
        "    fill     = \"lightblue\",\n",
        "    alpha    = 0.5)"
      ],
      "id": "fb61f4d3-8bc3-4dff-a834-a66de33e15f1"
    },
    {
      "cell_type": "markdown",
      "metadata": {},
      "source": [
        "### LOOCV(leave-one-out cross-validation, 1個抜き交差検証法)\n",
        "\n",
        "1つだけ分析用のデータから除外し, 残りのデータでモデルを作成し,\n",
        "除外したデータを予測する. これをデータの数だけ繰り返す.\n",
        "\n",
        "予測の精度を予測値と実測値との差の2乗の平均の平方根$\\frac{1}{N}\\sqrt{\\sum_i^N(\\hat{y}^{(i)}- y_i)^2}$や差の絶対値の平均$\\frac{1}{N}\\sum_i^N|\\hat{y}^{(i)}- y_i|$の指標がよく用いられる.\n",
        "\n",
        "予測値と実測値の相関係数を2乗して決定係数が求められることもある.\n",
        "\n",
        "### LOOCVの計算\n",
        "\n",
        "`caret`パッケージを利用してLOOCVを求める."
      ],
      "id": "58c4bb4e-cd5d-402b-8651-2878ead9345e"
    },
    {
      "cell_type": "code",
      "execution_count": null,
      "metadata": {},
      "outputs": [],
      "source": [
        "p_load(caret)\n",
        "LOOCV1 <- train(CONS1 ~ INC, \n",
        "                data      = kakei,\n",
        "                method    = \"lm\", \n",
        "                trControl = trainControl(method = \"LOOCV\"))\n",
        "\n",
        "LOOCV2 <- train(CONS1 ~ INC + WORK, \n",
        "                data      = kakei,\n",
        "                method    = \"lm\", \n",
        "                trControl = trainControl(method = \"LOOCV\"))\n",
        "\n",
        "LOOCV3 <- train(CONS1 ~ WORK, \n",
        "                data      = kakei,\n",
        "                method    = \"lm\", \n",
        "                trControl = trainControl(method = \"LOOCV\"))\n",
        "LOOCV1; LOOCV2; LOOCV3"
      ],
      "id": "2b561763-e39b-4b50-b403-3532edea3bdc"
    },
    {
      "cell_type": "markdown",
      "metadata": {},
      "source": [
        "## 分析結果のチェック\n",
        "\n",
        "### 残差と予測値のプロット\n",
        "\n",
        "残差プロットをするためには,\n",
        "`ggfortify`パッケージと`autoplot()`関数を利用するのが便利. x軸が予測値,\n",
        "y軸が残差."
      ],
      "id": "59a6c34d-b6af-40e5-8366-030422aeaa6b"
    },
    {
      "cell_type": "code",
      "execution_count": null,
      "metadata": {},
      "outputs": [],
      "source": [
        "p_load(ggfortify)\n",
        "autoplot(model2, \n",
        "         which = 1, \n",
        "         ncol  = 1)"
      ],
      "id": "12afa444-41ab-4218-9d98-eed5ae296253"
    },
    {
      "cell_type": "markdown",
      "metadata": {},
      "source": [
        "### 残差の平方根プロット\n",
        "\n",
        "残差の変動を確認するため, x軸が予測値,\n",
        "y軸が標準化した残差の絶対値の平和根の散布図を描く."
      ],
      "id": "fae4c27c-839f-4051-8d6c-b7d859120355"
    },
    {
      "cell_type": "code",
      "execution_count": null,
      "metadata": {},
      "outputs": [],
      "source": [
        "autoplot(model2, \n",
        "         which = 3, \n",
        "         ncol  = 1)"
      ],
      "id": "8b44e936-d006-4a92-97db-d62cb8c594b5"
    },
    {
      "cell_type": "markdown",
      "metadata": {},
      "source": [
        "### 残差の正規Q-Qプロット\n",
        "\n",
        "残差の正規Q-Qプロットで直線状に標準化した残差が乗っているかチェックする."
      ],
      "id": "64d743b1-679d-4768-9493-41963422e032"
    },
    {
      "cell_type": "code",
      "execution_count": null,
      "metadata": {},
      "outputs": [],
      "source": [
        "autoplot(model2, \n",
        "         which = 2,\n",
        "         ncol  = 1)"
      ],
      "id": "15e6c935-4a3a-4ecd-9b9a-e6ab37432c45"
    },
    {
      "cell_type": "markdown",
      "metadata": {},
      "source": [
        "### 標準化残差とてこ比のプロット\n",
        "\n",
        "x軸にてこ比, y軸に標準化残差を描画する."
      ],
      "id": "2d474842-7e6c-40ee-81d6-e285bdd5ea37"
    },
    {
      "cell_type": "code",
      "execution_count": null,
      "metadata": {},
      "outputs": [],
      "source": [
        "autoplot(model2,\n",
        "         which = 5,\n",
        "         ncol  = 1)"
      ],
      "id": "ada4342b-119e-453f-82f9-692cf4cf4193"
    },
    {
      "cell_type": "markdown",
      "metadata": {},
      "source": [
        "### てこ比とCookの距離のプロット\n",
        "\n",
        "x軸にてこ比, y軸にCookの距離を設定し, 散布図を描く."
      ],
      "id": "4da662f1-43f5-496a-8bd8-a174583a0035"
    },
    {
      "cell_type": "code",
      "execution_count": null,
      "metadata": {},
      "outputs": [],
      "source": [
        "autoplot(model2, \n",
        "         which = 6, \n",
        "         ncol  = 1)"
      ],
      "id": "bb88dc9f-faba-4e14-8348-07b29dce3bc6"
    },
    {
      "cell_type": "markdown",
      "metadata": {},
      "source": [
        "### 多重共線性のチェック\n",
        "\n",
        "多重共線性のチェックのため, VIFを計算する. VIFの計算には,\n",
        "`summ()`関数の引数で`vifs = TRUE`を追加する.\n",
        "VIFが10以下であれば問題ない. 2以下が理想だとする意見もある."
      ],
      "id": "850f4b88-d6d6-4659-bb3d-f0b06120b33b"
    },
    {
      "cell_type": "code",
      "execution_count": null,
      "metadata": {},
      "outputs": [],
      "source": [
        "summ(model2, vifs = TRUE)"
      ],
      "id": "ce4962bd-9904-4753-a9e5-ed4614696b79"
    }
  ],
  "nbformat": 4,
  "nbformat_minor": 5,
  "metadata": {
    "kernelspec": {
      "display_name": "Python 3",
      "language": "python",
      "name": "python3"
    }
  }
}