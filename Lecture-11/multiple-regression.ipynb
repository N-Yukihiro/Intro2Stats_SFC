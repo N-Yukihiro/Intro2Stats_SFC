{
  "cells": [
    {
      "cell_type": "markdown",
      "id": "b490bcff-d720-47d7-85e6-75100f4574ad",
      "metadata": {},
      "source": [
        "# 重回帰分析\n",
        "\n",
        "# Multiple Linear Regression\n",
        "\n",
        "## 重回帰分析の実行\n",
        "\n",
        "### データの読み込み\n",
        "\n",
        "『家計調査』2017年11月、第2−6表「年間収入階級別1世帯当たり1か月間の収入と支出」から作成した所得階級と支出のデータ`kakei201709_l18.csv`を用いる\\[^url\\].\n",
        "\n",
        "月間消費支出(円)(`CONS`), 月間消費支出(1万円)(`CONS1`),\n",
        "年間収入(1万円)(INC), 有業人員(人)(`WORK`). いずれも調査世帯の平均値."
      ]
    },
    {
      "cell_type": "code",
      "execution_count": null,
      "id": "7713d204-aadf-42f3-812c-f1ce2574de81",
      "metadata": {},
      "outputs": [],
      "source": [
        "library(pacman)\n",
        "p_load(readr)\n",
        "kakei <- readr::read_csv(\"../data/kakei201709_l18.csv\")"
      ]
    },
    {
      "cell_type": "markdown",
      "id": "dbbd8647-e0a6-4d5e-9e8e-9dbe3be20e51",
      "metadata": {},
      "source": [
        "### ペアプロット\n",
        "\n",
        "いくつかの変数をまとめて散布図を描くには,\n",
        "`GGally`パッケージの`ggpairs()`関数が便利.\n",
        "右上(upper)にはピアソンの積率相関係数を示し,\n",
        "対角線(diag)には密度などを表してくれる."
      ]
    },
    {
      "cell_type": "code",
      "execution_count": null,
      "id": "108d2f0a-ca33-4118-ab4c-11645d4ae55f",
      "metadata": {},
      "outputs": [],
      "source": [
        "p_load(GGally)"
      ]
    },
    {
      "cell_type": "markdown",
      "id": "affd4550-19a7-4206-a43e-ba20c332256a",
      "metadata": {},
      "source": [
        "### 最尤推定\n",
        "\n",
        "最尤推定法を利用するには, `glm()`関数を利用する.\n",
        "確率密度関数の分布族として正規分布(ガウス分布)を利用することを`family = \"gaussian\"`で宣言する.\n",
        "説明変数を増やして重回帰分析とするには, 説明変数を`+`でつなぐ.\n",
        "最小二乗法を行う`lm()`関数でも同じ."
      ]
    },
    {
      "cell_type": "code",
      "execution_count": null,
      "id": "ea62d164-d972-41bb-a4ef-8915149b2502",
      "metadata": {},
      "outputs": [],
      "source": [
        "model1 <- glm(CONS1 ~ INC, \n",
        "              family = \"gaussian\", data = kakei)\n",
        "model2 <- glm(CONS1 ~ INC + WORK, \n",
        "              family = \"gaussian\", data = kakei)\n",
        "model3 <- glm(CONS1 ~ WORK, \n",
        "              family = \"gaussian\", data = kakei)\n",
        "ols1   <- lm(CONS1 ~ INC, \n",
        "             data = kakei)"
      ]
    },
    {
      "cell_type": "markdown",
      "id": "a4e45042-9c5f-4744-b75f-68a0a0d44cbe",
      "metadata": {},
      "source": [
        "## 結果の表示\n",
        "\n",
        "### 結果の表示\n",
        "\n",
        "`jtools`パッケージの`summ()`関数を利用して結果を確認する.\n",
        "最尤推定法は正規分布以外も利用できるため,\n",
        "より汎用的な$R^2$などが計算されるが,\n",
        "今回は線形回帰分析であるため割愛する.\n",
        "最終行に$\\hat{\\sigma}^2$も計算される."
      ]
    },
    {
      "cell_type": "code",
      "execution_count": null,
      "id": "c70cb1a4-0307-4cd4-9c84-e3da37499687",
      "metadata": {},
      "outputs": [],
      "source": [
        "p_load(jtools)\n",
        "summ(model2)"
      ]
    },
    {
      "cell_type": "markdown",
      "id": "f4b4ed3f-c56d-4394-aba7-dddd6b461fe7",
      "metadata": {},
      "source": [
        "### 標準回帰係数の算出\n",
        "\n",
        "標準回帰係数を算出するには,\n",
        "`scale = TRUE, transform.response = TRUE`を利用する."
      ]
    },
    {
      "cell_type": "code",
      "execution_count": null,
      "id": "d19c7b3d-caa2-4e6b-a084-8eb3c41271e9",
      "metadata": {},
      "outputs": [],
      "source": [
        "summ(model2, scale = TRUE, \n",
        "     transform.response = TRUE)"
      ]
    },
    {
      "cell_type": "markdown",
      "id": "63a3834f-b27c-4d49-ba21-bfe949cfe492",
      "metadata": {},
      "source": [
        "### 複数の分析結果を並べる\n",
        "\n",
        "複数の分析結果を並べるのには`stargazer`は有用である."
      ]
    },
    {
      "cell_type": "code",
      "execution_count": null,
      "id": "60e8c0ac-64b4-44ab-a143-c34184444e49",
      "metadata": {},
      "outputs": [],
      "source": [
        "p_load(stargazer)\n",
        "stargazer(model1, model2, model3,\n",
        "          type              = \"text\",\n",
        "          style             = \"all\", \n",
        "          ci                = TRUE,\n",
        "          star.cutoffs      = NA, \n",
        "          omit.table.layout = 'n',\n",
        "          align             = TRUE)"
      ]
    },
    {
      "cell_type": "markdown",
      "id": "e5065230-bbc4-4748-940d-a4529ea2bd0d",
      "metadata": {},
      "source": [
        "### AICによるモデル間の比較\n",
        "\n",
        "`AIC()`関数を用いて、モデル推定結果を比較できる."
      ]
    },
    {
      "cell_type": "code",
      "execution_count": null,
      "id": "361f2be6-aa0e-4ec5-8108-9eddd009e823",
      "metadata": {},
      "outputs": [],
      "source": [
        "AIC(model1, model2, model3)"
      ]
    },
    {
      "cell_type": "markdown",
      "id": "3492816c-b5f8-42c0-8e55-070be010a882",
      "metadata": {},
      "source": [
        "### BICによるモデル間の比較\n",
        "\n",
        "`BIC()`関数を用いて、モデル推定結果を比較できる."
      ]
    },
    {
      "cell_type": "code",
      "execution_count": null,
      "id": "2d6828d0-7bf7-4f93-9384-06d1060e6171",
      "metadata": {},
      "outputs": [],
      "source": [
        "BIC(model1, model2, model3)"
      ]
    },
    {
      "cell_type": "markdown",
      "id": "1d602880-21a4-494c-b271-040fd7b0d52b",
      "metadata": {},
      "source": [
        "## 結果の図示\n",
        "\n",
        "### 結果の図示\n",
        "\n",
        "回帰分析の結果は表だけでなく, グラフ化するとわかりやすい.\n",
        "結果のグラフ化には`coefplot`パッケージの`coefplot()`関数が便利."
      ]
    },
    {
      "cell_type": "code",
      "execution_count": null,
      "id": "cde690c2-953f-4443-9d86-dd7cf4a6fd29",
      "metadata": {},
      "outputs": [],
      "source": [
        "p_load(coefplot)"
      ]
    },
    {
      "cell_type": "markdown",
      "id": "93929b95-d104-4c3e-be84-0e29e6322585",
      "metadata": {},
      "source": [
        "定数項は基準が違うために一緒にプロットすると見づらい場合がある.\n",
        "`intercept = FALSE`を引数に入れれば定数項を表示しない."
      ]
    },
    {
      "cell_type": "code",
      "execution_count": null,
      "id": "a6312dac-3623-451b-ae4d-424746e58f3b",
      "metadata": {},
      "outputs": [],
      "source": [
        "coefplot(model2,\n",
        "         intercept = FALSE)"
      ]
    },
    {
      "cell_type": "markdown",
      "id": "d8faad86-8601-4638-a9ed-92441c7687b0",
      "metadata": {},
      "source": [
        "### 複数のモデルを比較\n",
        "\n",
        "複数のモデルをグラフを用いて比較するには,\n",
        "`coefplot`パッケージの`multiplot()`関数が便利."
      ]
    },
    {
      "cell_type": "code",
      "execution_count": null,
      "id": "b35b9084-c91e-4edc-b004-b3a8b73051cb",
      "metadata": {},
      "outputs": [],
      "source": [
        "multiplot(model1, \n",
        "          model2, \n",
        "          model3)"
      ]
    },
    {
      "cell_type": "markdown",
      "id": "ebecb360-0e96-474e-bc1b-9067ace0a597",
      "metadata": {},
      "source": [
        "### 標準回帰係数のプロット\n",
        "\n",
        "標準回帰係数へは`arm`パッケージの`standardize(standardize.y = TRUE)`で変換できる."
      ]
    },
    {
      "cell_type": "code",
      "execution_count": null,
      "id": "e3a9a792-5524-41c5-9913-ba5c0fa225d4",
      "metadata": {},
      "outputs": [],
      "source": [
        "p_load(arm)"
      ]
    },
    {
      "cell_type": "markdown",
      "id": "835e0f8f-4bc4-4338-8927-05085d088e01",
      "metadata": {},
      "source": [
        "### 標準回帰係数のマルチプロット\n",
        "\n",
        "標準回帰係数へは`arm`パッケージの`standardize(standardize.y = TRUE)`で変換すれば,\n",
        "マルチプロットもできる"
      ]
    },
    {
      "cell_type": "code",
      "execution_count": null,
      "id": "3e347fc2-ff0d-41d3-a9b6-4d1395cbc4a4",
      "metadata": {},
      "outputs": [],
      "source": [
        "multiplot(\n",
        "  arm::standardize(model1,\n",
        "                   standardize.y = TRUE),\n",
        "  arm::standardize(model2,\n",
        "                   standardize.y = TRUE),\n",
        "  arm::standardize(model3,\n",
        "                   standardize.y = TRUE),\n",
        "  names = c(\"model1\", \"model2\", \"model3\"))"
      ]
    },
    {
      "cell_type": "markdown",
      "id": "b32c58d6-c617-4f93-9d7b-820f56a40d47",
      "metadata": {},
      "source": [
        "## 予測\n",
        "\n",
        "### 予測値の算出\n",
        "\n",
        "`predict()`関数を利用して予測値を算出する."
      ]
    },
    {
      "cell_type": "code",
      "execution_count": null,
      "id": "f988d023-6ce2-419e-bdcb-681a633a284e",
      "metadata": {},
      "outputs": [],
      "source": [
        "p_load(dplyr)\n",
        "pred1 <- predict(model1)\n",
        "pred2 <- predict(model2)\n",
        "pred3 <- predict(model3)"
      ]
    },
    {
      "cell_type": "markdown",
      "id": "0a8a7eb4-8bb1-4234-820c-b9888eee954a",
      "metadata": {},
      "source": [
        "### 予測値と実測値のプロット\n",
        "\n",
        "予測値と実測値のプロットを行う"
      ]
    },
    {
      "cell_type": "code",
      "execution_count": null,
      "id": "5cd8a901-db01-47cc-ad28-9da1a88f5bb3",
      "metadata": {},
      "outputs": [],
      "source": [
        "p_load(ggplot2)\n",
        "ggplot() +\n",
        "  aes(x = kakei$CONS1) +\n",
        "  geom_point(aes(y  = pred1),\n",
        "             colour = \"blue\") +\n",
        "  geom_point(aes(y  = pred2),\n",
        "             colour = \"red\") +\n",
        "  geom_point(aes(y  = pred3),\n",
        "             colour = \"green\") +\n",
        "  geom_abline(slope     = 1, \n",
        "              intercept = 0)"
      ]
    },
    {
      "cell_type": "markdown",
      "id": "48572823-eff1-4f38-89e3-6ce98543bdf2",
      "metadata": {},
      "source": [
        "### 予測(新しい説明変数のデータセットを作成)\n",
        "\n",
        "データを予測するため, まずは新しい説明変数のデータセットを作成する.\n",
        "データの列名は分析に利用したものと同じ名前とし,\n",
        "また同じ列数である必要性がある. 簡単のため,\n",
        "単回帰で行うが重回帰でも問題なく予測できる."
      ]
    },
    {
      "cell_type": "code",
      "execution_count": null,
      "id": "54f737df-4823-4bef-b53c-e49a43b1bbe1",
      "metadata": {},
      "outputs": [],
      "source": [
        "new_dat <- data.frame(\n",
        "  INC = seq(from       = 50,\n",
        "            to         = 2050,\n",
        "            length.out = 20)\n",
        ")"
      ]
    },
    {
      "cell_type": "markdown",
      "id": "9eea3b1a-afaf-4f65-9433-1b84ba0d2895",
      "metadata": {},
      "source": [
        "### 区間推定\n",
        "\n",
        "データを予測するためには, `predict()`関数を利用する.\n",
        "第1引数に回帰分析の結果のオブジェクト,\n",
        "`newdata`に新しい説明変数のデータフレーム, `interval`に求めたい区間,\n",
        "`level`に$100(1 - \\alpha)\\%$区間の値を指定する.\n",
        "`interval = \"confidence\"`で信頼区間が,\n",
        "`interval = \"prediction\"`で予測区間が求められる."
      ]
    },
    {
      "cell_type": "code",
      "execution_count": null,
      "id": "05a98f63-fc44-4ef9-a951-a3713c6fb9be",
      "metadata": {},
      "outputs": [],
      "source": [
        "ci <- predict(ols1, \n",
        "              newdata  = new_dat, \n",
        "              interval = \"confidence\",\n",
        "              level    = 0.95)\n",
        "ci <- bind_cols(new_dat, ci)\n",
        "pred <- predict(ols1, \n",
        "                newdata  = new_dat, \n",
        "                interval = \"prediction\",\n",
        "                level    = 0.95)\n",
        "pred <- bind_cols(new_dat, pred)"
      ]
    },
    {
      "cell_type": "markdown",
      "id": "f8b77ff6-8962-4f04-a13b-86e0e8bbe74d",
      "metadata": {},
      "source": [
        "### 予測区間の図示\n",
        "\n",
        "データの散布図に予測区間を図示する."
      ]
    },
    {
      "cell_type": "code",
      "execution_count": null,
      "id": "f2758302-a8b6-4607-9869-d692f008d5b3",
      "metadata": {},
      "outputs": [],
      "source": [
        "ggplot() +\n",
        "  aes(x = INC) +\n",
        "  geom_point(\n",
        "    data = kakei,\n",
        "    aes(y = CONS1)) +\n",
        "  geom_smooth(\n",
        "    data   = kakei,\n",
        "    aes(y = CONS1),\n",
        "    method = \"lm\",\n",
        "    se     = FALSE) +\n",
        "  geom_ribbon(\n",
        "    data     = pred,\n",
        "    aes(ymin = lwr,\n",
        "        ymax = upr),\n",
        "    fill     = \"lightblue\",\n",
        "    alpha    = 0.5)"
      ]
    },
    {
      "cell_type": "markdown",
      "id": "4116825f-b45e-4aa1-8083-a7ba8b683b30",
      "metadata": {},
      "source": [
        "### `geom_smooth()`と区間\n",
        "\n",
        "`geom_smooth()`関数を利用するとデフォルトでは回帰直線とともに,\n",
        "区間が表示されている. これは回帰直線の信頼区間である."
      ]
    },
    {
      "cell_type": "code",
      "execution_count": null,
      "id": "29d447b9-96f7-4679-8c2f-a9bc6e0e89ea",
      "metadata": {},
      "outputs": [],
      "source": [
        "ggplot(data = kakei) +\n",
        "  aes(x = INC,\n",
        "      y = CONS1) +\n",
        "  geom_point() +\n",
        "  geom_smooth(\n",
        "    method = \"lm\"\n",
        "  )"
      ]
    },
    {
      "cell_type": "markdown",
      "id": "93af4416-94c3-4d51-9187-6ca50e107b5a",
      "metadata": {},
      "source": [
        "### 回帰直線の信頼区間\n",
        "\n",
        "`predict(interval = \"confidence\")`で推定した値と`geom_smooth(se = TRUE)`は一致する."
      ]
    },
    {
      "cell_type": "code",
      "execution_count": null,
      "id": "5c2fd3ca-b67c-47a2-9afb-00848309dd44",
      "metadata": {},
      "outputs": [],
      "source": [
        "ggplot() +\n",
        "  aes(x = INC) +\n",
        "  geom_point(\n",
        "    data  = kakei,\n",
        "    aes(y = CONS1)) +\n",
        "  geom_smooth(\n",
        "    data   = kakei,\n",
        "    aes(y  = CONS1),\n",
        "    method = \"lm\",\n",
        "    se     = FALSE) +\n",
        "  geom_ribbon(\n",
        "    data     = ci,\n",
        "    aes(ymin = lwr,\n",
        "        ymax = upr),\n",
        "    fill     = \"lightblue\",\n",
        "    alpha    = 0.5)"
      ]
    },
    {
      "cell_type": "markdown",
      "id": "8c7fbfc2-9043-4359-8393-9fd4f5c981eb",
      "metadata": {},
      "source": [
        "### LOOCV(leave-one-out cross-validation, 1個抜き交差検証法)\n",
        "\n",
        "1つだけ分析用のデータから除外し, 残りのデータでモデルを作成し,\n",
        "除外したデータを予測する. これをデータの数だけ繰り返す.\n",
        "\n",
        "予測の精度を予測値と実測値との差の2乗の平均の平方根$\\frac{1}{N}\\sqrt{\\sum_i^N(\\hat{y}^{(i)}- y_i)^2}$や差の絶対値の平均$\\frac{1}{N}\\sum_i^N|\\hat{y}^{(i)}- y_i|$の指標がよく用いられる.\n",
        "\n",
        "予測値と実測値の相関係数を2乗して決定係数が求められることもある.\n",
        "\n",
        "### LOOCVの計算\n",
        "\n",
        "`caret`パッケージを利用してLOOCVを求める."
      ]
    },
    {
      "cell_type": "code",
      "execution_count": null,
      "id": "4aefd033-2f92-4e1b-b066-9ac10874b040",
      "metadata": {},
      "outputs": [],
      "source": [
        "p_load(caret)"
      ]
    },
    {
      "cell_type": "markdown",
      "id": "4ab83fa1-623f-41c8-9a91-2dc03b77e1b7",
      "metadata": {},
      "source": [
        "## 分析結果のチェック\n",
        "\n",
        "### 残差と予測値のプロット\n",
        "\n",
        "残差プロットをするためには,\n",
        "`ggfortify`パッケージと`autoplot()`関数を利用するのが便利. x軸が予測値,\n",
        "y軸が残差."
      ]
    },
    {
      "cell_type": "code",
      "execution_count": null,
      "id": "9a50adc8-370b-46f3-ae10-362a34bbdb91",
      "metadata": {},
      "outputs": [],
      "source": [
        "p_load(ggfortify)"
      ]
    },
    {
      "cell_type": "markdown",
      "id": "337af4c7-ff9f-48e5-ad6b-023673ff339b",
      "metadata": {},
      "source": [
        "### 残差の平方根プロット\n",
        "\n",
        "残差の変動を確認するため, x軸が予測値,\n",
        "y軸が標準化した残差の絶対値の平和根の散布図を描く."
      ]
    },
    {
      "cell_type": "code",
      "execution_count": null,
      "id": "46bc8085-e1c5-4a3b-ba19-6fa5dd16d023",
      "metadata": {},
      "outputs": [],
      "source": [
        "autoplot(model2, \n",
        "         which = 3, \n",
        "         ncol  = 1)"
      ]
    },
    {
      "cell_type": "markdown",
      "id": "e6209591-57dc-4b0d-b1fc-830d07b9c28d",
      "metadata": {},
      "source": [
        "### 残差の正規Q-Qプロット\n",
        "\n",
        "残差の正規Q-Qプロットで直線状に標準化した残差が乗っているかチェックする."
      ]
    },
    {
      "cell_type": "code",
      "execution_count": null,
      "id": "2186d561-ac32-41fb-9255-05321fc61384",
      "metadata": {},
      "outputs": [],
      "source": [
        "autoplot(model2, \n",
        "         which = 2,\n",
        "         ncol  = 1)"
      ]
    },
    {
      "cell_type": "markdown",
      "id": "b9e42201-c138-45cd-b410-64fff0a7e23c",
      "metadata": {},
      "source": [
        "### 標準化残差とてこ比のプロット\n",
        "\n",
        "x軸にてこ比, y軸に標準化残差を描画する."
      ]
    },
    {
      "cell_type": "code",
      "execution_count": null,
      "id": "b281fea7-0b31-4107-a1d4-0ef451baaf65",
      "metadata": {},
      "outputs": [],
      "source": [
        "autoplot(model2,\n",
        "         which = 5,\n",
        "         ncol  = 1)"
      ]
    },
    {
      "cell_type": "markdown",
      "id": "3124d6d5-8bda-492b-a54c-b7c10b60763d",
      "metadata": {},
      "source": [
        "### てこ比とCookの距離のプロット\n",
        "\n",
        "x軸にてこ比, y軸にCookの距離を設定し, 散布図を描く."
      ]
    },
    {
      "cell_type": "code",
      "execution_count": null,
      "id": "442b8b90-4169-4602-bf6d-cb796bd11788",
      "metadata": {},
      "outputs": [],
      "source": [
        "autoplot(model2, \n",
        "         which = 6, \n",
        "         ncol  = 1)"
      ]
    },
    {
      "cell_type": "markdown",
      "id": "1da206b2-ab72-4e98-b30f-f8e947cc63ae",
      "metadata": {},
      "source": [
        "### 多重共線性のチェック\n",
        "\n",
        "多重共線性のチェックのため, VIFを計算する. VIFの計算には,\n",
        "`summ()`関数の引数で`vifs = TRUE`を追加する.\n",
        "VIFが10以下であれば問題ない. 2以下が理想だとする意見もある."
      ]
    },
    {
      "cell_type": "code",
      "execution_count": null,
      "id": "a3a30c73-dfe1-47b5-a365-e4b3d202dfcb",
      "metadata": {},
      "outputs": [],
      "source": [
        "summ(model2, vifs = TRUE)"
      ]
    }
  ],
  "metadata": {
    "kernelspec": {
      "display_name": "Python 3",
      "language": "python",
      "name": "python3"
    }
  },
  "nbformat": 4,
  "nbformat_minor": 5
}
