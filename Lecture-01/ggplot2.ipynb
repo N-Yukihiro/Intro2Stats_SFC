{
  "cells": [
    {
      "cell_type": "markdown",
      "id": "bf3ac4a6-3e42-41a2-86e8-559c7c5c83fa",
      "metadata": {},
      "source": [
        "# ggplot2 パッケージによる作図入門\n",
        "\n",
        "### 重ね書きのイメージ\n",
        "\n",
        "ggplot2パッケージは重ね書きです. そのイメージを掴むために,\n",
        "重ね書きのステップに分けてグラフを描いてみましょう.\n",
        "\n",
        "まずは, 下地を作ります. ggplot()関数で白(グレー)の下地を用意します."
      ]
    },
    {
      "cell_type": "code",
      "execution_count": null,
      "id": "030079b3-af01-4876-bd33-07da1baf2d10",
      "metadata": {},
      "outputs": [],
      "source": [
        "pacman::p_load(\n",
        "  ggplot2,\n",
        "  palmerpenguins\n",
        ")\n",
        "ggplot()"
      ]
    },
    {
      "cell_type": "markdown",
      "id": "6a88368d-2e06-4d9a-b37c-0a665de0408c",
      "metadata": {},
      "source": [
        "次にヒストグラムを作成し, プロットします.\n",
        "ヒストグラムを追加するには用意した下地とgeom_histogram()を+でつなぎます.\n",
        "第一引数にプロットするデータを指定します(後で指定も可能).\n",
        "第二引数のmapping=aes()でどの列をx軸やy軸にプロットするのかを指定します.\n",
        "なお、dataやmapping,x,yは順番を変えなければ省略可能です."
      ]
    },
    {
      "cell_type": "code",
      "execution_count": null,
      "id": "b3c98976-92a6-4fe6-bbcc-3353a4533019",
      "metadata": {},
      "outputs": [],
      "source": [
        "ggplot() +\n",
        "  geom_histogram(\n",
        "    data    = penguins,\n",
        "    mapping = aes(\n",
        "      x = bill_length_mm\n",
        "    )\n",
        "  )"
      ]
    },
    {
      "cell_type": "markdown",
      "id": "372b7f51-dc12-4827-8f65-b3260b873115",
      "metadata": {},
      "source": [
        "そして, 6行目と12行目にy = after_stat(density)を追加し,\n",
        "y軸を密度に変更します. 7行目にfill = “blue”を追加し,\n",
        "ヒストグラムに色を付けます. また,\n",
        "ヒストグラムを描画した図にgeom_density()で密度曲線を追加しましょう.\n",
        "\n",
        "最終行で指定した引数の`alpha`は密度曲線の中の透明度です.\n",
        "今回は0%を指定して透明にします."
      ]
    },
    {
      "cell_type": "code",
      "execution_count": null,
      "id": "3d96f663-592b-4f46-8afd-560ce01a66e8",
      "metadata": {},
      "outputs": [],
      "source": [
        "ggplot() +\n",
        "  geom_histogram(\n",
        "    data    = penguins,\n",
        "    mapping = aes(\n",
        "      x = bill_length_mm,\n",
        "      y = after_stat(density)\n",
        "    ),\n",
        "    fill    = \"blue\"\n",
        "  ) +\n",
        "  geom_density(\n",
        "    data    = penguins,\n",
        "    mapping = aes(\n",
        "      x = bill_length_mm,\n",
        "      y = after_stat(density)\n",
        "    ),\n",
        "    alpha   = 0\n",
        "  )"
      ]
    },
    {
      "cell_type": "markdown",
      "id": "3f5de11d-10dd-4d3a-aba5-96a0041fb5e7",
      "metadata": {},
      "source": [
        "何度も同じデータやx軸等が利用できる場合には,\n",
        "はじめの`ggplot()`の引数の中でまとめて指定することができます."
      ]
    },
    {
      "cell_type": "code",
      "execution_count": null,
      "id": "ca2813c3-bef5-447d-8231-5531b3d4f410",
      "metadata": {},
      "outputs": [],
      "source": [
        "ggplot(\n",
        "  data    = penguins,\n",
        "  mapping = aes(\n",
        "    x = bill_length_mm,\n",
        "    y = after_stat(density)\n",
        "  )\n",
        ") +\n",
        "  geom_histogram(fill = \"blue\") +\n",
        "  geom_density(alpha = 0)"
      ]
    },
    {
      "cell_type": "markdown",
      "id": "624b7802-4c26-404d-bd11-cff2aa9dda75",
      "metadata": {},
      "source": [
        "さらに軸などを指定する`aes()`は外に出すこともできます"
      ]
    },
    {
      "cell_type": "code",
      "execution_count": null,
      "id": "860c09e3-30d0-416d-8c7b-c52a46561ff7",
      "metadata": {},
      "outputs": [],
      "source": [
        "ggplot(data = penguins) +\n",
        "  aes(\n",
        "    x = bill_length_mm,\n",
        "    y = after_stat(density)\n",
        "  ) +\n",
        "  geom_histogram(fill = \"blue\") +\n",
        "  geom_density(alpha = 0)"
      ]
    },
    {
      "cell_type": "markdown",
      "id": "86e97123-01f5-4fad-b6e7-2983e2c71343",
      "metadata": {},
      "source": [
        "論文に載せやすいように背景は白くしましょう. theme_classic()で背景を白く,\n",
        "重要でない線はなくすなど行います."
      ]
    },
    {
      "cell_type": "code",
      "execution_count": null,
      "id": "f2018624-1390-4db5-885b-96ead2f8c790",
      "metadata": {},
      "outputs": [],
      "source": [
        "ggplot(data = penguins) +\n",
        "  aes(\n",
        "    x = bill_length_mm,\n",
        "    y = after_stat(density)\n",
        "  ) +\n",
        "  geom_histogram(fill = \"blue\") +\n",
        "  geom_density(alpha = 0) +\n",
        "  theme_classic()"
      ]
    },
    {
      "cell_type": "markdown",
      "id": "eac0e1e1-4946-4826-b9cf-5d43c867fae1",
      "metadata": {},
      "source": [
        "最後にタイトルをつけます. タイトルはggtitle()で指定できます.\n",
        "タイトルの文字列はダブルクオーテーション(“)で囲みます."
      ]
    },
    {
      "cell_type": "code",
      "execution_count": null,
      "id": "2dd1966c-cdac-4627-988b-5971b81de9e3",
      "metadata": {},
      "outputs": [],
      "source": [
        "ggplot(data = penguins) +\n",
        "  aes(\n",
        "    x = bill_length_mm,\n",
        "    y = after_stat(density)\n",
        "  ) +\n",
        "  geom_histogram(fill = \"blue\") +\n",
        "  geom_density(alpha = 0) +\n",
        "  theme_classic() +\n",
        "  ggtitle(\"histogram and density\")"
      ]
    },
    {
      "cell_type": "markdown",
      "id": "cf9b3a0e-1d2e-43b2-8e07-82bb41204326",
      "metadata": {},
      "source": [
        "### 1枚のグラフにカテゴリーごとのヒストグラムを描く\n",
        "\n",
        "1枚のグラフにカテゴリーごとのヒストグラムを描いてみましょう. aes(fill=\n",
        "Category)とすることでカテゴリーごとに色分けができます. また,\n",
        "geom_histogram(position =\n",
        "“identity”)とすると1つの図の中でカテゴリーごとにヒストグラムが描けます.\n",
        "`alpha = 0.5`と書くことでヒストグラムを半透明にして見やすくしています."
      ]
    },
    {
      "cell_type": "code",
      "execution_count": null,
      "id": "df2fbde1-1498-4b89-b52f-1953b653cf2c",
      "metadata": {},
      "outputs": [],
      "source": [
        "ggplot(data = penguins) +\n",
        "  aes(\n",
        "    x    = bill_length_mm,\n",
        "    y    = after_stat(density),\n",
        "    fill = species\n",
        "  ) +\n",
        "  geom_histogram(\n",
        "    position = \"identity\",\n",
        "    alpha    = 0.5\n",
        "  ) +\n",
        "  geom_density(alpha = 0)"
      ]
    },
    {
      "cell_type": "markdown",
      "id": "0589f054-bc98-465e-a570-c69576d28f6d",
      "metadata": {},
      "source": [
        "### 別々のグラフにカテゴリーごとのグラフを描く\n",
        "\n",
        "別々のグラフにカテゴリーごとのグラフを描いてみましょう.\n",
        "facet_wrap(~Category)とすることで,\n",
        "別々の図にカテゴリーごとのヒストグラムを描けます. scales =\n",
        "“free”でx軸やy軸をそれぞれのカテゴリーに最適化します."
      ]
    },
    {
      "cell_type": "code",
      "execution_count": null,
      "id": "bcd12a13-aed7-4c0f-8fbd-5bb2267b119e",
      "metadata": {},
      "outputs": [],
      "source": [
        "ggplot(data = penguins) +\n",
        "  aes(\n",
        "    x    = bill_length_mm,\n",
        "    y    = after_stat(density),\n",
        "    fill = species\n",
        "  ) +\n",
        "  geom_histogram() +\n",
        "  geom_density(alpha = 0) +\n",
        "  facet_wrap(\n",
        "    ~species,\n",
        "    scales = \"free\"\n",
        "  )"
      ]
    },
    {
      "cell_type": "markdown",
      "id": "c0a45068-2b31-4217-a2ec-a51a03f58c9d",
      "metadata": {},
      "source": [
        "ggplot2を利用した作図方法の概要は以上です."
      ]
    }
  ],
  "metadata": {
    "kernelspec": {
      "display_name": "Python 3",
      "language": "python",
      "name": "python3"
    }
  },
  "nbformat": 4,
  "nbformat_minor": 5
}
