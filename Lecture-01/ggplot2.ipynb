{
  "cells": [
    {
      "cell_type": "markdown",
      "metadata": {},
      "source": [
        "# ggplot2 パッケージによる作図入門\n",
        "\n",
        "### 重ね書きのイメージ\n",
        "\n",
        "ggplot2パッケージは重ね書きです. そのイメージを掴むために,\n",
        "重ね書きのステップに分けてグラフを描いてみましょう.\n",
        "\n",
        "まずは, 下地を作ります. ggplot()関数で白(グレー)の下地を用意します."
      ],
      "id": "28844efe-e595-485a-adb4-f74efcc80040"
    },
    {
      "cell_type": "code",
      "execution_count": null,
      "metadata": {},
      "outputs": [],
      "source": [
        "pacman::p_load(ggplot2)\n",
        "ggplot()"
      ],
      "id": "b0d0bbde-973a-4222-a568-bd5eea5ff751"
    },
    {
      "cell_type": "markdown",
      "metadata": {},
      "source": [
        "次にヒストグラムを作成し, プロットします.\n",
        "ヒストグラムを追加するには用意した下地とgeom_histogram()を+でつなぎます.\n",
        "第一引数にプロットするデータを指定します(後で指定も可能).\n",
        "第二引数のmapping=aes()でどの列をx軸やy軸にプロットするのかを指定します.\n",
        "なお、dataやmapping,x,yは順番を変えなければ省略可能です."
      ],
      "id": "2e2a41da-8e07-4266-bb6d-7a5e9c6ca00b"
    },
    {
      "cell_type": "code",
      "execution_count": null,
      "metadata": {},
      "outputs": [],
      "source": [
        "ggplot() +\n",
        "  geom_histogram(\n",
        "    data    = iris,\n",
        "    mapping = aes(\n",
        "      x = Petal.Length\n",
        "      )\n",
        "    )"
      ],
      "id": "a5853661-0d63-4979-92f3-33235e76cfdd"
    },
    {
      "cell_type": "markdown",
      "metadata": {},
      "source": [
        "そして, 6行目と12行目にy = after_stat(density)を追加し,\n",
        "y軸を割合に変更します. 7行目にfill = “blue”を追加し,\n",
        "ヒストグラムに色を付けます. また,\n",
        "ヒストグラムを描画した図にgeom_density()で密度曲線を追加しましょう."
      ],
      "id": "52f76b60-beed-48a2-9b19-78a582875730"
    },
    {
      "cell_type": "code",
      "execution_count": null,
      "metadata": {},
      "outputs": [],
      "source": [
        "ggplot() +\n",
        "  geom_histogram(\n",
        "    data = iris,\n",
        "    mapping = aes(\n",
        "      x = Petal.Length,\n",
        "      y = after_stat(density)),\n",
        "    fill = \"blue\") +\n",
        "  geom_density(\n",
        "    data = iris,\n",
        "    mapping = aes(\n",
        "      x = Petal.Length,\n",
        "      y = after_stat(density)))"
      ],
      "id": "6c14173e-de42-40d6-826f-4d440bc08192"
    },
    {
      "cell_type": "markdown",
      "metadata": {},
      "source": [
        "何度も同じデータやx軸等が利用できる場合には,\n",
        "はじめの`ggplot()`の引数の中でまとめて指定することができます."
      ],
      "id": "9526ab18-d6c1-4f23-8a5c-5cf2212356d1"
    },
    {
      "cell_type": "code",
      "execution_count": null,
      "metadata": {},
      "outputs": [],
      "source": [
        "ggplot(data    = iris,\n",
        "       mapping = aes(\n",
        "         x = Petal.Length,\n",
        "         y = after_stat(density))) +\n",
        "  geom_histogram(fill = \"blue\") +\n",
        "  geom_density()"
      ],
      "id": "2214aa8e-99cd-4c37-a7c0-aa78a325b9ef"
    },
    {
      "cell_type": "markdown",
      "metadata": {},
      "source": [
        "さらに軸などを指定する`aes()`は外に出すこともできます"
      ],
      "id": "cd859eb7-4d5a-4077-a5ec-bdbcfdcd0668"
    },
    {
      "cell_type": "code",
      "execution_count": null,
      "metadata": {},
      "outputs": [],
      "source": [
        "ggplot(data = iris) +\n",
        "  aes(x = Petal.Length,\n",
        "      y = after_stat(density)) +\n",
        "  geom_histogram(fill = \"blue\") +\n",
        "  geom_density()"
      ],
      "id": "0512bf69-d404-4796-b5fd-1bef473601c7"
    },
    {
      "cell_type": "markdown",
      "metadata": {},
      "source": [
        "論文に載せやすいように背景は白くしましょう. theme_classic()で背景を白く,\n",
        "重要でない線はなくすなど行います."
      ],
      "id": "520735ff-0fff-4134-a5a8-065acb0110c4"
    },
    {
      "cell_type": "code",
      "execution_count": null,
      "metadata": {},
      "outputs": [],
      "source": [
        "ggplot(data = iris) +\n",
        "  aes(x = Petal.Length,\n",
        "      y = after_stat(density)) +\n",
        "  geom_histogram(fill = \"blue\") +\n",
        "  geom_density() +\n",
        "  theme_classic()"
      ],
      "id": "95797b12-2d18-4db0-bb06-b2e2f1605700"
    },
    {
      "cell_type": "markdown",
      "metadata": {},
      "source": [
        "最後にタイトルをつけます. タイトルはggtitle()で指定できます.\n",
        "タイトルの文字列はダブルクオーテーション(“)で囲みます."
      ],
      "id": "6b6eda5d-0753-437c-ab00-0f0f639549ac"
    },
    {
      "cell_type": "code",
      "execution_count": null,
      "metadata": {},
      "outputs": [],
      "source": [
        "ggplot(data = iris) +\n",
        "  aes(x = Petal.Length,\n",
        "      y = after_stat(density)) +\n",
        "  geom_histogram(fill = \"blue\") +\n",
        "  geom_density(alpha = 0) +\n",
        "  theme_classic() +\n",
        "  ggtitle(\"histogram and density\")"
      ],
      "id": "9e451d4c-8f10-4e5b-a8a4-f87c83c7df28"
    },
    {
      "cell_type": "markdown",
      "metadata": {},
      "source": [
        "### 1枚のグラフにカテゴリーごとのヒストグラムを描く\n",
        "\n",
        "1枚のグラフにカテゴリーごとのヒストグラムを描いてみましょう. aes(fill=\n",
        "Category)とすることでカテゴリーごとに色分けができます. また,\n",
        "geom_histogram(position =\n",
        "“identity”)とすると1つの図の中でカテゴリーごとにヒストグラムが描けます.\n",
        "`alpha = 0.5`と書くことでヒストグラムを半透明にして見やすくしています."
      ],
      "id": "a5909873-01b0-4c7e-bc68-c56181bf8419"
    },
    {
      "cell_type": "code",
      "execution_count": null,
      "metadata": {},
      "outputs": [],
      "source": [
        "ggplot(data = iris) +\n",
        "  aes(x    = Petal.Length,\n",
        "      y    = after_stat(density),\n",
        "      fill = Species) +\n",
        "  geom_histogram(\n",
        "    position = \"identity\",\n",
        "    alpha    = 0.5) +\n",
        "  geom_density()"
      ],
      "id": "d1f2a6d2-b4ae-42c1-a8f2-901c68153366"
    },
    {
      "cell_type": "markdown",
      "metadata": {},
      "source": [
        "### 別々のグラフにカテゴリーごとのグラフを描く\n",
        "\n",
        "別々のグラフにカテゴリーごとのグラフを描いてみましょう.\n",
        "facet_wrap(~Category)とすることで,\n",
        "別々の図にカテゴリーごとのヒストグラムを描けます. scales =\n",
        "“free”でx軸やy軸をそれぞれのカテゴリーに最適化します."
      ],
      "id": "f5444e32-2266-4bcd-a480-ea02d03c8497"
    },
    {
      "cell_type": "code",
      "execution_count": null,
      "metadata": {},
      "outputs": [],
      "source": [
        "ggplot(data = iris) +\n",
        "  aes(x    = Petal.Length,\n",
        "      y    = after_stat(density),\n",
        "      fill = Species) +\n",
        "  geom_histogram() +\n",
        "  geom_density() + \n",
        "  facet_wrap(~Species,\n",
        "             scales = \"free\")"
      ],
      "id": "820d7f7e-2ea1-440c-9c82-0ea3eaf60577"
    },
    {
      "cell_type": "markdown",
      "metadata": {},
      "source": [
        "ggplot2を利用した作図方法の概要は以上です."
      ],
      "id": "2862ceb2-f552-478d-b0e7-3a7622e389d1"
    }
  ],
  "nbformat": 4,
  "nbformat_minor": 5,
  "metadata": {
    "kernelspec": {
      "display_name": "Python 3",
      "language": "python",
      "name": "python3"
    }
  }
}