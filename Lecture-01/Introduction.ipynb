{
  "cells": [
    {
      "cell_type": "markdown",
      "metadata": {},
      "source": [
        "# Let’s Using R\n",
        "\n",
        "### Quarto\n",
        "\n",
        "`#`を使ったコメントよりも長い文章とともにコードを書きたい場合はQuartoファイルがおすすめです.\n",
        "皆さんが開いているこのファイルがQuartoファイルです.\n",
        "Quartoファイルの上部を少し設定するだけで簡単にhtmlファイルやpdfファイルが作成できます.\n",
        "\n",
        "以下の範囲に書かれたコードがRのコードとして認識されます.\n",
        "`{}`内を変更すればR以外の言語も実行できます."
      ],
      "id": "dce27aa3-7cfc-41ab-9d0b-e3d7075a48fa"
    },
    {
      "cell_type": "code",
      "execution_count": null,
      "metadata": {},
      "outputs": [],
      "source": [
        "# code"
      ],
      "id": "24b458d5-0eb4-45eb-88f4-5542ebb9c0d1"
    },
    {
      "cell_type": "markdown",
      "metadata": {},
      "source": [
        "右上の実行ボタンもしくは`ctrl + Enter`や`command + Enter`で実行できます.\n",
        "\n",
        "### 作業ディレクトリの指定\n",
        "\n",
        "現在の作業ディレクトリ(フォルダ)を確認するためには`getwd()`関数を利用します."
      ],
      "id": "aab4118c-7b12-4de8-8d45-8cc01257b628"
    },
    {
      "cell_type": "code",
      "execution_count": null,
      "metadata": {},
      "outputs": [
        {
          "output_type": "stream",
          "name": "stdout",
          "text": [
            "[1] \"/cloud/project/Lecture-01\""
          ]
        }
      ],
      "source": [
        "getwd()"
      ],
      "id": "fe32601c-1eeb-46fa-8434-0ec86a4ebc5a"
    },
    {
      "cell_type": "markdown",
      "metadata": {},
      "source": [
        "任意のディレクトリを指定するためには, `setwd()`関数を利用します.\n",
        "ここでは移動するディレクトリがないので,\n",
        "`#`をつけてRを実行しないようにしています."
      ],
      "id": "cf9faa78-9633-4fb2-a65e-cadb394bd6eb"
    },
    {
      "cell_type": "code",
      "execution_count": null,
      "metadata": {},
      "outputs": [],
      "source": [
        "#setwd(\"ここにパスを打ち込む\")"
      ],
      "id": "3d8e69be-1ec6-49a3-81eb-17321d2df295"
    },
    {
      "cell_type": "markdown",
      "metadata": {},
      "source": [
        "### 新しいディレクトリ(フォルダ)の作成\n",
        "\n",
        "新しいディレクトリ(フォルダ)を作成するためには`dir.create()`関数を利用します.\n",
        "ここでは, `data`という名前の新しいディレクトリを作成します.\n",
        "このquarto上で新しいディレクトリを作成するとこのqmdファイルがあるディレクトリにフォルダが作成されます."
      ],
      "id": "da8dbff4-bb7f-49dc-935f-783d57d9cd13"
    },
    {
      "cell_type": "code",
      "execution_count": null,
      "metadata": {},
      "outputs": [
        {
          "output_type": "stream",
          "name": "stderr",
          "text": [
            "Warning in dir.create(\"data\"): 'data' already exists"
          ]
        }
      ],
      "source": [
        "dir.create(\"data\")"
      ],
      "id": "f5e3bbf0-7e5e-4a78-bcbe-2d7cdd9a9949"
    },
    {
      "cell_type": "markdown",
      "metadata": {},
      "source": [
        "### ディレクトリの内容を確認\n",
        "\n",
        "現在のディレクトリにきちんと新しいフォルダが作成できたか確認してみましょう.\n",
        "作業ディレクトリ内のファイルやフォルダを確認するには,\n",
        "`list.files()`関数を利用します."
      ],
      "id": "6250f934-5619-4acb-b9c0-9d313c1dbe61"
    },
    {
      "cell_type": "code",
      "execution_count": null,
      "metadata": {},
      "outputs": [
        {
          "output_type": "stream",
          "name": "stdout",
          "text": [
            "[1] \"data\"                   \"ggplot2.ipynb\"          \"ggplot2.qmd\"           \n",
            "[4] \"Introduction.ipynb\"     \"Introduction.qmd\"       \"Introduction.rmarkdown\""
          ]
        }
      ],
      "source": [
        "list.files()"
      ],
      "id": "c3b5e3c0-66a7-4ce6-83cf-637019f0f455"
    },
    {
      "cell_type": "markdown",
      "metadata": {},
      "source": [
        "### パッケージのインストール\n",
        "\n",
        "パッケージのインストールをしてみましょう.\n",
        "CRANに登録されたパッケージをインストールするには,\n",
        "`install.packages()`関数を利用します.\n",
        "すでに`tidyverse`パッケージをインストールしている方は実行する必要はありません."
      ],
      "id": "367481fe-80b3-4433-a6a6-0b4a20ee5fc1"
    },
    {
      "cell_type": "code",
      "execution_count": null,
      "metadata": {},
      "outputs": [
        {
          "output_type": "stream",
          "name": "stderr",
          "text": [
            "Installing package into '/cloud/lib/x86_64-pc-linux-gnu-library/4.5'\n",
            "(as 'lib' is unspecified)"
          ]
        }
      ],
      "source": [
        "install.packages(\"dplyr\")"
      ],
      "id": "d842ec90-4ba8-42ab-a2d2-2da7639aa72a"
    },
    {
      "cell_type": "markdown",
      "metadata": {},
      "source": [
        "### パッケージの利用\n",
        "\n",
        "インストールしたパッケージを利用するには,\n",
        "`library()関数`で利用するパッケージ名を指定し, パッケージを読み込みます.\n",
        "この作業はセッションを再開する度に必要です."
      ],
      "id": "e67a09f7-b4c0-4cb0-be8d-c24de47160be"
    },
    {
      "cell_type": "code",
      "execution_count": null,
      "metadata": {},
      "outputs": [
        {
          "output_type": "stream",
          "name": "stderr",
          "text": [
            "\n",
            "Attaching package: 'dplyr'"
          ]
        },
        {
          "output_type": "stream",
          "name": "stderr",
          "text": [
            "The following objects are masked from 'package:stats':\n",
            "\n",
            "    filter, lag"
          ]
        },
        {
          "output_type": "stream",
          "name": "stderr",
          "text": [
            "The following objects are masked from 'package:base':\n",
            "\n",
            "    intersect, setdiff, setequal, union"
          ]
        }
      ],
      "source": [
        "library(dplyr)"
      ],
      "id": "e018bd17-f669-49b5-8571-407806d82fe9"
    },
    {
      "cell_type": "markdown",
      "metadata": {},
      "source": [
        "### `pacman`パッケージ\n",
        "\n",
        "パッケージ管理については`pacman`が便利です.\n",
        "CRANに登録されているパッケージは`p_load()`関数を利用します.\n",
        "\n",
        "インストールされていなければパッケージをインストールの上読み込み,\n",
        "パッケージに更新があればアップデートの上で読み込み,\n",
        "特に何もなければ読み込みを行ってくれます.\n",
        "\n",
        "github上のパッケージは`p_load_gh()`関数を利用します."
      ],
      "id": "31a69e28-9f81-44d3-a539-2504a615a839"
    },
    {
      "cell_type": "code",
      "execution_count": null,
      "metadata": {},
      "outputs": [
        {
          "output_type": "stream",
          "name": "stderr",
          "text": [
            "Installing package into '/cloud/lib/x86_64-pc-linux-gnu-library/4.5'\n",
            "(as 'lib' is unspecified)"
          ]
        }
      ],
      "source": [
        "install.packages(\"pacman\")"
      ],
      "id": "65c620eb-a7a2-45d7-b47a-dc666685c5a9"
    },
    {
      "cell_type": "markdown",
      "metadata": {},
      "source": [
        "### HELPの利用\n",
        "\n",
        "パッケージや関数の利用についてわからないことがあればHELPを利用してみましょう.\n",
        "HELPの出し方は`?`を知りたい関数やパッケージ名の前につけるだけです.\n",
        "?を2個つける(`??`)と単語検索のように利用できます."
      ],
      "id": "049ee478-ec99-4e9f-a61e-f62976ea175f"
    },
    {
      "cell_type": "code",
      "execution_count": null,
      "metadata": {},
      "outputs": [],
      "source": [
        "?library\n",
        "?ggplot2\n",
        "??dplyr"
      ],
      "id": "3b1e6d2a-4186-4964-b2a1-f851a9a1f50c"
    },
    {
      "cell_type": "markdown",
      "metadata": {},
      "source": [
        "### 四則演算\n",
        "\n",
        "簡単な四則演算を行ってみましょう. `*`は掛け算, `/`は割り算を示します.\n",
        "数学と同じく`()`内は優先して評価されます."
      ],
      "id": "58093680-000d-44bf-be2e-c12e8c668dd9"
    },
    {
      "cell_type": "code",
      "execution_count": null,
      "metadata": {},
      "outputs": [
        {
          "output_type": "stream",
          "name": "stdout",
          "text": [
            "[1] 2.5"
          ]
        },
        {
          "output_type": "stream",
          "name": "stdout",
          "text": [
            "[1] 2.25"
          ]
        }
      ],
      "source": [
        "1 + 2 * 3 / 4"
      ],
      "id": "76420a83-a491-4ec2-990d-3258a02be10a"
    },
    {
      "cell_type": "markdown",
      "metadata": {},
      "source": [
        "### 関数を利用した計算\n",
        "\n",
        "関数を利用した計算をしてみましょう. `exp()`関数はネイピア数$e$を底とし,\n",
        "引数を指数として計算します. `sqrt()`関数は$\\sqrt{}$を表しています.\n",
        "`log()`関数は自然対数であり, 2を底とするときは`log2()`,\n",
        "10を底とするときは`log10()`を利用します. `^`は累乗,\n",
        "`10E04`は100,000をそれぞれ表しています."
      ],
      "id": "e472e9af-4bb8-4bf9-9e3b-c087863d1264"
    },
    {
      "cell_type": "code",
      "execution_count": null,
      "metadata": {},
      "outputs": [
        {
          "output_type": "stream",
          "name": "stdout",
          "text": [
            "[1] 738.9056"
          ]
        },
        {
          "output_type": "stream",
          "name": "stdout",
          "text": [
            "[1] 141421.4"
          ]
        },
        {
          "output_type": "stream",
          "name": "stdout",
          "text": [
            "[1] 0.6931472"
          ]
        }
      ],
      "source": [
        "exp(2) * 10^2"
      ],
      "id": "c9a7cde0-293c-4569-80c3-96d1a55b0353"
    },
    {
      "cell_type": "markdown",
      "metadata": {},
      "source": [
        "### 数値をオブジェクトに格納する\n",
        "\n",
        "数値をオブジェクトに格納して計算してみましょう.\n",
        "`<-`は左側の名前のオブジェクトに右側の要素を代入することを示しています.\n",
        "`=`でも構いませんが, Rではよく`<-`が利用されます. `sum()`関数は,\n",
        "引数を足し合わせる関数です."
      ],
      "id": "6c216896-2749-4e24-af9f-4f3f85c4649e"
    },
    {
      "cell_type": "code",
      "execution_count": null,
      "metadata": {},
      "outputs": [
        {
          "output_type": "stream",
          "name": "stdout",
          "text": [
            "[1] 6"
          ]
        },
        {
          "output_type": "stream",
          "name": "stdout",
          "text": [
            "[1] 12"
          ]
        }
      ],
      "source": [
        "x <- 3\n",
        "y <- 9\n",
        "x + x"
      ],
      "id": "c6c7a7b9-fed3-497b-a8b4-da32a2170b2b"
    },
    {
      "cell_type": "markdown",
      "metadata": {},
      "source": [
        "また, オブジェクトは, 単一の数値だけでなく, ベクトルや行列,\n",
        "データフレームを格納できます. 他にも,\n",
        "いくつかの動作を関数として格納したり, 式などを格納することもできます.\n",
        "\n",
        "`c()`は数値などを連結するコンバイン関数です.\n",
        "`:`は`start:end`となっており,\n",
        "startからendまでの公差を1とする等差数列を作成します."
      ],
      "id": "86008b9a-1989-455e-97bf-0d6c2f5712ac"
    },
    {
      "cell_type": "code",
      "execution_count": null,
      "metadata": {},
      "outputs": [
        {
          "output_type": "stream",
          "name": "stdout",
          "text": [
            "[1] 0.25 0.40 0.50"
          ]
        }
      ],
      "source": [
        "a <- c(1, 2, 3)\n",
        "b <- 4:6\n",
        "a / b"
      ],
      "id": "adffad8f-ce63-4f3d-a870-0f6c09a293a3"
    },
    {
      "cell_type": "markdown",
      "metadata": {},
      "source": [
        "### データフレームの作成\n",
        "\n",
        "実際にデータフレームを作成してみましょう.\n",
        "`rep()`関数は要素を複製する関数です."
      ],
      "id": "5dd0aea2-6328-4939-8287-6778899ece3a"
    },
    {
      "cell_type": "code",
      "execution_count": null,
      "metadata": {},
      "outputs": [],
      "source": [
        "c <- 1:10\n",
        "d <- c * 2\n",
        "e <- c(rep(\"aa\",3),\n",
        "       rep(\"bb\",4), \n",
        "       rep(\"cc\",3))\n",
        "f <- data.frame(y   = c,\n",
        "                x   = d,\n",
        "                cha = e)"
      ],
      "id": "50433fbd-c160-467f-9cd8-2362928a5b8a"
    },
    {
      "cell_type": "markdown",
      "metadata": {},
      "source": [
        "### 変数名の確認\n",
        "\n",
        "そのオブジェクトがどのような変数によって構成されているか確認してみましょう.\n",
        "変数名を確認するためには, `names()`を利用します."
      ],
      "id": "b17f8195-3e3d-43fe-8a69-9d4fff59e7b8"
    },
    {
      "cell_type": "code",
      "execution_count": null,
      "metadata": {},
      "outputs": [
        {
          "output_type": "stream",
          "name": "stdout",
          "text": [
            "[1] \"y\"   \"x\"   \"cha\""
          ]
        }
      ],
      "source": [
        "names(f)"
      ],
      "id": "e7097b91-d9dd-4370-9a1d-e6334886b36e"
    },
    {
      "cell_type": "markdown",
      "metadata": {},
      "source": [
        "### 先頭から数行を表示\n",
        "\n",
        "オブジェクトを先頭から数行を表示してみましょう.\n",
        "先頭行から6行分表示するためには, `head()`を利用します.\n",
        "\n",
        "`head(x, n = 5L)`などと`n = 5L`のように表示する行数を指定できます.\n",
        "第2引数に指定する場合は`n =`は省略可能です. なお, `5L`の`L`は,\n",
        "5が整数であることを示しています."
      ],
      "id": "907b89cd-0002-4d5b-bd5b-c08226057ee5"
    },
    {
      "cell_type": "code",
      "execution_count": null,
      "metadata": {},
      "outputs": [
        {
          "output_type": "stream",
          "name": "stdout",
          "text": [
            "  y  x cha\n",
            "1 1  2  aa\n",
            "2 2  4  aa\n",
            "3 3  6  aa\n",
            "4 4  8  bb\n",
            "5 5 10  bb\n",
            "6 6 12  bb"
          ]
        }
      ],
      "source": [
        "head(f)"
      ],
      "id": "82768886-5293-4871-83d0-448bb22ad961"
    },
    {
      "cell_type": "markdown",
      "metadata": {},
      "source": [
        "### データ構造の確認\n",
        "\n",
        "変数の型なども含めて構造を確認してみましょう.\n",
        "第一引数に指定した変数がどのようなデータであるのか示しています.\n",
        "今回はデータフレームのため, 観察数(行)と列数が示されています.\n",
        "各列ごとに列名と:の後にそのデータ型と最初からいくつかのデータが表示されます."
      ],
      "id": "23b8378b-5789-40a4-860f-d72b33b586e4"
    },
    {
      "cell_type": "code",
      "execution_count": null,
      "metadata": {},
      "outputs": [
        {
          "output_type": "stream",
          "name": "stdout",
          "text": [
            "'data.frame':   10 obs. of  3 variables:\n",
            " $ y  : int  1 2 3 4 5 6 7 8 9 10\n",
            " $ x  : num  2 4 6 8 10 12 14 16 18 20\n",
            " $ cha: chr  \"aa\" \"aa\" \"aa\" \"bb\" ..."
          ]
        }
      ],
      "source": [
        "str(f)"
      ],
      "id": "1359ba97-7fe4-49e9-ab7e-867fe8a4bf5e"
    },
    {
      "cell_type": "markdown",
      "metadata": {},
      "source": [
        "### 別の方法でデータ構造を確認\n",
        "\n",
        "データ構造を別の方法で確認してみましょう.\n",
        "`dplyr`パッケージの`glimpse`関数を利用します.\n",
        "\n",
        "なお,\n",
        "`dplyr::glimpse`は`dplyr`パッケージの`glimpse`関数を利用することを明示的に示す記法であり,\n",
        "`library(dplyr)`すれば基本的には必要はありません."
      ],
      "id": "396ca226-b99e-4bff-ab8f-0103a0ba0f35"
    },
    {
      "cell_type": "code",
      "execution_count": null,
      "metadata": {},
      "outputs": [
        {
          "output_type": "stream",
          "name": "stdout",
          "text": [
            "Rows: 10\n",
            "Columns: 3\n",
            "$ y   <int> 1, 2, 3, 4, 5, 6, 7, 8, 9, 10\n",
            "$ x   <dbl> 2, 4, 6, 8, 10, 12, 14, 16, 18, 20\n",
            "$ cha <chr> \"aa\", \"aa\", \"aa\", \"bb\", \"bb\", \"bb\", \"bb\", \"cc\", \"cc\", \"cc\""
          ]
        }
      ],
      "source": [
        "dplyr::glimpse(f)"
      ],
      "id": "f528b61d-9ab9-40d2-89cf-5bc9dcca0d95"
    },
    {
      "cell_type": "markdown",
      "metadata": {},
      "source": [
        "### 記述統計\n",
        "\n",
        "記述統計を見るには, `summary()`を利用します. データ型が数値の場合には,\n",
        "最小値, 第一四分位数(25%), 中央値, 平均, 第三四分位数(75%),\n",
        "最大値が示されます. 欠損値がある場合には, その数も合わせて表示されます.\n",
        "\n",
        "文字列の場合には, 基本的にいくつデータが存在するのかしか表示されません."
      ],
      "id": "afd8caac-6f2e-4d89-9000-e9c8e5d0ed33"
    },
    {
      "cell_type": "code",
      "execution_count": null,
      "metadata": {},
      "outputs": [
        {
          "output_type": "stream",
          "name": "stdout",
          "text": [
            "       y               x            cha           \n",
            " Min.   : 1.00   Min.   : 2.0   Length:10         \n",
            " 1st Qu.: 3.25   1st Qu.: 6.5   Class :character  \n",
            " Median : 5.50   Median :11.0   Mode  :character  \n",
            " Mean   : 5.50   Mean   :11.0                     \n",
            " 3rd Qu.: 7.75   3rd Qu.:15.5                     \n",
            " Max.   :10.00   Max.   :20.0                     "
          ]
        }
      ],
      "source": [
        "summary(f)"
      ],
      "id": "cf24b40b-faea-4974-bdc5-5bc973b6ec55"
    },
    {
      "cell_type": "markdown",
      "metadata": {},
      "source": [
        "### データの書き出し\n",
        "\n",
        "`g`というデータフレームを作成し, `write.csv()`関数を利用して,\n",
        "`data`フォルダに`data.csv`というcsvファイルを作成してみましょう.\n",
        "\n",
        "`seq()`関数は等差数列を作る関数で, `from`は初項, `to`は末項, `by`は公差,\n",
        "`length.out`は項数を表しています."
      ],
      "id": "07355af4-07f1-4ba6-8664-690d1efefcec"
    },
    {
      "cell_type": "code",
      "execution_count": null,
      "metadata": {},
      "outputs": [],
      "source": [
        "ABCDE    <- c(\"A\",  \"B\",  \"C\",  \"D\",  \"E\")\n",
        "Japanese <- c(\"壱\", \"弐\", \"参\", \"四\", \"五\")\n",
        "g <- data.frame(\n",
        "  Int  = 1:300000, \n",
        "  Int2 = seq(from       = 0, \n",
        "             by         = 2.5,\n",
        "             length.out = 300000), \n",
        "  fac  = rep(ABCDE,\n",
        "             each  = 2, \n",
        "             times = 30000),\n",
        "  jpn  = rep(Japanese,\n",
        "             each  = 2,\n",
        "             times = 30000))\n",
        "write.csv(g, \n",
        "          \"data/data.csv\", \n",
        "          quote     = FALSE, \n",
        "          row.names = FALSE)"
      ],
      "id": "75931037-1531-4a76-9d69-e36cc7ed5f22"
    },
    {
      "cell_type": "markdown",
      "metadata": {},
      "source": [
        "以下読み込む場合も同じです.\n",
        "\n",
        "### データの読み込み\n",
        "\n",
        "最もオーソドックスな読み込み方は, `read.csv()`関数です.\n",
        "header=TRUEで先頭行が行名になっていることを明示します."
      ],
      "id": "53635e65-f74f-4c63-9350-9a2500b6b521"
    },
    {
      "cell_type": "code",
      "execution_count": null,
      "metadata": {},
      "outputs": [],
      "source": [
        "dat1 <- read.csv(\"data/data.csv\", header = TRUE)"
      ],
      "id": "f3bb8424-e044-4a55-b3f5-277dc377dc0f"
    },
    {
      "cell_type": "markdown",
      "metadata": {},
      "source": [
        "最近増えてきているのは, `readr`パッケージに含まれる`read_csv()`関数です.\n",
        "自由度も高く, やや速いです."
      ],
      "id": "09ade5c1-266b-4e36-811f-045875fa3f8b"
    },
    {
      "cell_type": "code",
      "execution_count": null,
      "metadata": {},
      "outputs": [
        {
          "output_type": "stream",
          "name": "stderr",
          "text": [
            "Rows: 300000 Columns: 4\n",
            "── Column specification ────────────────────────────────────────────────────────\n",
            "Delimiter: \",\"\n",
            "chr (2): fac, jpn\n",
            "dbl (2): Int, Int2\n",
            "\n",
            "ℹ Use `spec()` to retrieve the full column specification for this data.\n",
            "ℹ Specify the column types or set `show_col_types = FALSE` to quiet this message."
          ]
        }
      ],
      "source": [
        "dat2 <- readr::read_csv(\"data/data.csv\")"
      ],
      "id": "55e3e6bd-d6e6-43fa-a6c0-edd441ce00f6"
    },
    {
      "cell_type": "markdown",
      "metadata": {},
      "source": [
        "最後に`data.table`パッケージの`fread()`関数を紹介します.\n",
        "とても読み込みのスピードが早いですが, やや自由度に欠けます.\n",
        "大量のデータを読み込む際にはおすすめです."
      ],
      "id": "f445b32d-bb28-4f25-8c3c-c5171a681398"
    },
    {
      "cell_type": "code",
      "execution_count": null,
      "metadata": {},
      "outputs": [],
      "source": [
        "p_load(data.table)\n",
        "dat3 <- data.table::fread(\"data/data.csv\",\n",
        "                          data.table = FALSE)"
      ],
      "id": "a329b7b8-e1f8-432d-98ed-48d06b70880e"
    },
    {
      "cell_type": "markdown",
      "metadata": {},
      "source": [
        "### 速度の比較\n",
        "\n",
        "各関数によって, 読み込む速さが異なるため, 比較してみましょう."
      ],
      "id": "06b388df-0498-40b3-a298-0947b07b658e"
    },
    {
      "cell_type": "code",
      "execution_count": null,
      "metadata": {},
      "outputs": [
        {
          "output_type": "stream",
          "name": "stdout",
          "text": [
            "   user  system elapsed \n",
            "  0.485   0.020   0.514 "
          ]
        },
        {
          "output_type": "stream",
          "name": "stderr",
          "text": [
            "Rows: 300000 Columns: 4\n",
            "── Column specification ────────────────────────────────────────────────────────\n",
            "Delimiter: \",\"\n",
            "chr (2): fac, jpn\n",
            "dbl (2): Int, Int2\n",
            "\n",
            "ℹ Use `spec()` to retrieve the full column specification for this data.\n",
            "ℹ Specify the column types or set `show_col_types = FALSE` to quiet this message."
          ]
        },
        {
          "output_type": "stream",
          "name": "stdout",
          "text": [
            "   user  system elapsed \n",
            "  0.195   0.008   0.265 "
          ]
        },
        {
          "output_type": "stream",
          "name": "stdout",
          "text": [
            "   user  system elapsed \n",
            "  0.058   0.000   0.015 "
          ]
        }
      ],
      "source": [
        "system.time(read.csv(\"data/data.csv\"))"
      ],
      "id": "f3315137-d2a6-4b0b-8631-2c78dbf668a1"
    },
    {
      "cell_type": "markdown",
      "metadata": {},
      "source": [
        "### 文字コード\n",
        "\n",
        "日本語を含むデータを読み書きする際, 文字コードに注意が必要です.\n",
        "特にOSをまたいで利用する際には文字化けをしないように工夫が必要となります.\n",
        "\n",
        "Windowsで作られたファイルを読み込む際には `encoding = cp932`\n",
        "(Shift-JIS), MacやLinuxで作られたファイルを読み込む際には\n",
        "`encoding = UTF8`を指定します.\n",
        "ファイルを書き出す際に文字コードを指定するには,\n",
        "`fileEncoding = \"UTF-8\"`を引数に追加しましょう."
      ],
      "id": "ec9dae82-6282-4717-8229-764ade48d32b"
    },
    {
      "cell_type": "code",
      "execution_count": null,
      "metadata": {},
      "outputs": [
        {
          "output_type": "stream",
          "name": "stderr",
          "text": [
            "Rows: 300000 Columns: 4\n",
            "── Column specification ────────────────────────────────────────────────────────\n",
            "Delimiter: \",\"\n",
            "chr (2): fac, jpn\n",
            "dbl (2): Int, Int2\n",
            "\n",
            "ℹ Use `spec()` to retrieve the full column specification for this data.\n",
            "ℹ Specify the column types or set `show_col_types = FALSE` to quiet this message."
          ]
        }
      ],
      "source": [
        "dat1 <- read.csv(\"data/data.csv\",\n",
        "                 header       = TRUE, \n",
        "                 fileEncoding = \"UTF8\")\n",
        "dat2 <- readr::read_csv(\"data/data.csv\", \n",
        "                        locale = locale(encoding = \"UTF8\"))"
      ],
      "id": "0ea9cabd-305b-4bed-b73d-cffd92ac85ce"
    },
    {
      "cell_type": "markdown",
      "metadata": {},
      "source": [
        "### Excelファイルの読み込み\n",
        "\n",
        "Excelファイルを読み込むための関数も様々あります. ここでは,\n",
        "`readxl`パッケージの`read_excel()`を紹介します.\n",
        "下記のコードは紹介用のため動きません."
      ],
      "id": "8e0df248-5da7-496f-b5de-a23a9232f737"
    },
    {
      "cell_type": "code",
      "execution_count": null,
      "metadata": {},
      "outputs": [],
      "source": [
        "p_load(\"readxl\")\n",
        "# excel <- readxl::read_excel(\"data.xlsx\", \n",
        "#                             sheet = \"シート名or番号\")"
      ],
      "id": "775b74b3-3ce7-4929-b484-083f996336e1"
    },
    {
      "cell_type": "markdown",
      "metadata": {},
      "source": [
        "以上です. 大まかなRの使い方は理解できましたでしょうか?"
      ],
      "id": "f5d425a2-5047-420b-895f-790fef120214"
    }
  ],
  "nbformat": 4,
  "nbformat_minor": 5,
  "metadata": {
    "kernelspec": {
      "display_name": "Python 3",
      "language": "python",
      "name": "python3"
    }
  }
}