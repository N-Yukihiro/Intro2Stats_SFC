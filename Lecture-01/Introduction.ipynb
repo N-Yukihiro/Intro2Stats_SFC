{
  "cells": [
    {
      "cell_type": "markdown",
      "metadata": {},
      "source": [
        "# Let’s Using R\n",
        "\n",
        "### Quarto\n",
        "\n",
        "`#`を使ったコメントよりも長い文章とともにコードを書きたい場合はQuartoファイルがおすすめです.\n",
        "皆さんが開いているこのファイルがQuartoファイルです.\n",
        "Quartoファイルの上部を少し設定するだけで簡単にhtmlファイルやpdfファイルが作成できます.\n",
        "\n",
        "以下の範囲に書かれたコードがRのコードとして認識されます.\n",
        "`{}`内を変更すればR以外の言語も実行できます."
      ],
      "id": "2e4f7196-2dae-431c-aee8-3a7d92660445"
    },
    {
      "cell_type": "code",
      "execution_count": null,
      "metadata": {},
      "outputs": [],
      "source": [
        "# code"
      ],
      "id": "95f08d99-4671-4fbc-b7a7-a1c9964c11e3"
    },
    {
      "cell_type": "markdown",
      "metadata": {},
      "source": [
        "右上の実行ボタンもしくは`ctrl + Enter`や`command + Enter`で実行できます.\n",
        "\n",
        "### 作業ディレクトリの指定\n",
        "\n",
        "現在の作業ディレクトリ(フォルダ)を確認するためには`getwd()`関数を利用します."
      ],
      "id": "310a87d2-259a-47c0-8b55-aaf93a5e3845"
    },
    {
      "cell_type": "code",
      "execution_count": null,
      "metadata": {},
      "outputs": [],
      "source": [
        "getwd()"
      ],
      "id": "c1e753ee-c423-4c94-8310-7253084855a4"
    },
    {
      "cell_type": "markdown",
      "metadata": {},
      "source": [
        "任意のディレクトリを指定するためには, `setwd()`関数を利用します.\n",
        "ここでは移動するディレクトリがないので,\n",
        "`#`をつけてRを実行しないようにしています."
      ],
      "id": "e1391973-2854-4419-b553-88ec591cd6e8"
    },
    {
      "cell_type": "code",
      "execution_count": null,
      "metadata": {},
      "outputs": [],
      "source": [
        "#setwd(\"ここにパスを打ち込む\")"
      ],
      "id": "11d4f51c-bed1-40bf-ab3b-503178c731cd"
    },
    {
      "cell_type": "markdown",
      "metadata": {},
      "source": [
        "### 新しいディレクトリ(フォルダ)の作成\n",
        "\n",
        "新しいディレクトリ(フォルダ)を作成するためには`dir.create()`関数を利用します.\n",
        "ここでは, `data`という名前の新しいディレクトリを作成します.\n",
        "このquarto上で新しいディレクトリを作成するとこのqmdファイルがあるディレクトリにフォルダが作成されます."
      ],
      "id": "f93f584b-22fe-454a-81a9-c23039339e59"
    },
    {
      "cell_type": "code",
      "execution_count": null,
      "metadata": {},
      "outputs": [],
      "source": [
        "dir.create(\"data\")"
      ],
      "id": "f611da50-dada-4570-b469-e45276315238"
    },
    {
      "cell_type": "markdown",
      "metadata": {},
      "source": [
        "### ディレクトリの内容を確認\n",
        "\n",
        "現在のディレクトリにきちんと新しいフォルダが作成できたか確認してみましょう.\n",
        "作業ディレクトリ内のファイルやフォルダを確認するには,\n",
        "`list.files()`関数を利用します."
      ],
      "id": "e12b47f2-4651-4ccb-a69e-7233d55e070e"
    },
    {
      "cell_type": "code",
      "execution_count": null,
      "metadata": {},
      "outputs": [],
      "source": [
        "list.files()"
      ],
      "id": "f17690f8-0705-4fbf-9b56-32953b15a454"
    },
    {
      "cell_type": "markdown",
      "metadata": {},
      "source": [
        "### パッケージのインストール\n",
        "\n",
        "パッケージのインストールをしてみましょう.\n",
        "CRANに登録されたパッケージをインストールするには,\n",
        "`install.packages()`関数を利用します.\n",
        "すでに`tidyverse`パッケージをインストールしている方は実行する必要はありません."
      ],
      "id": "faf115d3-0708-4786-8f90-c45db8723ac0"
    },
    {
      "cell_type": "code",
      "execution_count": null,
      "metadata": {},
      "outputs": [],
      "source": [
        "install.packages(\"dplyr\")\n",
        "install.packages(\"readr\")\n",
        "install.packages(\"ggplot2\")"
      ],
      "id": "6e8375df-c961-4968-8ee4-14f71d0e8647"
    },
    {
      "cell_type": "markdown",
      "metadata": {},
      "source": [
        "### パッケージの利用\n",
        "\n",
        "インストールしたパッケージを利用するには,\n",
        "`library()関数`で利用するパッケージ名を指定し, パッケージを読み込みます.\n",
        "この作業はセッションを再開する度に必要です."
      ],
      "id": "93e97664-dd9f-425d-9fbc-8619c704fd1e"
    },
    {
      "cell_type": "code",
      "execution_count": null,
      "metadata": {},
      "outputs": [],
      "source": [
        "library(dplyr)\n",
        "library(readr)\n",
        "library(ggplot2)"
      ],
      "id": "26e40098-b6cb-446f-a492-9b69b84ba409"
    },
    {
      "cell_type": "markdown",
      "metadata": {},
      "source": [
        "### `pacman`パッケージ\n",
        "\n",
        "パッケージ管理については`pacman`が便利です.\n",
        "CRANに登録されているパッケージは`p_load()`関数を利用します.\n",
        "\n",
        "インストールされていなければパッケージをインストールの上読み込み,\n",
        "パッケージに更新があればアップデートの上で読み込み,\n",
        "特に何もなければ読み込みを行ってくれます.\n",
        "\n",
        "github上のパッケージは`p_load_gh()`関数を利用します."
      ],
      "id": "be49ad2d-f60d-4624-b43d-24b3c8598f2c"
    },
    {
      "cell_type": "code",
      "execution_count": null,
      "metadata": {},
      "outputs": [],
      "source": [
        "install.packages(\"pacman\")\n",
        "library(pacman)\n",
        "p_load(dplyr, readr, ggplot2)"
      ],
      "id": "2dfb2c50-13a7-4ff2-8660-7e38ae8c4399"
    },
    {
      "cell_type": "markdown",
      "metadata": {},
      "source": [
        "### `here`パッケージ\n",
        "\n",
        "データの場所を指定するのに便利なhereパッケージを利用してみましょう.\n",
        "`here`パッケージは,\n",
        "プロジェクト(.Rproj)を起点にデータがどこにあるのかOSに関わらず同様に記述できます.\n",
        "`here()`関数の引数として,\n",
        "フォルダ名とファイル名をそれぞれダブルクオーテーションで囲み,\n",
        "カンマで繋いであげましょう."
      ],
      "id": "ed539c95-64eb-4a8d-af93-6c0cd928bbf3"
    },
    {
      "cell_type": "code",
      "execution_count": null,
      "metadata": {},
      "outputs": [],
      "source": [
        "p_load(here)\n",
        "here()\n",
        "#here(\"フォルダ名\", \"ファイル名\")"
      ],
      "id": "a1c6a8c5-0a47-4a40-908e-42197941c42c"
    },
    {
      "cell_type": "markdown",
      "metadata": {},
      "source": [
        "### HELPの利用\n",
        "\n",
        "パッケージや関数の利用についてわからないことがあればHELPを利用してみましょう.\n",
        "HELPの出し方は`?`を知りたい関数やパッケージ名の前につけるだけです.\n",
        "?を2個つける(`??`)と単語検索のように利用できます."
      ],
      "id": "8ae013e5-c613-482b-8c03-be69fcb87c8e"
    },
    {
      "cell_type": "code",
      "execution_count": null,
      "metadata": {},
      "outputs": [],
      "source": [
        "?library\n",
        "?ggplot2\n",
        "??dplyr"
      ],
      "id": "82c3bd5e-1ad7-45e8-b1b1-3df456425bce"
    },
    {
      "cell_type": "markdown",
      "metadata": {},
      "source": [
        "### 四則演算\n",
        "\n",
        "簡単な四則演算を行ってみましょう. `*`は掛け算, `/`は割り算を示します.\n",
        "数学と同じく`()`内は優先して評価されます."
      ],
      "id": "86cebb6c-537e-4a3e-92db-231ba647cbed"
    },
    {
      "cell_type": "code",
      "execution_count": null,
      "metadata": {},
      "outputs": [],
      "source": [
        "1 + 2 * 3 / 4\n",
        "(1 + 2) * 3 / 4"
      ],
      "id": "dccd26af-e6f1-434b-a83c-a664b81d45e6"
    },
    {
      "cell_type": "markdown",
      "metadata": {},
      "source": [
        "### 関数を利用した計算\n",
        "\n",
        "関数を利用した計算をしてみましょう. `exp()`関数はネイピア数$e$を底とし,\n",
        "引数を指数として計算します. `sqrt()`関数は$\\sqrt{}$を表しています.\n",
        "`log()`関数は自然対数であり, 2を底とするときは`log2()`,\n",
        "10を底とするときは`log10()`を利用します. `^`は累乗,\n",
        "`10E04`は100,000をそれぞれ表しています."
      ],
      "id": "5714b07f-65f3-4f81-b63d-b84e2f4cd7d4"
    },
    {
      "cell_type": "code",
      "execution_count": null,
      "metadata": {},
      "outputs": [],
      "source": [
        "exp(2) * 10^2 ;\n",
        "sqrt(2) * 10E04\n",
        "log(2)"
      ],
      "id": "e2893670-efc8-4621-ae12-4d91bf6dbf38"
    },
    {
      "cell_type": "markdown",
      "metadata": {},
      "source": [
        "### 数値をオブジェクトに格納する\n",
        "\n",
        "数値をオブジェクトに格納して計算してみましょう.\n",
        "`<-`は左側の名前のオブジェクトに右側の要素を代入することを示しています.\n",
        "`=`でも構いませんが, Rではよく`<-`が利用されます. `sum()`関数は,\n",
        "引数を足し合わせる関数です."
      ],
      "id": "9fdd7175-0fcd-43b6-819b-514ca5dab085"
    },
    {
      "cell_type": "code",
      "execution_count": null,
      "metadata": {},
      "outputs": [],
      "source": [
        "x <- 3\n",
        "y <- 9\n",
        "x + x\n",
        "sum(x, y)"
      ],
      "id": "f08403dc-862c-4f35-8c50-021972a476b5"
    },
    {
      "cell_type": "markdown",
      "metadata": {},
      "source": [
        "また, オブジェクトは, 単一の数値だけでなく, ベクトルや行列,\n",
        "データフレームを格納できます. 他にも,\n",
        "いくつかの動作を関数として格納したり, 式などを格納することもできます.\n",
        "\n",
        "`c()`は数値などを連結するコンバイン関数です.\n",
        "`:`は`start:end`となっており,\n",
        "startからendまでの公差を1とする等差数列を作成します."
      ],
      "id": "7c786ad5-7f81-4b7d-8bbb-a39d1c4ab8d0"
    },
    {
      "cell_type": "code",
      "execution_count": null,
      "metadata": {},
      "outputs": [],
      "source": [
        "a <- c(1, 2, 3)\n",
        "b <- 4:6\n",
        "a / b"
      ],
      "id": "56d1e4ca-f914-4b22-8ff0-217e2b5a091f"
    },
    {
      "cell_type": "markdown",
      "metadata": {},
      "source": [
        "### データフレームの作成\n",
        "\n",
        "実際にデータフレームを作成してみましょう.\n",
        "`rep()`関数は要素を複製する関数です."
      ],
      "id": "5e3bb214-283f-42fe-afcf-c07820c6da39"
    },
    {
      "cell_type": "code",
      "execution_count": null,
      "metadata": {},
      "outputs": [],
      "source": [
        "c <- 1:10\n",
        "d <- c * 2\n",
        "e <- c(rep(\"aa\",3), rep(\"bb\",4), rep(\"cc\",3))\n",
        "f <- data.frame(y = c, x = d, cha = e)"
      ],
      "id": "7735cc80-ee92-4fa9-91f1-909797c62118"
    },
    {
      "cell_type": "markdown",
      "metadata": {},
      "source": [
        "### 変数名の確認\n",
        "\n",
        "そのオブジェクトがどのような変数によって構成されているか確認してみましょう.\n",
        "変数名を確認するためには, `names()`を利用します."
      ],
      "id": "95f4763e-7bea-4d91-ae8e-27c59123ca2f"
    },
    {
      "cell_type": "code",
      "execution_count": null,
      "metadata": {},
      "outputs": [],
      "source": [
        "names(f)"
      ],
      "id": "e4cf54aa-4a74-43b9-b11d-a0af3ad5d5a6"
    },
    {
      "cell_type": "markdown",
      "metadata": {},
      "source": [
        "### 先頭から数行を表示\n",
        "\n",
        "オブジェクトを先頭から数行を表示してみましょう.\n",
        "先頭行から6行分表示するためには, `head()`を利用します.\n",
        "\n",
        "`head(x, n = 5L)`などと`n = 5L`のように表示する行数を指定できます.\n",
        "第2引数に指定する場合は`n =`は省略可能です. なお, `5L`の`L`は,\n",
        "5が整数であることを示しています."
      ],
      "id": "5024280f-6f3c-4a46-b8b4-5df5d20ab62e"
    },
    {
      "cell_type": "code",
      "execution_count": null,
      "metadata": {},
      "outputs": [],
      "source": [
        "head(f)"
      ],
      "id": "3e7e2352-16b6-49ac-b1e9-85a490179b4e"
    },
    {
      "cell_type": "markdown",
      "metadata": {},
      "source": [
        "### データ構造の確認\n",
        "\n",
        "変数の型なども含めて構造を確認してみましょう.\n",
        "第一引数に指定した変数がどのようなデータであるのか示しています.\n",
        "今回はデータフレームのため, 観察数(行)と列数が示されています.\n",
        "各列ごとに列名と:の後にそのデータ型と最初からいくつかのデータが表示されます."
      ],
      "id": "e7da8f8a-ebf5-4392-a75e-ed563b2238bf"
    },
    {
      "cell_type": "code",
      "execution_count": null,
      "metadata": {},
      "outputs": [],
      "source": [
        "str(f)"
      ],
      "id": "e124572e-3861-4aa2-890f-71a6b8334b63"
    },
    {
      "cell_type": "markdown",
      "metadata": {},
      "source": [
        "### 別の方法でデータ構造を確認\n",
        "\n",
        "データ構造を別の方法で確認してみましょう.\n",
        "`dplyr`パッケージの`glimpse`関数を利用します.\n",
        "\n",
        "なお,\n",
        "`dplyr::glimpse`は`dplyr`パッケージの`glimpse`関数を利用することを明示的に示す記法であり,\n",
        "`library(dplyr)`すれば基本的には必要はありません."
      ],
      "id": "c725f08d-d3a0-4e05-8e4e-a11ed426e19f"
    },
    {
      "cell_type": "code",
      "execution_count": null,
      "metadata": {},
      "outputs": [],
      "source": [
        "dplyr::glimpse(f)"
      ],
      "id": "125df3bc-c37d-4465-a9ab-54f398e681b3"
    },
    {
      "cell_type": "markdown",
      "metadata": {},
      "source": [
        "### 記述統計\n",
        "\n",
        "記述統計を見るには, `summary()`を利用します. データ型が数値の場合には,\n",
        "最小値, 第一四分位数(25%), 中央値, 平均, 第三四分位数(75%),\n",
        "最大値が示されます. 欠損値がある場合には, その数も合わせて表示されます.\n",
        "\n",
        "文字列の場合には, 基本的にいくつデータが存在するのかしか表示されません."
      ],
      "id": "c3285dda-2739-465d-b2a0-940d379989b6"
    },
    {
      "cell_type": "code",
      "execution_count": null,
      "metadata": {},
      "outputs": [],
      "source": [
        "summary(f)"
      ],
      "id": "43c31c28-e024-4930-a1b6-b19d658f54f0"
    },
    {
      "cell_type": "markdown",
      "metadata": {},
      "source": [
        "### データの書き出し\n",
        "\n",
        "`h`というデータフレームを作成し, `write.csv()`関数を利用して,\n",
        "`data`フォルダに`data.csv`というcsvファイルを作成してみましょう.\n",
        "\n",
        "`seq()`関数は等差数列を作る関数で, `from`は初項, `to`は末項, `by`は公差,\n",
        "`length.out`は項数を表しています."
      ],
      "id": "9ea99c0f-eef7-4e77-9c8b-ef457f448218"
    },
    {
      "cell_type": "code",
      "execution_count": null,
      "metadata": {},
      "outputs": [],
      "source": [
        "ABCDE    <- c(\"A\",  \"B\",  \"C\",  \"D\",  \"E\")\n",
        "Japanese <- c(\"壱\", \"弐\", \"参\", \"四\", \"五\")\n",
        "g <- data.frame(\n",
        "  Int  = 1:300000, \n",
        "  Int2 = seq(from       = 0, \n",
        "             by         = 2.5,\n",
        "             length.out = 300000), \n",
        "  fac  = rep(ABCDE,\n",
        "             each  = 2, \n",
        "             times = 30000),\n",
        "  jpn  = rep(Japanese,\n",
        "             each  = 2,\n",
        "             times = 30000))\n",
        "write.csv(g, \n",
        "          here(\"Lecture-01\", \"data\", \"data.csv\"), \n",
        "          quote     = FALSE, \n",
        "          row.names = FALSE)"
      ],
      "id": "a1b39bee-9adc-4fe3-9ea7-a01f08eedc2b"
    },
    {
      "cell_type": "markdown",
      "metadata": {},
      "source": [
        "以下読み込む場合も同じです.\n",
        "\n",
        "### データの読み込み\n",
        "\n",
        "最もオーソドックスな読み込み方は, `read.csv()`関数です.\n",
        "header=TRUEで先頭行が行名になっていることを明示します."
      ],
      "id": "53a64d22-b1ba-4a33-905f-cd8bdcc9cd93"
    },
    {
      "cell_type": "code",
      "execution_count": null,
      "metadata": {},
      "outputs": [],
      "source": [
        "dat1 <- read.csv(here(\"Lecture-01\", \"data\", \"data.csv\"), header = TRUE) "
      ],
      "id": "f313a67a-985a-4b20-8d78-1ad0bf54cee6"
    },
    {
      "cell_type": "markdown",
      "metadata": {},
      "source": [
        "最近増えてきているのは, `readr`パッケージに含まれる`read_csv()`関数です.\n",
        "自由度も高く, やや速いです."
      ],
      "id": "b14a55f3-762a-4102-a1e0-a0456656544a"
    },
    {
      "cell_type": "code",
      "execution_count": null,
      "metadata": {},
      "outputs": [],
      "source": [
        "dat2 <- readr::read_csv(here(\"Lecture-01\", \"data\", \"data.csv\"))"
      ],
      "id": "e3800c88-d7cd-4624-8615-664dabbf5e60"
    },
    {
      "cell_type": "markdown",
      "metadata": {},
      "source": [
        "最後に`data.table`パッケージの`fread()`関数を紹介します.\n",
        "とても読み込みのスピードが早いですが, やや自由度に欠けます.\n",
        "大量のデータを読み込む際にはおすすめです."
      ],
      "id": "a7edfed9-99c9-4886-bc90-abc7136d60b5"
    },
    {
      "cell_type": "code",
      "execution_count": null,
      "metadata": {},
      "outputs": [],
      "source": [
        "p_load(data.table)\n",
        "dat3 <- data.table::fread(here(\"Lecture-01\", \"data\", \"data.csv\"),\n",
        "                          data.table = FALSE)"
      ],
      "id": "8f769fdb-aeae-402a-8bcc-f6275711b630"
    },
    {
      "cell_type": "markdown",
      "metadata": {},
      "source": [
        "### 速度の比較\n",
        "\n",
        "各関数によって, 読み込む速さが異なるため, 比較してみましょう."
      ],
      "id": "d535109d-4686-42fd-82c1-0ffe75f5db63"
    },
    {
      "cell_type": "code",
      "execution_count": null,
      "metadata": {},
      "outputs": [],
      "source": [
        "system.time(read.csv(here(\"Lecture-01\", \"data\", \"data.csv\")))\n",
        "system.time(readr::read_csv(here(\"Lecture-01\", \"data\", \"data.csv\")))\n",
        "system.time(data.table::fread(here(\"Lecture-01\", \"data\", \"data.csv\")))"
      ],
      "id": "39582063-0e8e-4be6-ab6f-e7ac46d645ac"
    },
    {
      "cell_type": "markdown",
      "metadata": {},
      "source": [
        "### 文字コード\n",
        "\n",
        "日本語を含むデータを読み書きする際, 文字コードに注意が必要です.\n",
        "特にOSをまたいで利用する際には文字化けをしないように工夫が必要となります.\n",
        "\n",
        "Windowsで作られたファイルを読み込む際には `encoding = cp932`\n",
        "(Shift-JIS), MacやLinuxで作られたファイルを読み込む際には\n",
        "`encoding = UTF8`を指定します.\n",
        "ファイルを書き出す際に文字コードを指定するには,\n",
        "`fileEncoding = \"UTF-8\"`を引数に追加しましょう."
      ],
      "id": "4e6d0126-054a-434e-b736-80af7e30dc81"
    },
    {
      "cell_type": "code",
      "execution_count": null,
      "metadata": {},
      "outputs": [],
      "source": [
        "dat1 <- read.csv(here(\"Lecture-01\", \"data\", \"data.csv\"),\n",
        "                 header       = TRUE, \n",
        "                 fileEncoding = \"UTF8\")\n",
        "dat2 <- readr::read_csv(here(\"Lecture-01\", \"data\", \"data.csv\"), \n",
        "                        locale = locale(encoding = \"UTF8\"))\n",
        "write.csv(dat2, here(\"Lecture-01\", \"data\", \"data.csv\"), \n",
        "          quote        = FALSE, \n",
        "          row.names    = FALSE,\n",
        "          fileEncoding = \"UTF-8\")"
      ],
      "id": "0fd04bea-fef0-42fa-9fbf-02cfddb7272c"
    },
    {
      "cell_type": "markdown",
      "metadata": {},
      "source": [
        "### Excelファイルの読み込み\n",
        "\n",
        "Excelファイルを読み込むための関数も様々あります. ここでは,\n",
        "`readxl`パッケージの`read_excel()`を紹介します.\n",
        "下記のコードは紹介用のため動きません."
      ],
      "id": "65db17db-567b-4abc-8a41-11e20fe42580"
    },
    {
      "cell_type": "code",
      "execution_count": null,
      "metadata": {},
      "outputs": [],
      "source": [
        "p_load(\"readxl\")\n",
        "# excel <- readxl::read_excel(\"data.xlsx\", \n",
        "#                             sheet = \"シート名or番号\")"
      ],
      "id": "8430cc20-a1eb-4260-bb05-79679df9a8f8"
    },
    {
      "cell_type": "markdown",
      "metadata": {},
      "source": [
        "以上です. 大まかなRの使い方は理解できましたでしょうか?"
      ],
      "id": "ec63500a-3795-488d-9281-037f7718f188"
    }
  ],
  "nbformat": 4,
  "nbformat_minor": 5,
  "metadata": {
    "kernelspec": {
      "display_name": "Python 3",
      "language": "python",
      "name": "python3"
    }
  }
}