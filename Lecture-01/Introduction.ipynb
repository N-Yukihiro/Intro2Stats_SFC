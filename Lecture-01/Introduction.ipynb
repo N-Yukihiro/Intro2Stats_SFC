{
  "cells": [
    {
      "cell_type": "markdown",
      "metadata": {},
      "source": [
        "# Let’s Using R\n",
        "\n",
        "### Quarto\n",
        "\n",
        "`#`を使ったコメントよりも長い文章とともにコードを書きたい場合はQuartoファイルがおすすめです.\n",
        "皆さんが開いているこのファイルがQuartoファイルです.\n",
        "Quartoファイルの上部を少し設定するだけで簡単にhtmlファイルやpdfファイルが作成できます.\n",
        "\n",
        "以下の範囲に書かれたコードがRのコードとして認識されます.\n",
        "`{}`内を変更すればR以外の言語も実行できます."
      ],
      "id": "959cb3e6-8c5e-43f8-a956-90ad15b08e51"
    },
    {
      "cell_type": "code",
      "execution_count": null,
      "metadata": {},
      "outputs": [],
      "source": [
        "# code"
      ],
      "id": "17b13df9-c308-4f0c-ab80-3482e0428b58"
    },
    {
      "cell_type": "markdown",
      "metadata": {},
      "source": [
        "右上の実行ボタンもしくは`ctrl + Enter`や`command + Enter`で実行できます.\n",
        "\n",
        "### 作業ディレクトリの指定\n",
        "\n",
        "現在の作業ディレクトリ(フォルダ)を確認するためには`getwd()`関数を利用します."
      ],
      "id": "c8ea8087-4335-4c2c-a7a2-e8b7578cf54c"
    },
    {
      "cell_type": "code",
      "execution_count": null,
      "metadata": {},
      "outputs": [
        {
          "output_type": "stream",
          "name": "stdout",
          "text": [
            "[1] \"/cloud/project/Lecture-01\""
          ]
        }
      ],
      "source": [
        "getwd()"
      ],
      "id": "f4a97ab9-7bc5-46b2-8df3-eaf7226dda02"
    },
    {
      "cell_type": "markdown",
      "metadata": {},
      "source": [
        "任意のディレクトリを指定するためには, `setwd()`関数を利用します.\n",
        "ここでは移動するディレクトリがないので,\n",
        "`#`をつけてRを実行しないようにしています."
      ],
      "id": "4fe43332-207b-43ae-813c-792aee57d875"
    },
    {
      "cell_type": "code",
      "execution_count": null,
      "metadata": {},
      "outputs": [],
      "source": [
        "#setwd(\"ここにパスを打ち込む\")"
      ],
      "id": "7a4b93f9-950e-409e-bc21-7079429ece48"
    },
    {
      "cell_type": "markdown",
      "metadata": {},
      "source": [
        "### 新しいディレクトリ(フォルダ)の作成\n",
        "\n",
        "新しいディレクトリ(フォルダ)を作成するためには`dir.create()`関数を利用します.\n",
        "ここでは, `data`という名前の新しいディレクトリを作成します.\n",
        "このquarto上で新しいディレクトリを作成するとこのqmdファイルがあるディレクトリにフォルダが作成されます."
      ],
      "id": "64c7425c-9694-4a6b-9aab-e9311a15a7b7"
    },
    {
      "cell_type": "code",
      "execution_count": null,
      "metadata": {},
      "outputs": [],
      "source": [
        "dir.create(\"data\")"
      ],
      "id": "09ae3688-b8fc-40bd-8647-d280f006a669"
    },
    {
      "cell_type": "markdown",
      "metadata": {},
      "source": [
        "### ディレクトリの内容を確認\n",
        "\n",
        "現在のディレクトリにきちんと新しいフォルダが作成できたか確認してみましょう.\n",
        "作業ディレクトリ内のファイルやフォルダを確認するには,\n",
        "`list.files()`関数を利用します."
      ],
      "id": "9ac4641a-ddd5-4c9c-943a-c652d432e184"
    },
    {
      "cell_type": "code",
      "execution_count": null,
      "metadata": {},
      "outputs": [
        {
          "output_type": "stream",
          "name": "stdout",
          "text": [
            "[1] \"data\"                   \"ggplot2.ipynb\"          \"ggplot2.qmd\"           \n",
            "[4] \"Introduction.ipynb\"     \"Introduction.qmd\"       \"Introduction.rmarkdown\""
          ]
        }
      ],
      "source": [
        "list.files()"
      ],
      "id": "e06e232f-b760-4041-9a63-516f12f1ffd9"
    },
    {
      "cell_type": "markdown",
      "metadata": {},
      "source": [
        "### パッケージのインストール\n",
        "\n",
        "パッケージのインストールをしてみましょう.\n",
        "CRANに登録されたパッケージをインストールするには,\n",
        "`install.packages()`関数を利用します.\n",
        "すでに`tidyverse`パッケージをインストールしている方は実行する必要はありません."
      ],
      "id": "057b3546-30d6-46e6-b217-c9a4b8cf594c"
    },
    {
      "cell_type": "code",
      "execution_count": null,
      "metadata": {},
      "outputs": [
        {
          "output_type": "stream",
          "name": "stderr",
          "text": [
            "Installing package into '/cloud/lib/x86_64-pc-linux-gnu-library/4.4'\n",
            "(as 'lib' is unspecified)"
          ]
        },
        {
          "output_type": "stream",
          "name": "stderr",
          "text": [
            "also installing the dependencies 'generics', 'tidyselect'"
          ]
        }
      ],
      "source": [
        "install.packages(\"dplyr\")"
      ],
      "id": "e13be9b3-d776-4db2-b8f7-a6e64fa88d2f"
    },
    {
      "cell_type": "markdown",
      "metadata": {},
      "source": [
        "### パッケージの利用\n",
        "\n",
        "インストールしたパッケージを利用するには,\n",
        "`library()関数`で利用するパッケージ名を指定し, パッケージを読み込みます.\n",
        "この作業はセッションを再開する度に必要です."
      ],
      "id": "8203494f-5eee-4f9b-9c8f-7a7ca3cc52f3"
    },
    {
      "cell_type": "code",
      "execution_count": null,
      "metadata": {},
      "outputs": [
        {
          "output_type": "stream",
          "name": "stderr",
          "text": [
            "\n",
            "Attaching package: 'dplyr'"
          ]
        },
        {
          "output_type": "stream",
          "name": "stderr",
          "text": [
            "The following objects are masked from 'package:stats':\n",
            "\n",
            "    filter, lag"
          ]
        },
        {
          "output_type": "stream",
          "name": "stderr",
          "text": [
            "The following objects are masked from 'package:base':\n",
            "\n",
            "    intersect, setdiff, setequal, union"
          ]
        }
      ],
      "source": [
        "library(dplyr)"
      ],
      "id": "f384d831-e15d-44b6-87a9-809dbeb8f4ac"
    },
    {
      "cell_type": "markdown",
      "metadata": {},
      "source": [
        "### `pacman`パッケージ\n",
        "\n",
        "パッケージ管理については`pacman`が便利です.\n",
        "CRANに登録されているパッケージは`p_load()`関数を利用します.\n",
        "\n",
        "インストールされていなければパッケージをインストールの上読み込み,\n",
        "パッケージに更新があればアップデートの上で読み込み,\n",
        "特に何もなければ読み込みを行ってくれます.\n",
        "\n",
        "github上のパッケージは`p_load_gh()`関数を利用します."
      ],
      "id": "66a14905-b3e0-45e6-9dda-75042fbf211e"
    },
    {
      "cell_type": "code",
      "execution_count": null,
      "metadata": {},
      "outputs": [
        {
          "output_type": "stream",
          "name": "stderr",
          "text": [
            "Installing package into '/cloud/lib/x86_64-pc-linux-gnu-library/4.4'\n",
            "(as 'lib' is unspecified)"
          ]
        },
        {
          "output_type": "stream",
          "name": "stderr",
          "text": [
            "Installing package into '/cloud/lib/x86_64-pc-linux-gnu-library/4.4'\n",
            "(as 'lib' is unspecified)"
          ]
        },
        {
          "output_type": "stream",
          "name": "stderr",
          "text": [
            "also installing the dependencies 'bit', 'prettyunits', 'bit64', 'progress', 'clipr', 'crayon', 'hms', 'vroom', 'cpp11', 'tzdb'"
          ]
        },
        {
          "output_type": "stream",
          "name": "stderr",
          "text": [
            "\n",
            "readr installed"
          ]
        }
      ],
      "source": [
        "install.packages(\"pacman\")"
      ],
      "id": "20778a79-a706-49d0-a445-32ba1ce19e35"
    },
    {
      "cell_type": "markdown",
      "metadata": {},
      "source": [
        "### `here`パッケージ\n",
        "\n",
        "データの場所を指定するのに便利なhereパッケージを利用してみましょう.\n",
        "`here`パッケージは,\n",
        "プロジェクト(.Rproj)を起点にデータがどこにあるのかOSに関わらず同様に記述できます.\n",
        "`here()`関数の引数として,\n",
        "フォルダ名とファイル名をそれぞれダブルクオーテーションで囲み,\n",
        "カンマで繋いであげましょう."
      ],
      "id": "ed37c68b-a141-4c65-b40a-d4cc23ab547a"
    },
    {
      "cell_type": "code",
      "execution_count": null,
      "metadata": {},
      "outputs": [
        {
          "output_type": "stream",
          "name": "stderr",
          "text": [
            "Installing package into '/cloud/lib/x86_64-pc-linux-gnu-library/4.4'\n",
            "(as 'lib' is unspecified)"
          ]
        },
        {
          "output_type": "stream",
          "name": "stderr",
          "text": [
            "also installing the dependency 'rprojroot'"
          ]
        },
        {
          "output_type": "stream",
          "name": "stderr",
          "text": [
            "\n",
            "here installed"
          ]
        },
        {
          "output_type": "stream",
          "name": "stdout",
          "text": [
            "[1] \"/cloud/project\""
          ]
        },
        {
          "output_type": "stream",
          "name": "stdout",
          "text": [
            "[1] \"/cloud/project/フォルダ名/ファイル名\""
          ]
        }
      ],
      "source": [
        "p_load(here)"
      ],
      "id": "7bc2680b-f6c8-4974-b413-3aaa24f682a9"
    },
    {
      "cell_type": "markdown",
      "metadata": {},
      "source": [
        "### HELPの利用\n",
        "\n",
        "パッケージや関数の利用についてわからないことがあればHELPを利用してみましょう.\n",
        "HELPの出し方は`?`を知りたい関数やパッケージ名の前につけるだけです.\n",
        "?を2個つける(`??`)と単語検索のように利用できます."
      ],
      "id": "a77ed944-c04f-4e24-9a72-fef7d06473ca"
    },
    {
      "cell_type": "code",
      "execution_count": null,
      "metadata": {},
      "outputs": [],
      "source": [
        "?library\n",
        "?ggplot2\n",
        "??dplyr"
      ],
      "id": "11cc8f02-856e-423c-9c5f-2cc4f4644c15"
    },
    {
      "cell_type": "markdown",
      "metadata": {},
      "source": [
        "### 四則演算\n",
        "\n",
        "簡単な四則演算を行ってみましょう. `*`は掛け算, `/`は割り算を示します.\n",
        "数学と同じく`()`内は優先して評価されます."
      ],
      "id": "20b688c0-bdc4-4590-a35d-91e452146fa7"
    },
    {
      "cell_type": "code",
      "execution_count": null,
      "metadata": {},
      "outputs": [
        {
          "output_type": "stream",
          "name": "stdout",
          "text": [
            "[1] 2.5"
          ]
        },
        {
          "output_type": "stream",
          "name": "stdout",
          "text": [
            "[1] 2.25"
          ]
        }
      ],
      "source": [
        "1 + 2 * 3 / 4"
      ],
      "id": "112ed11b-2a30-40d2-bdf5-4e19992dc69c"
    },
    {
      "cell_type": "markdown",
      "metadata": {},
      "source": [
        "### 関数を利用した計算\n",
        "\n",
        "関数を利用した計算をしてみましょう. `exp()`関数はネイピア数$e$を底とし,\n",
        "引数を指数として計算します. `sqrt()`関数は$\\sqrt{}$を表しています.\n",
        "`log()`関数は自然対数であり, 2を底とするときは`log2()`,\n",
        "10を底とするときは`log10()`を利用します. `^`は累乗,\n",
        "`10E04`は100,000をそれぞれ表しています."
      ],
      "id": "fe5fad0c-56e7-4d04-bdcc-f45271629909"
    },
    {
      "cell_type": "code",
      "execution_count": null,
      "metadata": {},
      "outputs": [
        {
          "output_type": "stream",
          "name": "stdout",
          "text": [
            "[1] 738.9056"
          ]
        },
        {
          "output_type": "stream",
          "name": "stdout",
          "text": [
            "[1] 141421.4"
          ]
        },
        {
          "output_type": "stream",
          "name": "stdout",
          "text": [
            "[1] 0.6931472"
          ]
        }
      ],
      "source": [
        "exp(2) * 10^2"
      ],
      "id": "990a82b3-c1c0-4a84-a9f8-adf8e9f799e7"
    },
    {
      "cell_type": "markdown",
      "metadata": {},
      "source": [
        "### 数値をオブジェクトに格納する\n",
        "\n",
        "数値をオブジェクトに格納して計算してみましょう.\n",
        "`<-`は左側の名前のオブジェクトに右側の要素を代入することを示しています.\n",
        "`=`でも構いませんが, Rではよく`<-`が利用されます. `sum()`関数は,\n",
        "引数を足し合わせる関数です."
      ],
      "id": "7fd15bd0-c3c1-450a-a724-2c09f4db3dff"
    },
    {
      "cell_type": "code",
      "execution_count": null,
      "metadata": {},
      "outputs": [
        {
          "output_type": "stream",
          "name": "stdout",
          "text": [
            "[1] 6"
          ]
        },
        {
          "output_type": "stream",
          "name": "stdout",
          "text": [
            "[1] 12"
          ]
        }
      ],
      "source": [
        "x <- 3\n",
        "y <- 9\n",
        "x + x"
      ],
      "id": "3422454d-6f30-4224-a681-b1a39ea9fc52"
    },
    {
      "cell_type": "markdown",
      "metadata": {},
      "source": [
        "また, オブジェクトは, 単一の数値だけでなく, ベクトルや行列,\n",
        "データフレームを格納できます. 他にも,\n",
        "いくつかの動作を関数として格納したり, 式などを格納することもできます.\n",
        "\n",
        "`c()`は数値などを連結するコンバイン関数です.\n",
        "`:`は`start:end`となっており,\n",
        "startからendまでの公差を1とする等差数列を作成します."
      ],
      "id": "b28d7b41-9105-4bf7-a0bf-98e2c63f4dae"
    },
    {
      "cell_type": "code",
      "execution_count": null,
      "metadata": {},
      "outputs": [
        {
          "output_type": "stream",
          "name": "stdout",
          "text": [
            "[1] 0.25 0.40 0.50"
          ]
        }
      ],
      "source": [
        "a <- c(1, 2, 3)\n",
        "b <- 4:6\n",
        "a / b"
      ],
      "id": "55f23d7c-4326-4461-81e2-a60464e31093"
    },
    {
      "cell_type": "markdown",
      "metadata": {},
      "source": [
        "### データフレームの作成\n",
        "\n",
        "実際にデータフレームを作成してみましょう.\n",
        "`rep()`関数は要素を複製する関数です."
      ],
      "id": "0f98fe62-0620-493c-9986-d1b8b462326f"
    },
    {
      "cell_type": "code",
      "execution_count": null,
      "metadata": {},
      "outputs": [],
      "source": [
        "c <- 1:10\n",
        "d <- c * 2\n",
        "e <- c(rep(\"aa\",3),\n",
        "       rep(\"bb\",4), \n",
        "       rep(\"cc\",3))\n",
        "f <- data.frame(y   = c,\n",
        "                x   = d,\n",
        "                cha = e)"
      ],
      "id": "e15486b4-790c-429c-aad5-c5db6d4e03c0"
    },
    {
      "cell_type": "markdown",
      "metadata": {},
      "source": [
        "### 変数名の確認\n",
        "\n",
        "そのオブジェクトがどのような変数によって構成されているか確認してみましょう.\n",
        "変数名を確認するためには, `names()`を利用します."
      ],
      "id": "64cdce80-850d-41fe-8c31-87ab13ab5c7d"
    },
    {
      "cell_type": "code",
      "execution_count": null,
      "metadata": {},
      "outputs": [
        {
          "output_type": "stream",
          "name": "stdout",
          "text": [
            "[1] \"y\"   \"x\"   \"cha\""
          ]
        }
      ],
      "source": [
        "names(f)"
      ],
      "id": "d533df54-5e57-4ea2-9b86-ee1734127470"
    },
    {
      "cell_type": "markdown",
      "metadata": {},
      "source": [
        "### 先頭から数行を表示\n",
        "\n",
        "オブジェクトを先頭から数行を表示してみましょう.\n",
        "先頭行から6行分表示するためには, `head()`を利用します.\n",
        "\n",
        "`head(x, n = 5L)`などと`n = 5L`のように表示する行数を指定できます.\n",
        "第2引数に指定する場合は`n =`は省略可能です. なお, `5L`の`L`は,\n",
        "5が整数であることを示しています."
      ],
      "id": "9363ff8a-9072-4644-a974-15d4d57918e4"
    },
    {
      "cell_type": "code",
      "execution_count": null,
      "metadata": {},
      "outputs": [
        {
          "output_type": "stream",
          "name": "stdout",
          "text": [
            "  y  x cha\n",
            "1 1  2  aa\n",
            "2 2  4  aa\n",
            "3 3  6  aa\n",
            "4 4  8  bb\n",
            "5 5 10  bb\n",
            "6 6 12  bb"
          ]
        }
      ],
      "source": [
        "head(f)"
      ],
      "id": "6562effe-8075-4ebb-873a-e0725d382660"
    },
    {
      "cell_type": "markdown",
      "metadata": {},
      "source": [
        "### データ構造の確認\n",
        "\n",
        "変数の型なども含めて構造を確認してみましょう.\n",
        "第一引数に指定した変数がどのようなデータであるのか示しています.\n",
        "今回はデータフレームのため, 観察数(行)と列数が示されています.\n",
        "各列ごとに列名と:の後にそのデータ型と最初からいくつかのデータが表示されます."
      ],
      "id": "03867fef-2404-4006-9658-66e368a2ce54"
    },
    {
      "cell_type": "code",
      "execution_count": null,
      "metadata": {},
      "outputs": [
        {
          "output_type": "stream",
          "name": "stdout",
          "text": [
            "'data.frame':   10 obs. of  3 variables:\n",
            " $ y  : int  1 2 3 4 5 6 7 8 9 10\n",
            " $ x  : num  2 4 6 8 10 12 14 16 18 20\n",
            " $ cha: chr  \"aa\" \"aa\" \"aa\" \"bb\" ..."
          ]
        }
      ],
      "source": [
        "str(f)"
      ],
      "id": "d72bf605-76d9-4353-a04e-c6c1cf749ffc"
    },
    {
      "cell_type": "markdown",
      "metadata": {},
      "source": [
        "### 別の方法でデータ構造を確認\n",
        "\n",
        "データ構造を別の方法で確認してみましょう.\n",
        "`dplyr`パッケージの`glimpse`関数を利用します.\n",
        "\n",
        "なお,\n",
        "`dplyr::glimpse`は`dplyr`パッケージの`glimpse`関数を利用することを明示的に示す記法であり,\n",
        "`library(dplyr)`すれば基本的には必要はありません."
      ],
      "id": "38acd55d-ace5-45b9-8025-4a7a14f7f0a4"
    },
    {
      "cell_type": "code",
      "execution_count": null,
      "metadata": {},
      "outputs": [
        {
          "output_type": "stream",
          "name": "stdout",
          "text": [
            "Rows: 10\n",
            "Columns: 3\n",
            "$ y   <int> 1, 2, 3, 4, 5, 6, 7, 8, 9, 10\n",
            "$ x   <dbl> 2, 4, 6, 8, 10, 12, 14, 16, 18, 20\n",
            "$ cha <chr> \"aa\", \"aa\", \"aa\", \"bb\", \"bb\", \"bb\", \"bb\", \"cc\", \"cc\", \"cc\""
          ]
        }
      ],
      "source": [
        "dplyr::glimpse(f)"
      ],
      "id": "59e41021-8240-4c3b-a5a0-da9aed62259d"
    },
    {
      "cell_type": "markdown",
      "metadata": {},
      "source": [
        "### 記述統計\n",
        "\n",
        "記述統計を見るには, `summary()`を利用します. データ型が数値の場合には,\n",
        "最小値, 第一四分位数(25%), 中央値, 平均, 第三四分位数(75%),\n",
        "最大値が示されます. 欠損値がある場合には, その数も合わせて表示されます.\n",
        "\n",
        "文字列の場合には, 基本的にいくつデータが存在するのかしか表示されません."
      ],
      "id": "3b9e8648-5d41-4bf6-aa12-010008b08d82"
    },
    {
      "cell_type": "code",
      "execution_count": null,
      "metadata": {},
      "outputs": [
        {
          "output_type": "stream",
          "name": "stdout",
          "text": [
            "       y               x            cha           \n",
            " Min.   : 1.00   Min.   : 2.0   Length:10         \n",
            " 1st Qu.: 3.25   1st Qu.: 6.5   Class :character  \n",
            " Median : 5.50   Median :11.0   Mode  :character  \n",
            " Mean   : 5.50   Mean   :11.0                     \n",
            " 3rd Qu.: 7.75   3rd Qu.:15.5                     \n",
            " Max.   :10.00   Max.   :20.0                     "
          ]
        }
      ],
      "source": [
        "summary(f)"
      ],
      "id": "527af53e-77e5-4394-ba00-7aeca937e723"
    },
    {
      "cell_type": "markdown",
      "metadata": {},
      "source": [
        "### データの書き出し\n",
        "\n",
        "`g`というデータフレームを作成し, `write.csv()`関数を利用して,\n",
        "`data`フォルダに`data.csv`というcsvファイルを作成してみましょう.\n",
        "\n",
        "`seq()`関数は等差数列を作る関数で, `from`は初項, `to`は末項, `by`は公差,\n",
        "`length.out`は項数を表しています."
      ],
      "id": "7cc298b8-ee2e-420e-a8f2-bc6dd8c4cf47"
    },
    {
      "cell_type": "code",
      "execution_count": null,
      "metadata": {},
      "outputs": [],
      "source": [
        "ABCDE    <- c(\"A\",  \"B\",  \"C\",  \"D\",  \"E\")\n",
        "Japanese <- c(\"壱\", \"弐\", \"参\", \"四\", \"五\")\n",
        "g <- data.frame(\n",
        "  Int  = 1:300000, \n",
        "  Int2 = seq(from       = 0, \n",
        "             by         = 2.5,\n",
        "             length.out = 300000), \n",
        "  fac  = rep(ABCDE,\n",
        "             each  = 2, \n",
        "             times = 30000),\n",
        "  jpn  = rep(Japanese,\n",
        "             each  = 2,\n",
        "             times = 30000))\n",
        "write.csv(g, \n",
        "          here(\"Lecture-01\", \"data\", \"data.csv\"), \n",
        "          quote     = FALSE, \n",
        "          row.names = FALSE)"
      ],
      "id": "3b329da0-e15e-4c71-ad06-b4dd4c1c2b92"
    },
    {
      "cell_type": "markdown",
      "metadata": {},
      "source": [
        "以下読み込む場合も同じです.\n",
        "\n",
        "### データの読み込み\n",
        "\n",
        "最もオーソドックスな読み込み方は, `read.csv()`関数です.\n",
        "header=TRUEで先頭行が行名になっていることを明示します."
      ],
      "id": "0c667c6e-c15e-40ec-b4d2-eb28f5bc4094"
    },
    {
      "cell_type": "code",
      "execution_count": null,
      "metadata": {},
      "outputs": [],
      "source": [
        "dat1 <- read.csv(here(\"Lecture-01\", \"data\", \"data.csv\"), header = TRUE) "
      ],
      "id": "e7630e8c-bbb2-452d-9e75-3e1e1cd5978f"
    },
    {
      "cell_type": "markdown",
      "metadata": {},
      "source": [
        "最近増えてきているのは, `readr`パッケージに含まれる`read_csv()`関数です.\n",
        "自由度も高く, やや速いです."
      ],
      "id": "302756a8-2306-4445-9d0c-09940d8288c7"
    },
    {
      "cell_type": "code",
      "execution_count": null,
      "metadata": {},
      "outputs": [
        {
          "output_type": "stream",
          "name": "stderr",
          "text": [
            "Rows: 300000 Columns: 4\n",
            "── Column specification ────────────────────────────────────────────────────────\n",
            "Delimiter: \",\"\n",
            "chr (2): fac, jpn\n",
            "dbl (2): Int, Int2\n",
            "\n",
            "ℹ Use `spec()` to retrieve the full column specification for this data.\n",
            "ℹ Specify the column types or set `show_col_types = FALSE` to quiet this message."
          ]
        }
      ],
      "source": [
        "dat2 <- readr::read_csv(here(\"Lecture-01\", \"data\", \"data.csv\"))"
      ],
      "id": "afd0e790-849e-4bc8-bce4-8e551b17837a"
    },
    {
      "cell_type": "markdown",
      "metadata": {},
      "source": [
        "最後に`data.table`パッケージの`fread()`関数を紹介します.\n",
        "とても読み込みのスピードが早いですが, やや自由度に欠けます.\n",
        "大量のデータを読み込む際にはおすすめです."
      ],
      "id": "289d9d1d-fe8f-4278-ad09-934d953ae89a"
    },
    {
      "cell_type": "code",
      "execution_count": null,
      "metadata": {},
      "outputs": [
        {
          "output_type": "stream",
          "name": "stderr",
          "text": [
            "Installing package into '/cloud/lib/x86_64-pc-linux-gnu-library/4.4'\n",
            "(as 'lib' is unspecified)"
          ]
        },
        {
          "output_type": "stream",
          "name": "stderr",
          "text": [
            "\n",
            "data.table installed"
          ]
        }
      ],
      "source": [
        "p_load(data.table)"
      ],
      "id": "40c9d9c9-710f-4c25-91ab-91b47702143f"
    },
    {
      "cell_type": "markdown",
      "metadata": {},
      "source": [
        "### 速度の比較\n",
        "\n",
        "各関数によって, 読み込む速さが異なるため, 比較してみましょう."
      ],
      "id": "557ecfb1-faa1-46a0-967b-c9f7509abed6"
    },
    {
      "cell_type": "code",
      "execution_count": null,
      "metadata": {},
      "outputs": [
        {
          "output_type": "stream",
          "name": "stdout",
          "text": [
            "   user  system elapsed \n",
            "  0.269   0.008   0.279 "
          ]
        },
        {
          "output_type": "stream",
          "name": "stderr",
          "text": [
            "Rows: 300000 Columns: 4\n",
            "── Column specification ────────────────────────────────────────────────────────\n",
            "Delimiter: \",\"\n",
            "chr (2): fac, jpn\n",
            "dbl (2): Int, Int2\n",
            "\n",
            "ℹ Use `spec()` to retrieve the full column specification for this data.\n",
            "ℹ Specify the column types or set `show_col_types = FALSE` to quiet this message."
          ]
        },
        {
          "output_type": "stream",
          "name": "stdout",
          "text": [
            "   user  system elapsed \n",
            "  0.204   0.000   0.289 "
          ]
        },
        {
          "output_type": "stream",
          "name": "stdout",
          "text": [
            "   user  system elapsed \n",
            "  0.056   0.000   0.020 "
          ]
        }
      ],
      "source": [
        "system.time(read.csv(here(\"Lecture-01\", \"data\", \"data.csv\")))"
      ],
      "id": "18cc3195-2894-49af-b6b7-5e4552341fe6"
    },
    {
      "cell_type": "markdown",
      "metadata": {},
      "source": [
        "### 文字コード\n",
        "\n",
        "日本語を含むデータを読み書きする際, 文字コードに注意が必要です.\n",
        "特にOSをまたいで利用する際には文字化けをしないように工夫が必要となります.\n",
        "\n",
        "Windowsで作られたファイルを読み込む際には `encoding = cp932`\n",
        "(Shift-JIS), MacやLinuxで作られたファイルを読み込む際には\n",
        "`encoding = UTF8`を指定します.\n",
        "ファイルを書き出す際に文字コードを指定するには,\n",
        "`fileEncoding = \"UTF-8\"`を引数に追加しましょう."
      ],
      "id": "e1d11703-1dd6-49c7-89c8-ccb316f3aca1"
    },
    {
      "cell_type": "code",
      "execution_count": null,
      "metadata": {},
      "outputs": [
        {
          "output_type": "stream",
          "name": "stderr",
          "text": [
            "Rows: 300000 Columns: 4\n",
            "── Column specification ────────────────────────────────────────────────────────\n",
            "Delimiter: \",\"\n",
            "chr (2): fac, jpn\n",
            "dbl (2): Int, Int2\n",
            "\n",
            "ℹ Use `spec()` to retrieve the full column specification for this data.\n",
            "ℹ Specify the column types or set `show_col_types = FALSE` to quiet this message."
          ]
        }
      ],
      "source": [
        "dat1 <- read.csv(here(\"Lecture-01\", \"data\", \"data.csv\"),\n",
        "                 header       = TRUE, \n",
        "                 fileEncoding = \"UTF8\")\n",
        "dat2 <- readr::read_csv(here(\"Lecture-01\", \"data\", \"data.csv\"), \n",
        "                        locale = locale(encoding = \"UTF8\"))"
      ],
      "id": "534182bc-d178-4245-b2f7-348cbc05e3b8"
    },
    {
      "cell_type": "markdown",
      "metadata": {},
      "source": [
        "### Excelファイルの読み込み\n",
        "\n",
        "Excelファイルを読み込むための関数も様々あります. ここでは,\n",
        "`readxl`パッケージの`read_excel()`を紹介します.\n",
        "下記のコードは紹介用のため動きません."
      ],
      "id": "b691512c-e10c-4276-a667-792a09a82de1"
    },
    {
      "cell_type": "code",
      "execution_count": null,
      "metadata": {},
      "outputs": [
        {
          "output_type": "stream",
          "name": "stderr",
          "text": [
            "Installing package into '/cloud/lib/x86_64-pc-linux-gnu-library/4.4'\n",
            "(as 'lib' is unspecified)"
          ]
        },
        {
          "output_type": "stream",
          "name": "stderr",
          "text": [
            "also installing the dependencies 'rematch', 'cellranger'"
          ]
        },
        {
          "output_type": "stream",
          "name": "stderr",
          "text": [
            "\n",
            "readxl installed"
          ]
        }
      ],
      "source": [
        "p_load(\"readxl\")"
      ],
      "id": "0d660f9c-62cf-411f-9b08-00cc4b9aca93"
    },
    {
      "cell_type": "markdown",
      "metadata": {},
      "source": [
        "以上です. 大まかなRの使い方は理解できましたでしょうか?"
      ],
      "id": "98c55c72-6c3c-404f-9076-21c011798b6c"
    }
  ],
  "nbformat": 4,
  "nbformat_minor": 5,
  "metadata": {
    "kernelspec": {
      "display_name": "Python 3",
      "language": "python",
      "name": "python3"
    }
  }
}