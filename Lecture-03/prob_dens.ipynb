{
  "cells": [
    {
      "cell_type": "markdown",
      "metadata": {},
      "source": [
        "# 確率変数と確率分布\n",
        "\n",
        "### 確率分布とRの関数\n",
        "\n",
        "Rにはデフォルトで様々な確率分布が関数として備わっている.\n",
        "正規分布なら`norm`, 二項分布なら`binom`を利用する.\n",
        "先頭に`d`がつけば確率密度, `p`がつけば累積分布, `q`がつけば確率点を求め,\n",
        "先頭に`r`がつけば指定の分布に従った乱数を生成する.\n",
        "引数として各分布に必要なパラメーターを指定する.\n",
        "\n",
        "例えば, 下記のコードは正規分布の累積分布を表す. 詳細は後述する."
      ],
      "id": "2012bd01-ef8d-4f68-8632-f748cd93d433"
    },
    {
      "cell_type": "code",
      "execution_count": null,
      "metadata": {},
      "outputs": [],
      "source": [
        "pnorm(q = 0, mean = 0, sd = 1)"
      ],
      "id": "d40c5aec-d9fa-48c4-bc5a-4c8af98cdecf"
    },
    {
      "cell_type": "markdown",
      "metadata": {},
      "source": [
        "## 二項分布\n",
        "\n",
        "### 二項分布の確率質量\n",
        "\n",
        "二項分布の確率質量を求めるには`dbinom()`関数を用いる.\n",
        "コイン投げを例に説明すると,\n",
        "表と裏の出る確率が等しい(`prob = 0.5`)コイン`size`回投げたときに,\n",
        "表が`x`回出る確率を求める."
      ],
      "id": "ceaab3b5-4fde-4ff5-ab7b-db62bb6c3901"
    },
    {
      "cell_type": "code",
      "execution_count": null,
      "metadata": {},
      "outputs": [],
      "source": [
        "dbinom(x = 1, size = 4, prob = 0.5)"
      ],
      "id": "9aa78345-a8e5-4f28-ab42-883e6e990b9c"
    },
    {
      "cell_type": "markdown",
      "metadata": {},
      "source": [
        "二項分布の定義に従って確率質量を求める.\n",
        "`choose()`関数を用いて組み合わせを求める."
      ],
      "id": "b5126b3b-9643-4960-b16b-074b086965fb"
    },
    {
      "cell_type": "code",
      "execution_count": null,
      "metadata": {},
      "outputs": [],
      "source": [
        "choose(n = 4, k = 1) * 0.5^1 * (1 - 0.5)^(4 - 1)"
      ],
      "id": "ab9b8810-7c89-4a05-9f28-8de0c3bcd5a0"
    },
    {
      "cell_type": "markdown",
      "metadata": {},
      "source": [
        "表が出る確率を0から1までそれぞれ求める."
      ],
      "id": "d239f33b-1612-44e8-a656-333b293d08e0"
    },
    {
      "cell_type": "code",
      "execution_count": null,
      "metadata": {},
      "outputs": [],
      "source": [
        "dbinom(x = 0:4, size = 4, prob = 0.5)"
      ],
      "id": "72c88ca6-9546-4ef6-8c9b-57a79ea7e9e1"
    },
    {
      "cell_type": "markdown",
      "metadata": {},
      "source": [
        "確率質量の総和は1となる."
      ],
      "id": "c093a411-bd23-4a0e-9407-fb47658a5f3f"
    },
    {
      "cell_type": "code",
      "execution_count": null,
      "metadata": {},
      "outputs": [],
      "source": [
        "sum(dbinom(x = 0:4, size = 4, prob = 0.5))"
      ],
      "id": "8dda700e-3d15-4218-9afe-2602fd4786f1"
    },
    {
      "cell_type": "markdown",
      "metadata": {},
      "source": [
        "### 二項分布の累積分布\n",
        "\n",
        "二項分布の累積分布を求めるには`pbinom()`関数を用いる.\n",
        "表と裏の出る確率が等しい(`prob = 0.5`)コインを`size = 4`回投げたときに,\n",
        "表が`q = 1`回以下出る確率を求める."
      ],
      "id": "fa655ca9-ed2d-4c66-bf63-90a515a9dda7"
    },
    {
      "cell_type": "code",
      "execution_count": null,
      "metadata": {},
      "outputs": [],
      "source": [
        "pbinom(q = 1, size = 4, prob = 0.5)"
      ],
      "id": "d1221988-98e2-4b9f-acd0-7bdfc8b7aa7c"
    },
    {
      "cell_type": "markdown",
      "metadata": {},
      "source": [
        "累積分布は実際に確率質量関数の総和であることがわかる."
      ],
      "id": "138bf484-8462-45f4-a24a-8229a25ae4f6"
    },
    {
      "cell_type": "code",
      "execution_count": null,
      "metadata": {},
      "outputs": [],
      "source": [
        "sum(dbinom(x = 0:1, size = 4, prob = 0.5))"
      ],
      "id": "336511e5-7e40-4e3a-99e1-63fd7974326e"
    },
    {
      "cell_type": "markdown",
      "metadata": {},
      "source": [
        "### 二項分布の累積分布を用いた例\n",
        "\n",
        "0.5%の確率でウルトラレアのキャラクターが出るガチャを100回引いて,\n",
        "2体以上ウルトラレアを得る確率は次のように求める."
      ],
      "id": "f2396a54-6b9c-4056-b504-c4056ce5c09f"
    },
    {
      "cell_type": "code",
      "execution_count": null,
      "metadata": {},
      "outputs": [],
      "source": [
        "1 - pbinom(q = 1, size = 100, prob = 0.005)"
      ],
      "id": "a437f206-6b84-4baa-a7fa-e28148db8e2b"
    },
    {
      "cell_type": "markdown",
      "metadata": {},
      "source": [
        "引数で`lower.tail = FALSE`と指定すれば上側確率($P[X > x]$)が求められる."
      ],
      "id": "6d071d41-9d50-48c9-b3b8-e365f3550edb"
    },
    {
      "cell_type": "code",
      "execution_count": null,
      "metadata": {},
      "outputs": [],
      "source": [
        "pbinom(q = 1, size = 100, prob = 0.005, lower.tail = FALSE)"
      ],
      "id": "b9f545ba-faeb-47f5-a265-4131f5e30e1e"
    },
    {
      "cell_type": "markdown",
      "metadata": {},
      "source": [
        "### 二項分布とグラフ1\n",
        "\n",
        "0.5%の確率でウルトラレアのキャラクターが出るガチャを100回引いて,\n",
        "ウルトラレアのキャラクターを引く回数をグラフにする.\n",
        "確率分布関数から理論値を描画するには,\n",
        "`ggplot2::stat_function()`関数を利用する. `fun =`で確率分布を指定し,\n",
        "`args =`で確率分布を求める関数の引数を`list()`関数を用いて指定する."
      ],
      "id": "6bb68e84-e19f-4df3-83b0-98851c1b78ac"
    },
    {
      "cell_type": "code",
      "execution_count": null,
      "metadata": {},
      "outputs": [],
      "source": [
        "library(pacman)\n",
        "p_load(ggplot2)\n",
        "ggplot(data = NULL) +\n",
        "  aes(xmin = 0,\n",
        "      xmax = 5) +\n",
        "  stat_function(\n",
        "    fun  = dbinom,\n",
        "    args = list(size = 100,\n",
        "                prob = 0.005),\n",
        "    geom = \"bar\")"
      ],
      "id": "98d95723-6af8-4826-8487-8c584505f330"
    },
    {
      "cell_type": "markdown",
      "metadata": {},
      "source": [
        "コインを10回投げ, 10回表が向いた時にコインが表を向く確率を描画する."
      ],
      "id": "108f12b6-39f6-4105-ac38-bfb7c6290b2d"
    },
    {
      "cell_type": "code",
      "execution_count": null,
      "metadata": {},
      "outputs": [],
      "source": [
        "ggplot(data = NULL) +\n",
        "  aes(xmin = 0,\n",
        "      xmax = 1) +\n",
        "  stat_function(\n",
        "    fun  = dbinom,\n",
        "    args = list(x    = 10, \n",
        "                size = 10))"
      ],
      "id": "b29643ba-d829-4e19-94a2-2b3a242b4b7c"
    },
    {
      "cell_type": "markdown",
      "metadata": {},
      "source": [
        "## 正規分布\n",
        "\n",
        "### 正規分布の確率密度\n",
        "\n",
        "正規分布の確率密度を求めるには, `dnorm()`関数を利用する.\n",
        "`*norm()`関数ではデフォルトで, 標準正規分布が指定されている."
      ],
      "id": "9fc3ffdf-d91d-441b-a734-84737658472d"
    },
    {
      "cell_type": "code",
      "execution_count": null,
      "metadata": {},
      "outputs": [],
      "source": [
        "dnorm(x = 0)"
      ],
      "id": "075bbb60-c20e-4593-b061-b7d57f47366d"
    },
    {
      "cell_type": "markdown",
      "metadata": {},
      "source": [
        "標準正規分布の確率密度関数の定義に従って計算を行う."
      ],
      "id": "1192eb82-aa40-4b61-b539-7acb6087a344"
    },
    {
      "cell_type": "code",
      "execution_count": null,
      "metadata": {},
      "outputs": [],
      "source": [
        "1 / sqrt(2 * pi) * exp(- 0^2 / 2)"
      ],
      "id": "80b71738-5e54-40ba-bfb8-699f1b44e041"
    },
    {
      "cell_type": "markdown",
      "metadata": {},
      "source": [
        "### 正規分布の確率密度関数とグラフ\n",
        "\n",
        "正規分布を描画するには,\n",
        "`stat_function()`関数の引数として`fun = dnorm`を指定する."
      ],
      "id": "477a41ff-6eca-4fd8-9f64-cdd072504837"
    },
    {
      "cell_type": "code",
      "execution_count": null,
      "metadata": {},
      "outputs": [],
      "source": [
        "ggplot(data = NULL) +\n",
        "  aes(xmin = -4,\n",
        "      xmax = 4) +\n",
        "  stat_function(fun = dnorm)"
      ],
      "id": "bccbd23a-35f3-46c3-8fb0-967781b80eb0"
    },
    {
      "cell_type": "markdown",
      "metadata": {},
      "source": [
        "### 正規分布の確率密度関数と平均\n",
        "\n",
        "標準正規分布を点線で, 平均1標準偏差1の正規分布を実線で描画し,\n",
        "比較を行う. 形は変えずに1だけ右に移動したグラフとなっていることがわかる."
      ],
      "id": "ed9ee89e-e79b-47ae-9422-cf8ce580106e"
    },
    {
      "cell_type": "code",
      "execution_count": null,
      "metadata": {},
      "outputs": [],
      "source": [
        "ggplot(data = NULL) +\n",
        "  aes(xmin = -4, \n",
        "      xmax = 5) +\n",
        "  stat_function(\n",
        "    fun      = dnorm, \n",
        "    linetype = \"dashed\") +\n",
        "  stat_function(\n",
        "    fun  = dnorm, \n",
        "    args = list(mean = 1))"
      ],
      "id": "5c00ad87-4f18-4388-a338-2b893e19bd1c"
    },
    {
      "cell_type": "markdown",
      "metadata": {},
      "source": [
        "### 正規分布の確率密度関数と標準偏差\n",
        "\n",
        "標準正規分布を点線で, 平均0標準偏差0.5の正規分布を実線で描画し,\n",
        "比較を行う. 位置は変えずによりシャープなグラフとなっていることがわかる."
      ],
      "id": "7640c63d-0ea5-43d5-a733-ae20b8628a2b"
    },
    {
      "cell_type": "code",
      "execution_count": null,
      "metadata": {},
      "outputs": [],
      "source": [
        "ggplot(data = NULL) +\n",
        "  aes(xmin = -4, \n",
        "      xmax = 4) +\n",
        "  stat_function(\n",
        "    fun      = dnorm, \n",
        "    linetype = \"dashed\") +\n",
        "  stat_function(\n",
        "    fun  = dnorm, \n",
        "    args = list(sd = 0.5))"
      ],
      "id": "1dae5181-ce0a-46e7-9c01-5bbe5eb64d31"
    },
    {
      "cell_type": "markdown",
      "metadata": {},
      "source": [
        "### $\\pm 2 \\sigma$ 区間の描画\n",
        "\n",
        "正規分布は $\\pm 1 \\sigma$ 区間に約68 $\\%$のデータが, $\\pm 2 \\sigma$\n",
        "区間に約95 $\\%$データが含まれる."
      ],
      "id": "2e3986d1-a4b5-4ba5-bd76-b04ad5b4d199"
    },
    {
      "cell_type": "code",
      "execution_count": null,
      "metadata": {},
      "outputs": [],
      "source": [
        "p_load(tibble)\n",
        "ggplot(data = NULL) +\n",
        "  aes(xmin = -4, \n",
        "      xmax = 4) +\n",
        "  stat_function(fun = dnorm) +\n",
        "  geom_ribbon(\n",
        "    data = tibble(\n",
        "      X = seq(-2, 2, len = 1000),\n",
        "      Y = dnorm(X)),\n",
        "    aes(x = X, ymin = 0, ymax = Y),\n",
        "    fill = \"#001E62\") +\n",
        "  geom_ribbon(\n",
        "    data = tibble(\n",
        "      X = seq(-1, 1, len = 1000),\n",
        "      Y = dnorm(X)),\n",
        "    aes(x = X, ymin = 0, ymax = Y),\n",
        "    fill = \"#C63527\")"
      ],
      "id": "f445cc04-ff02-48e6-808a-1099123365bf"
    },
    {
      "cell_type": "markdown",
      "metadata": {},
      "source": [
        "様々なパラメーターの正規分布を描画する."
      ],
      "id": "b3ff1ada-4489-45f1-80a7-1c8abce6e4c7"
    },
    {
      "cell_type": "code",
      "execution_count": null,
      "metadata": {},
      "outputs": [],
      "source": [
        "p_load(tidyr)\n",
        "par <- expand_grid(\n",
        "  mean = c(-2, 0, 2),\n",
        "  sd   = c(.5, 1, 2))\n",
        "ggplot(data = NULL) +\n",
        "  aes(xmin = -6,\n",
        "      xmax = 6) +\n",
        "  mapply(\n",
        "    function(mean, sd, co){\n",
        "      stat_function(\n",
        "        fun  = dnorm,\n",
        "        args = list(mean = mean,\n",
        "                    sd   = sd),\n",
        "        aes_q(colour = co))\n",
        "      },\n",
        "    par$mean, \n",
        "    par$sd, \n",
        "    sprintf(\"mean=%.0f sd=%.1f\", \n",
        "            par$mean, par$sd)\n",
        "    )"
      ],
      "id": "047a5a3f-5b5c-40dc-8f5c-ff623c7360a1"
    },
    {
      "cell_type": "markdown",
      "metadata": {},
      "source": [
        "### 正規分布の累積分布\n",
        "\n",
        "正規分布の累積分布を求めるには, `pnorm()`関数を利用する.\n",
        "$\\Phi(-1.96)$を求める."
      ],
      "id": "f7d15446-c528-4192-92d4-cd9dde40eb2a"
    },
    {
      "cell_type": "code",
      "execution_count": null,
      "metadata": {},
      "outputs": [],
      "source": [
        "pnorm(q = -1.96)"
      ],
      "id": "7a13f14b-f890-4c50-a301-6b3589ba33c9"
    },
    {
      "cell_type": "markdown",
      "metadata": {},
      "source": [
        "### 正規分布の累積分布関数とグラフ\n",
        "\n",
        "累積分布関数を描画するには`stat_function()`関数の引数で`fun = pnorm`を指定する."
      ],
      "id": "661dd7bd-3fa3-41ba-9e03-6542e1152df6"
    },
    {
      "cell_type": "code",
      "execution_count": null,
      "metadata": {},
      "outputs": [],
      "source": [
        "ggplot(data = NULL) +\n",
        "  aes(xmin = -3, \n",
        "      xmax = 3) +\n",
        "  stat_function(\n",
        "    fun = pnorm)"
      ],
      "id": "ecc6c82e-774a-47aa-a3ef-1c7f5ef0a538"
    },
    {
      "cell_type": "markdown",
      "metadata": {},
      "source": [
        "### 正規分布の確率点\n",
        "\n",
        "正規分布の確率点(累積分布関数の逆関数)を求めるには`qnorm()`関数を用いる.\n",
        "正規分布の平均を与えるには引数で`mean =`を指定し,\n",
        "標準偏差を与えるには`sd =`を指定する."
      ],
      "id": "1aa6d83d-d6b0-4ad0-9f69-5aa3c5f81c01"
    },
    {
      "cell_type": "code",
      "execution_count": null,
      "metadata": {},
      "outputs": [],
      "source": [
        "qnorm(p = 0.025, mean = 0, sd = 1)"
      ],
      "id": "80ed726c-bc18-4fe7-aee3-40a3fe053e8b"
    },
    {
      "cell_type": "markdown",
      "metadata": {},
      "source": [
        "## 一様分布\n",
        "\n",
        "### 一様分布の確率密度関数とグラフ\n",
        "\n",
        "一様分布を描画する. `dunif`関数で最小値と最大値を指定する."
      ],
      "id": "67d1925f-529b-41c1-83b4-bdfc78ff2aea"
    },
    {
      "cell_type": "code",
      "execution_count": null,
      "metadata": {},
      "outputs": [],
      "source": [
        "ggplot(data = NULL) +\n",
        "  aes(xmin = -4,\n",
        "      xmax = 4) +\n",
        "  stat_function(\n",
        "    fun  = dunif, \n",
        "    args = list(min = -3, \n",
        "                max = 3))"
      ],
      "id": "d10813a1-5eea-4af5-8080-603e04998657"
    },
    {
      "cell_type": "markdown",
      "metadata": {},
      "source": [
        "## ポアソン分布\n",
        "\n",
        "### ポアソン分布の確率密度関数とグラフ\n",
        "\n",
        "単位時間あたりの事象の平均回数が3のポアソン分布を描画する."
      ],
      "id": "7847e1a4-959a-4836-bbec-54737d60b8d0"
    },
    {
      "cell_type": "code",
      "execution_count": null,
      "metadata": {},
      "outputs": [],
      "source": [
        "ggplot(data = NULL) +\n",
        "  aes(xmin = 0, \n",
        "      xmax = 10) +\n",
        "  stat_function(\n",
        "    fun  = dpois,\n",
        "    n    = 11,\n",
        "    args = list(lambda = 3))"
      ],
      "id": "fb007aa0-d558-4dad-b227-45b6693fe5d7"
    },
    {
      "cell_type": "markdown",
      "metadata": {},
      "source": [
        "様々な$\\lambda$(文献によっては$\\mu$)のポアソン分布を描く."
      ],
      "id": "fb51ad35-49a3-46ca-baa0-d667d7660f91"
    },
    {
      "cell_type": "code",
      "execution_count": null,
      "metadata": {},
      "outputs": [],
      "source": [
        "par <- tibble(lambda = 1:9)\n",
        "ggplot(data = NULL) +\n",
        "  aes(xmin = 0, \n",
        "      xmax = 20) +\n",
        "  mapply(\n",
        "    function(lambda, co){\n",
        "      stat_function(\n",
        "        fun  = dpois,\n",
        "        n    = 21,\n",
        "        args = list(lambda = lambda),\n",
        "        aes_q(colour = co))\n",
        "      },\n",
        "    par$lambda,\n",
        "    sprintf(\"lambda=%.0f\",\n",
        "            par$lambda))"
      ],
      "id": "fe8b1e75-edf8-454b-af74-7b7cfec745cc"
    },
    {
      "cell_type": "markdown",
      "metadata": {},
      "source": [
        "## 負の二項分布\n",
        "\n",
        "### 負の二項分布の確率密度関数とグラフ\n",
        "\n",
        "成功回数3, 成功確率0.5の負の二項分布を描画する."
      ],
      "id": "513d70cf-15b8-41e6-8d78-814c0af573cb"
    },
    {
      "cell_type": "code",
      "execution_count": null,
      "metadata": {},
      "outputs": [],
      "source": [
        "ggplot(data = NULL) +\n",
        "  aes(xmin = 0,\n",
        "      xmax = 8) +\n",
        "  stat_function(\n",
        "    fun  = dnbinom,\n",
        "    n    = 9,\n",
        "    args = list(size = 3,\n",
        "                prob = .5))"
      ],
      "id": "82be1661-c1bd-4d88-8ebc-db87750409ff"
    },
    {
      "cell_type": "markdown",
      "metadata": {},
      "source": [
        "様々なパラメーターの負の二項分布を描画する."
      ],
      "id": "b4253480-9169-4d75-8cc6-ac00ada5592f"
    },
    {
      "cell_type": "code",
      "execution_count": null,
      "metadata": {},
      "outputs": [],
      "source": [
        "par <- expand_grid(\n",
        "  size = c(3, 5), \n",
        "  prob = c(.2, .5, .8))\n",
        "ggplot(data = NULL) +\n",
        "  aes(xmin = 0, \n",
        "      xmax = 15) +\n",
        "  mapply(\n",
        "    function(size, prob, co){\n",
        "      stat_function(\n",
        "        fun  = dnbinom, \n",
        "        n    = 16,\n",
        "        args = list(size = size,\n",
        "                    prob = prob),\n",
        "        aes_q(colour = co))\n",
        "      },\n",
        "    par$size,\n",
        "    par$prob,\n",
        "    sprintf(\"size=%.0f prob=%.1f\", \n",
        "            par$size, par$prob))"
      ],
      "id": "d00aa83e-0b23-4f6d-80bc-0da9d198c5f8"
    },
    {
      "cell_type": "markdown",
      "metadata": {},
      "source": [
        "## 指数分布\n",
        "\n",
        "### 指数分布の確率密度関数とグラフ\n",
        "\n",
        "$\\lambda$が1のときの指数分布を描画する."
      ],
      "id": "c09c730b-8074-4767-b5cb-3e6025ab7fe5"
    },
    {
      "cell_type": "code",
      "execution_count": null,
      "metadata": {},
      "outputs": [],
      "source": [
        "ggplot(data = NULL) +\n",
        "  aes(xmin = 0, \n",
        "      xmax = 5) +\n",
        "  stat_function(\n",
        "    fun  = dexp,\n",
        "    args = list(rate = 1))"
      ],
      "id": "842b9184-1f1b-429a-9578-5614dbd20513"
    },
    {
      "cell_type": "markdown",
      "metadata": {},
      "source": [
        "様々なパラメーターの指数分布を描画する."
      ],
      "id": "7c8be06c-21e0-45bc-a258-8d5e6053b156"
    },
    {
      "cell_type": "code",
      "execution_count": null,
      "metadata": {},
      "outputs": [],
      "source": [
        "par <- tibble(\n",
        "  rate = c(0.5, 1, 2))\n",
        "ggplot(data = NULL) +\n",
        "  aes(xmin = 0, \n",
        "      xmax = 7) +\n",
        "  mapply(\n",
        "    function(rate, co){\n",
        "      stat_function(\n",
        "        fun  = dexp,\n",
        "        n    = 8,\n",
        "        args = list(rate = rate),\n",
        "        aes_q(colour = co))\n",
        "      },\n",
        "    par$rate, \n",
        "    sprintf(\"rate=%.0f\",\n",
        "            par$rate))"
      ],
      "id": "6d9aa938-430c-4f31-bbd7-0b501731eaa5"
    },
    {
      "cell_type": "markdown",
      "metadata": {},
      "source": [
        "## ベータ分布\n",
        "\n",
        "### ベータ分布の確率密度関数とグラフ\n",
        "\n",
        "$\\alpha = 3$で$\\beta = 2$の時のベータ分布を描画する."
      ],
      "id": "18204f55-20ad-4d77-b717-4e600d194ffe"
    },
    {
      "cell_type": "code",
      "execution_count": null,
      "metadata": {},
      "outputs": [],
      "source": [
        "ggplot(data = NULL) +\n",
        "  aes(xmin = 0, \n",
        "      xmax = 1) +\n",
        "  stat_function(\n",
        "    fun  = dbeta, \n",
        "    args = list(shape1 = 3, \n",
        "                shape2 = 2))"
      ],
      "id": "a08f5321-2ab5-463a-b2d0-58c75ac102e1"
    },
    {
      "cell_type": "markdown",
      "metadata": {},
      "source": [
        "様々なパラメーターのベータ分布を描画する."
      ],
      "id": "9344c7c7-f08a-4e73-9d4f-296ed238faf0"
    },
    {
      "cell_type": "code",
      "execution_count": null,
      "metadata": {},
      "outputs": [],
      "source": [
        "par <- expand_grid(\n",
        "  shape1 = c(.5,  1, 3),\n",
        "  shape2 = c(.5, 1, 3))\n",
        "ggplot(data = NULL) +\n",
        "  aes(xmin = 0,\n",
        "      xmax = 1) +\n",
        "  mapply(\n",
        "    function(shape1, shape2, co){\n",
        "      stat_function(\n",
        "        fun  = dbeta,\n",
        "        args = list(shape1 = shape1, \n",
        "                    shape2 = shape2),\n",
        "        aes_q(colour = co))\n",
        "      },\n",
        "    par$shape1, par$shape2,\n",
        "    sprintf(\"shape1=%.1f shape2=%.1f\", \n",
        "            par$shape1, par$shape2))"
      ],
      "id": "ed172bdf-cfac-4d20-8843-d93aae6f76a4"
    },
    {
      "cell_type": "markdown",
      "metadata": {},
      "source": [
        "## ガンマ分布\n",
        "\n",
        "### ガンマ分布の確率密度関数とグラフ\n",
        "\n",
        "ガンマ分布を描画する."
      ],
      "id": "ffd80020-3ad5-4569-b16b-58d6fef6edce"
    },
    {
      "cell_type": "code",
      "execution_count": null,
      "metadata": {},
      "outputs": [],
      "source": [
        "ggplot(data = NULL) +\n",
        "  aes(xmin = 0,\n",
        "      xmax = 6) +\n",
        "  stat_function(\n",
        "    fun  = dgamma,\n",
        "    args = list(shape = 1,\n",
        "                rate  = 2))"
      ],
      "id": "6c054c15-271f-4b9f-b64c-a576384b01c7"
    },
    {
      "cell_type": "markdown",
      "metadata": {},
      "source": [
        "様々なパラメーターのガンマ分布を描画する."
      ],
      "id": "aa89ad95-bb0f-4a1d-ba9e-4c436aae75cf"
    },
    {
      "cell_type": "code",
      "execution_count": null,
      "metadata": {},
      "outputs": [],
      "source": [
        "par <- expand_grid(\n",
        "  shape = c(1, 3), \n",
        "  rate  = c(.5, 1, 3))\n",
        "ggplot(data = NULL) +\n",
        "  aes(xmin = 0, \n",
        "      xmax = 3) +\n",
        "  mapply(\n",
        "    function(shape, rate, co){\n",
        "      stat_function(\n",
        "        fun  = dgamma,\n",
        "        args = list(shape = shape,\n",
        "                    rate  = rate),\n",
        "        aes_q(colour = co))\n",
        "      },\n",
        "    par$shape, par$rate, \n",
        "    sprintf(\"shape=%.1f rate=%.1f\",\n",
        "            par$shape, par$rate))"
      ],
      "id": "99fff9ca-f640-4e3a-8a21-d0a496558258"
    },
    {
      "cell_type": "markdown",
      "metadata": {},
      "source": [
        "## $\\chi ^2$分布\n",
        "\n",
        "### $\\chi^2$分布の確率密度関数とグラフ\n",
        "\n",
        "$\\chi^2$分布を描画する."
      ],
      "id": "22cfa5e5-7514-4b7e-ac0f-352c3baad775"
    },
    {
      "cell_type": "code",
      "execution_count": null,
      "metadata": {},
      "outputs": [],
      "source": [
        "ggplot(data = NULL) +\n",
        "  aes(xmin = 0, \n",
        "      xmax = 6) +\n",
        "  stat_function(\n",
        "    fun  = dchisq, \n",
        "    args = list(df = 3))"
      ],
      "id": "8ced7c83-0000-438d-bf83-0661aa6e4523"
    },
    {
      "cell_type": "markdown",
      "metadata": {},
      "source": [
        "様々なパラメーターの$\\chi^2$分布を描画する."
      ],
      "id": "52d08136-a87e-4b6d-a884-14ce2b531727"
    },
    {
      "cell_type": "code",
      "execution_count": null,
      "metadata": {},
      "outputs": [],
      "source": [
        "par <- tibble(df = c(1, 3, 5))\n",
        "ggplot(data = NULL) +\n",
        "  aes(xmin = 0,\n",
        "      xmax = 10) +\n",
        "  mapply(\n",
        "    function(df, co){\n",
        "      stat_function(\n",
        "        fun  = dchisq,\n",
        "        args = list(df = df),\n",
        "        aes_q(colour = co))\n",
        "      },\n",
        "    par$df,\n",
        "    sprintf(\"df=%.1f\", par$df))"
      ],
      "id": "cee1d855-d8bd-4918-8a89-88a98089b23a"
    }
  ],
  "nbformat": 4,
  "nbformat_minor": 5,
  "metadata": {
    "kernelspec": {
      "display_name": "Python 3",
      "language": "python",
      "name": "python3"
    }
  }
}