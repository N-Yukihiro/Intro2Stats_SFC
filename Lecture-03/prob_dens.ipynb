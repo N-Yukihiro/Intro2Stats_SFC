{
  "cells": [
    {
      "cell_type": "markdown",
      "id": "80c4a411-e553-46e1-981d-8dde87a40aaa",
      "metadata": {},
      "source": [
        "# 確率変数と確率分布\n",
        "\n",
        "### 確率分布とRの関数\n",
        "\n",
        "Rにはデフォルトで様々な確率分布が関数として備わっている.\n",
        "正規分布なら`norm`, 二項分布なら`binom`を利用する.\n",
        "先頭に`d`がつけば確率密度, `p`がつけば累積分布, `q`がつけば確率点を求め,\n",
        "先頭に`r`がつけば指定の分布に従った乱数を生成する.\n",
        "引数として各分布に必要なパラメーターを指定する.\n",
        "\n",
        "例えば, 下記のコードは正規分布の累積分布を表す. 詳細は後述する."
      ]
    },
    {
      "cell_type": "code",
      "execution_count": null,
      "id": "40ffb1f8-7d9e-4009-bb60-1b05bad78731",
      "metadata": {},
      "outputs": [],
      "source": [
        "pnorm(q = 0, mean = 0, sd = 1)"
      ]
    },
    {
      "cell_type": "markdown",
      "id": "e7949ac4-714f-4d5a-948c-f884afb1a625",
      "metadata": {},
      "source": [
        "## 二項分布\n",
        "\n",
        "### 二項分布の確率質量\n",
        "\n",
        "二項分布の確率質量を求めるには`dbinom()`関数を用いる.\n",
        "コイン投げを例に説明すると,\n",
        "表と裏の出る確率が等しい(`prob = 0.5`)コイン`size`回投げたときに,\n",
        "表が`x`回出る確率を求める."
      ]
    },
    {
      "cell_type": "code",
      "execution_count": null,
      "id": "ac563694-eff6-434c-936f-30c48c608410",
      "metadata": {},
      "outputs": [],
      "source": [
        "dbinom(x = 1, size = 4, prob = 0.5)"
      ]
    },
    {
      "cell_type": "markdown",
      "id": "5f627b35-3fd7-4f75-b87a-481b3d5f5eb9",
      "metadata": {},
      "source": [
        "二項分布の定義に従って確率質量を求める.\n",
        "`choose()`関数を用いて組み合わせを求める."
      ]
    },
    {
      "cell_type": "code",
      "execution_count": null,
      "id": "84e8cf22-e9b1-4f21-b6a6-c86aa7e3079b",
      "metadata": {},
      "outputs": [],
      "source": [
        "choose(n = 4, k = 1) * 0.5^1 * (1 - 0.5)^(4 - 1)"
      ]
    },
    {
      "cell_type": "markdown",
      "id": "3f05966b-91cb-46cb-8cc2-7d0eb920fa72",
      "metadata": {},
      "source": [
        "表が出る確率を0から1までそれぞれ求める."
      ]
    },
    {
      "cell_type": "code",
      "execution_count": null,
      "id": "a38d4960-01a6-40ee-b193-d30df16152b1",
      "metadata": {},
      "outputs": [],
      "source": [
        "dbinom(x = 0:4, size = 4, prob = 0.5)"
      ]
    },
    {
      "cell_type": "markdown",
      "id": "6960444c-535e-4ff5-920a-2fc3ac444f68",
      "metadata": {},
      "source": [
        "確率質量の総和は1となる."
      ]
    },
    {
      "cell_type": "code",
      "execution_count": null,
      "id": "0905f37a-f8ce-4a23-8341-9af37e2bc299",
      "metadata": {},
      "outputs": [],
      "source": [
        "sum(dbinom(x = 0:4, size = 4, prob = 0.5))"
      ]
    },
    {
      "cell_type": "markdown",
      "id": "c64fbb3a-b12e-4882-9a20-ebe5d0169632",
      "metadata": {},
      "source": [
        "### 二項分布の累積分布\n",
        "\n",
        "二項分布の累積分布を求めるには`pbinom()`関数を用いる.\n",
        "表と裏の出る確率が等しい(`prob = 0.5`)コインを`size = 4`回投げたときに,\n",
        "表が`q = 1`回以下出る確率を求める."
      ]
    },
    {
      "cell_type": "code",
      "execution_count": null,
      "id": "5370eadc-50a2-4923-8ee6-a4de39797379",
      "metadata": {},
      "outputs": [],
      "source": [
        "pbinom(q = 1, size = 4, prob = 0.5)"
      ]
    },
    {
      "cell_type": "markdown",
      "id": "9b7855d6-0ae6-44f3-b55a-3a8143a4c4b3",
      "metadata": {},
      "source": [
        "累積分布は実際に確率質量関数の総和であることがわかる."
      ]
    },
    {
      "cell_type": "code",
      "execution_count": null,
      "id": "5bd52033-48df-4e40-987e-b36d63230641",
      "metadata": {},
      "outputs": [],
      "source": [
        "sum(dbinom(x = 0:1, size = 4, prob = 0.5))"
      ]
    },
    {
      "cell_type": "markdown",
      "id": "14ec1923-2564-43b2-b7b7-e755c649c9d9",
      "metadata": {},
      "source": [
        "### 二項分布の累積分布を用いた例\n",
        "\n",
        "0.5%の確率でウルトラレアのキャラクターが出るガチャを100回引いて,\n",
        "2体以上ウルトラレアを得る確率は次のように求める."
      ]
    },
    {
      "cell_type": "code",
      "execution_count": null,
      "id": "4a6dadd5-d72a-42a9-8448-7966050aa927",
      "metadata": {},
      "outputs": [],
      "source": [
        "1 - pbinom(q = 1, size = 100, prob = 0.005)"
      ]
    },
    {
      "cell_type": "markdown",
      "id": "7a13b0bf-65e9-454f-93b7-7de9d0249677",
      "metadata": {},
      "source": [
        "引数で`lower.tail = FALSE`と指定すれば上側確率($P[X > x]$)が求められる."
      ]
    },
    {
      "cell_type": "code",
      "execution_count": null,
      "id": "fb05de58-0afb-4727-a41d-5899a7dfd641",
      "metadata": {},
      "outputs": [],
      "source": [
        "pbinom(q = 1, size = 100, prob = 0.005, lower.tail = FALSE)"
      ]
    },
    {
      "cell_type": "markdown",
      "id": "afe45372-98bd-4a86-88b5-3cc16dcbe84d",
      "metadata": {},
      "source": [
        "### 二項分布とグラフ1\n",
        "\n",
        "0.5%の確率でウルトラレアのキャラクターが出るガチャを100回引いて,\n",
        "ウルトラレアのキャラクターを引く回数をグラフにする.\n",
        "確率分布関数から理論値を描画するには,\n",
        "`ggplot2::stat_function()`関数を利用する. `fun =`で確率分布を指定し,\n",
        "`args =`で確率分布を求める関数の引数を`list()`関数を用いて指定する."
      ]
    },
    {
      "cell_type": "code",
      "execution_count": null,
      "id": "57f0e730-bdcb-422f-bdff-541cd2cf401e",
      "metadata": {},
      "outputs": [],
      "source": [
        "library(pacman)\n",
        "pacman::p_load(ggplot2)\n",
        "ggplot() +\n",
        "  xlim(0, 5) +\n",
        "  stat_function(\n",
        "    fun   = dbinom,\n",
        "    n     = 6,\n",
        "    args  = list(size = 100,\n",
        "                 prob = 0.005),\n",
        "    na.rm = TRUE,\n",
        "    geom  = \"bar\"\n",
        "    )"
      ]
    },
    {
      "cell_type": "markdown",
      "id": "844e0ae6-73aa-4682-b68d-acf1805991a6",
      "metadata": {},
      "source": [
        "コインを10回投げ, 10回表が向いた時にコインが表を向く確率を描画する."
      ]
    },
    {
      "cell_type": "code",
      "execution_count": null,
      "id": "e67587c8-ffef-4f5e-adf6-aff137a6592f",
      "metadata": {},
      "outputs": [],
      "source": [
        "ggplot() +\n",
        "  xlim(0, 1) +\n",
        "  stat_function(\n",
        "    fun  = dbinom,\n",
        "    args = list(\n",
        "      x    = 10,\n",
        "      size = 10\n",
        "    )\n",
        "  )"
      ]
    },
    {
      "cell_type": "markdown",
      "id": "ba9a02d7-a613-4aba-9bba-467e00553b45",
      "metadata": {},
      "source": [
        "## 正規分布\n",
        "\n",
        "### 正規分布の確率密度\n",
        "\n",
        "正規分布の確率密度を求めるには, `dnorm()`関数を利用する.\n",
        "`*norm()`関数ではデフォルトで, 標準正規分布が指定されている."
      ]
    },
    {
      "cell_type": "code",
      "execution_count": null,
      "id": "f0560270-b5b3-4d18-813a-94af01a50a3c",
      "metadata": {},
      "outputs": [],
      "source": [
        "dnorm(x = 0)"
      ]
    },
    {
      "cell_type": "markdown",
      "id": "fa6deeb6-cfa4-4ec9-b6b9-e51075e90f63",
      "metadata": {},
      "source": [
        "標準正規分布の確率密度関数の定義に従って計算を行う."
      ]
    },
    {
      "cell_type": "code",
      "execution_count": null,
      "id": "f058b4e5-79d7-4890-9635-0b6b0164bc7b",
      "metadata": {},
      "outputs": [],
      "source": [
        "1 / sqrt(2 * pi) * exp(- 0^2 / 2)"
      ]
    },
    {
      "cell_type": "markdown",
      "id": "5e63bdf8-8fb9-4f24-bf8f-67aeb8128e40",
      "metadata": {},
      "source": [
        "### 正規分布の確率密度関数とグラフ\n",
        "\n",
        "正規分布を描画するには,\n",
        "`stat_function()`関数の引数として`fun = dnorm`を指定する."
      ]
    },
    {
      "cell_type": "code",
      "execution_count": null,
      "id": "d5047cfb-71cf-47d3-b8dd-29a3a17ca026",
      "metadata": {},
      "outputs": [],
      "source": [
        "ggplot() +\n",
        "  xlim(-4, 4) +\n",
        "  geom_function(\n",
        "    fun = dnorm\n",
        "  )"
      ]
    },
    {
      "cell_type": "markdown",
      "id": "056f969c-c68e-4053-94e3-2c185e9c7185",
      "metadata": {},
      "source": [
        "### 正規分布の確率密度関数と平均\n",
        "\n",
        "標準正規分布を点線で, 平均1標準偏差1の正規分布を実線で描画し,\n",
        "比較を行う. 形は変えずに1だけ右に移動したグラフとなっていることがわかる."
      ]
    },
    {
      "cell_type": "code",
      "execution_count": null,
      "id": "67ee9ff4-8379-4ade-a9a2-4add8f8c9542",
      "metadata": {},
      "outputs": [],
      "source": [
        "ggplot() +\n",
        "  xlim(-4, 5) +\n",
        "  geom_function(\n",
        "    fun      = dnorm,\n",
        "    linetype = \"dashed\"\n",
        "  ) +\n",
        "  geom_function(\n",
        "    fun  = dnorm,\n",
        "    args = list(mean = 1)\n",
        "  )"
      ]
    },
    {
      "cell_type": "markdown",
      "id": "3d83570a-bb05-453f-b500-3386c6e0c784",
      "metadata": {},
      "source": [
        "### 正規分布の確率密度関数と標準偏差\n",
        "\n",
        "標準正規分布を点線で, 平均0標準偏差0.5の正規分布を実線で描画し,\n",
        "比較を行う. 位置は変えずによりシャープなグラフとなっていることがわかる."
      ]
    },
    {
      "cell_type": "code",
      "execution_count": null,
      "id": "71df2542-f351-4a3e-9333-a5480dd713a7",
      "metadata": {},
      "outputs": [],
      "source": [
        "ggplot() +\n",
        "  xlim(-4, 4) +\n",
        "  geom_function(\n",
        "    fun      = dnorm,\n",
        "    linetype = \"dashed\"\n",
        "  ) +\n",
        "  geom_function(\n",
        "    fun  = dnorm,\n",
        "    args = list(sd = 0.5)\n",
        "  )"
      ]
    },
    {
      "cell_type": "markdown",
      "id": "251048be-6b71-4bcc-81ce-a04ccd274942",
      "metadata": {},
      "source": [
        "### $\\pm 2 \\sigma$ 区間の描画\n",
        "\n",
        "正規分布は $\\pm 1 \\sigma$ 区間に約68 $\\%$のデータが, $\\pm 2 \\sigma$\n",
        "区間に約95 $\\%$データが含まれる."
      ]
    },
    {
      "cell_type": "code",
      "execution_count": null,
      "id": "50f9cecc-32c9-49cf-8155-0be75051a754",
      "metadata": {},
      "outputs": [],
      "source": [
        "p_load(tibble)\n",
        "ggplot(data = NULL) +\n",
        "  xlim(-4, 4) +\n",
        "  geom_function(fun = dnorm) +\n",
        "  geom_ribbon(\n",
        "    data = tibble(\n",
        "      X = seq(-2, 2, len = 1000),\n",
        "      Y = dnorm(X)),\n",
        "    aes(x = X, ymin = 0, ymax = Y),\n",
        "    fill = \"#001E62\") +\n",
        "  geom_ribbon(\n",
        "    data = tibble(\n",
        "      X = seq(-1, 1,len = 1000),\n",
        "      Y = dnorm(X)),\n",
        "    aes(x = X, ymin = 0, ymax = Y),\n",
        "    fill = \"#C63527\")"
      ]
    },
    {
      "cell_type": "markdown",
      "id": "b98481f1-beee-44ea-b804-cbf9031bec10",
      "metadata": {},
      "source": [
        "様々なパラメーターの正規分布を描画する."
      ]
    },
    {
      "cell_type": "code",
      "execution_count": null,
      "id": "951af9c2-4ada-4a92-9854-8d01e9280d42",
      "metadata": {},
      "outputs": [],
      "source": [
        "p_load(tidyr)\n",
        "par <- expand_grid(\n",
        "  mean = c(-2, 0, 2),\n",
        "  sd   = c(.5, 1, 2)\n",
        ")\n",
        "ggplot() +\n",
        "  xlim(-6, 6) +\n",
        "  mapply(\n",
        "    \\(mean, sd, colour)\n",
        "    geom_function(\n",
        "      fun  = dnorm,\n",
        "      args = list(\n",
        "        mean = mean,\n",
        "        sd = sd\n",
        "      ),\n",
        "      aes(colour = colour)\n",
        "    ),\n",
        "    par$mean,\n",
        "    par$sd,\n",
        "    sprintf(\n",
        "      \"mean=%.0f sd=%.1f\",\n",
        "      par$mean,  par$sd\n",
        "    )\n",
        "  )"
      ]
    },
    {
      "cell_type": "markdown",
      "id": "f17abdf2-c369-4e79-9d35-531fd4e04f29",
      "metadata": {},
      "source": [
        "### 正規分布の累積分布\n",
        "\n",
        "正規分布の累積分布を求めるには, `pnorm()`関数を利用する.\n",
        "$\\Phi(-1.96)$を求める."
      ]
    },
    {
      "cell_type": "code",
      "execution_count": null,
      "id": "b62d5c84-00d2-4bd8-8e11-e45afef057a4",
      "metadata": {},
      "outputs": [],
      "source": [
        "pnorm(q = -1.96)"
      ]
    },
    {
      "cell_type": "markdown",
      "id": "f4d06426-07d4-44c9-b9ad-f31ced05aa56",
      "metadata": {},
      "source": [
        "### 定義に従って標準正規分布の累積分布を求める(Advanced)\n",
        "\n",
        "まず, 標準正規分布の確率密度関数を関数として定義する.\n",
        "`function(x){}`で関数を定義する. `(x)`が定義した関数が取る引数である.\n",
        "`{}`内に関数の定義を記述する."
      ]
    },
    {
      "cell_type": "code",
      "execution_count": null,
      "id": "2ef96fa4-2b09-4953-ad91-97e43bfe8b52",
      "metadata": {},
      "outputs": [],
      "source": [
        " f <- function(x){\n",
        "   1 / sqrt(2 * pi) * exp(-x^2 / 2)\n",
        " } "
      ]
    },
    {
      "cell_type": "markdown",
      "id": "0407e512-8979-45f1-9062-59c636c24305",
      "metadata": {},
      "source": [
        "次に,\n",
        "数値積分を行う`integrate()`関数を利用して積分を行い累積分布を求める.\n",
        "第2引数で下端, 第3引数で上端を指定する.\n",
        "定義した関数`f()`の`x`を指定している."
      ]
    },
    {
      "cell_type": "code",
      "execution_count": null,
      "id": "169f7955-0ed4-4f95-8c08-70dc0f93347d",
      "metadata": {},
      "outputs": [],
      "source": [
        "integrate(f, -1.96, 1.96)"
      ]
    },
    {
      "cell_type": "markdown",
      "id": "7a6e0ab3-e67b-4210-8817-b93d2b8cc725",
      "metadata": {},
      "source": [
        "### 数値積分(Advanced)\n",
        "\n",
        "1変数関数の積分の近似解を求める.\n",
        "リーマン積分の考え方に準じて数値積分を行う関数を作成する."
      ]
    },
    {
      "cell_type": "code",
      "execution_count": null,
      "id": "ec99a6e8-11b8-452c-ac0b-6201158acf6d",
      "metadata": {},
      "outputs": [],
      "source": [
        "approx_integration <- \n",
        "  function(fun, from, to, length = 1000) {\n",
        "    x_range <- seq(from       = from,\n",
        "                   to         = to,\n",
        "                   length.out = length)\n",
        "    delta   <- x_range[2] - x_range[1]\n",
        "\n",
        "    result <- 0\n",
        "    for(i in 1:(length - 1)) {\n",
        "      result <- result + fun(x_range[i]) * delta\n",
        "    }\n",
        "    return(result)\n",
        "  }"
      ]
    },
    {
      "cell_type": "markdown",
      "id": "6ddf4162-702d-42da-a342-23c688e75afe",
      "metadata": {},
      "source": [
        "### 数値積分の実行(Advanced)\n",
        "\n",
        "積分する区間を等間隔に分け、関数を実行する."
      ]
    },
    {
      "cell_type": "code",
      "execution_count": null,
      "id": "0467ed5c-6b5c-4d57-b165-ceeb5098f57a",
      "metadata": {},
      "outputs": [],
      "source": [
        "approx_integration(fun    = f, \n",
        "                   from   = -1.96,\n",
        "                   to     = 1.96,\n",
        "                   length = 1000)"
      ]
    },
    {
      "cell_type": "markdown",
      "id": "5bc612ea-5072-4d51-bf72-6834c92bab9b",
      "metadata": {},
      "source": [
        "### 正規分布の累積分布関数とグラフ\n",
        "\n",
        "累積分布関数を描画するには`stat_function()`関数の引数で`fun = pnorm`を指定する."
      ]
    },
    {
      "cell_type": "code",
      "execution_count": null,
      "id": "64847733-65cc-45ea-99a2-321f0d3c2c9b",
      "metadata": {},
      "outputs": [],
      "source": [
        "ggplot() +\n",
        "  xlim(-3, 3) +\n",
        "  geom_function(\n",
        "    fun = pnorm\n",
        "  )"
      ]
    },
    {
      "cell_type": "markdown",
      "id": "db6ec411-20f8-4faa-ae37-7d1dade7366a",
      "metadata": {},
      "source": [
        "### 正規分布の確率点\n",
        "\n",
        "正規分布の確率点(累積分布関数の逆関数)を求めるには`qnorm()`関数を用いる.\n",
        "正規分布の平均を与えるには引数で`mean =`を指定し,\n",
        "標準偏差を与えるには`sd =`を指定する."
      ]
    },
    {
      "cell_type": "code",
      "execution_count": null,
      "id": "8f4fbf82-451a-4877-b649-c4ae8a6489c2",
      "metadata": {},
      "outputs": [],
      "source": [
        "qnorm(p = 0.025, mean = 0, sd = 1)"
      ]
    },
    {
      "cell_type": "markdown",
      "id": "994c9277-0fb1-4b9a-97d2-7944d91bf9fc",
      "metadata": {},
      "source": [
        "### 確率密度関数と確率点\n",
        "\n",
        "正規分布の確率密度関数のグラフに確率点を求めて線を引く.\n",
        "まず`dnorm()`関数で標準正規分布のグラフを描き,\n",
        "その上に`geom_vline()`関数で縦線を引く.\n",
        "引数の`xintercept`で確率点を求める`qnorm()`関数を利用する."
      ]
    },
    {
      "cell_type": "code",
      "execution_count": null,
      "id": "40078cd8-5323-4ab2-9ad1-1ce5c535bdc9",
      "metadata": {},
      "outputs": [],
      "source": [
        "ggplot() +\n",
        "  xlim(-3, 3) +\n",
        "  geom_function(\n",
        "    fun = dnorm) +\n",
        "  geom_vline(\n",
        "    xintercept = qnorm(p = 0.025),\n",
        "    colour     = \"red\")"
      ]
    },
    {
      "cell_type": "markdown",
      "id": "4fb16368-b4af-46da-be7a-a3ac4efb1158",
      "metadata": {},
      "source": [
        "## 一様分布\n",
        "\n",
        "### 一様分布の確率密度関数とグラフ\n",
        "\n",
        "一様分布を描画する. `dunif`関数で最小値と最大値を指定する."
      ]
    },
    {
      "cell_type": "code",
      "execution_count": null,
      "id": "1fe80a14-3bfc-4953-b60b-9f3cc30bec39",
      "metadata": {},
      "outputs": [],
      "source": [
        "ggplot() +\n",
        "  xlim(-4, 4) +\n",
        "  geom_function(\n",
        "    fun  = dunif, \n",
        "    args = list(min = -3, \n",
        "                max = 3))"
      ]
    },
    {
      "cell_type": "markdown",
      "id": "bcc9e7b5-5877-426d-9798-7b07ce398c2d",
      "metadata": {},
      "source": [
        "## ポアソン分布\n",
        "\n",
        "### ポアソン分布の確率密度関数とグラフ\n",
        "\n",
        "単位時間あたりの事象の平均回数が3のポアソン分布を描画する."
      ]
    },
    {
      "cell_type": "code",
      "execution_count": null,
      "id": "667e872a-097b-47a5-926b-d5134b5958f0",
      "metadata": {},
      "outputs": [],
      "source": [
        "ggplot() +\n",
        "  xlim(0, 10) +\n",
        "  stat_function(\n",
        "    fun  = dpois,\n",
        "    n    = 11,\n",
        "    args = list(lambda = 3))"
      ]
    },
    {
      "cell_type": "markdown",
      "id": "a234ef29-9eb9-416b-a594-6b5057223f66",
      "metadata": {},
      "source": [
        "様々な$\\lambda$(文献によっては$\\mu$)のポアソン分布を描く."
      ]
    },
    {
      "cell_type": "code",
      "execution_count": null,
      "id": "f3edaf4d-8387-4be9-a410-46c02dcedff1",
      "metadata": {},
      "outputs": [],
      "source": [
        "par <- tibble(lambda = 1:9)\n",
        "ggplot() +\n",
        "  xlim(0, 20) +\n",
        "  mapply(\n",
        "    \\(lambda, colour) {\n",
        "      geom_function(\n",
        "        fun  = dpois,\n",
        "        n    = 21,\n",
        "        args = list(lambda = lambda),\n",
        "        aes(colour = colour)\n",
        "      )\n",
        "    },\n",
        "    par$lambda,\n",
        "    sprintf(\"lambda=%.0f\", par$lambda)\n",
        "  )"
      ]
    },
    {
      "cell_type": "markdown",
      "id": "8b1d8382-7975-43ba-9bc6-1f1399502a6a",
      "metadata": {},
      "source": [
        "## 負の二項分布\n",
        "\n",
        "### 負の二項分布の確率密度関数とグラフ\n",
        "\n",
        "成功回数3, 成功確率0.5の負の二項分布を描画する."
      ]
    },
    {
      "cell_type": "code",
      "execution_count": null,
      "id": "0fe6d8cb-899d-4ec6-b508-49375f363386",
      "metadata": {},
      "outputs": [],
      "source": [
        "ggplot() +\n",
        "  xlim(0, 8) +\n",
        "  geom_function(\n",
        "    fun  = dnbinom,\n",
        "    n    = 9,\n",
        "    args = list(size = 3,\n",
        "                prob = .5))"
      ]
    },
    {
      "cell_type": "markdown",
      "id": "c2d28335-fdc4-4ac6-ad49-6bb72f9fa5cc",
      "metadata": {},
      "source": [
        "様々なパラメーターの負の二項分布を描画する."
      ]
    },
    {
      "cell_type": "code",
      "execution_count": null,
      "id": "f6345150-21dd-415e-a283-40b81b291e50",
      "metadata": {},
      "outputs": [],
      "source": [
        "par <- expand_grid(\n",
        "  size = c(3, 5), \n",
        "  prob = c(.2, .5, .8))\n",
        "ggplot() +\n",
        "  xlim(0, 15) +\n",
        "  mapply(\n",
        "    \\(size, prob, colour) {\n",
        "      geom_function(\n",
        "        fun  = dnbinom, \n",
        "        n    = 16,\n",
        "        args = list(size = size,\n",
        "                    prob = prob),\n",
        "        aes(colour = colour))\n",
        "      },\n",
        "    par$size, par$prob,\n",
        "    sprintf(\"size=%.0f prob=%.1f\", \n",
        "            par$size,  par$prob)\n",
        "  )"
      ]
    },
    {
      "cell_type": "markdown",
      "id": "c43dc301-1370-4457-8435-e31f0848b58e",
      "metadata": {},
      "source": [
        "## 指数分布\n",
        "\n",
        "### 指数分布の確率密度関数とグラフ\n",
        "\n",
        "$\\lambda$が1のときの指数分布を描画する."
      ]
    },
    {
      "cell_type": "code",
      "execution_count": null,
      "id": "51b92cba-af1e-4196-823f-eb02ae5f1d8e",
      "metadata": {},
      "outputs": [],
      "source": [
        "ggplot() +\n",
        "  xlim(0, 5) +\n",
        "  geom_function(\n",
        "    fun  = dexp,\n",
        "    args = list(rate = 1))"
      ]
    },
    {
      "cell_type": "markdown",
      "id": "8f083f0f-2ce6-4b22-b8bb-842a72b51ddb",
      "metadata": {},
      "source": [
        "様々なパラメーターの指数分布を描画する."
      ]
    },
    {
      "cell_type": "code",
      "execution_count": null,
      "id": "9d942514-3d3c-4fc0-afe1-b713457df318",
      "metadata": {},
      "outputs": [],
      "source": [
        "par <- tibble(\n",
        "  rate = c(0.5, 1, 2))\n",
        "ggplot() +\n",
        "  xlim(0,  7) +\n",
        "  mapply(\n",
        "    \\(rate, colour) {\n",
        "      geom_function(\n",
        "        fun  = dexp,\n",
        "        n    = 8,\n",
        "        args = list(rate = rate),\n",
        "        aes(colour = colour))\n",
        "      },\n",
        "    par$rate, \n",
        "    sprintf(\"rate=%.0f\",\n",
        "            par$rate)\n",
        "  )"
      ]
    },
    {
      "cell_type": "markdown",
      "id": "90c60f23-930a-41c4-9cf7-2acba89cc0be",
      "metadata": {},
      "source": [
        "## ベータ分布\n",
        "\n",
        "### ベータ分布の確率密度関数とグラフ\n",
        "\n",
        "$\\alpha = 3$で$\\beta = 2$の時のベータ分布を描画する."
      ]
    },
    {
      "cell_type": "code",
      "execution_count": null,
      "id": "bca1cf01-18e3-4c79-ac3b-a746b85269c9",
      "metadata": {},
      "outputs": [],
      "source": [
        "ggplot() +\n",
        "  xlim(0, 1) +\n",
        "  geom_function(\n",
        "    fun  = dbeta, \n",
        "    args = list(shape1 = 3, \n",
        "                shape2 = 2))"
      ]
    },
    {
      "cell_type": "markdown",
      "id": "ba59ead0-b925-4049-94b9-32468a030126",
      "metadata": {},
      "source": [
        "様々なパラメーターのベータ分布を描画する."
      ]
    },
    {
      "cell_type": "code",
      "execution_count": null,
      "id": "4c6044db-fc8f-427a-b1f4-3e57f3642283",
      "metadata": {},
      "outputs": [],
      "source": [
        "par <- expand_grid(\n",
        "  shape1 = c(.5, 1, 3),\n",
        "  shape2 = c(.5, 1, 3))\n",
        "ggplot() +\n",
        "  xlim(0, 1) +\n",
        "  mapply(\n",
        "    \\(shape1, shape2, colour) {\n",
        "      geom_function(\n",
        "        fun  = dbeta,\n",
        "        args = list(shape1 = shape1, \n",
        "                    shape2 = shape2),\n",
        "        aes(colour = colour))\n",
        "      },\n",
        "    par$shape1, par$shape2,\n",
        "    sprintf(\"shape1=%.1f shape2=%.1f\", \n",
        "            par$shape1,  par$shape2)\n",
        "  )"
      ]
    },
    {
      "cell_type": "markdown",
      "id": "1359e6cd-db3d-486c-802a-1cdd862c15bd",
      "metadata": {},
      "source": [
        "## ガンマ分布\n",
        "\n",
        "### ガンマ分布の確率密度関数とグラフ\n",
        "\n",
        "ガンマ分布を描画する."
      ]
    },
    {
      "cell_type": "code",
      "execution_count": null,
      "id": "48f35da4-dca2-4b55-8a13-9c10c6960c99",
      "metadata": {},
      "outputs": [],
      "source": [
        "ggplot() +\n",
        "  xlim(0, 6) +\n",
        "  geom_function(\n",
        "    fun  = dgamma,\n",
        "    args = list(shape = 1,\n",
        "                rate  = 2))"
      ]
    },
    {
      "cell_type": "markdown",
      "id": "de033f64-df66-4e53-8a5d-bf050843b2d6",
      "metadata": {},
      "source": [
        "様々なパラメーターのガンマ分布を描画する."
      ]
    },
    {
      "cell_type": "code",
      "execution_count": null,
      "id": "b016b329-b2f6-4122-9a69-fa1bd11b164a",
      "metadata": {},
      "outputs": [],
      "source": [
        "par <- expand_grid(\n",
        "  shape = c(1, 3), \n",
        "  rate  = c(.5, 1, 3))\n",
        "ggplot() +\n",
        "  xlim(0, 3) +\n",
        "  mapply(\n",
        "    \\(shape, rate, colour){\n",
        "      geom_function(\n",
        "        fun  = dgamma,\n",
        "        args = list(shape = shape,\n",
        "                    rate  = rate),\n",
        "        aes(colour = colour))\n",
        "      },\n",
        "    par$shape, par$rate, \n",
        "    sprintf(\"shape=%.1f rate=%.1f\",\n",
        "            par$shape,  par$rate)\n",
        "  )"
      ]
    },
    {
      "cell_type": "markdown",
      "id": "d362546e-ec79-46a5-a95c-ed25d4137604",
      "metadata": {},
      "source": [
        "## $\\chi ^2$分布\n",
        "\n",
        "### $\\chi^2$分布の確率密度関数とグラフ\n",
        "\n",
        "$\\chi^2$分布を描画する."
      ]
    },
    {
      "cell_type": "code",
      "execution_count": null,
      "id": "1a5efaf4-5b4b-478e-912b-5d87610fd700",
      "metadata": {},
      "outputs": [],
      "source": [
        "ggplot() +\n",
        "  xlim(0, 6) +\n",
        "  geom_function(\n",
        "    fun  = dchisq, \n",
        "    args = list(df = 3))"
      ]
    },
    {
      "cell_type": "markdown",
      "id": "f3b10612-e501-4f3f-806c-0d74c7cc1926",
      "metadata": {},
      "source": [
        "様々なパラメーターの$\\chi^2$分布を描画する."
      ]
    },
    {
      "cell_type": "code",
      "execution_count": null,
      "id": "4219fde5-2b4f-42df-810c-fe0e41337840",
      "metadata": {},
      "outputs": [],
      "source": [
        "par <- tibble(df = c(1, 3, 5))\n",
        "ggplot(data = NULL) +\n",
        "  xlim(0, 10) +\n",
        "  mapply(\n",
        "    \\(df, colour){\n",
        "      geom_function(\n",
        "        fun  = dchisq,\n",
        "        args = list(df = df),\n",
        "        aes(colour = colour))\n",
        "      },\n",
        "    par$df,\n",
        "    sprintf(\"df=%.1f\", par$df)\n",
        "  )"
      ]
    }
  ],
  "metadata": {
    "kernelspec": {
      "display_name": "Python 3",
      "language": "python",
      "name": "python3"
    }
  },
  "nbformat": 4,
  "nbformat_minor": 5
}
