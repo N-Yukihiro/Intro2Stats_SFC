{
  "cells": [
    {
      "cell_type": "markdown",
      "id": "7422169f-2b15-4e4d-ae50-7cc36519b1da",
      "metadata": {},
      "source": [
        "# 母集団と標本\n",
        "\n",
        "# R演習\n",
        "\n",
        "## 平均・分散・標準偏差\n",
        "\n",
        "### 利用するデータ1\n",
        "\n",
        "引き続き`palmerpenguins`のデータを利用する"
      ]
    },
    {
      "cell_type": "code",
      "execution_count": null,
      "id": "c0bc9086-520a-4d23-8b08-fe31c05a5b9d",
      "metadata": {},
      "outputs": [],
      "source": [
        "library(pacman)\n",
        "p_load(palmerpenguins)\n",
        "str(penguins)"
      ]
    },
    {
      "cell_type": "markdown",
      "id": "9a4cca24-2850-4846-a8eb-582036d709da",
      "metadata": {},
      "source": [
        "### 算術平均\n",
        "\n",
        "算術平均を算出する関数として`mean()`関数がある.\n",
        "`penguins`のデータには欠測値があるので, `na.rm = TRUE`を引数に追加する.\n",
        "\n",
        "データフレームを直接引数として取ることはできない.\n",
        "小数点以下の値を丸めるには`round()`関数を利用する.\n",
        "第2引数で小数点以下何桁表示するかを与える."
      ]
    },
    {
      "cell_type": "code",
      "execution_count": null,
      "id": "4de4eabd-b092-4b8f-bd26-bc36010de32c",
      "metadata": {},
      "outputs": [],
      "source": [
        "mean(penguins$bill_length_mm, na.rm = TRUE)"
      ]
    },
    {
      "cell_type": "markdown",
      "id": "70ab24e8-d441-4ef6-83fe-54a69575bb14",
      "metadata": {},
      "source": [
        "### `summary()`関数を用いて平均を求める\n",
        "\n",
        "`summary()`関数でも算術平均を知ることができる.\n",
        "`summary()`関数はベクトルでもデータフレームでも良い."
      ]
    },
    {
      "cell_type": "code",
      "execution_count": null,
      "id": "e61e9e89-2292-4e1a-87fb-f9e28b533111",
      "metadata": {},
      "outputs": [],
      "source": [
        "summary(penguins$bill_length_mm)"
      ]
    },
    {
      "cell_type": "markdown",
      "id": "323f7103-da0a-4f36-8d0d-63e97067c92b",
      "metadata": {},
      "source": [
        "### ヒストグラムに算術平均を加える\n",
        "\n",
        "`ggplot2`で縦線を加えるにはグラフに`geom_vline()`を追加する.\n",
        "`xintercept`でx軸のどこに線を引くのかを与える. ここでは,\n",
        "算術平均を計算し, 与えている.\n",
        "線は`linetype`で指定できるため点線を指定し,\n",
        "`colour`で線の色を赤に指定した."
      ]
    },
    {
      "cell_type": "code",
      "execution_count": null,
      "id": "9811343a-3ea5-4b27-be11-5ecb507d1901",
      "metadata": {},
      "outputs": [],
      "source": [
        "p_load(ggplot2)\n",
        "ggplot(penguins) +\n",
        "  aes(x = bill_length_mm) +\n",
        "  geom_histogram() +\n",
        "  geom_vline(\n",
        "    xintercept = \n",
        "      mean(penguins$bill_length_mm,\n",
        "           na.rm = TRUE\n",
        "      ),\n",
        "    linetype = \"dashed\",\n",
        "    colour   = \"red\"\n",
        "  )"
      ]
    },
    {
      "cell_type": "markdown",
      "id": "f1720439-5da2-464b-90e7-b49f10db1f92",
      "metadata": {},
      "source": [
        "### 算術平均からの偏差の和\n",
        "\n",
        "算術平均からの偏差の和が0になることを検証する. 数値計算上,\n",
        "割り切れない場合はごく小さい値が算出されることもあることに注意."
      ]
    },
    {
      "cell_type": "code",
      "execution_count": null,
      "id": "5bc9fbf8-53c1-49a0-a875-1718da2e0a22",
      "metadata": {},
      "outputs": [],
      "source": [
        "sum(\n",
        "  penguins$bill_length_mm -\n",
        "    mean(penguins$bill_length_mm,\n",
        "         na.rm = TRUE\n",
        "    ),\n",
        "  na.rm = TRUE\n",
        ")"
      ]
    },
    {
      "cell_type": "markdown",
      "id": "fe0a5c46-1b04-4d38-83c1-a1c04002e404",
      "metadata": {},
      "source": [
        "### 標本分散\n",
        "\n",
        "標本分散を求めるために各データから平均を引いて2乗し, その平均を取る.\n",
        "Rにデフォルトで搭載されている`var()`関数は標本分散ではない(以降扱う不偏分散($n$ではなく,\n",
        "$n-1$で除す))."
      ]
    },
    {
      "cell_type": "code",
      "execution_count": null,
      "id": "2c326340-6eff-4fb8-9926-fec5b3922567",
      "metadata": {},
      "outputs": [],
      "source": [
        "mean(\n",
        "  (penguins$bill_length_mm -\n",
        "    mean(penguins$bill_length_mm,\n",
        "      na.rm = TRUE\n",
        "    )\n",
        "  )^2,\n",
        "  na.rm = TRUE\n",
        ")"
      ]
    },
    {
      "cell_type": "markdown",
      "id": "72319f90-b657-463f-bc72-ce5581fbc642",
      "metadata": {},
      "source": [
        "### 不偏分散\n",
        "\n",
        "不偏分散を求めるには`var()`関数を用いる."
      ]
    },
    {
      "cell_type": "code",
      "execution_count": null,
      "id": "988ec9f4-0a62-4987-9804-8c202b90858a",
      "metadata": {},
      "outputs": [],
      "source": [
        "var(penguins$bill_length_mm,\n",
        "    na.rm = TRUE)"
      ]
    },
    {
      "cell_type": "markdown",
      "id": "081ae79b-3e1a-491c-b2a3-81457339a652",
      "metadata": {},
      "source": [
        "### 標本分散を見やすくコーディングする(応用)\n",
        "\n",
        "パイプ演算子を利用するとコードが読みやすくなる."
      ]
    },
    {
      "cell_type": "code",
      "execution_count": null,
      "id": "eb13ea63-6536-48ab-b1d8-46fbb9cca194",
      "metadata": {},
      "outputs": [],
      "source": [
        "p_load(magrittr)\n",
        "penguins %$%\n",
        "  subtract(\n",
        "    bill_length_mm,\n",
        "    bill_length_mm |>\n",
        "      mean(na.rm = TRUE)\n",
        "  ) |>\n",
        "  raise_to_power(2) |>\n",
        "  mean(na.rm = TRUE)"
      ]
    },
    {
      "cell_type": "markdown",
      "id": "07246974-b0b7-4e5f-b2af-060102134fc7",
      "metadata": {},
      "source": [
        "### 標本分散の関数化\n",
        "\n",
        "以降利用しやすいように標本分散を関数にする."
      ]
    },
    {
      "cell_type": "code",
      "execution_count": null,
      "id": "a1cccf9c-3802-47dd-8562-323f8fc54b80",
      "metadata": {},
      "outputs": [],
      "source": [
        "sample_var <- function(x) {\n",
        "  subtract(\n",
        "    x,\n",
        "    x |>\n",
        "      mean(na.rm = TRUE)\n",
        "  ) |>\n",
        "    raise_to_power(2) |>\n",
        "    mean(na.rm = TRUE)\n",
        "}\n",
        "sample_var(penguins$bill_length_mm)"
      ]
    },
    {
      "cell_type": "markdown",
      "id": "fe2cd147-d961-49bc-996b-bc985148b7ed",
      "metadata": {},
      "source": [
        "### 標本標準偏差\n",
        "\n",
        "標本標準偏差を求めるために各データから平均を引いた値の平方平均(標本分散)の平方根を求める.\n",
        "Rにデフォルトで搭載されている`sd()`関数は標本標準偏差ではない(以降扱う不偏分散の平方根)."
      ]
    },
    {
      "cell_type": "code",
      "execution_count": null,
      "id": "d4f28c3b-d42e-4598-8ac7-24e9daeb9160",
      "metadata": {},
      "outputs": [],
      "source": [
        "sqrt(\n",
        "  mean(\n",
        "    (penguins$bill_length_mm - \n",
        "      mean(penguins$bill_length_mm,\n",
        "           na.rm = TRUE\n",
        "           )\n",
        "      )^2,\n",
        "      na.rm = TRUE\n",
        "  )\n",
        ")"
      ]
    },
    {
      "cell_type": "markdown",
      "id": "508f4d5b-0346-45c8-86d9-65f55c70d440",
      "metadata": {},
      "source": [
        "### 不偏分散の平方根\n",
        "\n",
        "不偏分散の平方根を求めるには`sd()`関数を利用する.\n",
        "不偏分散の平方根は不偏性を持っていないことに注意."
      ]
    },
    {
      "cell_type": "code",
      "execution_count": null,
      "id": "e4800c07-491b-4a83-9b9e-47bbb9fa64aa",
      "metadata": {},
      "outputs": [],
      "source": [
        "sd(penguins$bill_length_mm,\n",
        "   na.rm = TRUE)"
      ]
    },
    {
      "cell_type": "markdown",
      "id": "e591ada3-d756-4a0b-8bde-441f0420696d",
      "metadata": {},
      "source": [
        "### 標本標準偏差を見やすくコーディングする(応用)\n",
        "\n",
        "パイプ演算子を利用するとコードが読みやすくなる."
      ]
    },
    {
      "cell_type": "code",
      "execution_count": null,
      "id": "04d4a7eb-1277-478a-be67-bf649d3a455e",
      "metadata": {},
      "outputs": [],
      "source": [
        "penguins %$% \n",
        "  subtract(bill_length_mm,\n",
        "           bill_length_mm |> \n",
        "             mean(na.rm = TRUE)) |> \n",
        "  raise_to_power(2) |> \n",
        "  mean(na.rm = TRUE) |> \n",
        "  sqrt()"
      ]
    },
    {
      "cell_type": "markdown",
      "id": "131104cc-144d-4ee1-94ab-6f124da34db4",
      "metadata": {},
      "source": [
        "### 標本標準偏差の関数化\n",
        "\n",
        "以降利用しやすいように標本標準偏差を関数にする."
      ]
    },
    {
      "cell_type": "code",
      "execution_count": null,
      "id": "326c547d-79e4-4462-b3bc-73cb7e972673",
      "metadata": {},
      "outputs": [],
      "source": [
        "sample_sd <- function(x){\n",
        "  subtract(x,\n",
        "           x |> \n",
        "             mean(na.rm = TRUE)) |> \n",
        "    raise_to_power(2) |>  \n",
        "    mean(na.rm = TRUE) |> \n",
        "    sqrt()\n",
        "}\n",
        "sample_sd(penguins$bill_length_mm)"
      ]
    },
    {
      "cell_type": "markdown",
      "id": "4c8fdbdc-8a8b-4efd-8dbc-f745350be10d",
      "metadata": {},
      "source": [
        "### データの標準化\n",
        "\n",
        "データを標準化するには`scale()`関数を利用する. 出力結果は少し厄介."
      ]
    },
    {
      "cell_type": "code",
      "execution_count": null,
      "id": "7bb67a7a-0bef-4630-9d09-94e5b4b5ea49",
      "metadata": {},
      "outputs": [],
      "source": [
        "head(scale(penguins$bill_length_mm))"
      ]
    },
    {
      "cell_type": "markdown",
      "id": "3a78e428-bf06-446a-8980-135eced80cee",
      "metadata": {},
      "source": [
        "## 大数の弱法則と中心極限定理\n",
        "\n",
        "### 利用するデータ2\n",
        "\n",
        "今回はggplot2パッケージに含まれる`diamonds`というデータセットを利用する.\n",
        "約54,000行10列からなるデータであり, ダイヤモンドの価格(\\$)やカラット,\n",
        "カットのクオリティなどの属性値が含まれる.\n",
        "\n",
        "このデータを母集団に見立てて, サンプリングの学習を行う.\n",
        "母集団がやや小さいことやサンプルサイズや標本数は計算の都合上やや小さいことに注意.\n",
        "まずは`diamonds`データの列名を`names()`関数を利用して確認する."
      ]
    },
    {
      "cell_type": "code",
      "execution_count": null,
      "id": "2e953920-76f9-41f2-8ee9-2bd989d893b7",
      "metadata": {},
      "outputs": [],
      "source": [
        "names(diamonds)"
      ]
    },
    {
      "cell_type": "markdown",
      "id": "962bf078-1a5a-497b-89dc-27d033858f14",
      "metadata": {},
      "source": [
        "### データの先頭6行確認する\n",
        "\n",
        "`head()`関数を利用して`diamonds`データの先頭6行を確認する."
      ]
    },
    {
      "cell_type": "code",
      "execution_count": null,
      "id": "9d5c53a5-dbf6-41d8-9f8c-264162e878da",
      "metadata": {},
      "outputs": [],
      "source": [
        "head(diamonds)"
      ]
    },
    {
      "cell_type": "markdown",
      "id": "5adfc6e3-3ce4-4414-9bd6-03bafdc636db",
      "metadata": {},
      "source": [
        "### データ構造を確認する\n",
        "\n",
        "`dplyr`パッケージの`glimpse()`関数を利用して`diamonds`データのデータ構造を確認する.\n",
        "行数や列数, 各列のデータ型などを把握する."
      ]
    },
    {
      "cell_type": "code",
      "execution_count": null,
      "id": "7fe77fc8-06ae-43f4-9962-a479a3045a47",
      "metadata": {},
      "outputs": [],
      "source": [
        "p_load(dplyr)\n",
        "dplyr::glimpse(diamonds)"
      ]
    },
    {
      "cell_type": "markdown",
      "id": "a717458b-5664-46c6-8c70-7a54e1171f86",
      "metadata": {},
      "source": [
        "### データの概要を把握する\n",
        "\n",
        "`summary()`関数を利用してデータの概要を把握する."
      ]
    },
    {
      "cell_type": "code",
      "execution_count": null,
      "id": "5e59b28a-f29b-4805-b474-be45d6e76cff",
      "metadata": {},
      "outputs": [],
      "source": [
        "summary(diamonds)"
      ]
    },
    {
      "cell_type": "markdown",
      "id": "9bb7d0bd-bef7-401b-b1b0-384bcee8d676",
      "metadata": {},
      "source": [
        "### データ内の分散・標準偏差を求める\n",
        "\n",
        "今回は`diamonds`データを母集団とみなすので, データの標本分散を求め,\n",
        "母分散とみなす. 列は`price`を利用する.\n",
        "後で利用するために母平均もオブジェクトに格納する."
      ]
    },
    {
      "cell_type": "code",
      "execution_count": null,
      "id": "9173f77f-4499-4a19-bf3e-4465680e2295",
      "metadata": {},
      "outputs": [],
      "source": [
        "var_pop  <- sample_var(diamonds$price)\n",
        "var_pop"
      ]
    },
    {
      "cell_type": "markdown",
      "id": "7e82f7fd-00b7-4cfa-ae67-6be2f1a8800e",
      "metadata": {},
      "source": [
        "### データのヒストグラムを描画する\n",
        "\n",
        "`diamonds`データの`price`の列のヒストグラムを描画する.\n",
        "価格や年収のデータに多い右に裾の長いデータになっている."
      ]
    },
    {
      "cell_type": "code",
      "execution_count": null,
      "id": "8c5ce76f-3cef-4f07-9b5c-20ad78188342",
      "metadata": {},
      "outputs": [],
      "source": [
        "ggplot(data = diamonds) +\n",
        "  aes(x = price) +\n",
        "  geom_histogram()"
      ]
    },
    {
      "cell_type": "markdown",
      "id": "e5bb2a23-1435-4a33-a5d6-46cde9a7441c",
      "metadata": {},
      "source": [
        "### データの無作為抽出\n",
        "\n",
        "`dplyr::slice_sample()`関数を利用してデータの無作為抽出を行う.\n",
        "`diamonds`データからサイズ100のサンプルを非復元抽出(`replace = FALSE`)し,\n",
        "`ss`というオブジェクトに格納する.\n",
        "\n",
        "無作為抽出の際に疑似乱数を利用しているので,\n",
        "乱数の種を指定して結果を再現できるようにする.\n",
        "`withr`パッケージの`with_seed()`関数を利用する.\n",
        "第1引数で任意の乱数の種を指定し, 第2引数に実行する関数."
      ]
    },
    {
      "cell_type": "code",
      "execution_count": null,
      "id": "d614eca1-1d9f-43d6-bf3c-742043dc3558",
      "metadata": {},
      "outputs": [],
      "source": [
        "p_load(withr)\n",
        "ss <- withr::with_seed(\n",
        "  2718,\n",
        "  dplyr::slice_sample(\n",
        "    diamonds, \n",
        "    n       = 100, \n",
        "    replace = FALSE\n",
        "    )\n",
        "  )"
      ]
    },
    {
      "cell_type": "markdown",
      "id": "372418df-8fa4-4f1f-923a-c8be3781bcc3",
      "metadata": {},
      "source": [
        "### 標本の概要を確認\n",
        "\n",
        "`summary()`関数を利用して標本の概要を把握する."
      ]
    },
    {
      "cell_type": "code",
      "execution_count": null,
      "id": "34cc3378-7e26-4e3a-852d-fd48e9ad7aae",
      "metadata": {},
      "outputs": [],
      "source": [
        "summary(ss)"
      ]
    },
    {
      "cell_type": "markdown",
      "id": "839bf7ab-10c0-4294-b6ed-e2389fed2d6f",
      "metadata": {},
      "source": [
        "### 標本の平均, 分散を母集団のそれと比較する\n",
        "\n",
        "標本平均, 標本分散をそれぞれ母平均, 母分散と比較する."
      ]
    },
    {
      "cell_type": "code",
      "execution_count": null,
      "id": "dd11da9c-5cec-48f0-af46-5802d34ca4d5",
      "metadata": {},
      "outputs": [],
      "source": [
        "mean(ss$price)"
      ]
    },
    {
      "cell_type": "markdown",
      "id": "e5897e2c-05b7-4588-b660-3d32e4c34635",
      "metadata": {},
      "source": [
        "### 標本データのヒストグラム\n",
        "\n",
        "標本データもヒストグラムを描画する. 形状は似ているが,\n",
        "母集団を再現するには至らない."
      ]
    },
    {
      "cell_type": "code",
      "execution_count": null,
      "id": "d5d4f743-bec4-4ea2-9f79-b1ad0bee226d",
      "metadata": {},
      "outputs": [],
      "source": [
        "ggplot(data = ss) +\n",
        "  aes(x = price) +\n",
        "  geom_histogram()"
      ]
    },
    {
      "cell_type": "markdown",
      "id": "7df08b2b-d8b2-47d6-b23f-e04a0023be30",
      "metadata": {},
      "source": [
        "### 標本の数を増やす\n",
        "\n",
        "サイズ500のサンプルを1000個(サンプル数1000)作成する.\n",
        "繰り返し行う処理などは`tidyverse`パッケージに含まれている`purrr`パッケージを利用すると便利.\n",
        "`purrr::map()`関数は, 第1引数で指定したリストに対して,\n",
        "第2引数以降で書かれた関数を実行してくれる.\n",
        "ここでは第2引数で`~`を使って無名関数を定義している. 結果は`List`形式."
      ]
    },
    {
      "cell_type": "code",
      "execution_count": null,
      "id": "98f7240b-ef89-4ff7-8a34-98c9c6a2ec01",
      "metadata": {},
      "outputs": [],
      "source": [
        "p_load(purrr)\n",
        "ms <- with_seed(\n",
        "  2718,\n",
        "  purrr::map(\n",
        "    1:1000,\n",
        "    \\(x) slice_sample(\n",
        "      diamonds,\n",
        "      n       = 500,\n",
        "      replace = FALSE\n",
        "      )\n",
        "    )\n",
        "  )"
      ]
    },
    {
      "cell_type": "markdown",
      "id": "598a98a5-12af-4eed-98f7-c5eee7a57f62",
      "metadata": {},
      "source": [
        "### 各標本の標本平均を求める\n",
        "\n",
        "`dplyr::summarise()`関数はデータを要約する関数.\n",
        "`sample_mean`という列名を作成し,\n",
        "そこに`ms`オブジェクトの中の各`price`の値の平均を格納する.\n",
        "最後に結果のリストを`list_rbind()`関数を利用して,\n",
        "各標本の平均を1つのデータフレームに縦方向に整理する."
      ]
    },
    {
      "cell_type": "code",
      "execution_count": null,
      "id": "5651faf4-9c66-4c84-9eec-e0898c837912",
      "metadata": {},
      "outputs": [],
      "source": [
        "ms_mean <- purrr::map(\n",
        "  ms, \n",
        "  dplyr::summarise,\n",
        "  sample_mean = mean(price)\n",
        "  ) |> \n",
        "  list_rbind()"
      ]
    },
    {
      "cell_type": "markdown",
      "id": "635dac6c-1b25-4fdd-83d7-6e35bb1a65f9",
      "metadata": {},
      "source": [
        "### 標本平均の平均を求める\n",
        "\n",
        "標本平均の平均を求め, 母平均と比較する.\n",
        "標本平均の標本平均値は母平均ととても近い値になる.\n",
        "サンプルサイズをさらに増やすと標本平均は母平均と一致する."
      ]
    },
    {
      "cell_type": "code",
      "execution_count": null,
      "id": "3b60877a-b25b-4cf5-9bb8-f767959c387d",
      "metadata": {},
      "outputs": [],
      "source": [
        "mean(ms_mean$sample_mean)"
      ]
    },
    {
      "cell_type": "markdown",
      "id": "a8570d2c-aaa1-409b-88a3-c21bda3cbdec",
      "metadata": {},
      "source": [
        "### 標本平均の分散\n",
        "\n",
        "標本平均の分散は$\\frac{\\sigma^2}{n}$と近似する."
      ]
    },
    {
      "cell_type": "code",
      "execution_count": null,
      "id": "8374d2b6-18fd-4a7a-8cfb-5b04e2a696cf",
      "metadata": {},
      "outputs": [],
      "source": [
        "sample_var(ms_mean$sample_mean)"
      ]
    },
    {
      "cell_type": "markdown",
      "id": "3f91063a-6aa8-42bc-99a7-d7bb65153f40",
      "metadata": {},
      "source": [
        "### 標本平均のヒストグラム\n",
        "\n",
        "標本平均の分布は平均$\\mu$,\n",
        "分散$\\frac{\\sigma^2}{n}$の正規分布で近似できる.\n",
        "中心極限定理は元の分布を問わない."
      ]
    },
    {
      "cell_type": "code",
      "execution_count": null,
      "id": "4505db58-7f85-48e0-809f-a1c5fce41a52",
      "metadata": {},
      "outputs": [],
      "source": [
        "ggplot(data = ms_mean) +\n",
        "  aes(x = sample_mean) +\n",
        "  geom_histogram(\n",
        "    aes(y = after_stat(density)),\n",
        "    fill  = \"blue\",\n",
        "    alpha = 0.2\n",
        "    ) +\n",
        "  geom_density(fill  = \"blue\") +\n",
        "  geom_vline(xintercept = mean_pop) +\n",
        "  stat_function(\n",
        "    fun  = dnorm,\n",
        "    args = list(\n",
        "      mean = mean_pop,\n",
        "      sd   = sqrt(var_pop / 500)),\n",
        "    size = 2\n",
        "    )"
      ]
    },
    {
      "cell_type": "markdown",
      "id": "eba5c057-3050-47e8-8480-2ff4638d39d0",
      "metadata": {},
      "source": [
        "## 信頼区間\n",
        "\n",
        "### 各サンプルの平均と95%信頼区間を計算する\n",
        "\n",
        "`map()`関数と`list_rbind()`関数を利用して,\n",
        "各サンプルの平均と95%信頼区間を計算し, データフレームへ変換する.\n",
        "`.id = **`を指定することで,\n",
        "`rerun()`関数で作成したリストの各リストの名前を`**`という名前の列に追加する.\n",
        "ここでは各リストに通し番号が振られているので,\n",
        "通し番号を`number`という列に格納している."
      ]
    },
    {
      "cell_type": "code",
      "execution_count": null,
      "id": "56990dad-1c6f-4d9b-89fd-aa069fe76b75",
      "metadata": {},
      "outputs": [],
      "source": [
        "ms_ci <- map(\n",
        "  ms,\n",
        "  summarise,\n",
        "  lowerCI = mean(price) + \n",
        "    qnorm(0.025) * sqrt(var_pop / length(price)),\n",
        "  mean    = mean(price),\n",
        "  upperCI = mean(price) + \n",
        "    qnorm(0.975) * sqrt(var_pop / length(price))) |> \n",
        "  list_rbind(names_to = \"number\")"
      ]
    },
    {
      "cell_type": "markdown",
      "id": "8bd41e67-704e-49f7-add0-94aac9a23964",
      "metadata": {},
      "source": [
        "### 信頼区間とパラメーター\n",
        "\n",
        "信頼区間にパラメーターが含まれるかどうかを1か0かで判定する.\n",
        "データフレームで列を操作する(新しい列を作る,\n",
        "列の中身を変更するetc…)場合には,\n",
        "`dplyr`パッケージの`mutate()`関数を利用する.\n",
        "第1引数に利用するデータフレーム,\n",
        "第2引数に`** =`の`**`で列の名前を指定し, `=`の後で操作方法を指定する.\n",
        "ここでは, さらに`dplyr`パッケージの`if_else()`関数を利用して,\n",
        "信頼区間の下限より大きく, 上限より小さい場合に1,\n",
        "そうでない場合に0を格納するように指示している."
      ]
    },
    {
      "cell_type": "code",
      "execution_count": null,
      "id": "3f5dccae-daa2-4ba5-8286-14e2eb8ae513",
      "metadata": {},
      "outputs": [],
      "source": [
        "ci_TF <- dplyr::mutate(\n",
        "  ms_ci, \n",
        "  TF = lowerCI <= mean_pop & upperCI >= mean_pop\n",
        "  )"
      ]
    },
    {
      "cell_type": "markdown",
      "id": "199bda1e-28d4-4444-98e3-1cbe870036fe",
      "metadata": {},
      "source": [
        "### 信頼区間にパラメーターが含まれる割合\n",
        "\n",
        "先程作成した, TFの平均を計算する.\n",
        "この平均は信頼区間にパラメーターが含まれる割合である.\n",
        "実際に95%に近い値が算出されている."
      ]
    },
    {
      "cell_type": "code",
      "execution_count": null,
      "id": "5a5ad2fb-7f30-4431-b5ff-6c856c6eeeef",
      "metadata": {},
      "outputs": [],
      "source": [
        "summarise(ci_TF, mean(TF))"
      ]
    },
    {
      "cell_type": "markdown",
      "id": "a81df28d-2642-488c-acec-992768668c4d",
      "metadata": {},
      "source": [
        "### \n",
        "\n",
        "標本をすべて表示するのは多すぎるので, 先頭の100標本だけ表示する.\n",
        "`geom_errobar()`関数は信頼区間などを示す際に利用できる.\n",
        "`aes()`内で下限を`ymin`で, 上限を`ymax`で与える."
      ]
    },
    {
      "cell_type": "code",
      "execution_count": null,
      "id": "8fa8c119-4271-43bc-8f8e-effaf7eeb84b",
      "metadata": {},
      "outputs": [],
      "source": [
        "ggplot(data = head(ci_TF, 100)) +\n",
        "  aes(x      = number, \n",
        "      y      = mean,\n",
        "      colour = TF) +\n",
        "  geom_point() +\n",
        "  geom_errorbar(\n",
        "    aes(ymin = lowerCI,\n",
        "        ymax = upperCI), \n",
        "    width = .2) +\n",
        "  geom_hline(\n",
        "    yintercept = mean_pop, \n",
        "    linetype   = \"dashed\", \n",
        "    colour     = \"black\")"
      ]
    }
  ],
  "metadata": {
    "kernelspec": {
      "display_name": "Python 3",
      "language": "python",
      "name": "python3"
    }
  },
  "nbformat": 4,
  "nbformat_minor": 5
}
