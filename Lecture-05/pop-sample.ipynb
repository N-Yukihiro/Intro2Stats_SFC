{
  "cells": [
    {
      "cell_type": "markdown",
      "metadata": {},
      "source": [
        "# 母集団と標本\n",
        "\n",
        "# R演習\n",
        "\n",
        "### コードの入手方法\n",
        "\n",
        "前回R演習を行わなかったものは前回のスライドからcloneを実行する.\n",
        "Githubが更新された場合は次のコードを実行する."
      ],
      "id": "b3b7b76e-83b6-491a-b549-a39385fc1613"
    },
    {
      "cell_type": "code",
      "execution_count": null,
      "metadata": {},
      "outputs": [],
      "source": [
        "# install.packages(\"pacman\")\n",
        "library(pacman)\n",
        "p_load(git2r)\n",
        "git2r::pull()"
      ],
      "id": "9420aae9-aabd-4311-9673-47fe44e48920"
    },
    {
      "cell_type": "markdown",
      "metadata": {},
      "source": [
        "## 平均・分散・標準偏差\n",
        "\n",
        "### 利用するデータ1\n",
        "\n",
        "まずはアヤメの花のデータである`iris`を用いる."
      ],
      "id": "df5258dc-4639-4ea3-bc0e-02c92ef041a2"
    },
    {
      "cell_type": "code",
      "execution_count": null,
      "metadata": {},
      "outputs": [],
      "source": [
        "str(iris)"
      ],
      "id": "6c11c433-81d4-4db6-a501-674b7782d239"
    },
    {
      "cell_type": "markdown",
      "metadata": {},
      "source": [
        "### 算術平均\n",
        "\n",
        "算術平均を算出する関数として`mean()`関数がある.\n",
        "データフレームを直接引数として取ることはできない.\n",
        "小数点以下の値を丸めるには`round()`関数を利用する.\n",
        "第2引数で小数点以下何桁表示するかを与える."
      ],
      "id": "5ad6910a-be11-4b62-95d3-622125be7d37"
    },
    {
      "cell_type": "code",
      "execution_count": null,
      "metadata": {},
      "outputs": [],
      "source": [
        "mean(iris$Sepal.Length)\n",
        "round(mean(iris$Sepal.Length), 2)"
      ],
      "id": "b285de96-198c-4a0a-902b-004c43c56013"
    },
    {
      "cell_type": "markdown",
      "metadata": {},
      "source": [
        "### `summary()`関数を用いて平均を求める\n",
        "\n",
        "`summary()`関数でも算術平均を知ることができる.\n",
        "`summary()`関数はベクトルでもデータフレームでも良い."
      ],
      "id": "ffc56d2c-91b3-431a-be79-373947cf9e06"
    },
    {
      "cell_type": "code",
      "execution_count": null,
      "metadata": {},
      "outputs": [],
      "source": [
        "summary(iris$Sepal.Length)\n",
        "summary(iris)"
      ],
      "id": "b9dad967-e9b8-491f-b80e-fb4675dd6a2e"
    },
    {
      "cell_type": "markdown",
      "metadata": {},
      "source": [
        "### ヒストグラムに算術平均を加える\n",
        "\n",
        "`ggplot2`で縦線を加えるにはグラフに`geom_vline()`を追加する.\n",
        "`xintercept`でx軸のどこに線を引くのかを与える. ここでは,\n",
        "算術平均を計算し, 与えている.\n",
        "線は`linetype`で指定できるため点線を指定し,\n",
        "`colour`で線の色を赤に指定した."
      ],
      "id": "23bffaf7-765c-46c9-9d24-6b8fdcc407cb"
    },
    {
      "cell_type": "code",
      "execution_count": null,
      "metadata": {},
      "outputs": [],
      "source": [
        "p_load(ggplot2)\n",
        "ggplot(iris) +\n",
        "  aes(x = Sepal.Length) +\n",
        "  geom_histogram() +\n",
        "  geom_vline(\n",
        "    xintercept = \n",
        "      mean(iris$Sepal.Length),\n",
        "    linetype = \"dashed\",\n",
        "    colour   = \"red\")"
      ],
      "id": "4ab8ff1e-4e89-468e-8b67-7535e7795781"
    },
    {
      "cell_type": "markdown",
      "metadata": {},
      "source": [
        "### 算術平均からの偏差の和\n",
        "\n",
        "算術平均からの偏差の和が0になることを検証する. 数値計算上,\n",
        "割り切れない場合はごく小さい値が算出されることもあることに注意."
      ],
      "id": "aa96493f-ea7a-4491-9b09-69b7afc9ae7e"
    },
    {
      "cell_type": "code",
      "execution_count": null,
      "metadata": {},
      "outputs": [],
      "source": [
        "sum(iris$Sepal.Length - mean(iris$Sepal.Length))"
      ],
      "id": "a97f1749-a5db-4095-8f98-03f32b7a89d4"
    },
    {
      "cell_type": "markdown",
      "metadata": {},
      "source": [
        "### 標本分散\n",
        "\n",
        "標本分散を求めるために各データから平均を引いて2乗し, その平均を取る.\n",
        "Rにデフォルトで搭載されている`var()`関数は標本分散ではない(以降扱う不偏分散($n$ではなく,\n",
        "$n-1$で除す))."
      ],
      "id": "541575a3-871b-48e1-95ea-c6744785a154"
    },
    {
      "cell_type": "code",
      "execution_count": null,
      "metadata": {},
      "outputs": [],
      "source": [
        "mean((iris$Sepal.Length - mean(iris$Sepal.Length))^2)"
      ],
      "id": "3d901d76-842a-4fb4-bba8-c9c7bfcf269a"
    },
    {
      "cell_type": "markdown",
      "metadata": {},
      "source": [
        "### 不偏分散\n",
        "\n",
        "不偏分散を求めるには`var()`関数を用いる."
      ],
      "id": "b8fd2377-2189-41e3-adcd-1dd399717092"
    },
    {
      "cell_type": "code",
      "execution_count": null,
      "metadata": {},
      "outputs": [],
      "source": [
        "var(iris$Sepal.Length)"
      ],
      "id": "0789ab17-7ba4-4873-b27b-2fe017675e40"
    },
    {
      "cell_type": "markdown",
      "metadata": {},
      "source": [
        "### 標本分散を見やすくコーディングする(応用)\n",
        "\n",
        "パイプ演算子を利用するとコードが読みやすくなる."
      ],
      "id": "06eadf3d-87cf-4467-8069-cd5bc05f8613"
    },
    {
      "cell_type": "code",
      "execution_count": null,
      "metadata": {},
      "outputs": [],
      "source": [
        "p_load(magrittr)\n",
        "iris %$% \n",
        "  subtract(Sepal.Length,\n",
        "           Sepal.Length |> \n",
        "             mean()) |> \n",
        "  raise_to_power(2) |> \n",
        "  mean()"
      ],
      "id": "d2a3fd87-9b8d-4f34-8fe1-62aee73a26a2"
    },
    {
      "cell_type": "markdown",
      "metadata": {},
      "source": [
        "### 標本分散の関数化\n",
        "\n",
        "以降利用しやすいように標本分散を関数にする."
      ],
      "id": "927247bc-2f82-47f6-9a50-1c6f398722eb"
    },
    {
      "cell_type": "code",
      "execution_count": null,
      "metadata": {},
      "outputs": [],
      "source": [
        "svar <- function(x){\n",
        "  subtract(x,\n",
        "           x |> \n",
        "             mean()) |> \n",
        "    raise_to_power(2) |> \n",
        "    mean()\n",
        "}\n",
        "svar(iris$Sepal.Length)"
      ],
      "id": "3fcbffcf-f5c3-494f-8d28-92015cabdff2"
    },
    {
      "cell_type": "markdown",
      "metadata": {},
      "source": [
        "### 標本標準偏差\n",
        "\n",
        "標本標準偏差を求めるために各データから平均を引いた値の平方平均(標本分散)の平方根を求める.\n",
        "Rにデフォルトで搭載されている`sd()`関数は標本標準偏差ではない(以降扱う不偏分散の平方根)."
      ],
      "id": "22609820-21b0-4893-a86d-0706bf34415c"
    },
    {
      "cell_type": "code",
      "execution_count": null,
      "metadata": {},
      "outputs": [],
      "source": [
        "sqrt(mean((iris$Sepal.Length - mean(iris$Sepal.Length))^2))"
      ],
      "id": "b631e467-062d-4a12-819a-3467200bbaf4"
    },
    {
      "cell_type": "markdown",
      "metadata": {},
      "source": [
        "### 不偏分散の平方根\n",
        "\n",
        "不偏分散の平方根を求めるには`sd()`関数を利用する.\n",
        "不偏分散の平方根は不偏性を持っていないことに注意."
      ],
      "id": "0bd21c22-7119-4b39-9e83-5f704d1f4650"
    },
    {
      "cell_type": "code",
      "execution_count": null,
      "metadata": {},
      "outputs": [],
      "source": [
        "sd(iris$Sepal.Length)"
      ],
      "id": "fef4cdbe-bc09-4913-8183-5a664cd224fa"
    },
    {
      "cell_type": "markdown",
      "metadata": {},
      "source": [
        "### 標本標準偏差を見やすくコーディングする(応用)\n",
        "\n",
        "パイプ演算子を利用するとコードが読みやすくなる."
      ],
      "id": "1b270b36-b8f1-4d5d-bffa-3b8b00b95a01"
    },
    {
      "cell_type": "code",
      "execution_count": null,
      "metadata": {},
      "outputs": [],
      "source": [
        "iris %$% \n",
        "  subtract(Sepal.Length,\n",
        "           Sepal.Length |> \n",
        "             mean()) |> \n",
        "  raise_to_power(2) |> \n",
        "  mean() |> \n",
        "  sqrt()"
      ],
      "id": "f8d6f97e-6794-4551-9319-47850cf19622"
    },
    {
      "cell_type": "markdown",
      "metadata": {},
      "source": [
        "### 標本標準偏差の関数化\n",
        "\n",
        "以降利用しやすいように標本標準偏差を関数にする."
      ],
      "id": "1bd6a3cb-200b-44c0-8807-927148f3d0de"
    },
    {
      "cell_type": "code",
      "execution_count": null,
      "metadata": {},
      "outputs": [],
      "source": [
        "ssd <- function(x){\n",
        "  subtract(x,\n",
        "           x |> \n",
        "             mean()) |> \n",
        "    raise_to_power(2) |> \n",
        "    mean() |> \n",
        "    sqrt()\n",
        "}\n",
        "ssd(iris$Sepal.Length)"
      ],
      "id": "2e240f2b-ff3d-4110-b536-1b5fa5f1e326"
    },
    {
      "cell_type": "markdown",
      "metadata": {},
      "source": [
        "### データの標準化\n",
        "\n",
        "データを標準化するには`scale()`関数を利用する. 出力結果は少し厄介."
      ],
      "id": "24c5b015-5ba7-4e8e-b9bc-004a9e50390e"
    },
    {
      "cell_type": "code",
      "execution_count": null,
      "metadata": {},
      "outputs": [],
      "source": [
        "head(scale(iris$Sepal.Length))"
      ],
      "id": "67749b57-f7b8-4dd9-906a-6c2d5b82aec5"
    },
    {
      "cell_type": "markdown",
      "metadata": {},
      "source": [
        "## 大数の弱法則と中心極限定理\n",
        "\n",
        "### 利用するデータ2\n",
        "\n",
        "今回はggplot2パッケージに含まれる`diamonds`というデータセットを利用する.\n",
        "約54,000行10列からなるデータであり, ダイヤモンドの価格(\\$)やカラット,\n",
        "カットのクオリティなどの属性値が含まれる.\n",
        "\n",
        "このデータを母集団に見立てて, サンプリングの学習を行う.\n",
        "母集団がやや小さいことやサンプルサイズや標本数は計算の都合上やや小さいことに注意.\n",
        "まずは`diamonds`データの列名を`names()`関数を利用して確認する."
      ],
      "id": "2a71f67a-6236-4d60-b40f-9848fa200233"
    },
    {
      "cell_type": "code",
      "execution_count": null,
      "metadata": {},
      "outputs": [],
      "source": [
        "names(diamonds)"
      ],
      "id": "bf7132e5-9523-4a82-828e-81d07b5bf2f8"
    },
    {
      "cell_type": "markdown",
      "metadata": {},
      "source": [
        "### データの先頭6行確認する\n",
        "\n",
        "`head()`関数を利用して`diamonds`データの先頭6行を確認する."
      ],
      "id": "d485ad48-88f9-4a3d-9ed3-9e5eaea4e4cd"
    },
    {
      "cell_type": "code",
      "execution_count": null,
      "metadata": {},
      "outputs": [],
      "source": [
        "head(diamonds)"
      ],
      "id": "600e3634-973c-4de4-a40e-b4f4245f0f32"
    },
    {
      "cell_type": "markdown",
      "metadata": {},
      "source": [
        "### データ構造を確認する\n",
        "\n",
        "`dplyr`パッケージの`glimpse()`関数を利用して`diamonds`データのデータ構造を確認する.\n",
        "行数や列数, 各列のデータ型などを把握する."
      ],
      "id": "2518d6c3-0dc2-4532-ae57-00e2e930a3ee"
    },
    {
      "cell_type": "code",
      "execution_count": null,
      "metadata": {},
      "outputs": [],
      "source": [
        "p_load(dplyr)\n",
        "dplyr::glimpse(diamonds)"
      ],
      "id": "959f5479-ea9e-4989-8499-30d970a69764"
    },
    {
      "cell_type": "markdown",
      "metadata": {},
      "source": [
        "### データの概要を把握する\n",
        "\n",
        "`summary()`関数を利用してデータの概要を把握する."
      ],
      "id": "055bc1f6-544b-4753-bc88-23bbeccad262"
    },
    {
      "cell_type": "code",
      "execution_count": null,
      "metadata": {},
      "outputs": [],
      "source": [
        "summary(diamonds)"
      ],
      "id": "98ac5e87-b6d5-49b0-95c8-04d894e93339"
    },
    {
      "cell_type": "markdown",
      "metadata": {},
      "source": [
        "### データ内の分散・標準偏差を求める\n",
        "\n",
        "今回は`diamonds`データを母集団とみなすので, データの標本分散を求め,\n",
        "母分散とみなす. 列は`price`を利用する.\n",
        "後で利用するために母平均もオブジェクトに格納する."
      ],
      "id": "3a166c1a-8967-40bf-971e-e2ab1ad43268"
    },
    {
      "cell_type": "code",
      "execution_count": null,
      "metadata": {},
      "outputs": [],
      "source": [
        "var_pop <- svar(diamonds$price)\n",
        "var_pop\n",
        "sd_pop <- ssd(diamonds$price)\n",
        "sd_pop\n",
        "mean_pop <- mean(diamonds$price)\n",
        "mean_pop"
      ],
      "id": "e904ee0b-0dad-4e6d-b52d-5184bf9e6bd6"
    },
    {
      "cell_type": "markdown",
      "metadata": {},
      "source": [
        "### データのヒストグラムを描画する\n",
        "\n",
        "`diamonds`データの`price`の列のヒストグラムを描画する.\n",
        "価格や年収のデータに多い右に裾の長いデータになっている."
      ],
      "id": "fb0daadb-d834-474e-baf1-46a408f5a155"
    },
    {
      "cell_type": "code",
      "execution_count": null,
      "metadata": {},
      "outputs": [],
      "source": [
        "ggplot(data = diamonds) +\n",
        "  aes(x = price) +\n",
        "  geom_histogram()"
      ],
      "id": "89933b4b-7c1f-418f-bd9b-6b6d5b8d420d"
    },
    {
      "cell_type": "markdown",
      "metadata": {},
      "source": [
        "### データの無作為抽出\n",
        "\n",
        "`dplyr::slice_sample()`関数を利用してデータの無作為抽出を行う.\n",
        "`diamonds`データからサイズ100のサンプルを非復元抽出(`replace = FALSE`)し,\n",
        "`ss`というオブジェクトに格納する.\n",
        "\n",
        "無作為抽出の際に疑似乱数を利用しているので,\n",
        "乱数の種を指定して結果を再現できるようにする.\n",
        "`withr`パッケージの`with_seed()`関数を利用する.\n",
        "第1引数で任意の乱数の種を指定し, 第2引数に実行する関数."
      ],
      "id": "9efb3ded-1fbb-444f-b9a0-ebef3fc4454a"
    },
    {
      "cell_type": "code",
      "execution_count": null,
      "metadata": {},
      "outputs": [],
      "source": [
        "p_load(withr)\n",
        "ss <- withr::with_seed(2718,\n",
        "                       dplyr::slice_sample(diamonds, \n",
        "                                           n       = 100, \n",
        "                                           replace = FALSE))"
      ],
      "id": "4d6e260a-375c-41e4-8da6-96e27956351b"
    },
    {
      "cell_type": "markdown",
      "metadata": {},
      "source": [
        "### 標本の概要を確認\n",
        "\n",
        "`summary()`関数を利用して標本の概要を把握する."
      ],
      "id": "e45657b3-6c52-4343-885d-3f62ac99efb5"
    },
    {
      "cell_type": "code",
      "execution_count": null,
      "metadata": {},
      "outputs": [],
      "source": [
        "summary(ss)"
      ],
      "id": "36add01f-61f5-40c5-9cb5-29cfddae3a16"
    },
    {
      "cell_type": "markdown",
      "metadata": {},
      "source": [
        "### 標本の平均, 分散を母集団のそれと比較する\n",
        "\n",
        "標本平均, 標本分散をそれぞれ母平均, 母分散と比較する."
      ],
      "id": "5489337a-9d10-4e86-a118-b17aac669a00"
    },
    {
      "cell_type": "code",
      "execution_count": null,
      "metadata": {},
      "outputs": [],
      "source": [
        "mean(ss$price)\n",
        "mean_pop\n",
        "svar(ss$price)\n",
        "var_pop"
      ],
      "id": "bddeaf5b-4610-498e-8dbb-8e04816e90b2"
    },
    {
      "cell_type": "markdown",
      "metadata": {},
      "source": [
        "### 標本データのヒストグラム\n",
        "\n",
        "標本データもヒストグラムを描画する. 形状は似ているが,\n",
        "母集団を再現するには至らない."
      ],
      "id": "24ce8ff7-a5b6-4860-a284-bd23d1b7e536"
    },
    {
      "cell_type": "code",
      "execution_count": null,
      "metadata": {},
      "outputs": [],
      "source": [
        "ggplot(data = ss) +\n",
        "  aes(x = price) +\n",
        "  geom_histogram()"
      ],
      "id": "00def274-12cc-4490-9388-d416f5077f63"
    },
    {
      "cell_type": "markdown",
      "metadata": {},
      "source": [
        "### 標本の数を増やす\n",
        "\n",
        "サイズ500のサンプルを1000個(サンプル数1000)作成する.\n",
        "繰り返し行う処理などは`tidyverse`パッケージに含まれている`purrr`パッケージを利用すると便利.\n",
        "`purrr::map()`関数は, 第1引数で指定したリストに対して,\n",
        "第2引数以降で書かれた関数を実行してくれる.\n",
        "ここでは第2引数で`~`を使って無名関数を定義している. 結果は`List`形式."
      ],
      "id": "ba4321c1-4eaf-42fc-81af-a8673dfb1a50"
    },
    {
      "cell_type": "code",
      "execution_count": null,
      "metadata": {},
      "outputs": [],
      "source": [
        "p_load(purrr)\n",
        "ms <- with_seed(2718,\n",
        "                purrr::map(1:1000,\n",
        "                           ~ slice_sample(diamonds,\n",
        "                                          n       = 500,\n",
        "                                          replace = FALSE)))"
      ],
      "id": "3c2327ef-1d02-4eff-b4f4-b406d4a0d344"
    },
    {
      "cell_type": "markdown",
      "metadata": {},
      "source": [
        "### 各標本の標本平均を求める\n",
        "\n",
        "`dplyr::summarise()`関数はデータを要約する関数.\n",
        "`sample_mean`という列名を作成し,\n",
        "そこに`ms`オブジェクトの中の各`price`の値の平均を格納する.\n",
        "最後に結果のリストを`list_rbind()`関数を利用して,\n",
        "各標本の平均を1つのデータフレームに縦方向に整理する."
      ],
      "id": "60af5e64-9920-4281-bbe7-9ce181fb6850"
    },
    {
      "cell_type": "code",
      "execution_count": null,
      "metadata": {},
      "outputs": [],
      "source": [
        "ms_mean <- purrr::map(ms, \n",
        "                      dplyr::summarise,\n",
        "                      sample_mean = mean(price)) |> \n",
        "  list_rbind()"
      ],
      "id": "3af19447-faff-4725-8598-91315ad69333"
    },
    {
      "cell_type": "markdown",
      "metadata": {},
      "source": [
        "### 標本平均の平均を求める\n",
        "\n",
        "標本平均の平均を求め, 母平均と比較する.\n",
        "標本平均の標本平均値は母平均ととても近い値になる.\n",
        "サンプルサイズをさらに増やすと標本平均は母平均と一致する."
      ],
      "id": "59cb5e1e-ff41-42c5-a26e-6b2d24982ff0"
    },
    {
      "cell_type": "code",
      "execution_count": null,
      "metadata": {},
      "outputs": [],
      "source": [
        "mean(ms_mean$sample_mean)\n",
        "mean_pop"
      ],
      "id": "004ac2b2-afcd-471b-b211-d3e8edbcdee9"
    },
    {
      "cell_type": "markdown",
      "metadata": {},
      "source": [
        "### 標本平均の分散\n",
        "\n",
        "標本平均の分散は$\\frac{\\sigma^2}{n}$と近似する."
      ],
      "id": "aedc4ef7-75ba-44c5-bb61-f8b07a4aecb1"
    },
    {
      "cell_type": "code",
      "execution_count": null,
      "metadata": {},
      "outputs": [],
      "source": [
        "svar(ms_mean$sample_mean)\n",
        "var_pop / 500"
      ],
      "id": "3bb148d2-a2a0-4772-b2b4-c84c69c8a0e3"
    },
    {
      "cell_type": "markdown",
      "metadata": {},
      "source": [
        "### 標本平均のヒストグラム\n",
        "\n",
        "標本平均の分布は平均$\\mu$,\n",
        "分散$\\frac{\\sigma^2}{n}$の正規分布で近似できる.\n",
        "中心極限定理は元の分布を問わない."
      ],
      "id": "de083571-9d03-4e1c-a11f-1f1fee3ae4a2"
    },
    {
      "cell_type": "code",
      "execution_count": null,
      "metadata": {},
      "outputs": [],
      "source": [
        "ggplot(data = ms_mean) +\n",
        "  aes(x = sample_mean) +\n",
        "  geom_histogram(\n",
        "    aes(y = after_stat(density)),\n",
        "    fill  = \"blue\",\n",
        "    alpha = 0.2) +\n",
        "  geom_density(fill  = \"blue\") +\n",
        "  geom_vline(xintercept = mean_pop) +\n",
        "  stat_function(\n",
        "    fun  = dnorm,\n",
        "    args = list(\n",
        "      mean = mean_pop,\n",
        "      sd   = sqrt(var_pop / 500)),\n",
        "    size = 2)"
      ],
      "id": "30beeeaf-92e8-4391-aed9-7bd013505ffb"
    },
    {
      "cell_type": "markdown",
      "metadata": {},
      "source": [
        "## 信頼区間\n",
        "\n",
        "### 各サンプルの平均と95%信頼区間を計算する\n",
        "\n",
        "`map()`関数と`list_rbind()`関数を利用して,\n",
        "各サンプルの平均と95%信頼区間を計算し, データフレームへ変換する.\n",
        "`.id = **`を指定することで,\n",
        "`rerun()`関数で作成したリストの各リストの名前を`**`という名前の列に追加する.\n",
        "ここでは各リストに通し番号が振られているので,\n",
        "通し番号を`number`という列に格納している."
      ],
      "id": "bb0aaf58-067d-4de9-b4db-cfe037ce57aa"
    },
    {
      "cell_type": "code",
      "execution_count": null,
      "metadata": {},
      "outputs": [],
      "source": [
        "ms_ci <- map(\n",
        "  ms,\n",
        "  summarise,\n",
        "  lowerCI = mean(price) + \n",
        "    qnorm(0.025) * sqrt(var_pop / length(price)),\n",
        "  mean    = mean(price),\n",
        "  upperCI = mean(price) + \n",
        "    qnorm(0.975) * sqrt(var_pop / length(price))) |> \n",
        "  list_rbind(names_to = \"number\")"
      ],
      "id": "32085a46-d6cc-4bb5-84b3-1b1cdeae6ac4"
    },
    {
      "cell_type": "markdown",
      "metadata": {},
      "source": [
        "### 信頼区間とパラメーター\n",
        "\n",
        "信頼区間にパラメーターが含まれるかどうかを1か0かで判定する.\n",
        "データフレームで列を操作する(新しい列を作る,\n",
        "列の中身を変更するetc…)場合には,\n",
        "`dplyr`パッケージの`mutate()`関数を利用する.\n",
        "第1引数に利用するデータフレーム,\n",
        "第2引数に`** =`の`**`で列の名前を指定し, `=`の後で操作方法を指定する.\n",
        "ここでは, さらに`dplyr`パッケージの`if_else()`関数を利用して,\n",
        "信頼区間の下限より大きく, 上限より小さい場合に1,\n",
        "そうでない場合に0を格納するように指示している."
      ],
      "id": "981868fb-fda0-4bf6-9619-5b15fd1af284"
    },
    {
      "cell_type": "code",
      "execution_count": null,
      "metadata": {},
      "outputs": [],
      "source": [
        "ci_TF <- dplyr::mutate(ms_ci, \n",
        "                       TF = if_else(\n",
        "                         lowerCI <= mean_pop &\n",
        "                             upperCI >= mean_pop, \n",
        "                         1L, 0L))"
      ],
      "id": "8d0cc2c7-1723-42a2-ad60-137f19dd7115"
    },
    {
      "cell_type": "markdown",
      "metadata": {},
      "source": [
        "### 信頼区間にパラメーターが含まれる割合\n",
        "\n",
        "先程作成した, TFの平均を計算する.\n",
        "この平均は信頼区間にパラメーターが含まれる割合である.\n",
        "実際に95%に近い値が算出されている."
      ],
      "id": "e6723841-b4a0-468f-871d-0f03b3486351"
    },
    {
      "cell_type": "code",
      "execution_count": null,
      "metadata": {},
      "outputs": [],
      "source": [
        "summarise(ci_TF, mean(TF))"
      ],
      "id": "48c2f62c-e065-4e9f-8d5d-89dad9d11179"
    },
    {
      "cell_type": "markdown",
      "metadata": {},
      "source": [
        "### \n",
        "\n",
        "標本をすべて表示するのは多すぎるので, 先頭の100標本だけ表示する.\n",
        "`geom_errobar()`関数は信頼区間などを示す際に利用できる.\n",
        "`aes()`内で下限を`ymin`で, 上限を`ymax`で与える."
      ],
      "id": "8feffd6a-bb38-4879-8728-bf43baa8fef4"
    },
    {
      "cell_type": "code",
      "execution_count": null,
      "metadata": {},
      "outputs": [],
      "source": [
        "ggplot(data = head(ci_TF, 100)) +\n",
        "  aes(x      = number, \n",
        "      y      = mean,\n",
        "      colour = TF) +\n",
        "  geom_point() +\n",
        "  geom_errorbar(\n",
        "    aes(ymin = lowerCI,\n",
        "        ymax = upperCI), \n",
        "    width = .2) +\n",
        "  geom_hline(\n",
        "    yintercept = mean_pop, \n",
        "    linetype   = \"dashed\", \n",
        "    colour     = \"black\")"
      ],
      "id": "accf3123-abb9-4b53-bec8-d1f0681cb759"
    }
  ],
  "nbformat": 4,
  "nbformat_minor": 5,
  "metadata": {
    "kernelspec": {
      "display_name": "Python 3",
      "language": "python",
      "name": "python3"
    }
  }
}