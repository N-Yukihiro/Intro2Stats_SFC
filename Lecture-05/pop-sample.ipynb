{
  "cells": [
    {
      "cell_type": "markdown",
      "metadata": {},
      "source": [
        "# 母集団と標本\n",
        "\n",
        "# R演習\n",
        "\n",
        "## 平均・分散・標準偏差\n",
        "\n",
        "### 利用するデータ1\n",
        "\n",
        "引き続き`palmerpenguins`のデータを利用する"
      ],
      "id": "4d3f92a5-496d-4ae3-9c82-ca40098ed302"
    },
    {
      "cell_type": "code",
      "execution_count": null,
      "metadata": {},
      "outputs": [
        {
          "output_type": "stream",
          "name": "stdout",
          "text": [
            "tibble [344 × 8] (S3: tbl_df/tbl/data.frame)\n",
            " $ species          : Factor w/ 3 levels \"Adelie\",\"Chinstrap\",..: 1 1 1 1 1 1 1 1 1 1 ...\n",
            " $ island           : Factor w/ 3 levels \"Biscoe\",\"Dream\",..: 3 3 3 3 3 3 3 3 3 3 ...\n",
            " $ bill_length_mm   : num [1:344] 39.1 39.5 40.3 NA 36.7 39.3 38.9 39.2 34.1 42 ...\n",
            " $ bill_depth_mm    : num [1:344] 18.7 17.4 18 NA 19.3 20.6 17.8 19.6 18.1 20.2 ...\n",
            " $ flipper_length_mm: int [1:344] 181 186 195 NA 193 190 181 195 193 190 ...\n",
            " $ body_mass_g      : int [1:344] 3750 3800 3250 NA 3450 3650 3625 4675 3475 4250 ...\n",
            " $ sex              : Factor w/ 2 levels \"female\",\"male\": 2 1 1 NA 1 2 1 2 NA NA ...\n",
            " $ year             : int [1:344] 2007 2007 2007 2007 2007 2007 2007 2007 2007 2007 ..."
          ]
        }
      ],
      "source": [
        "library(pacman)\n",
        "p_load(palmerpenguins)\n",
        "str(penguins)"
      ],
      "id": "8aa5b45d-4ced-41e4-9b8d-f1703fd63764"
    },
    {
      "cell_type": "markdown",
      "metadata": {},
      "source": [
        "### 算術平均\n",
        "\n",
        "算術平均を算出する関数として`mean()`関数がある.\n",
        "`penguins`のデータには欠測値があるので, `na.rm = TRUE`を引数に追加する.\n",
        "\n",
        "データフレームを直接引数として取ることはできない.\n",
        "小数点以下の値を丸めるには`round()`関数を利用する.\n",
        "第2引数で小数点以下何桁表示するかを与える."
      ],
      "id": "83d0685d-e03c-4411-9e4a-24e1f4197e95"
    },
    {
      "cell_type": "code",
      "execution_count": null,
      "metadata": {},
      "outputs": [
        {
          "output_type": "stream",
          "name": "stdout",
          "text": [
            "[1] 43.92193"
          ]
        },
        {
          "output_type": "stream",
          "name": "stdout",
          "text": [
            "[1] 43.92"
          ]
        }
      ],
      "source": [
        "mean(penguins$bill_length_mm, na.rm = TRUE)"
      ],
      "id": "116b31f2-e309-4fe9-bd4a-da22465c90d4"
    },
    {
      "cell_type": "markdown",
      "metadata": {},
      "source": [
        "### `summary()`関数を用いて平均を求める\n",
        "\n",
        "`summary()`関数でも算術平均を知ることができる.\n",
        "`summary()`関数はベクトルでもデータフレームでも良い."
      ],
      "id": "6288226d-c825-4202-8603-52293c6c8381"
    },
    {
      "cell_type": "code",
      "execution_count": null,
      "metadata": {},
      "outputs": [
        {
          "output_type": "stream",
          "name": "stdout",
          "text": [
            "   Min. 1st Qu.  Median    Mean 3rd Qu.    Max.    NA's \n",
            "  32.10   39.23   44.45   43.92   48.50   59.60       2 "
          ]
        },
        {
          "output_type": "stream",
          "name": "stdout",
          "text": [
            "      species          island    bill_length_mm  bill_depth_mm  \n",
            " Adelie   :152   Biscoe   :168   Min.   :32.10   Min.   :13.10  \n",
            " Chinstrap: 68   Dream    :124   1st Qu.:39.23   1st Qu.:15.60  \n",
            " Gentoo   :124   Torgersen: 52   Median :44.45   Median :17.30  \n",
            "                                 Mean   :43.92   Mean   :17.15  \n",
            "                                 3rd Qu.:48.50   3rd Qu.:18.70  \n",
            "                                 Max.   :59.60   Max.   :21.50  \n",
            "                                 NA's   :2       NA's   :2      \n",
            " flipper_length_mm  body_mass_g       sex           year     \n",
            " Min.   :172.0     Min.   :2700   female:165   Min.   :2007  \n",
            " 1st Qu.:190.0     1st Qu.:3550   male  :168   1st Qu.:2007  \n",
            " Median :197.0     Median :4050   NA's  : 11   Median :2008  \n",
            " Mean   :200.9     Mean   :4202                Mean   :2008  \n",
            " 3rd Qu.:213.0     3rd Qu.:4750                3rd Qu.:2009  \n",
            " Max.   :231.0     Max.   :6300                Max.   :2009  \n",
            " NA's   :2         NA's   :2                                 "
          ]
        }
      ],
      "source": [
        "summary(penguins$bill_length_mm)"
      ],
      "id": "17097c5d-48db-4877-8c32-dc73081ee2d1"
    },
    {
      "cell_type": "markdown",
      "metadata": {},
      "source": [
        "### ヒストグラムに算術平均を加える\n",
        "\n",
        "`ggplot2`で縦線を加えるにはグラフに`geom_vline()`を追加する.\n",
        "`xintercept`でx軸のどこに線を引くのかを与える. ここでは,\n",
        "算術平均を計算し, 与えている.\n",
        "線は`linetype`で指定できるため点線を指定し,\n",
        "`colour`で線の色を赤に指定した."
      ],
      "id": "84620457-c5e1-47f7-91b7-43a6b6cfb498"
    },
    {
      "cell_type": "code",
      "execution_count": null,
      "metadata": {},
      "outputs": [
        {
          "output_type": "stream",
          "name": "stderr",
          "text": [
            "`stat_bin()` using `bins = 30`. Pick better value with `binwidth`."
          ]
        },
        {
          "output_type": "stream",
          "name": "stderr",
          "text": [
            "Warning: Removed 2 rows containing non-finite outside the scale range\n",
            "(`stat_bin()`)."
          ]
        },
        {
          "output_type": "display_data",
          "metadata": {},
          "data": {
            "image/png": "[encoded data removed]"
          }
        }
      ],
      "source": [
        "p_load(ggplot2)\n",
        "ggplot(penguins) +\n",
        "  aes(x = bill_length_mm) +\n",
        "  geom_histogram() +\n",
        "  geom_vline(\n",
        "    xintercept = \n",
        "      mean(penguins$bill_length_mm,\n",
        "           na.rm = TRUE\n",
        "      ),\n",
        "    linetype = \"dashed\",\n",
        "    colour   = \"red\"\n",
        "  )"
      ],
      "id": "97543cba-b55c-486e-9f04-3e950e71f53a"
    },
    {
      "cell_type": "markdown",
      "metadata": {},
      "source": [
        "### 算術平均からの偏差の和\n",
        "\n",
        "算術平均からの偏差の和が0になることを検証する. 数値計算上,\n",
        "割り切れない場合はごく小さい値が算出されることもあることに注意."
      ],
      "id": "f9e04675-929f-456a-8189-83b727feb87e"
    },
    {
      "cell_type": "code",
      "execution_count": null,
      "metadata": {},
      "outputs": [
        {
          "output_type": "stream",
          "name": "stdout",
          "text": [
            "[1] 3.481659e-13"
          ]
        }
      ],
      "source": [
        "sum(\n",
        "  penguins$bill_length_mm -\n",
        "    mean(penguins$bill_length_mm,\n",
        "         na.rm = TRUE\n",
        "    ),\n",
        "  na.rm = TRUE\n",
        ")"
      ],
      "id": "a5f95d22-2b85-41a8-ac47-46f2307b484b"
    },
    {
      "cell_type": "markdown",
      "metadata": {},
      "source": [
        "### 標本分散\n",
        "\n",
        "標本分散を求めるために各データから平均を引いて2乗し, その平均を取る.\n",
        "Rにデフォルトで搭載されている`var()`関数は標本分散ではない(以降扱う不偏分散($n$ではなく,\n",
        "$n-1$で除す))."
      ],
      "id": "1e5de604-0a95-4582-ad1d-17e88b5af316"
    },
    {
      "cell_type": "code",
      "execution_count": null,
      "metadata": {},
      "outputs": [
        {
          "output_type": "stream",
          "name": "stdout",
          "text": [
            "[1] 29.7199"
          ]
        }
      ],
      "source": [
        "mean(\n",
        "  (penguins$bill_length_mm -\n",
        "    mean(penguins$bill_length_mm,\n",
        "      na.rm = TRUE\n",
        "    )\n",
        "  )^2,\n",
        "  na.rm = TRUE\n",
        ")"
      ],
      "id": "edbf4b5b-bd97-46fe-8593-b7937237c359"
    },
    {
      "cell_type": "markdown",
      "metadata": {},
      "source": [
        "### 不偏分散\n",
        "\n",
        "不偏分散を求めるには`var()`関数を用いる."
      ],
      "id": "adbaaf7e-55bc-43ba-8576-0c7c38ebe926"
    },
    {
      "cell_type": "code",
      "execution_count": null,
      "metadata": {},
      "outputs": [
        {
          "output_type": "stream",
          "name": "stdout",
          "text": [
            "[1] 29.80705"
          ]
        }
      ],
      "source": [
        "var(penguins$bill_length_mm,\n",
        "    na.rm = TRUE)"
      ],
      "id": "bd15bafe-54a1-4299-92a3-ca77e52c9545"
    },
    {
      "cell_type": "markdown",
      "metadata": {},
      "source": [
        "### 標本分散を見やすくコーディングする(応用)\n",
        "\n",
        "パイプ演算子を利用するとコードが読みやすくなる."
      ],
      "id": "379ee5b3-8a4e-4f59-9ee1-547b66b151b0"
    },
    {
      "cell_type": "code",
      "execution_count": null,
      "metadata": {},
      "outputs": [
        {
          "output_type": "stream",
          "name": "stdout",
          "text": [
            "[1] 29.7199"
          ]
        }
      ],
      "source": [
        "p_load(magrittr)\n",
        "penguins %$%\n",
        "  subtract(\n",
        "    bill_length_mm,\n",
        "    bill_length_mm |>\n",
        "      mean(na.rm = TRUE)\n",
        "  ) |>\n",
        "  raise_to_power(2) |>\n",
        "  mean(na.rm = TRUE)"
      ],
      "id": "6d943b84-2cf9-45fb-b2e3-ec18a2e1ecb7"
    },
    {
      "cell_type": "markdown",
      "metadata": {},
      "source": [
        "### 標本分散の関数化\n",
        "\n",
        "以降利用しやすいように標本分散を関数にする."
      ],
      "id": "179a0334-a8ac-48e4-a3d7-f2ca12cf7dc5"
    },
    {
      "cell_type": "code",
      "execution_count": null,
      "metadata": {},
      "outputs": [
        {
          "output_type": "stream",
          "name": "stdout",
          "text": [
            "[1] 29.7199"
          ]
        }
      ],
      "source": [
        "sample_var <- function(x) {\n",
        "  subtract(\n",
        "    x,\n",
        "    x |>\n",
        "      mean(na.rm = TRUE)\n",
        "  ) |>\n",
        "    raise_to_power(2) |>\n",
        "    mean(na.rm = TRUE)\n",
        "}\n",
        "sample_var(penguins$bill_length_mm)"
      ],
      "id": "5eae62ea-8a5b-40d2-8a0a-d429fdd28888"
    },
    {
      "cell_type": "markdown",
      "metadata": {},
      "source": [
        "### 標本標準偏差\n",
        "\n",
        "標本標準偏差を求めるために各データから平均を引いた値の平方平均(標本分散)の平方根を求める.\n",
        "Rにデフォルトで搭載されている`sd()`関数は標本標準偏差ではない(以降扱う不偏分散の平方根)."
      ],
      "id": "101d57c4-9617-4400-a8e7-fb4580fa7bbc"
    },
    {
      "cell_type": "code",
      "execution_count": null,
      "metadata": {},
      "outputs": [
        {
          "output_type": "stream",
          "name": "stdout",
          "text": [
            "[1] 5.451596"
          ]
        }
      ],
      "source": [
        "sqrt(\n",
        "  mean(\n",
        "    (penguins$bill_length_mm - \n",
        "      mean(penguins$bill_length_mm,\n",
        "           na.rm = TRUE\n",
        "           )\n",
        "      )^2,\n",
        "      na.rm = TRUE\n",
        "  )\n",
        ")"
      ],
      "id": "1c7f7e2d-fe6a-4b56-9a52-b502908a10df"
    },
    {
      "cell_type": "markdown",
      "metadata": {},
      "source": [
        "### 不偏分散の平方根\n",
        "\n",
        "不偏分散の平方根を求めるには`sd()`関数を利用する.\n",
        "不偏分散の平方根は不偏性を持っていないことに注意."
      ],
      "id": "bc08bef8-3bdc-495a-8c98-4d10ae3250ae"
    },
    {
      "cell_type": "code",
      "execution_count": null,
      "metadata": {},
      "outputs": [
        {
          "output_type": "stream",
          "name": "stdout",
          "text": [
            "[1] 5.459584"
          ]
        }
      ],
      "source": [
        "sd(penguins$bill_length_mm,\n",
        "   na.rm = TRUE)"
      ],
      "id": "63cfd6d3-08a2-45f0-a2d7-577857e82f4a"
    },
    {
      "cell_type": "markdown",
      "metadata": {},
      "source": [
        "### 標本標準偏差を見やすくコーディングする(応用)\n",
        "\n",
        "パイプ演算子を利用するとコードが読みやすくなる."
      ],
      "id": "9a7c2af9-f441-4050-8fad-fc23fee4a521"
    },
    {
      "cell_type": "code",
      "execution_count": null,
      "metadata": {},
      "outputs": [
        {
          "output_type": "stream",
          "name": "stdout",
          "text": [
            "[1] 5.451596"
          ]
        }
      ],
      "source": [
        "penguins %$% \n",
        "  subtract(bill_length_mm,\n",
        "           bill_length_mm |> \n",
        "             mean(na.rm = TRUE)) |> \n",
        "  raise_to_power(2) |> \n",
        "  mean(na.rm = TRUE) |> \n",
        "  sqrt()"
      ],
      "id": "e1716bce-46cb-41ca-be12-0fa32ea0c819"
    },
    {
      "cell_type": "markdown",
      "metadata": {},
      "source": [
        "### 標本標準偏差の関数化\n",
        "\n",
        "以降利用しやすいように標本標準偏差を関数にする."
      ],
      "id": "9cc7f3a4-e2ea-40fa-954f-3e108a58c008"
    },
    {
      "cell_type": "code",
      "execution_count": null,
      "metadata": {},
      "outputs": [
        {
          "output_type": "stream",
          "name": "stdout",
          "text": [
            "[1] 5.451596"
          ]
        }
      ],
      "source": [
        "sample_sd <- function(x){\n",
        "  subtract(x,\n",
        "           x |> \n",
        "             mean(na.rm = TRUE)) |> \n",
        "    raise_to_power(2) |>  \n",
        "    mean(na.rm = TRUE) |> \n",
        "    sqrt()\n",
        "}\n",
        "sample_sd(penguins$bill_length_mm)"
      ],
      "id": "3a7ed9e3-9ca6-4ccb-98ac-1b61c9829ac2"
    },
    {
      "cell_type": "markdown",
      "metadata": {},
      "source": [
        "### データの標準化\n",
        "\n",
        "データを標準化するには`scale()`関数を利用する. 出力結果は少し厄介."
      ],
      "id": "ccb0ca86-94bb-44e5-a940-71e676cd5c19"
    },
    {
      "cell_type": "code",
      "execution_count": null,
      "metadata": {},
      "outputs": [
        {
          "output_type": "stream",
          "name": "stdout",
          "text": [
            "           [,1]\n",
            "[1,] -0.8832047\n",
            "[2,] -0.8099390\n",
            "[3,] -0.6634077\n",
            "[4,]         NA\n",
            "[5,] -1.3227986\n",
            "[6,] -0.8465718"
          ]
        }
      ],
      "source": [
        "head(scale(penguins$bill_length_mm))"
      ],
      "id": "1304ef19-f28d-4673-8be2-8cc9ace17cff"
    },
    {
      "cell_type": "markdown",
      "metadata": {},
      "source": [
        "## 大数の弱法則と中心極限定理\n",
        "\n",
        "### 利用するデータ2\n",
        "\n",
        "今回はggplot2パッケージに含まれる`diamonds`というデータセットを利用する.\n",
        "約54,000行10列からなるデータであり, ダイヤモンドの価格(\\$)やカラット,\n",
        "カットのクオリティなどの属性値が含まれる.\n",
        "\n",
        "このデータを母集団に見立てて, サンプリングの学習を行う.\n",
        "母集団がやや小さいことやサンプルサイズや標本数は計算の都合上やや小さいことに注意.\n",
        "まずは`diamonds`データの列名を`names()`関数を利用して確認する."
      ],
      "id": "51f8b19c-5e87-4d9c-954d-52d3ef85ca05"
    },
    {
      "cell_type": "code",
      "execution_count": null,
      "metadata": {},
      "outputs": [
        {
          "output_type": "stream",
          "name": "stdout",
          "text": [
            " [1] \"carat\"   \"cut\"     \"color\"   \"clarity\" \"depth\"   \"table\"   \"price\"  \n",
            " [8] \"x\"       \"y\"       \"z\"      "
          ]
        }
      ],
      "source": [
        "names(diamonds)"
      ],
      "id": "d02408ac-fe8c-4652-a5a3-1a8e5aacf982"
    },
    {
      "cell_type": "markdown",
      "metadata": {},
      "source": [
        "### データの先頭6行確認する\n",
        "\n",
        "`head()`関数を利用して`diamonds`データの先頭6行を確認する."
      ],
      "id": "824ba44d-4f02-45a1-885e-03bbebb3cf0c"
    },
    {
      "cell_type": "code",
      "execution_count": null,
      "metadata": {},
      "outputs": [
        {
          "output_type": "stream",
          "name": "stdout",
          "text": [
            "# A tibble: 6 × 10\n",
            "  carat cut       color clarity depth table price     x     y     z\n",
            "  <dbl> <ord>     <ord> <ord>   <dbl> <dbl> <int> <dbl> <dbl> <dbl>\n",
            "1  0.23 Ideal     E     SI2      61.5    55   326  3.95  3.98  2.43\n",
            "2  0.21 Premium   E     SI1      59.8    61   326  3.89  3.84  2.31\n",
            "3  0.23 Good      E     VS1      56.9    65   327  4.05  4.07  2.31\n",
            "4  0.29 Premium   I     VS2      62.4    58   334  4.2   4.23  2.63\n",
            "5  0.31 Good      J     SI2      63.3    58   335  4.34  4.35  2.75\n",
            "6  0.24 Very Good J     VVS2     62.8    57   336  3.94  3.96  2.48"
          ]
        }
      ],
      "source": [
        "head(diamonds)"
      ],
      "id": "0294cb91-92bd-47bd-9fb7-9f114346ee26"
    },
    {
      "cell_type": "markdown",
      "metadata": {},
      "source": [
        "### データ構造を確認する\n",
        "\n",
        "`dplyr`パッケージの`glimpse()`関数を利用して`diamonds`データのデータ構造を確認する.\n",
        "行数や列数, 各列のデータ型などを把握する."
      ],
      "id": "815fccbe-b077-4b5b-8a41-4ba3abd2c473"
    },
    {
      "cell_type": "code",
      "execution_count": null,
      "metadata": {},
      "outputs": [
        {
          "output_type": "stream",
          "name": "stdout",
          "text": [
            "Rows: 53,940\n",
            "Columns: 10\n",
            "$ carat   <dbl> 0.23, 0.21, 0.23, 0.29, 0.31, 0.24, 0.24, 0.26, 0.22, 0.23, 0.…\n",
            "$ cut     <ord> Ideal, Premium, Good, Premium, Good, Very Good, Very Good, Ver…\n",
            "$ color   <ord> E, E, E, I, J, J, I, H, E, H, J, J, F, J, E, E, I, J, J, J, I,…\n",
            "$ clarity <ord> SI2, SI1, VS1, VS2, SI2, VVS2, VVS1, SI1, VS2, VS1, SI1, VS1, …\n",
            "$ depth   <dbl> 61.5, 59.8, 56.9, 62.4, 63.3, 62.8, 62.3, 61.9, 65.1, 59.4, 64…\n",
            "$ table   <dbl> 55, 61, 65, 58, 58, 57, 57, 55, 61, 61, 55, 56, 61, 54, 62, 58…\n",
            "$ price   <int> 326, 326, 327, 334, 335, 336, 336, 337, 337, 338, 339, 340, 34…\n",
            "$ x       <dbl> 3.95, 3.89, 4.05, 4.20, 4.34, 3.94, 3.95, 4.07, 3.87, 4.00, 4.…\n",
            "$ y       <dbl> 3.98, 3.84, 4.07, 4.23, 4.35, 3.96, 3.98, 4.11, 3.78, 4.05, 4.…\n",
            "$ z       <dbl> 2.43, 2.31, 2.31, 2.63, 2.75, 2.48, 2.47, 2.53, 2.49, 2.39, 2.…"
          ]
        }
      ],
      "source": [
        "p_load(dplyr)\n",
        "dplyr::glimpse(diamonds)"
      ],
      "id": "52ace179-d268-4646-a2e5-7e6fd7d0454c"
    },
    {
      "cell_type": "markdown",
      "metadata": {},
      "source": [
        "### データの概要を把握する\n",
        "\n",
        "`summary()`関数を利用してデータの概要を把握する."
      ],
      "id": "b3798846-1994-499d-8e91-32477bfbeeef"
    },
    {
      "cell_type": "code",
      "execution_count": null,
      "metadata": {},
      "outputs": [
        {
          "output_type": "stream",
          "name": "stdout",
          "text": [
            "     carat               cut        color        clarity          depth      \n",
            " Min.   :0.2000   Fair     : 1610   D: 6775   SI1    :13065   Min.   :43.00  \n",
            " 1st Qu.:0.4000   Good     : 4906   E: 9797   VS2    :12258   1st Qu.:61.00  \n",
            " Median :0.7000   Very Good:12082   F: 9542   SI2    : 9194   Median :61.80  \n",
            " Mean   :0.7979   Premium  :13791   G:11292   VS1    : 8171   Mean   :61.75  \n",
            " 3rd Qu.:1.0400   Ideal    :21551   H: 8304   VVS2   : 5066   3rd Qu.:62.50  \n",
            " Max.   :5.0100                     I: 5422   VVS1   : 3655   Max.   :79.00  \n",
            "                                    J: 2808   (Other): 2531                  \n",
            "     table           price             x                y         \n",
            " Min.   :43.00   Min.   :  326   Min.   : 0.000   Min.   : 0.000  \n",
            " 1st Qu.:56.00   1st Qu.:  950   1st Qu.: 4.710   1st Qu.: 4.720  \n",
            " Median :57.00   Median : 2401   Median : 5.700   Median : 5.710  \n",
            " Mean   :57.46   Mean   : 3933   Mean   : 5.731   Mean   : 5.735  \n",
            " 3rd Qu.:59.00   3rd Qu.: 5324   3rd Qu.: 6.540   3rd Qu.: 6.540  \n",
            " Max.   :95.00   Max.   :18823   Max.   :10.740   Max.   :58.900  \n",
            "                                                                  \n",
            "       z         \n",
            " Min.   : 0.000  \n",
            " 1st Qu.: 2.910  \n",
            " Median : 3.530  \n",
            " Mean   : 3.539  \n",
            " 3rd Qu.: 4.040  \n",
            " Max.   :31.800  \n",
            "                 "
          ]
        }
      ],
      "source": [
        "summary(diamonds)"
      ],
      "id": "86c3fa8d-12e1-4050-b522-aff339926e00"
    },
    {
      "cell_type": "markdown",
      "metadata": {},
      "source": [
        "### データ内の分散・標準偏差を求める\n",
        "\n",
        "今回は`diamonds`データを母集団とみなすので, データの標本分散を求め,\n",
        "母分散とみなす. 列は`price`を利用する.\n",
        "後で利用するために母平均もオブジェクトに格納する."
      ],
      "id": "1232e4a9-4715-4f9c-b0de-42a489ff7ce5"
    },
    {
      "cell_type": "code",
      "execution_count": null,
      "metadata": {},
      "outputs": [
        {
          "output_type": "stream",
          "name": "stdout",
          "text": [
            "[1] 15915334"
          ]
        },
        {
          "output_type": "stream",
          "name": "stdout",
          "text": [
            "[1] 3989.403"
          ]
        },
        {
          "output_type": "stream",
          "name": "stdout",
          "text": [
            "[1] 3932.8"
          ]
        }
      ],
      "source": [
        "var_pop  <- sample_var(diamonds$price)\n",
        "var_pop"
      ],
      "id": "f2785ea6-0b5a-4891-9bb1-c4775220fd53"
    },
    {
      "cell_type": "markdown",
      "metadata": {},
      "source": [
        "### データのヒストグラムを描画する\n",
        "\n",
        "`diamonds`データの`price`の列のヒストグラムを描画する.\n",
        "価格や年収のデータに多い右に裾の長いデータになっている."
      ],
      "id": "74f189bc-239b-4f72-87ae-b6bb37599aaa"
    },
    {
      "cell_type": "code",
      "execution_count": null,
      "metadata": {},
      "outputs": [
        {
          "output_type": "stream",
          "name": "stderr",
          "text": [
            "`stat_bin()` using `bins = 30`. Pick better value with `binwidth`."
          ]
        },
        {
          "output_type": "display_data",
          "metadata": {},
          "data": {
            "image/png": "[encoded data removed]"
          }
        }
      ],
      "source": [
        "ggplot(data = diamonds) +\n",
        "  aes(x = price) +\n",
        "  geom_histogram()"
      ],
      "id": "ccaf8f9d-4cd9-4929-af6e-d4437e081ae9"
    },
    {
      "cell_type": "markdown",
      "metadata": {},
      "source": [
        "### データの無作為抽出\n",
        "\n",
        "`dplyr::slice_sample()`関数を利用してデータの無作為抽出を行う.\n",
        "`diamonds`データからサイズ100のサンプルを非復元抽出(`replace = FALSE`)し,\n",
        "`ss`というオブジェクトに格納する.\n",
        "\n",
        "無作為抽出の際に疑似乱数を利用しているので,\n",
        "乱数の種を指定して結果を再現できるようにする.\n",
        "`withr`パッケージの`with_seed()`関数を利用する.\n",
        "第1引数で任意の乱数の種を指定し, 第2引数に実行する関数."
      ],
      "id": "5c0c56e1-cdf4-4a2f-805b-60c02266bdf7"
    },
    {
      "cell_type": "code",
      "execution_count": null,
      "metadata": {},
      "outputs": [],
      "source": [
        "p_load(withr)\n",
        "ss <- withr::with_seed(\n",
        "  2718,\n",
        "  dplyr::slice_sample(\n",
        "    diamonds, \n",
        "    n       = 100, \n",
        "    replace = FALSE\n",
        "    )\n",
        "  )"
      ],
      "id": "72721c7d-3c5c-4c40-a503-a72d631f571e"
    },
    {
      "cell_type": "markdown",
      "metadata": {},
      "source": [
        "### 標本の概要を確認\n",
        "\n",
        "`summary()`関数を利用して標本の概要を把握する."
      ],
      "id": "a3a2dd2d-d9b2-4767-bf9e-c741659fcdd9"
    },
    {
      "cell_type": "code",
      "execution_count": null,
      "metadata": {},
      "outputs": [
        {
          "output_type": "stream",
          "name": "stdout",
          "text": [
            "     carat               cut     color     clarity       depth      \n",
            " Min.   :0.2300   Fair     : 2   D:12   SI1    :23   Min.   :58.40  \n",
            " 1st Qu.:0.4000   Good     :11   E:25   VS2    :23   1st Qu.:61.20  \n",
            " Median :0.5600   Very Good:26   F:10   VS1    :17   Median :61.80  \n",
            " Mean   :0.8051   Premium  :18   G:22   SI2    :13   Mean   :61.97  \n",
            " 3rd Qu.:1.0200   Ideal    :43   H:15   VVS2   : 9   3rd Qu.:62.60  \n",
            " Max.   :2.2500                  I:10   VVS1   : 9   Max.   :69.80  \n",
            "                                 J: 6   (Other): 6                  \n",
            "     table           price             x               y        \n",
            " Min.   :53.00   Min.   :  394   Min.   :3.830   Min.   :3.850  \n",
            " 1st Qu.:56.00   1st Qu.: 1023   1st Qu.:4.760   1st Qu.:4.760  \n",
            " Median :57.00   Median : 2026   Median :5.320   Median :5.330  \n",
            " Mean   :57.67   Mean   : 3943   Mean   :5.716   Mean   :5.725  \n",
            " 3rd Qu.:59.00   3rd Qu.: 5284   3rd Qu.:6.475   3rd Qu.:6.445  \n",
            " Max.   :64.00   Max.   :17366   Max.   :8.600   Max.   :8.650  \n",
            "                                                                \n",
            "       z        \n",
            " Min.   :2.460  \n",
            " 1st Qu.:2.917  \n",
            " Median :3.265  \n",
            " Mean   :3.545  \n",
            " 3rd Qu.:4.000  \n",
            " Max.   :5.290  \n",
            "                "
          ]
        }
      ],
      "source": [
        "summary(ss)"
      ],
      "id": "4d2d5f89-4534-4c92-bca3-0172c235d9df"
    },
    {
      "cell_type": "markdown",
      "metadata": {},
      "source": [
        "### 標本の平均, 分散を母集団のそれと比較する\n",
        "\n",
        "標本平均, 標本分散をそれぞれ母平均, 母分散と比較する."
      ],
      "id": "7afec932-2cf8-4a02-a580-7ae108ae72ab"
    },
    {
      "cell_type": "code",
      "execution_count": null,
      "metadata": {},
      "outputs": [
        {
          "output_type": "stream",
          "name": "stdout",
          "text": [
            "[1] 3942.71"
          ]
        },
        {
          "output_type": "stream",
          "name": "stdout",
          "text": [
            "[1] 3932.8"
          ]
        },
        {
          "output_type": "stream",
          "name": "stdout",
          "text": [
            "[1] 16182348"
          ]
        },
        {
          "output_type": "stream",
          "name": "stdout",
          "text": [
            "[1] 15915334"
          ]
        }
      ],
      "source": [
        "mean(ss$price)"
      ],
      "id": "78c473ac-3ae5-412c-85d7-6853cb6a1d64"
    },
    {
      "cell_type": "markdown",
      "metadata": {},
      "source": [
        "### 標本データのヒストグラム\n",
        "\n",
        "標本データもヒストグラムを描画する. 形状は似ているが,\n",
        "母集団を再現するには至らない."
      ],
      "id": "27b8b24b-b865-4c07-bc5d-acfe3b0c2cc6"
    },
    {
      "cell_type": "code",
      "execution_count": null,
      "metadata": {},
      "outputs": [
        {
          "output_type": "stream",
          "name": "stderr",
          "text": [
            "`stat_bin()` using `bins = 30`. Pick better value with `binwidth`."
          ]
        },
        {
          "output_type": "display_data",
          "metadata": {},
          "data": {
            "image/png": "[encoded data removed]"
          }
        }
      ],
      "source": [
        "ggplot(data = ss) +\n",
        "  aes(x = price) +\n",
        "  geom_histogram()"
      ],
      "id": "d2fcfed0-e144-4a66-b160-2c73f2380ab4"
    },
    {
      "cell_type": "markdown",
      "metadata": {},
      "source": [
        "### 標本の数を増やす\n",
        "\n",
        "サイズ500のサンプルを1000個(サンプル数1000)作成する.\n",
        "繰り返し行う処理などは`tidyverse`パッケージに含まれている`purrr`パッケージを利用すると便利.\n",
        "`purrr::map()`関数は, 第1引数で指定したリストに対して,\n",
        "第2引数以降で書かれた関数を実行してくれる.\n",
        "ここでは第2引数で`~`を使って無名関数を定義している. 結果は`List`形式."
      ],
      "id": "a55758e3-5273-4dfb-ac58-7c639b7b4384"
    },
    {
      "cell_type": "code",
      "execution_count": null,
      "metadata": {},
      "outputs": [],
      "source": [
        "p_load(purrr)\n",
        "ms <- with_seed(\n",
        "  2718,\n",
        "  purrr::map(\n",
        "    1:1000,\n",
        "    \\(x) slice_sample(\n",
        "      diamonds,\n",
        "      n       = 500,\n",
        "      replace = FALSE\n",
        "      )\n",
        "    )\n",
        "  )"
      ],
      "id": "c2d3ddd9-6829-428a-8bd3-de55dedda0c5"
    },
    {
      "cell_type": "markdown",
      "metadata": {},
      "source": [
        "### 各標本の標本平均を求める\n",
        "\n",
        "`dplyr::summarise()`関数はデータを要約する関数.\n",
        "`sample_mean`という列名を作成し,\n",
        "そこに`ms`オブジェクトの中の各`price`の値の平均を格納する.\n",
        "最後に結果のリストを`list_rbind()`関数を利用して,\n",
        "各標本の平均を1つのデータフレームに縦方向に整理する."
      ],
      "id": "37c89f34-3693-44a6-961e-dc17d6dc2a9c"
    },
    {
      "cell_type": "code",
      "execution_count": null,
      "metadata": {},
      "outputs": [],
      "source": [
        "ms_mean <- purrr::map(\n",
        "  ms, \n",
        "  dplyr::summarise,\n",
        "  sample_mean = mean(price)\n",
        "  ) |> \n",
        "  list_rbind()"
      ],
      "id": "037c545f-4546-4dc0-bde2-cfc67dea1761"
    },
    {
      "cell_type": "markdown",
      "metadata": {},
      "source": [
        "### 標本平均の平均を求める\n",
        "\n",
        "標本平均の平均を求め, 母平均と比較する.\n",
        "標本平均の標本平均値は母平均ととても近い値になる.\n",
        "サンプルサイズをさらに増やすと標本平均は母平均と一致する."
      ],
      "id": "37af175c-ad8c-47ac-a21f-cf90eaf5f8d4"
    },
    {
      "cell_type": "code",
      "execution_count": null,
      "metadata": {},
      "outputs": [
        {
          "output_type": "stream",
          "name": "stdout",
          "text": [
            "[1] 3937.012"
          ]
        },
        {
          "output_type": "stream",
          "name": "stdout",
          "text": [
            "[1] 3932.8"
          ]
        }
      ],
      "source": [
        "mean(ms_mean$sample_mean)"
      ],
      "id": "f45b0d27-8aed-4f05-900c-5cf0c8bb5321"
    },
    {
      "cell_type": "markdown",
      "metadata": {},
      "source": [
        "### 標本平均の分散\n",
        "\n",
        "標本平均の分散は$\\frac{\\sigma^2}{n}$と近似する."
      ],
      "id": "21b87fd7-1583-4b6b-9657-4423f9585c4b"
    },
    {
      "cell_type": "code",
      "execution_count": null,
      "metadata": {},
      "outputs": [
        {
          "output_type": "stream",
          "name": "stdout",
          "text": [
            "[1] 31888.15"
          ]
        },
        {
          "output_type": "stream",
          "name": "stdout",
          "text": [
            "[1] 31830.67"
          ]
        }
      ],
      "source": [
        "sample_var(ms_mean$sample_mean)"
      ],
      "id": "121fd84f-2f52-498d-92c8-2be9be51a296"
    },
    {
      "cell_type": "markdown",
      "metadata": {},
      "source": [
        "### 標本平均のヒストグラム\n",
        "\n",
        "標本平均の分布は平均$\\mu$,\n",
        "分散$\\frac{\\sigma^2}{n}$の正規分布で近似できる.\n",
        "中心極限定理は元の分布を問わない."
      ],
      "id": "34b9d8e2-9c84-4d46-a918-4f2b3dcb28cf"
    },
    {
      "cell_type": "code",
      "execution_count": null,
      "metadata": {},
      "outputs": [
        {
          "output_type": "stream",
          "name": "stderr",
          "text": [
            "Warning: Using `size` aesthetic for lines was deprecated in ggplot2 3.4.0.\n",
            "ℹ Please use `linewidth` instead."
          ]
        },
        {
          "output_type": "stream",
          "name": "stderr",
          "text": [
            "`stat_bin()` using `bins = 30`. Pick better value with `binwidth`."
          ]
        },
        {
          "output_type": "display_data",
          "metadata": {},
          "data": {
            "image/png": "[encoded data removed]"
          }
        }
      ],
      "source": [
        "ggplot(data = ms_mean) +\n",
        "  aes(x = sample_mean) +\n",
        "  geom_histogram(\n",
        "    aes(y = after_stat(density)),\n",
        "    fill  = \"blue\",\n",
        "    alpha = 0.2\n",
        "    ) +\n",
        "  geom_density(fill  = \"blue\") +\n",
        "  geom_vline(xintercept = mean_pop) +\n",
        "  stat_function(\n",
        "    fun  = dnorm,\n",
        "    args = list(\n",
        "      mean = mean_pop,\n",
        "      sd   = sqrt(var_pop / 500)),\n",
        "    size = 2\n",
        "    )"
      ],
      "id": "75363965-309f-47d5-bbcb-05b249d1efc1"
    },
    {
      "cell_type": "markdown",
      "metadata": {},
      "source": [
        "## 信頼区間\n",
        "\n",
        "### 各サンプルの平均と95%信頼区間を計算する\n",
        "\n",
        "`map()`関数と`list_rbind()`関数を利用して,\n",
        "各サンプルの平均と95%信頼区間を計算し, データフレームへ変換する.\n",
        "`.id = **`を指定することで,\n",
        "`rerun()`関数で作成したリストの各リストの名前を`**`という名前の列に追加する.\n",
        "ここでは各リストに通し番号が振られているので,\n",
        "通し番号を`number`という列に格納している."
      ],
      "id": "57212c68-96bc-4721-8384-5ee2044cb353"
    },
    {
      "cell_type": "code",
      "execution_count": null,
      "metadata": {},
      "outputs": [],
      "source": [
        "ms_ci <- map(\n",
        "  ms,\n",
        "  summarise,\n",
        "  lowerCI = mean(price) + \n",
        "    qnorm(0.025) * sqrt(var_pop / length(price)),\n",
        "  mean    = mean(price),\n",
        "  upperCI = mean(price) + \n",
        "    qnorm(0.975) * sqrt(var_pop / length(price))) |> \n",
        "  list_rbind(names_to = \"number\")"
      ],
      "id": "324e0fb0-a5b0-4459-905e-e33cf1f30e25"
    },
    {
      "cell_type": "markdown",
      "metadata": {},
      "source": [
        "### 信頼区間とパラメーター\n",
        "\n",
        "信頼区間にパラメーターが含まれるかどうかを1か0かで判定する.\n",
        "データフレームで列を操作する(新しい列を作る,\n",
        "列の中身を変更するetc…)場合には,\n",
        "`dplyr`パッケージの`mutate()`関数を利用する.\n",
        "第1引数に利用するデータフレーム,\n",
        "第2引数に`** =`の`**`で列の名前を指定し, `=`の後で操作方法を指定する.\n",
        "ここでは, さらに`dplyr`パッケージの`if_else()`関数を利用して,\n",
        "信頼区間の下限より大きく, 上限より小さい場合に1,\n",
        "そうでない場合に0を格納するように指示している."
      ],
      "id": "ea991a2b-9d61-4f80-bbaa-d047eeba32d9"
    },
    {
      "cell_type": "code",
      "execution_count": null,
      "metadata": {},
      "outputs": [],
      "source": [
        "ci_TF <- dplyr::mutate(\n",
        "  ms_ci, \n",
        "  TF = lowerCI <= mean_pop & upperCI >= mean_pop\n",
        "  )"
      ],
      "id": "34c3016d-aadf-42e6-8b43-926a58d5f915"
    },
    {
      "cell_type": "markdown",
      "metadata": {},
      "source": [
        "### 信頼区間にパラメーターが含まれる割合\n",
        "\n",
        "先程作成した, TFの平均を計算する.\n",
        "この平均は信頼区間にパラメーターが含まれる割合である.\n",
        "実際に95%に近い値が算出されている."
      ],
      "id": "f12cc5c6-988c-4d6c-921a-2774099c94d3"
    },
    {
      "cell_type": "code",
      "execution_count": null,
      "metadata": {},
      "outputs": [
        {
          "output_type": "stream",
          "name": "stdout",
          "text": [
            "# A tibble: 1 × 1\n",
            "  `mean(TF)`\n",
            "       <dbl>\n",
            "1      0.947"
          ]
        }
      ],
      "source": [
        "summarise(ci_TF, mean(TF))"
      ],
      "id": "259e878e-0cf2-428c-b1f1-f8d3e7d25888"
    },
    {
      "cell_type": "markdown",
      "metadata": {},
      "source": [
        "### \n",
        "\n",
        "標本をすべて表示するのは多すぎるので, 先頭の100標本だけ表示する.\n",
        "`geom_errobar()`関数は信頼区間などを示す際に利用できる.\n",
        "`aes()`内で下限を`ymin`で, 上限を`ymax`で与える."
      ],
      "id": "5e5e4b39-518d-473f-84e2-2bca5824f5f1"
    },
    {
      "cell_type": "code",
      "execution_count": null,
      "metadata": {},
      "outputs": [
        {
          "output_type": "display_data",
          "metadata": {},
          "data": {
            "image/png": "[encoded data removed]"
          }
        }
      ],
      "source": [
        "ggplot(data = head(ci_TF, 100)) +\n",
        "  aes(x      = number, \n",
        "      y      = mean,\n",
        "      colour = TF) +\n",
        "  geom_point() +\n",
        "  geom_errorbar(\n",
        "    aes(ymin = lowerCI,\n",
        "        ymax = upperCI), \n",
        "    width = .2) +\n",
        "  geom_hline(\n",
        "    yintercept = mean_pop, \n",
        "    linetype   = \"dashed\", \n",
        "    colour     = \"black\")"
      ],
      "id": "16978962-df50-4bc0-b427-7f4fd80a5dc3"
    }
  ],
  "nbformat": 4,
  "nbformat_minor": 5,
  "metadata": {
    "kernelspec": {
      "display_name": "Python 3",
      "language": "python",
      "name": "python3"
    }
  }
}