{
  "cells": [
    {
      "cell_type": "markdown",
      "metadata": {},
      "source": [
        "# 単回帰分析\n",
        "\n",
        "## 準備\n",
        "\n",
        "### データの読み込み\n",
        "\n",
        "『家計調査』2017年11月、第2−6表「年間収入階級別1世帯当たり1か月間の収入と支出」から作成した所得階級と支出のデータ`kakei201709_l18.csv`を用いる\\[^url\\].\n",
        "\n",
        "月間消費支出(円)(`CONS`), 月間消費支出(1万円)(`CONS1`),\n",
        "年間収入(1万円)(INC), 有業人員(人)(`WORK`). いずれも調査世帯の平均値/"
      ],
      "id": "b27f1363-85e0-44fd-a663-a4eb7410a256"
    },
    {
      "cell_type": "code",
      "execution_count": null,
      "metadata": {},
      "outputs": [],
      "source": [
        "library(pacman)\n",
        "p_load(readr, here)\n",
        "kakei <- readr::read_csv(here(\"data\", \"kakei201709_l18.csv\"))\n",
        "names(kakei)"
      ],
      "id": "7d22c687-cee0-45fc-babc-21440efae90c"
    },
    {
      "cell_type": "markdown",
      "metadata": {},
      "source": [
        "### データ構造の把握\n",
        "\n",
        "データを読み込んだらどのようなデータで構成されているのか確認を行う.\n",
        "`dplyr`パッケージの`glimpse`関数を利用する."
      ],
      "id": "197afc0b-59ca-4823-85d9-9681da2a554b"
    },
    {
      "cell_type": "code",
      "execution_count": null,
      "metadata": {},
      "outputs": [],
      "source": [
        "p_load(dplyr)\n",
        "dplyr::glimpse(kakei)"
      ],
      "id": "a34bab77-1aa0-4c23-b7c8-19d3edbdb87a"
    },
    {
      "cell_type": "markdown",
      "metadata": {},
      "source": [
        "### 記述統計の確認\n",
        "\n",
        "データ構造を確認したら, 次に記述統計を確認する. 記述統計を把握するには,\n",
        "`summary`を利用する."
      ],
      "id": "4253a1fe-eff6-4d57-a4cc-47bd53f43ac1"
    },
    {
      "cell_type": "code",
      "execution_count": null,
      "metadata": {},
      "outputs": [],
      "source": [
        "summary(kakei)"
      ],
      "id": "621ca003-c7d2-4457-9305-c5d19c171432"
    },
    {
      "cell_type": "markdown",
      "metadata": {},
      "source": [
        "### ヒストグラムの描画\n",
        "\n",
        "記述統計を把握したら, ヒストグラムを描いてデータをグラフで確認する.\n",
        "`ggplot2`パッケージをの`geom_histogram()`関数を使ってヒストグラムを描く."
      ],
      "id": "686d7228-4818-4b5a-8d3e-d93279be24f2"
    },
    {
      "cell_type": "code",
      "execution_count": null,
      "metadata": {},
      "outputs": [],
      "source": [
        "p_load(ggplot2)\n",
        "ggplot(data = kakei) +\n",
        "  aes(x = CONS1) +\n",
        "  geom_histogram() +\n",
        "  xlab(\"Consumption (10,000 yen)\") +\n",
        "  ggtitle(\"Histogram\")"
      ],
      "id": "fe1e8936-5d90-411a-a029-e7420a9c0101"
    },
    {
      "cell_type": "markdown",
      "metadata": {},
      "source": [
        "## 相関関係\n",
        "\n",
        "### 散布図の描画\n",
        "\n",
        "2変数間の関係を把握するために散布図を描くには,\n",
        "`geom_point()`関数を利用する."
      ],
      "id": "2c54d531-910e-497d-941b-20d8824b8b5e"
    },
    {
      "cell_type": "code",
      "execution_count": null,
      "metadata": {},
      "outputs": [],
      "source": [
        "ggplot(data = kakei) +\n",
        "  aes(x = INC,\n",
        "      y = CONS1) +\n",
        "  geom_point() + \n",
        "  xlab(\"Income (10,000 yen)\") + \n",
        "  ylab(\"Consumption (10,000 yen)\") +\n",
        "  ggtitle(\"Scatter plot\")"
      ],
      "id": "1a64939a-f575-472e-a61c-511411768fd7"
    },
    {
      "cell_type": "markdown",
      "metadata": {},
      "source": [
        "### ピアソンの積率相関係数の算出\n",
        "\n",
        "ピアソンの積率相関係数を算出するためには, `cor.test()`関数を利用する."
      ],
      "id": "e1b774fd-416f-4fc9-a786-f9f62d030ddb"
    },
    {
      "cell_type": "code",
      "execution_count": null,
      "metadata": {},
      "outputs": [],
      "source": [
        "cor.test(x      = kakei$INC,\n",
        "         y      = kakei$CONS1,\n",
        "         method = \"pearson\")"
      ],
      "id": "e912913f-8437-453e-a5a3-d48799df81a0"
    },
    {
      "cell_type": "markdown",
      "metadata": {},
      "source": [
        "### シミュレーションデータと散布図(Advanced)\n",
        "\n",
        "相関係数を自身で決めてグラフを描いてみる.\n",
        "まずは相関係数0.9の散布図を描く.\n",
        "ある相関係数に従う乱数を生成するには`MASS`パッケージの`mvnorm()`関数を用いる."
      ],
      "id": "b6cdfa68-58c5-4a5b-8c41-fe0777542388"
    },
    {
      "cell_type": "code",
      "execution_count": null,
      "metadata": {},
      "outputs": [],
      "source": [
        "p_load(withr, MASS, tibble)\n",
        "with_seed(\n",
        "  2718,\n",
        "  mvrnorm(n     = 100,\n",
        "          mu    = c(0, 0), \n",
        "          Sigma = matrix(c(1,   0.9, \n",
        "                           0.9, 1),\n",
        "                         ncol = 2),\n",
        "          empirical = TRUE)) |> \n",
        "  as_tibble() |> \n",
        "  dplyr::rename(x = 1, \n",
        "                y = 2) |>\n",
        "  ggplot() +\n",
        "  aes(x = x, \n",
        "      y = y) +\n",
        "  geom_point()"
      ],
      "id": "a0839c0f-9802-4fd4-b021-cdfc4bcfb017"
    },
    {
      "cell_type": "markdown",
      "metadata": {},
      "source": [
        "### 様々な相関係数と散布図(Advanced)\n",
        "\n",
        "`purrr`パッケージを用いて様々な相関係数の散布図を描画する."
      ],
      "id": "8a85e491-8534-4884-a863-d3d9060286e2"
    },
    {
      "cell_type": "code",
      "execution_count": null,
      "metadata": {},
      "outputs": [],
      "source": [
        "p_load(purrr)\n",
        "list <- list(-1, -0.9, -0.5, -0.2, 0, \n",
        "             0.2, 0.5, 0.9,  1)\n",
        "with_seed(\n",
        "  2718,\n",
        "  list |>\n",
        "    map(\\(x) mvrnorm(\n",
        "      n         = 100,\n",
        "      mu        = c(0, 0),\n",
        "      Sigma     = matrix(c(1, x, x, 1),\n",
        "                         ncol = 2),\n",
        "      empirical = TRUE))) |>\n",
        "  map(as_tibble) |> \n",
        "  purrr::set_names(list) |> \n",
        "  map(\\(data) rename(data, x = 1, y = 2)) |> \n",
        "  list_rbind(names_to = \"cor\") |> \n",
        "  mutate(cor = as.numeric(cor) |> \n",
        "           as.factor()) |> \n",
        "  ggplot() +\n",
        "  aes(x = x,\n",
        "      y = y) +\n",
        "  geom_point() +\n",
        "  facet_wrap(~ cor)"
      ],
      "id": "abe91b69-e1b6-4b41-9127-49a6646a517b"
    },
    {
      "cell_type": "markdown",
      "metadata": {},
      "source": [
        "### 相関のないデータ\n",
        "\n",
        "次のデータの2変数は関係のある変数だろうかない変数だろうか. なお,\n",
        "`cor.test()`関数は次のように書くこともできる."
      ],
      "id": "5ea0c247-8d1c-4bdf-bc2c-a83d48d12620"
    },
    {
      "cell_type": "code",
      "execution_count": null,
      "metadata": {},
      "outputs": [],
      "source": [
        "cor_data <- read_csv(here(\"data\", \"cor.csv\"))\n",
        "cor.test(~ x + y, \n",
        "         data   = cor_data,\n",
        "         method = \"pearson\")"
      ],
      "id": "713f4745-d86c-438c-9b70-3ba53be09c75"
    },
    {
      "cell_type": "markdown",
      "metadata": {},
      "source": [
        "### 関係はあるが相関のないデータ\n",
        "\n",
        "相関係数はあくまで直線関係しか判断できない."
      ],
      "id": "4d08b397-5917-443b-922f-61cdc0d7605d"
    },
    {
      "cell_type": "code",
      "execution_count": null,
      "metadata": {},
      "outputs": [],
      "source": [
        "ggplot(data = cor_data) +\n",
        "  aes(x = x, \n",
        "      y = y) +\n",
        "  geom_point()"
      ],
      "id": "4bbc4932-20ec-4f0c-a3de-baad0ea89167"
    },
    {
      "cell_type": "markdown",
      "metadata": {},
      "source": [
        "## 単回帰分析の実行\n",
        "\n",
        "### 単回帰分析\n",
        "\n",
        "最小二乗法を用いて単回帰分析を行うためには, `lm()`関数を利用する.\n",
        "第1引数に分析のモデルを指定する. `~`の前に応答変数を,\n",
        "`~`の後に説明変数を指定する."
      ],
      "id": "f014bb49-29df-4384-8599-24317543e7d4"
    },
    {
      "cell_type": "code",
      "execution_count": null,
      "metadata": {},
      "outputs": [],
      "source": [
        "ols1 <- lm(CONS1 ~ INC, data = kakei)"
      ],
      "id": "879c979e-5148-4b99-80e4-ea7591eba093"
    },
    {
      "cell_type": "markdown",
      "metadata": {},
      "source": [
        "### 結果の示し方\n",
        "\n",
        "`summary()`関数で結果を見るのが一般的だが,\n",
        "`jtools`パッケージの`summ()`関数や`stargazer`パッケージの`stargazer()`関数などを使うほうが良い.\n",
        "`jtools`パッケージは自分が結果を見るときに使うのがおすすめ.\n",
        "`stargazer`パッケージは結果をそのまま論文などに転載したいときにおすすめ."
      ],
      "id": "ffe3a395-7b8f-45eb-97df-e0d184431623"
    },
    {
      "cell_type": "code",
      "execution_count": null,
      "metadata": {},
      "outputs": [],
      "source": [
        "p_load(jtools)\n",
        "jtools::summ(ols1)"
      ],
      "id": "7b19f579-6c89-40d4-b47f-d3c31ffe2625"
    },
    {
      "cell_type": "markdown",
      "metadata": {},
      "source": [
        "### 結果の読み方\n",
        "\n",
        "MODEL INFOにモデルの内容が記述される. Observationsにサンプルサイズが,\n",
        "Dependent Variableに応答変数が, Typeに分析方法が示される.\n",
        "今回はサンプルサイズ18で, 応答変数は`CONS1`,\n",
        "分析方法は最小二乗法(OLS)であることが示される.\n",
        "\n",
        "MODEL FITに分析の結果が記述される. 回帰式の適合度検定のF値がまず示され,\n",
        "p値が計算されている. 次に決定係数$R^2$の値が示され,\n",
        "その下に自由度調整済み決定係数$adj. R^2$が示される.\n",
        "\n",
        "最後の表に分析の結果が示される. (Intercept)に定数項が,\n",
        "その後に説明変数が示される. Est. の列に回帰係数が, S.E.\n",
        "に標準誤差が示される. t val.にt値が示され, pにp値が示される.\n",
        "\n",
        "### 結果を論文に掲載する\n",
        "\n",
        "結果を論文に掲載できるようにきれいに整形するには`stargazer`パッケージを利用するのが便利.\n",
        "様々な引数があるので, 使いこなすにはHELPを参照のこと.\n",
        "\n",
        "`star.cutoffs = NA, omit.table.layout = \"n\"`は忘れない.\n",
        "分析がしたいのであって, 天体観測がしたいわけではないことに注意."
      ],
      "id": "de5074fc-9d9c-446f-8554-d2270cc38520"
    },
    {
      "cell_type": "code",
      "execution_count": null,
      "metadata": {},
      "outputs": [],
      "source": [
        "p_load(stargazer)\n",
        "stargazer::stargazer(ols1,\n",
        "                     type              = \"text\",\n",
        "                     style             = \"all\", \n",
        "                     ci                = TRUE,\n",
        "                     star.cutoffs      = NA, \n",
        "                     omit.table.layout = 'n',\n",
        "                     align             = TRUE)"
      ],
      "id": "943b3d47-28f3-4726-81e9-e806a89d9e24"
    },
    {
      "cell_type": "markdown",
      "metadata": {},
      "source": [
        "### 散布図と回帰直線\n",
        "\n",
        "散布図に回帰直線を引きたい場合には, `geom_smooth()`関数を利用する."
      ],
      "id": "66023b2c-03bb-4cfb-ad9c-e5efb4840953"
    },
    {
      "cell_type": "code",
      "execution_count": null,
      "metadata": {},
      "outputs": [],
      "source": [
        "ggplot(data = kakei) +\n",
        "  aes(x = INC, \n",
        "      y = CONS1) +\n",
        "  geom_point() +\n",
        "  geom_smooth(method = \"lm\", \n",
        "              se     = FALSE)"
      ],
      "id": "4e1afe03-af7e-417f-b517-72554f626b2a"
    },
    {
      "cell_type": "markdown",
      "metadata": {},
      "source": [
        "### 回帰直線と平均\n",
        "\n",
        "単回帰分析の場合回帰直線は必ずxとyの平均の交点を通る."
      ],
      "id": "22dd8951-ac98-42d2-8e7b-477c439ac7a5"
    },
    {
      "cell_type": "code",
      "execution_count": null,
      "metadata": {},
      "outputs": [],
      "source": [
        "ggplot(data = kakei) +\n",
        "  aes(x = INC,\n",
        "      y = CONS1) +\n",
        "  geom_point() +\n",
        "  geom_smooth(method = \"lm\", \n",
        "              se     = FALSE) +\n",
        "  geom_vline(xintercept = mean(kakei$INC)) +\n",
        "  geom_hline(yintercept = mean(kakei$CONS1))"
      ],
      "id": "2aa92e61-8747-4092-9371-1595a175f4b0"
    },
    {
      "cell_type": "markdown",
      "metadata": {},
      "source": [
        "### 決定係数と相関係数\n",
        "\n",
        "単回帰分析の場合, 相関係数の2乗は決定係数と一致する."
      ],
      "id": "9e9dfc58-9f16-444c-84b1-e6c0440b435a"
    },
    {
      "cell_type": "code",
      "execution_count": null,
      "metadata": {},
      "outputs": [],
      "source": [
        "summary(ols1)$r.squared\n",
        "cor(x = kakei$INC, \n",
        "    y = kakei$CONS1)^2\n",
        "all.equal(summary(ols1)$r.squared,\n",
        "          cor(x = kakei$INC,\n",
        "              y = kakei$CONS1)^2)"
      ],
      "id": "636fe77f-4f30-497c-a723-a89085f788a4"
    },
    {
      "cell_type": "markdown",
      "metadata": {},
      "source": [
        "## シミュレーションによる回帰分析のさらなる理解\n",
        "\n",
        "### データの準備\n",
        "\n",
        "ここからの演習ではシミュレーションデータを用いる.\n",
        "母集団としてサイズが100万で平均2,\n",
        "分散4の正規分布に従う説明変数を作成する. 応答変数は定数項が2,\n",
        "説明変数の回帰係数が3, 誤差項は平均0で標準偏差1とする."
      ],
      "id": "187f89ac-69b9-4b81-9b7e-6c4d37954506"
    },
    {
      "cell_type": "code",
      "execution_count": null,
      "metadata": {},
      "outputs": [],
      "source": [
        "pop <- with_seed(\n",
        "  2718,\n",
        "  data.frame(\n",
        "    x = rnorm(n    = 1000000, \n",
        "              mean = 2, \n",
        "              sd   = 4)) |> \n",
        "    mutate(y = 2 + 3 * x + rnorm(n = 1000000)))"
      ],
      "id": "faac3232-3ec0-40c9-b43e-8a586860041f"
    },
    {
      "cell_type": "markdown",
      "metadata": {},
      "source": [
        "### 母集団のデータの概要\n",
        "\n",
        "母集団のデータの概要を確認する."
      ],
      "id": "1321f733-8bd9-4391-946a-9d42af0b0b77"
    },
    {
      "cell_type": "code",
      "execution_count": null,
      "metadata": {},
      "outputs": [],
      "source": [
        "summary(pop)"
      ],
      "id": "92e29e1d-7571-4ee5-9073-ca401a58b633"
    },
    {
      "cell_type": "markdown",
      "metadata": {},
      "source": [
        "### 母集団の回帰係数\n",
        "\n",
        "母集団を作成した際に利用した係数と推定された回帰係数は一致する."
      ],
      "id": "cfecca99-fb71-478f-b19c-d3c256bf8af3"
    },
    {
      "cell_type": "code",
      "execution_count": null,
      "metadata": {},
      "outputs": [],
      "source": [
        "pop_lm <- lm(y ~ x, data = pop)\n",
        "jtools::j_summ(pop_lm)"
      ],
      "id": "7ba10a72-9825-4083-8e67-f384f95d0a05"
    },
    {
      "cell_type": "markdown",
      "metadata": {},
      "source": [
        "### モンテカルロ・シミュレーション\n",
        "\n",
        "母集団からサイズ100の標本を1000個作成し, xの回帰係数を求める."
      ],
      "id": "3322d0dd-1b24-404b-a10c-85232bee445f"
    },
    {
      "cell_type": "code",
      "execution_count": null,
      "metadata": {},
      "outputs": [],
      "source": [
        "p_load(broom)\n",
        "sim_data <- with_seed(\n",
        "  27182,\n",
        "  map(1:1000, \n",
        "      ~ slice_sample(pop, n = 100))) |>\n",
        "  list_rbind(names_to = \"number\") |> \n",
        "  group_split(number) |> \n",
        "  map(\\(data) lm(y ~ x, data = data)) |> \n",
        "  map(broom::tidy) |> \n",
        "  list_rbind()"
      ],
      "id": "6727aa1a-6c72-4896-817b-34f307dce449"
    },
    {
      "cell_type": "markdown",
      "metadata": {},
      "source": [
        "### 回帰係数と不偏性\n",
        "\n",
        "サンプル抽出を繰り返し, 回帰係数の期待値(平均)を取ると真の値と一致する."
      ],
      "id": "c29026d9-ecb7-4213-9b3e-ca0281cc88bd"
    },
    {
      "cell_type": "code",
      "execution_count": null,
      "metadata": {},
      "outputs": [],
      "source": [
        "sim_data |>\n",
        "  group_by(term) |> \n",
        "  summarise(mean(estimate))"
      ],
      "id": "7f27fd80-a04e-4d6a-99ba-de86d4e8abdc"
    },
    {
      "cell_type": "markdown",
      "metadata": {},
      "source": [
        "### 標本サイズを少しずつ増やす\n",
        "\n",
        "サンプルサイズ10000に達するまで漸近的にサンプルサイズを増やしながら無作為抽出を行う."
      ],
      "id": "0d968933-f782-4927-ad67-db70c7cc779b"
    },
    {
      "cell_type": "code",
      "execution_count": null,
      "metadata": {},
      "outputs": [],
      "source": [
        "list2 <- 3:1000\n",
        "sim_data2 <- with_seed(\n",
        "  27182,\n",
        "  list2 |> \n",
        "    map(\\(size) slice_sample(pop, n = size))) |>\n",
        "  list_rbind(names_to = \"number\") |> \n",
        "  group_split(number) |>\n",
        "  map(\\(data) lm(y ~ x, data = data)) |> \n",
        "  map(broom::tidy) |> \n",
        "  list_rbind(names_to = \"number\")"
      ],
      "id": "5f6a177e-d6ae-4450-9ab3-f1d7e907c6c3"
    },
    {
      "cell_type": "markdown",
      "metadata": {},
      "source": [
        "### 回帰係数と一致性\n",
        "\n",
        "サンプルサイズが大きくなるにつれて標本の回帰係数は真の値に近づいていく."
      ],
      "id": "51e6f898-a8ee-496b-8d92-bdc6c3f4a307"
    },
    {
      "cell_type": "code",
      "execution_count": null,
      "metadata": {},
      "outputs": [],
      "source": [
        "sim_data2 |>\n",
        "  mutate(\n",
        "    true = if_else(term == \"x\",\n",
        "                   3, 2)) |> \n",
        "  ggplot() +\n",
        "  aes(x = number) +\n",
        "  geom_line(aes(y = estimate)) +\n",
        "  geom_line(aes(y = true),\n",
        "            colour = \"red\") + \n",
        "  facet_wrap(~ term,\n",
        "             scales = \"free\")"
      ],
      "id": "c786cbc6-68b9-40a8-9019-4534759eae5a"
    }
  ],
  "nbformat": 4,
  "nbformat_minor": 5,
  "metadata": {
    "kernelspec": {
      "display_name": "Python 3",
      "language": "python",
      "name": "python3"
    }
  }
}