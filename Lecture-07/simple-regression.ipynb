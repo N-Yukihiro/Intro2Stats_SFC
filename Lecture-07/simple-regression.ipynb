{
  "cells": [
    {
      "cell_type": "markdown",
      "id": "31e47dd1-b591-484e-90c2-a285b40124e3",
      "metadata": {},
      "source": [
        "# 単回帰分析\n",
        "\n",
        "## 準備\n",
        "\n",
        "### データの読み込み\n",
        "\n",
        "『家計調査』2017年11月、第2−6表「年間収入階級別1世帯当たり1か月間の収入と支出」から作成した所得階級と支出のデータ`kakei201709_l18.csv`を用いる\\[^url\\].\n",
        "\n",
        "月間消費支出(円)(`CONS`), 月間消費支出(1万円)(`CONS1`),\n",
        "年間収入(1万円)(INC), 有業人員(人)(`WORK`). いずれも調査世帯の平均値/"
      ]
    },
    {
      "cell_type": "code",
      "execution_count": null,
      "id": "167ff8a9-ef50-4d89-a2e8-ef02dd225dd9",
      "metadata": {},
      "outputs": [],
      "source": [
        "library(pacman)\n",
        "p_load(readr)\n",
        "kakei <- readr::read_csv(\"../data/kakei201709_l18.csv\")"
      ]
    },
    {
      "cell_type": "markdown",
      "id": "cd08bfe1-22e9-4f3b-a2a2-911949cf90ee",
      "metadata": {},
      "source": [
        "### データ構造の把握\n",
        "\n",
        "データを読み込んだらどのようなデータで構成されているのか確認を行う.\n",
        "`dplyr`パッケージの`glimpse`関数を利用する."
      ]
    },
    {
      "cell_type": "code",
      "execution_count": null,
      "id": "d9e9fbc5-733f-492c-b861-ac898d0f614c",
      "metadata": {},
      "outputs": [],
      "source": [
        "p_load(dplyr)\n",
        "dplyr::glimpse(kakei)"
      ]
    },
    {
      "cell_type": "markdown",
      "id": "a3462f17-5c6a-42cb-bf27-f821452df7e1",
      "metadata": {},
      "source": [
        "### 記述統計の確認\n",
        "\n",
        "データ構造を確認したら, 次に記述統計を確認する. 記述統計を把握するには,\n",
        "`summary`を利用する."
      ]
    },
    {
      "cell_type": "code",
      "execution_count": null,
      "id": "1c21d4d0-106d-4aff-9ef0-a00da88d515a",
      "metadata": {},
      "outputs": [],
      "source": [
        "summary(kakei)"
      ]
    },
    {
      "cell_type": "markdown",
      "id": "5acc8f69-4e9b-44a3-ac48-fbc8d3dd8ee9",
      "metadata": {},
      "source": [
        "### ヒストグラムの描画\n",
        "\n",
        "記述統計を把握したら, ヒストグラムを描いてデータをグラフで確認する.\n",
        "`ggplot2`パッケージをの`geom_histogram()`関数を使ってヒストグラムを描く."
      ]
    },
    {
      "cell_type": "code",
      "execution_count": null,
      "id": "955bdd1f-c09a-4b7b-95ca-861e03a23f99",
      "metadata": {},
      "outputs": [],
      "source": [
        "p_load(ggplot2)\n",
        "ggplot(data = kakei) +\n",
        "  aes(x = CONS1) +\n",
        "  geom_histogram() +\n",
        "  xlab(\"Consumption (10,000 yen)\") +\n",
        "  ggtitle(\"Histogram\")"
      ]
    },
    {
      "cell_type": "markdown",
      "id": "1bc195ec-715a-4335-b53f-e7edb85beec0",
      "metadata": {},
      "source": [
        "## 相関関係\n",
        "\n",
        "### 散布図の描画\n",
        "\n",
        "2変数間の関係を把握するために散布図を描くには,\n",
        "`geom_point()`関数を利用する."
      ]
    },
    {
      "cell_type": "code",
      "execution_count": null,
      "id": "89540d70-e199-472b-9ced-eec1a6c56050",
      "metadata": {},
      "outputs": [],
      "source": [
        "ggplot(data = kakei) +\n",
        "  aes(x = INC,\n",
        "      y = CONS1) +\n",
        "  geom_point() + \n",
        "  xlab(\"Income (10,000 yen)\") + \n",
        "  ylab(\"Consumption (10,000 yen)\") +\n",
        "  ggtitle(\"Scatter plot\")"
      ]
    },
    {
      "cell_type": "markdown",
      "id": "18038847-7f24-4c50-a930-a8eaac9c0bf0",
      "metadata": {},
      "source": [
        "### ピアソンの積率相関係数の算出\n",
        "\n",
        "ピアソンの積率相関係数を算出するためには, `cor.test()`関数を利用する."
      ]
    },
    {
      "cell_type": "code",
      "execution_count": null,
      "id": "5f3907b0-15b4-4b9c-b643-5b57c674038f",
      "metadata": {},
      "outputs": [],
      "source": [
        "cor.test(x      = kakei$INC,\n",
        "         y      = kakei$CONS1,\n",
        "         method = \"pearson\")"
      ]
    },
    {
      "cell_type": "markdown",
      "id": "516d7dbf-581b-4822-918b-d39d0d75c41b",
      "metadata": {},
      "source": [
        "### シミュレーションデータと散布図(Advanced)\n",
        "\n",
        "相関係数を自身で決めてグラフを描いてみる.\n",
        "まずは相関係数0.9の散布図を描く.\n",
        "ある相関係数に従う乱数を生成するには`MASS`パッケージの`mvnorm()`関数を用いる."
      ]
    },
    {
      "cell_type": "code",
      "execution_count": null,
      "id": "e22f33b7-f409-4567-b802-1909cd20b59b",
      "metadata": {},
      "outputs": [],
      "source": [
        "p_load(withr, MASS, tibble)\n",
        "with_seed(\n",
        "  2718,\n",
        "  mvrnorm(n     = 100,\n",
        "          mu    = c(0, 0), \n",
        "          Sigma = matrix(c(1,   0.9, \n",
        "                           0.9, 1),\n",
        "                         ncol = 2),\n",
        "          empirical = TRUE)) |> \n",
        "  as_tibble() |> \n",
        "  dplyr::rename(x = 1, \n",
        "                y = 2) |>\n",
        "  ggplot() +\n",
        "  aes(x = x, \n",
        "      y = y) +\n",
        "  geom_point()"
      ]
    },
    {
      "cell_type": "markdown",
      "id": "a2e7e545-c75c-4729-abe5-5e3c7b23a0c6",
      "metadata": {},
      "source": [
        "### 様々な相関係数と散布図(Advanced)\n",
        "\n",
        "`purrr`パッケージを用いて様々な相関係数の散布図を描画する."
      ]
    },
    {
      "cell_type": "code",
      "execution_count": null,
      "id": "b3957e8d-8c0b-4475-9666-2f7dda5d5e1b",
      "metadata": {},
      "outputs": [],
      "source": [
        "p_load(purrr)\n",
        "list <- list(-1, -0.9, -0.5, -0.2, 0, \n",
        "             0.2, 0.5, 0.9,  1)\n",
        "with_seed(\n",
        "  2718,\n",
        "  list |>\n",
        "    map(\n",
        "      \\(x) mvrnorm(\n",
        "        n         = 100,\n",
        "        mu        = c(0, 0),\n",
        "        Sigma     = matrix(c(1, x, x, 1),\n",
        "                           ncol = 2),\n",
        "        empirical = TRUE))) |>\n",
        "  map(as_tibble) |> \n",
        "  purrr::set_names(list) |> \n",
        "  map(\\(data) rename(data, x = 1, y = 2)) |> \n",
        "  list_rbind(names_to = \"cor\") |> \n",
        "  mutate(cor = as.numeric(cor) |> \n",
        "           as.factor()) |> \n",
        "  ggplot() +\n",
        "  aes(x = x,\n",
        "      y = y) +\n",
        "  geom_point() +\n",
        "  facet_wrap(~ cor)"
      ]
    },
    {
      "cell_type": "markdown",
      "id": "ab483e21-0396-4f6c-ad73-f4acdbb3cf0b",
      "metadata": {},
      "source": [
        "### 相関のないデータ\n",
        "\n",
        "次のデータの2変数は関係のある変数だろうかない変数だろうか. なお,\n",
        "`cor.test()`関数は次のように書くこともできる."
      ]
    },
    {
      "cell_type": "code",
      "execution_count": null,
      "id": "9b42b07c-1ed5-451d-84fb-64f9dd0b081d",
      "metadata": {},
      "outputs": [],
      "source": [
        "cor_data <- read_csv(\"../data/cor.csv\")"
      ]
    },
    {
      "cell_type": "markdown",
      "id": "1436d6eb-da26-450d-8d15-b13438cda373",
      "metadata": {},
      "source": [
        "### 関係はあるが相関のないデータ\n",
        "\n",
        "相関係数はあくまで直線関係しか判断できない."
      ]
    },
    {
      "cell_type": "code",
      "execution_count": null,
      "id": "37c0d234-ead6-4ceb-b3ce-4eee42496ae0",
      "metadata": {},
      "outputs": [],
      "source": [
        "ggplot(data = cor_data) +\n",
        "  aes(x = x, \n",
        "      y = y) +\n",
        "  geom_point()"
      ]
    },
    {
      "cell_type": "markdown",
      "id": "21f3f2d1-9b87-4e70-b980-74d900a30d8e",
      "metadata": {},
      "source": [
        "## 単回帰分析の実行\n",
        "\n",
        "### 単回帰分析\n",
        "\n",
        "最小二乗法を用いて単回帰分析を行うためには, `lm()`関数を利用する.\n",
        "第1引数に分析のモデルを指定する. `~`の前に応答変数を,\n",
        "`~`の後に説明変数を指定する."
      ]
    },
    {
      "cell_type": "code",
      "execution_count": null,
      "id": "670dbf65-4e27-491a-9e70-4f5dd7f6bf1d",
      "metadata": {},
      "outputs": [],
      "source": [
        "ols1 <- lm(CONS1 ~ INC, data = kakei)"
      ]
    },
    {
      "cell_type": "markdown",
      "id": "51e05943-6ce9-43ef-b3c9-d4aa20a67622",
      "metadata": {},
      "source": [
        "### 結果の示し方\n",
        "\n",
        "`summary()`関数で結果を見るのが一般的だが,\n",
        "`jtools`パッケージの`summ()`関数や`stargazer`パッケージの`stargazer()`関数などを使うほうが良い.\n",
        "`jtools`パッケージは自分が結果を見るときに使うのがおすすめ.\n",
        "`stargazer`パッケージは結果をそのまま論文などに転載したいときにおすすめ."
      ]
    },
    {
      "cell_type": "code",
      "execution_count": null,
      "id": "6474d605-2bfe-44a9-acf5-f6621e3a4baf",
      "metadata": {},
      "outputs": [],
      "source": [
        "p_load(jtools)"
      ]
    },
    {
      "cell_type": "markdown",
      "id": "961128b9-cb85-4c24-9be4-e00730d2f566",
      "metadata": {},
      "source": [
        "### 結果の読み方\n",
        "\n",
        "MODEL INFOにモデルの内容が記述される. Observationsにサンプルサイズが,\n",
        "Dependent Variableに応答変数が, Typeに分析方法が示される.\n",
        "今回はサンプルサイズ18で, 応答変数は`CONS1`,\n",
        "分析方法は最小二乗法(OLS)であることが示される.\n",
        "\n",
        "MODEL FITに分析の結果が記述される. 回帰式の適合度検定のF値がまず示され,\n",
        "p値が計算されている. 次に決定係数$R^2$の値が示され,\n",
        "その下に自由度調整済み決定係数$adj. R^2$が示される.\n",
        "\n",
        "最後の表に分析の結果が示される. (Intercept)に定数項が,\n",
        "その後に説明変数が示される. Est. の列に回帰係数が, S.E.\n",
        "に標準誤差が示される. t val.にt値が示され, pにp値が示される.\n",
        "\n",
        "### 結果を論文に掲載する\n",
        "\n",
        "結果を論文に掲載できるようにきれいに整形するには`stargazer`パッケージを利用するのが便利.\n",
        "様々な引数があるので, 使いこなすにはHELPを参照のこと.\n",
        "\n",
        "`star.cutoffs = NA, omit.table.layout = \"n\"`は忘れない.\n",
        "分析がしたいのであって, 天体観測がしたいわけではないことに注意."
      ]
    },
    {
      "cell_type": "code",
      "execution_count": null,
      "id": "432ac775-5814-485c-91fb-783408d4dd14",
      "metadata": {},
      "outputs": [],
      "source": [
        "p_load(stargazer)"
      ]
    },
    {
      "cell_type": "markdown",
      "id": "cf930165-ddb5-4f21-b844-a137262287b8",
      "metadata": {},
      "source": [
        "### 散布図と回帰直線\n",
        "\n",
        "散布図に回帰直線を引きたい場合には, `geom_smooth()`関数を利用する."
      ]
    },
    {
      "cell_type": "code",
      "execution_count": null,
      "id": "0c8aedb1-8934-4d41-9348-ab42f4b0c04c",
      "metadata": {},
      "outputs": [],
      "source": [
        "ggplot(data = kakei) +\n",
        "  aes(x = INC, \n",
        "      y = CONS1) +\n",
        "  geom_point() +\n",
        "  geom_smooth(method = \"lm\", \n",
        "              se     = FALSE)"
      ]
    },
    {
      "cell_type": "markdown",
      "id": "b68104ef-b750-40be-b70f-42f104148835",
      "metadata": {},
      "source": [
        "### 回帰直線と平均\n",
        "\n",
        "単回帰分析の場合回帰直線は必ずxとyの平均の交点を通る."
      ]
    },
    {
      "cell_type": "code",
      "execution_count": null,
      "id": "4c51b31b-43a0-4e77-94f0-6098e12a9fcb",
      "metadata": {},
      "outputs": [],
      "source": [
        "ggplot(data = kakei) +\n",
        "  aes(x = INC,\n",
        "      y = CONS1) +\n",
        "  geom_point() +\n",
        "  geom_smooth(method = \"lm\", \n",
        "              se     = FALSE) +\n",
        "  geom_vline(xintercept = mean(kakei$INC)) +\n",
        "  geom_hline(yintercept = mean(kakei$CONS1))"
      ]
    },
    {
      "cell_type": "markdown",
      "id": "b6cfaf30-2129-4bd2-a041-574248906052",
      "metadata": {},
      "source": [
        "### 決定係数と相関係数\n",
        "\n",
        "単回帰分析の場合, 相関係数の2乗は決定係数と一致する."
      ]
    },
    {
      "cell_type": "code",
      "execution_count": null,
      "id": "fe208ecf-14f0-4620-975c-366af64ac9df",
      "metadata": {},
      "outputs": [],
      "source": [
        "summary(ols1)$r.squared"
      ]
    },
    {
      "cell_type": "markdown",
      "id": "24a6b3a4-0814-4b31-8542-1089f212a35d",
      "metadata": {},
      "source": [
        "## シミュレーションによる回帰分析のさらなる理解\n",
        "\n",
        "### データの準備\n",
        "\n",
        "ここからの演習ではシミュレーションデータを用いる.\n",
        "母集団としてサイズが100万で平均2,\n",
        "分散4の正規分布に従う説明変数を作成する. 応答変数は定数項が2,\n",
        "説明変数の回帰係数が3, 誤差項は平均0で標準偏差1とする."
      ]
    },
    {
      "cell_type": "code",
      "execution_count": null,
      "id": "02ce07cd-3657-4082-8577-ff5fea7ec897",
      "metadata": {},
      "outputs": [],
      "source": [
        "pop <- with_seed(\n",
        "  2718,\n",
        "  data.frame(\n",
        "    x = rnorm(n    = 1000000, \n",
        "              mean = 2, \n",
        "              sd   = 4)) |> \n",
        "    mutate(y = 2 + 3 * x + rnorm(n = 1000000)))"
      ]
    },
    {
      "cell_type": "markdown",
      "id": "8236d35c-846a-4230-9482-aa227c63c03a",
      "metadata": {},
      "source": [
        "### 母集団のデータの概要\n",
        "\n",
        "母集団のデータの概要を確認する."
      ]
    },
    {
      "cell_type": "code",
      "execution_count": null,
      "id": "1d1ea8b4-86a4-4f14-8472-d6d4610b10cd",
      "metadata": {},
      "outputs": [],
      "source": [
        "summary(pop)"
      ]
    },
    {
      "cell_type": "markdown",
      "id": "8d99b551-e7fa-4a9d-b6d2-63ba28c1b486",
      "metadata": {},
      "source": [
        "### 母集団の回帰係数\n",
        "\n",
        "母集団を作成した際に利用した係数と推定された回帰係数は一致する."
      ]
    },
    {
      "cell_type": "code",
      "execution_count": null,
      "id": "cd17e2c1-2777-4083-9187-55244f679561",
      "metadata": {},
      "outputs": [],
      "source": [
        "pop_lm <- lm(y ~ x, data = pop)\n",
        "jtools::j_summ(pop_lm)"
      ]
    },
    {
      "cell_type": "markdown",
      "id": "8fe1a77e-ccc9-40ca-8cea-8456f043b823",
      "metadata": {},
      "source": [
        "### モンテカルロ・シミュレーション\n",
        "\n",
        "母集団からサイズ100の標本を1000個作成し, xの回帰係数を求める."
      ]
    },
    {
      "cell_type": "code",
      "execution_count": null,
      "id": "5334256d-95a7-4e9c-81f2-7625141be211",
      "metadata": {},
      "outputs": [],
      "source": [
        "p_load(broom)\n",
        "sim_data <- with_seed(\n",
        "  27182,\n",
        "  map(1:1000, \n",
        "      \\(x) slice_sample(pop, n = 100))) |>\n",
        "  list_rbind(names_to = \"number\") |> \n",
        "  group_split(number) |> \n",
        "  map(\\(data) lm(y ~ x, data = data)) |> \n",
        "  map(broom::tidy) |> \n",
        "  list_rbind()"
      ]
    },
    {
      "cell_type": "markdown",
      "id": "ebe43866-dbb9-49a8-91e0-4c09b49c6504",
      "metadata": {},
      "source": [
        "### 回帰係数と不偏性\n",
        "\n",
        "サンプル抽出を繰り返し, 回帰係数の期待値(平均)を取ると真の値と一致する."
      ]
    },
    {
      "cell_type": "code",
      "execution_count": null,
      "id": "b04a08ba-0818-4b75-858f-be4b482d1455",
      "metadata": {},
      "outputs": [],
      "source": [
        "sim_data |>\n",
        "  group_by(term) |> \n",
        "  summarise(mean(estimate))"
      ]
    },
    {
      "cell_type": "markdown",
      "id": "1e5c1abb-59e7-46f6-88b2-270579a054ce",
      "metadata": {},
      "source": [
        "### 標本サイズを少しずつ増やす\n",
        "\n",
        "サンプルサイズ10000に達するまで漸近的にサンプルサイズを増やしながら無作為抽出を行う."
      ]
    },
    {
      "cell_type": "code",
      "execution_count": null,
      "id": "f0ccf1ff-2621-4bed-a929-a004570b2edf",
      "metadata": {},
      "outputs": [],
      "source": [
        "list2 <- 3:1000\n",
        "sim_data2 <- with_seed(\n",
        "  27182,\n",
        "  list2 |> \n",
        "    map(\\(size) slice_sample(pop, n = size))) |>\n",
        "  list_rbind(names_to = \"number\") |> \n",
        "  group_split(number) |>\n",
        "  map(\\(data) lm(y ~ x, data = data)) |> \n",
        "  map(broom::tidy) |> \n",
        "  list_rbind(names_to = \"number\")"
      ]
    },
    {
      "cell_type": "markdown",
      "id": "e7a563f0-e284-44fb-9192-efff9d53ca1f",
      "metadata": {},
      "source": [
        "### 回帰係数と一致性\n",
        "\n",
        "サンプルサイズが大きくなるにつれて標本の回帰係数は真の値に近づいていく."
      ]
    },
    {
      "cell_type": "code",
      "execution_count": null,
      "id": "b7c7d57d-0f40-49a6-9507-9de46a21c54f",
      "metadata": {},
      "outputs": [],
      "source": [
        "sim_data2 |>\n",
        "  mutate(\n",
        "    true = if_else(term == \"x\",\n",
        "                   3, 2)) |> \n",
        "  ggplot() +\n",
        "  aes(x = number) +\n",
        "  geom_line(aes(y = estimate)) +\n",
        "  geom_line(aes(y = true),\n",
        "            colour = \"red\") + \n",
        "  facet_wrap(~ term,\n",
        "             scales = \"free\")"
      ]
    }
  ],
  "metadata": {
    "kernelspec": {
      "display_name": "Python 3",
      "language": "python",
      "name": "python3"
    }
  },
  "nbformat": 4,
  "nbformat_minor": 5
}
