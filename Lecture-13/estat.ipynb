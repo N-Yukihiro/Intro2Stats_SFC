{
  "cells": [
    {
      "cell_type": "markdown",
      "metadata": {},
      "source": [
        "# e-statを利用した統計分析\n",
        "\n",
        "# Today’s Practice\n",
        "\n",
        "### 今日の演習の目標\n",
        "\n",
        "e-stat APIを利用できるようになる. e-stat\n",
        "APIを使って分析ができるようになる.\n",
        "\n",
        "# e-Stat API\n",
        "\n",
        "### e-Stat\n",
        "\n",
        "e-Stat(https://www.e-stat.go.jp/) は,\n",
        "日本の統計が閲覧できる政府統計ポータルサイト. 国勢調査をはじめ,\n",
        "多くの統計調査の結果が掲載されている. しかしながら,\n",
        "公開される統計情報は表示に特化され, 分析しやすい形ではない.\n",
        "\n",
        "### e-Stat API\n",
        "\n",
        "e-Statが提供するAPI(Application Programming Interface). API機能とは,\n",
        "e-Statからの特定データを手作業によることなく,\n",
        "自動で取得することが可能になる機能. XML, JSON,\n",
        "CSVなどによってデータが提供される. 利用には登録が必要.\n",
        "\n",
        "# estatapi\n",
        "\n",
        "### estatapi\n",
        "\n",
        "`estatapi`は, e-Stat APIを利用するためのパッケージ.\n",
        "以下の4つの機能をサポート. - 統計表情報取得:\n",
        "提供されている統計表を検索 - メタ情報取得: 統計データのメタ情報を取得 -\n",
        "統計データ取得: 統計データを取得 - データカタログ情報取得:\n",
        "統計表ファイル(Excel, CSV, PDF)および統計データベースの情報を取得\n",
        "\n",
        "### appIdの利用\n",
        "\n",
        "まず, e-statで先ほど作成したIDを変数として格納する."
      ],
      "id": "34323e38-2e57-479d-8b1a-d67d7ef92287"
    },
    {
      "cell_type": "code",
      "execution_count": null,
      "metadata": {},
      "outputs": [],
      "source": [
        "appId <- \"各自のappId\""
      ],
      "id": "909ee592-e821-4c42-a6a9-418f8465809b"
    },
    {
      "cell_type": "markdown",
      "metadata": {},
      "source": [
        "### 統計表情報取得(`estat_getStatsList`)\n",
        "\n",
        "どのような統計表が提供されているのか検索するには,\n",
        "`estat_getStatsList`を利用する. キーワードを含む統計を検索するには,\n",
        "`searchWord`に指定する. 特に`STATISTICS_NAME`や`TITLE`に注目し,\n",
        "`@id`が何かを確認する. 検索する際には,\n",
        "`View`を用いて視覚的に探しても良いし,\n",
        "`dplyr::filter`などを利用しても良い."
      ],
      "id": "f03c6bd8-031e-4ebd-8ef4-00994023804f"
    },
    {
      "cell_type": "code",
      "execution_count": null,
      "metadata": {},
      "outputs": [],
      "source": [
        "library(pacman)\n",
        "p_load(estatapi, dplyr)\n",
        "estat_getStatsList(appId      = appId,\n",
        "                   searchWord = \"人口\") |> \n",
        "  head()"
      ],
      "id": "371bd98f-4e89-45f0-92c2-e81280ea6233"
    },
    {
      "cell_type": "markdown",
      "metadata": {},
      "source": [
        "### メタ情報取得(`estat_getMetaInfo`)\n",
        "\n",
        "統計データのメタ情報取得するには, `estat_getMetaInfo`を利用し, -\n",
        "statsDataIdにIDを指定する.\n",
        "ここでは2021年の都道府県別5歳階級別人口推計データ(0003448237)のメタ情報を取得する.\n",
        "結果はlist形式で返される. listの各要素がdata frameになっている."
      ],
      "id": "9c409ad6-0336-4d9f-a564-98f71633a5cc"
    },
    {
      "cell_type": "code",
      "execution_count": null,
      "metadata": {},
      "outputs": [],
      "source": [
        "meta_info <- estat_getMetaInfo(appId       = appId, \n",
        "                               statsDataId = \"0003448237\")\n",
        "meta_info |> names()"
      ],
      "id": "f1bf24a3-ca25-498c-88eb-548ba0c0db02"
    },
    {
      "cell_type": "markdown",
      "metadata": {},
      "source": [
        "`cat**`に様々な属性情報が含まれている"
      ],
      "id": "1343e210-c39b-436d-9e60-34f25371eea6"
    },
    {
      "cell_type": "code",
      "execution_count": null,
      "metadata": {},
      "outputs": [],
      "source": [
        "meta_info$cat01\n",
        "meta_info$cat02\n",
        "meta_info$cat03\n",
        "meta_info$area\n",
        "meta_info$time"
      ],
      "id": "430a5447-9af0-47a9-b7fd-32ff99c1c32f"
    },
    {
      "cell_type": "markdown",
      "metadata": {},
      "source": [
        "### 統計データ取得(`estat_getStatsData`)\n",
        "\n",
        "統計データ取得には, `estat_getStatsData`を利用する.\n",
        "必ず指定しなければならない引数は, `appId`と`statsDataId`. しかし,\n",
        "データが大きくなりすぎる場合がある. `cdCat**`などを利用して,\n",
        "データを絞ることも必要. 男女総数かつ総人口,\n",
        "人口総数もしくは65歳以上の人口に絞って取得する."
      ],
      "id": "c592e606-ee8a-4079-86c4-35f9b54db9d6"
    },
    {
      "cell_type": "code",
      "execution_count": null,
      "metadata": {},
      "outputs": [],
      "source": [
        "df <- estat_getStatsData(\n",
        "  appId       = appId, \n",
        "  statsDataId = \"0003448237\", \n",
        "  cdCat01     = \"000\",\n",
        "  cdCat02     = c(\"01000\", \"01014\", \"01015\", \n",
        "                  \"01016\", \"01017\", \"04018\"),\n",
        "  cdCat03     = \"001\")"
      ],
      "id": "085c3389-48ec-45e3-8cf1-be2c277a1b03"
    },
    {
      "cell_type": "markdown",
      "metadata": {},
      "source": [
        "# データの整形\n",
        "\n",
        "### 列の選択\n",
        "\n",
        "データの整形には`dplyr`パッケージを利用する. 必要のない列が多いので,\n",
        "必要な列のみを選択する. 列を選択するには, `dplyr::select`を利用する."
      ],
      "id": "543c4fda-c194-4962-a816-14d9a0b5f51b"
    },
    {
      "cell_type": "code",
      "execution_count": null,
      "metadata": {},
      "outputs": [],
      "source": [
        "df <- dplyr::select(df, 5, 6, 9, 10, 14)"
      ],
      "id": "ab19ca5f-8fe6-42b9-87ab-f8d3b8edee18"
    },
    {
      "cell_type": "markdown",
      "metadata": {},
      "source": [
        "### 行の選択\n",
        "\n",
        "次に, データから全国のデータを取り除く.\n",
        "データを取り除くには`dplyr::filter`を利用する."
      ],
      "id": "27edb484-d25c-49e3-8d75-a5ba878ca587"
    },
    {
      "cell_type": "code",
      "execution_count": null,
      "metadata": {},
      "outputs": [],
      "source": [
        "df <- dplyr::filter(df, area_code != \"00000\") |> \n",
        "  filter(time_code == \"1301\")"
      ],
      "id": "15206dd7-374b-4f91-84f4-7f7e9d52d8d2"
    },
    {
      "cell_type": "markdown",
      "metadata": {},
      "source": [
        "人口総数のデータと5歳階級別65歳以上人口のデータに分ける."
      ],
      "id": "3e1191ed-99ec-465f-80a0-1d763a39caab"
    },
    {
      "cell_type": "code",
      "execution_count": null,
      "metadata": {},
      "outputs": [],
      "source": [
        "df_all <- dplyr::filter(df, cat02_code == \"01000\")\n",
        "df_65  <- dplyr::filter(df, cat02_code != \"01000\")"
      ],
      "id": "4449f4f4-b8a9-40b3-959b-532183de6727"
    },
    {
      "cell_type": "markdown",
      "metadata": {},
      "source": [
        "### データの集約\n",
        "\n",
        "5歳階級別65歳以上人口のデータから都道府県別65歳以上人口の合計を求める."
      ],
      "id": "680b5b90-57de-4767-9c22-1cc2e4020060"
    },
    {
      "cell_type": "code",
      "execution_count": null,
      "metadata": {},
      "outputs": [],
      "source": [
        "df_65 <- df_65 |> \n",
        "  dplyr::group_by(area_code) |> \n",
        "  dplyr::summarise(pop_65 = sum(value))"
      ],
      "id": "2812a927-ee8f-444c-b2d2-7546ad11171b"
    },
    {
      "cell_type": "markdown",
      "metadata": {},
      "source": [
        "### データの結合\n",
        "\n",
        "データフレーム同士を列をキーにして結合するには,\n",
        "`dplyr::left_join`を利用する."
      ],
      "id": "59a6ef81-8a72-4303-b89c-9c2764fb4dd2"
    },
    {
      "cell_type": "code",
      "execution_count": null,
      "metadata": {},
      "outputs": [],
      "source": [
        "df2 <- dplyr::left_join(df_all, df_65,\n",
        "                        key = \"area_code\")"
      ],
      "id": "034ed735-d733-48fa-87aa-9d8eed17e901"
    },
    {
      "cell_type": "markdown",
      "metadata": {},
      "source": [
        "### 新しい列の作成\n",
        "\n",
        "新しい列を作成するには, `dplyr::mutate`を利用する.\n",
        "65歳以上人口と総人口から高齢化率を求める."
      ],
      "id": "9e90ce93-8746-41d5-ad1a-d571d6b34749"
    },
    {
      "cell_type": "code",
      "execution_count": null,
      "metadata": {},
      "outputs": [],
      "source": [
        "df2 <- mutate(df2, \n",
        "              aged_ratio = pop_65 / value)"
      ],
      "id": "64bef71d-61d3-4d81-9f34-b5a9d8bed8da"
    },
    {
      "cell_type": "markdown",
      "metadata": {},
      "source": [
        "# 分析\n",
        "\n",
        "### ヒストグラム\n",
        "\n",
        "都道府県別高齢化率のヒストグラムを描画する."
      ],
      "id": "9e7dce7f-aa13-4723-9bad-4abbdac97fbc"
    },
    {
      "cell_type": "code",
      "execution_count": null,
      "metadata": {},
      "outputs": [],
      "source": [
        "p_load(ggplot2)\n",
        "ggplot(df2) +\n",
        "  aes(x = aged_ratio) +\n",
        "  geom_histogram()"
      ],
      "id": "b7a6080b-6b5d-4801-8707-6c1bf234ca72"
    },
    {
      "cell_type": "markdown",
      "metadata": {},
      "source": [
        "### 散布図\n",
        "\n",
        "都道府県別高齢化率と総人口の散布図を描画する."
      ],
      "id": "075e5750-7250-49b9-80d7-9b7dd285dca5"
    },
    {
      "cell_type": "code",
      "execution_count": null,
      "metadata": {},
      "outputs": [],
      "source": [
        "ggplot(df2) +\n",
        "  aes(x = value,\n",
        "      y = aged_ratio) +\n",
        "  geom_point()"
      ],
      "id": "1105c40c-1e13-414c-9021-55a030a9577f"
    },
    {
      "cell_type": "markdown",
      "metadata": {},
      "source": [
        "### 回帰分析\n",
        "\n",
        "高齢化率を結果変数に, 総人口を説明変数にして回帰分析を行う. なお,\n",
        "この分析は参考のために行っており, 因果関係を求めるものではない."
      ],
      "id": "5ef687c4-8df3-44c9-a407-d6a4d0099230"
    },
    {
      "cell_type": "code",
      "execution_count": null,
      "metadata": {},
      "outputs": [],
      "source": [
        "df_lm <- lm(aged_ratio ~ value,\n",
        "            data = df2)"
      ],
      "id": "c72ba383-a6b2-417c-af00-13d40c7f6074"
    },
    {
      "cell_type": "markdown",
      "metadata": {},
      "source": [
        "### 結果の表示\n",
        "\n",
        "分析の結果をきれいに表示するには, `stargazer`を利用する."
      ],
      "id": "4d97bbdc-d83c-4a11-b727-336ee857dc71"
    },
    {
      "cell_type": "code",
      "execution_count": null,
      "metadata": {},
      "outputs": [],
      "source": [
        "p_load(stargazer)\n",
        "stargazer(df_lm,\n",
        "          type              = \"text\", \n",
        "          style             = \"all\",\n",
        "          ci                = TRUE,\n",
        "          star.cutoffs      = NA,\n",
        "          omit.table.layout = 'n',\n",
        "          align             = TRUE)"
      ],
      "id": "47534cb5-5126-4d72-9dc6-ddeecb5cfab5"
    },
    {
      "cell_type": "markdown",
      "metadata": {},
      "source": [
        "### 回帰係数の図示\n",
        "\n",
        "`coefplot`パッケージの`coefplot()`関数を利用して推定された係数を図示する."
      ],
      "id": "048f553d-620d-4bc2-a380-8e20ccc2e3bc"
    },
    {
      "cell_type": "code",
      "execution_count": null,
      "metadata": {},
      "outputs": [],
      "source": [
        "p_load(coefplot)\n",
        "coefplot(df_lm)"
      ],
      "id": "021afcac-1c6e-4b4a-8f76-b2a278a3711b"
    },
    {
      "cell_type": "markdown",
      "metadata": {},
      "source": [
        "### 散布図に回帰直線を加える\n",
        "\n",
        "散布図に回帰直線と信頼区間を加える."
      ],
      "id": "2c34dc0c-1b71-49d5-af45-81d33391d5a7"
    },
    {
      "cell_type": "code",
      "execution_count": null,
      "metadata": {},
      "outputs": [],
      "source": [
        "df2 |> \n",
        "  ggplot() +\n",
        "  aes(x = value, \n",
        "      y = aged_ratio) + \n",
        "  geom_point() +\n",
        "  geom_smooth(method = \"lm\")"
      ],
      "id": "f8d56e83-2e4b-4670-beed-897a0d0f2cb9"
    },
    {
      "cell_type": "markdown",
      "metadata": {},
      "source": [
        "# Appendix\n",
        "\n",
        "### 統計データを少しだけ取得する\n",
        "\n",
        "統計データを少しだけ取得するためには, 取得数を`limit`で制限する."
      ],
      "id": "1733db96-2825-4447-8a99-f065ac51f22f"
    },
    {
      "cell_type": "code",
      "execution_count": null,
      "metadata": {},
      "outputs": [],
      "source": [
        "df_limit <- estat_getStatsData(\n",
        "  appId       = appId, \n",
        "  statsDataId = \"0003448237\", \n",
        "  limit       = 5)"
      ],
      "id": "fe79f8a2-97ef-47c7-a198-1681ec30aa48"
    },
    {
      "cell_type": "markdown",
      "metadata": {},
      "source": [
        "### ダウンロードしたファイルの読み込み\n",
        "\n",
        "非表示の列や行があるため, 実はこれでもきれいな形にはなりきっていない.\n",
        "問題があれば読み込みで対処する."
      ],
      "id": "f150003c-8b12-4ea4-a276-534855e5307c"
    },
    {
      "cell_type": "code",
      "execution_count": null,
      "metadata": {},
      "outputs": [],
      "source": [
        "p_load(readxl, here)\n",
        "df_xl <- readxl::read_excel(here(\"data\",\n",
        "                                 \"a01000.xls\"),\n",
        "                            skip = 2) |> \n",
        "  dplyr::select(-c(1:6))"
      ],
      "id": "930cc509-2573-47a6-ba8a-603bcbed20e1"
    },
    {
      "cell_type": "markdown",
      "metadata": {},
      "source": [
        "###"
      ],
      "id": "6e411816-386e-4e55-9264-f4710e176588"
    },
    {
      "cell_type": "code",
      "execution_count": null,
      "metadata": {},
      "outputs": [],
      "source": [
        "df_xl |> \n",
        "  head()"
      ],
      "id": "4f2e00b1-5100-4bfc-a807-0833687f7800"
    }
  ],
  "nbformat": 4,
  "nbformat_minor": 5,
  "metadata": {
    "kernelspec": {
      "display_name": "Python 3",
      "language": "python",
      "name": "python3"
    }
  }
}