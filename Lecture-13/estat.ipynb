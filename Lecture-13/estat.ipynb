{
  "cells": [
    {
      "cell_type": "markdown",
      "id": "1b5cdadc-9f24-4f7a-ace1-f29116bb5e1b",
      "metadata": {},
      "source": [
        "# e-statを利用した統計分析\n",
        "\n",
        "# Today’s Practice\n",
        "\n",
        "### 今日の演習の目標\n",
        "\n",
        "e-stat APIを利用できるようになる. e-stat\n",
        "APIを使って分析ができるようになる.\n",
        "\n",
        "# e-Stat API\n",
        "\n",
        "### e-Stat\n",
        "\n",
        "e-Stat(https://www.e-stat.go.jp/) は,\n",
        "日本の統計が閲覧できる政府統計ポータルサイト. 国勢調査をはじめ,\n",
        "多くの統計調査の結果が掲載されている. しかしながら,\n",
        "公開される統計情報は表示に特化され, 分析しやすい形ではない.\n",
        "\n",
        "### e-Stat API\n",
        "\n",
        "e-Statが提供するAPI(Application Programming Interface). API機能とは,\n",
        "e-Statからの特定データを手作業によることなく,\n",
        "自動で取得することが可能になる機能. XML, JSON,\n",
        "CSVなどによってデータが提供される. 利用には登録が必要.\n",
        "\n",
        "# estatapi\n",
        "\n",
        "### estatapi\n",
        "\n",
        "`estatapi`は, e-Stat APIを利用するためのパッケージ.\n",
        "以下の4つの機能をサポート. - 統計表情報取得:\n",
        "提供されている統計表を検索 - メタ情報取得: 統計データのメタ情報を取得 -\n",
        "統計データ取得: 統計データを取得 - データカタログ情報取得:\n",
        "統計表ファイル(Excel, CSV, PDF)および統計データベースの情報を取得\n",
        "\n",
        "### appIdの利用\n",
        "\n",
        "まず, e-statで先ほど作成したIDを`.env`ファイルに保存し,\n",
        "`dotenv`パッケージを利用して読み込む."
      ]
    },
    {
      "cell_type": "code",
      "execution_count": null,
      "id": "61f137a7-f4db-4757-8369-29b91f1e3e8f",
      "metadata": {},
      "outputs": [],
      "source": [
        "library(pacman)\n",
        "p_load(dotenv)\n",
        "dotenv::load_dot_env()\n",
        "appId <- Sys.getenv(\"appId\")"
      ]
    },
    {
      "cell_type": "markdown",
      "id": "4f12a234-1629-4152-90d1-36d6d99cfdfc",
      "metadata": {},
      "source": [
        "### 統計表情報取得(`estat_getStatsList`)\n",
        "\n",
        "どのような統計表が提供されているのか検索するには,\n",
        "`estat_getStatsList`を利用する. キーワードを含む統計を検索するには,\n",
        "`searchWord`に指定する. 特に`STATISTICS_NAME`や`TITLE`に注目し,\n",
        "`@id`が何かを確認する. 検索する際には,\n",
        "`View`を用いて視覚的に探しても良いし,\n",
        "`dplyr::filter`などを利用しても良い."
      ]
    },
    {
      "cell_type": "code",
      "execution_count": null,
      "id": "ecad126e-9731-44c2-a1c8-31e17cc6b22e",
      "metadata": {},
      "outputs": [],
      "source": [
        "p_load(estatapi, dplyr)\n",
        "estat_getStatsList(appId      = appId,\n",
        "                   searchWord = \"人口\") |> \n",
        "  head()"
      ]
    },
    {
      "cell_type": "markdown",
      "id": "16397aaf-a4c6-46f7-aeff-a7009254d428",
      "metadata": {},
      "source": [
        "### メタ情報取得(`estat_getMetaInfo`)\n",
        "\n",
        "統計データのメタ情報取得するには, `estat_getMetaInfo`を利用し, -\n",
        "statsDataIdにIDを指定する.\n",
        "ここでは2021年の都道府県別5歳階級別人口推計データ(0003448237)のメタ情報を取得する.\n",
        "結果はlist形式で返される. listの各要素がdata frameになっている."
      ]
    },
    {
      "cell_type": "code",
      "execution_count": null,
      "id": "e8c5a283-2c5f-4ea1-a8ad-fbf72413b1c0",
      "metadata": {},
      "outputs": [],
      "source": [
        "meta_info <- estat_getMetaInfo(appId       = appId, \n",
        "                               statsDataId = \"0003448237\")\n",
        "meta_info |> names()"
      ]
    },
    {
      "cell_type": "markdown",
      "id": "40a2da83-cc4d-4c44-91c0-7c39488fe66f",
      "metadata": {},
      "source": [
        "`cat**`に様々な属性情報が含まれている"
      ]
    },
    {
      "cell_type": "code",
      "execution_count": null,
      "id": "33c77f63-fbf7-4e10-bd5b-23570b70e3aa",
      "metadata": {},
      "outputs": [],
      "source": [
        "meta_info$cat01"
      ]
    },
    {
      "cell_type": "markdown",
      "id": "25af8298-5a55-4627-a012-3de6e9cb4c65",
      "metadata": {},
      "source": [
        "### 統計データ取得(`estat_getStatsData`)\n",
        "\n",
        "統計データ取得には, `estat_getStatsData`を利用する.\n",
        "必ず指定しなければならない引数は, `appId`と`statsDataId`. しかし,\n",
        "データが大きくなりすぎる場合がある. `cdCat**`などを利用して,\n",
        "データを絞ることも必要. 男女総数かつ総人口,\n",
        "人口総数もしくは65歳以上の人口に絞って取得する."
      ]
    },
    {
      "cell_type": "code",
      "execution_count": null,
      "id": "ef031d5b-16d4-4281-8e7c-74320bb686da",
      "metadata": {},
      "outputs": [],
      "source": [
        "df <- estat_getStatsData(\n",
        "  appId       = appId, \n",
        "  statsDataId = \"0003448237\", \n",
        "  cdCat01     = \"000\",\n",
        "  cdCat02     = c(\"01000\", \"01014\", \"01015\", \n",
        "                  \"01016\", \"01017\", \"04018\"),\n",
        "  cdCat03     = \"001\")"
      ]
    },
    {
      "cell_type": "markdown",
      "id": "404c7c2b-d10a-4dae-9344-3edd71b5a05a",
      "metadata": {},
      "source": [
        "# データの整形\n",
        "\n",
        "### 列の選択\n",
        "\n",
        "データの整形には`dplyr`パッケージを利用する. 必要のない列が多いので,\n",
        "必要な列のみを選択する. 列を選択するには, `dplyr::select`を利用する."
      ]
    },
    {
      "cell_type": "code",
      "execution_count": null,
      "id": "a49f1e73-26d6-4e3b-97d9-2d3004670b02",
      "metadata": {},
      "outputs": [],
      "source": [
        "selected_df <- dplyr::select(\n",
        "  df,\n",
        "  area_code,\n",
        "  pref = `全国・都道府県`,\n",
        "  time_code,\n",
        "  cat02_code, \n",
        "  value\n",
        ")"
      ]
    },
    {
      "cell_type": "markdown",
      "id": "32ad6f17-6aec-408d-bcfc-0ecdbd8e5633",
      "metadata": {},
      "source": [
        "### 行の選択\n",
        "\n",
        "次に, データから全国のデータを取り除く.\n",
        "データを取り除くには`dplyr::filter`を利用する."
      ]
    },
    {
      "cell_type": "code",
      "execution_count": null,
      "id": "56a64218-2ba2-4bc1-a16e-9003fccd2077",
      "metadata": {},
      "outputs": [],
      "source": [
        "filtered_df <- dplyr::filter(selected_df, area_code != \"00000\") |> \n",
        "  dplyr::filter(time_code == \"1301\")"
      ]
    },
    {
      "cell_type": "markdown",
      "id": "ae890196-1672-4bfa-834c-0a66fba78a59",
      "metadata": {},
      "source": [
        "人口総数のデータと5歳階級別65歳以上人口のデータに分ける."
      ]
    },
    {
      "cell_type": "code",
      "execution_count": null,
      "id": "49f94dbb-5b9e-402f-8d42-e48b422b4494",
      "metadata": {},
      "outputs": [],
      "source": [
        "df_all <- dplyr::filter(filtered_df, cat02_code == \"01000\")\n",
        "df_65  <- dplyr::filter(filtered_df, cat02_code != \"01000\")"
      ]
    },
    {
      "cell_type": "markdown",
      "id": "c487ca15-73a4-4867-9391-d159e497e0c3",
      "metadata": {},
      "source": [
        "### データの集約\n",
        "\n",
        "5歳階級別65歳以上人口のデータから都道府県別65歳以上人口の合計を求める."
      ]
    },
    {
      "cell_type": "code",
      "execution_count": null,
      "id": "76a449ef-60e4-4337-8685-65a36cdcb6e2",
      "metadata": {},
      "outputs": [],
      "source": [
        "df_65_aggregated <- df_65 |> \n",
        "  dplyr::group_by(area_code) |> \n",
        "  dplyr::summarise(pop_65 = sum(value))"
      ]
    },
    {
      "cell_type": "markdown",
      "id": "bed9d697-ae96-4278-8512-4f8ddc517718",
      "metadata": {},
      "source": [
        "### データの結合\n",
        "\n",
        "データフレーム同士を列をキーにして結合するには,\n",
        "`dplyr::left_join`を利用する."
      ]
    },
    {
      "cell_type": "code",
      "execution_count": null,
      "id": "faf33a9c-a5aa-49e0-ae34-17647a75f558",
      "metadata": {},
      "outputs": [],
      "source": [
        "df2 <- dplyr::left_join(df_all, df_65_aggregated,\n",
        "                        by = \"area_code\")"
      ]
    },
    {
      "cell_type": "markdown",
      "id": "3c11807c-c1cc-49cb-9b8b-8d7790254417",
      "metadata": {},
      "source": [
        "### 新しい列の作成\n",
        "\n",
        "新しい列を作成するには, `dplyr::mutate`を利用する.\n",
        "65歳以上人口と総人口から高齢化率を求める."
      ]
    },
    {
      "cell_type": "code",
      "execution_count": null,
      "id": "c2c69013-d1c6-4c0e-9eb5-55ca09f53725",
      "metadata": {},
      "outputs": [],
      "source": [
        "df2 <- dplyr::mutate(df2, \n",
        "                     aged_ratio = pop_65 / value)"
      ]
    },
    {
      "cell_type": "markdown",
      "id": "d08e3ed8-aaeb-4f66-9e7e-a08b464add2b",
      "metadata": {},
      "source": [
        "# 分析\n",
        "\n",
        "### ヒストグラム\n",
        "\n",
        "都道府県別高齢化率のヒストグラムを描画する."
      ]
    },
    {
      "cell_type": "code",
      "execution_count": null,
      "id": "434ec78f-0537-403a-94cf-35442d21ef9d",
      "metadata": {},
      "outputs": [],
      "source": [
        "p_load(ggplot2)\n",
        "ggplot(df2) +\n",
        "  aes(x = aged_ratio) +\n",
        "  geom_histogram()"
      ]
    },
    {
      "cell_type": "markdown",
      "id": "f0983ca5-7be8-4c76-9297-40a62e998317",
      "metadata": {},
      "source": [
        "### 散布図\n",
        "\n",
        "都道府県別高齢化率と総人口の散布図を描画する."
      ]
    },
    {
      "cell_type": "code",
      "execution_count": null,
      "id": "7cfd6655-12e1-4e2a-85d4-4b5c907ffbe6",
      "metadata": {},
      "outputs": [],
      "source": [
        "ggplot(df2) +\n",
        "  aes(x = value,\n",
        "      y = aged_ratio) +\n",
        "  geom_point()"
      ]
    },
    {
      "cell_type": "markdown",
      "id": "76cd3fc9-8999-4085-9b4d-9309bf620a94",
      "metadata": {},
      "source": [
        "### 回帰分析\n",
        "\n",
        "高齢化率を結果変数に, 総人口を説明変数にして回帰分析を行う. なお,\n",
        "この分析は参考のために行っており, 因果関係を求めるものではない."
      ]
    },
    {
      "cell_type": "code",
      "execution_count": null,
      "id": "acfc83e0-d553-4df1-8591-1854b1256aea",
      "metadata": {},
      "outputs": [],
      "source": [
        "df_lm <- lm(aged_ratio ~ value,\n",
        "            data = df2)"
      ]
    },
    {
      "cell_type": "markdown",
      "id": "283cff48-8858-49aa-b15e-d83ecbe8b38a",
      "metadata": {},
      "source": [
        "### 結果の表示\n",
        "\n",
        "分析の結果をきれいに表示するには, `stargazer`を利用する."
      ]
    },
    {
      "cell_type": "code",
      "execution_count": null,
      "id": "e3111283-56eb-4b00-b7df-f6812b02b189",
      "metadata": {},
      "outputs": [],
      "source": [
        "p_load(stargazer)\n",
        "stargazer(df_lm,\n",
        "          type              = \"text\", \n",
        "          style             = \"all\",\n",
        "          ci                = TRUE,\n",
        "          star.cutoffs      = NA,\n",
        "          omit.table.layout = 'n',\n",
        "          align             = TRUE)"
      ]
    },
    {
      "cell_type": "markdown",
      "id": "810ad159-a9d5-47de-b38e-ef7b8e4853c4",
      "metadata": {},
      "source": [
        "### 回帰係数の図示\n",
        "\n",
        "`coefplot`パッケージの`coefplot()`関数を利用して推定された係数を図示する."
      ]
    },
    {
      "cell_type": "code",
      "execution_count": null,
      "id": "c168b115-433d-4291-9b4f-9434a84cb611",
      "metadata": {},
      "outputs": [],
      "source": [
        "p_load(coefplot)\n",
        "coefplot(df_lm)"
      ]
    },
    {
      "cell_type": "markdown",
      "id": "ec02b88b-1a71-4b62-b329-409df09a5796",
      "metadata": {},
      "source": [
        "### 散布図に回帰直線を加える\n",
        "\n",
        "散布図に回帰直線と信頼区間を加える."
      ]
    },
    {
      "cell_type": "code",
      "execution_count": null,
      "id": "7e8a7069-ca40-4dde-8a5c-a7f0208b96fb",
      "metadata": {},
      "outputs": [],
      "source": [
        "df2 |> \n",
        "  ggplot() +\n",
        "  aes(x = value, \n",
        "      y = aged_ratio) + \n",
        "  geom_point() +\n",
        "  geom_smooth(method = \"lm\")"
      ]
    },
    {
      "cell_type": "markdown",
      "id": "74d45556-802d-4c95-b39d-ede06aa1b458",
      "metadata": {},
      "source": [
        "# Appendix\n",
        "\n",
        "### 統計データを少しだけ取得する\n",
        "\n",
        "統計データを少しだけ取得するためには, 取得数を`limit`で制限する."
      ]
    },
    {
      "cell_type": "code",
      "execution_count": null,
      "id": "69a952b2-1d97-471e-8932-fa58b24a00ec",
      "metadata": {},
      "outputs": [],
      "source": [
        "df_limit <- estat_getStatsData(\n",
        "  appId       = appId, \n",
        "  statsDataId = \"0003448237\", \n",
        "  limit       = 5)"
      ]
    },
    {
      "cell_type": "markdown",
      "id": "42cabbd4-8722-4ba2-ad79-cd14f19c9438",
      "metadata": {},
      "source": [
        "### ダウンロードしたファイルの読み込み\n",
        "\n",
        "非表示の列や行があるため, 実はこれでもきれいな形にはなりきっていない.\n",
        "問題があれば読み込みで対処する."
      ]
    },
    {
      "cell_type": "code",
      "execution_count": null,
      "id": "7912383b-8efc-4619-b04c-2568133af100",
      "metadata": {},
      "outputs": [],
      "source": [
        "p_load(readxl)\n",
        "df_xl <- readxl::read_excel(\"../data/a01000.xls\",\n",
        "                            skip = 2) |> \n",
        "  dplyr::select(-c(1:6))"
      ]
    },
    {
      "cell_type": "markdown",
      "id": "b42c8d32-5396-41da-b0cd-4c480e562038",
      "metadata": {},
      "source": [
        "###"
      ]
    },
    {
      "cell_type": "code",
      "execution_count": null,
      "id": "4d3a0d5a-ff6b-4414-8ae4-9fe9a2805892",
      "metadata": {},
      "outputs": [],
      "source": [
        "df_xl |> \n",
        "  head()"
      ]
    }
  ],
  "metadata": {
    "kernelspec": {
      "display_name": "Python 3",
      "language": "python",
      "name": "python3"
    }
  },
  "nbformat": 4,
  "nbformat_minor": 5
}
