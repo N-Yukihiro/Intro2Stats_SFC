{
  "cells": [
    {
      "cell_type": "markdown",
      "id": "e1b509fa-b26f-4d29-9b25-b43ffe96400f",
      "metadata": {},
      "source": [
        "# 信頼区間, 仮説検定\n",
        "\n",
        "# 分析結果の見方\n",
        "\n",
        "### データの読み込み\n",
        "\n",
        "『家計調査』2017年11月、第2−6表「年間収入階級別1世帯当たり1か月間の収入と支出」から作成した所得階級と支出のデータ`kakei201709_l18.csv`を用いる\\[^url\\].\n",
        "\n",
        "月間消費支出(円)(`CONS`), 月間消費支出(1万円)(`CONS1`),\n",
        "年間収入(1万円)(INC), 有業人員(人)(`WORK`). いずれも調査世帯の平均値."
      ]
    },
    {
      "cell_type": "code",
      "execution_count": null,
      "id": "872872db-faa6-4a0c-9140-30044e0fb5dc",
      "metadata": {},
      "outputs": [],
      "source": [
        "library(pacman)\n",
        "p_load(readr)\n",
        "kakei <- readr::read_csv(\"../data/kakei201709_l18.csv\")"
      ]
    },
    {
      "cell_type": "markdown",
      "id": "8af0bf99-d27c-4a9f-86e5-276cfe56c838",
      "metadata": {},
      "source": [
        "### 回帰分析の実行\n",
        "\n",
        "応答変数を`CONS1`, 説明変数を`INC`として単回帰分析を行う."
      ]
    },
    {
      "cell_type": "code",
      "execution_count": null,
      "id": "e4296801-d1f4-4338-84e7-93dacf0b60c0",
      "metadata": {},
      "outputs": [],
      "source": [
        "res <- lm(CONS1 ~ INC, data = kakei)"
      ]
    },
    {
      "cell_type": "markdown",
      "id": "15ab705d-c24e-4d7f-b0fe-d7e0eff8c0e9",
      "metadata": {},
      "source": [
        "### 結果の表示\n",
        "\n",
        "`jtools`パッケージを利用して回帰分析の結果を表示する."
      ]
    },
    {
      "cell_type": "code",
      "execution_count": null,
      "id": "652870f2-fef0-424e-bf4b-0355f42faa46",
      "metadata": {},
      "outputs": [],
      "source": [
        "p_load(jtools)\n",
        "summ(res)"
      ]
    },
    {
      "cell_type": "markdown",
      "id": "79e08fef-b898-4395-9429-f58eb7cf68a3",
      "metadata": {},
      "source": [
        "### 結果の読み方\n",
        "\n",
        "下方の表に推定結果がまとめられている. Est.(回帰係数)は以前紹介した通り.\n",
        "S.E.の列に標準誤差が示される.\n",
        "おおよそ$\\pm 2$倍して(正確な値は信頼区間)0を跨がなければ符号が変わらないのでその変数は意味が有る(有意)と言える.\n",
        "\n",
        "t val.にt値が示される. 回帰係数が0でないかどうかを検定した場合のt値.\n",
        "回帰係数が0であるという帰無仮説が棄却できるかを検証する.\n",
        "\n",
        "最後の列のpにp値が示される.\n",
        "帰無仮説が正しい(回帰係数が0である)と仮定した場合に,\n",
        "分析したデータが得られる確率($P(D|H_0)$).\n",
        "事前に有意水準($\\alpha$)を事前に設定し, それを下回るか否かで判断する.\n",
        "p値の大きさによって星をつけたり,\n",
        "小さいほどよいという解釈をしたりすることは本来のNeyman-Pearson流の考え方ではない.\n",
        "\n",
        "### 信頼区間の示し方\n",
        "\n",
        "回帰係数の95%信頼区間を表示するには, `summ(confint = TRUE)`を指定する.\n",
        "S.E.の代わりに信頼区間の下限と上限が示される.\n",
        "信頼区間が0をまたいでいなければ符号が変わらず有意な変数だと言える.\n",
        "`ci.width`という引数で信頼係数(信頼区間の幅)を変えることができる.\n",
        "指定をしない場合はデフォルトで95%信頼区間となる.\n",
        "有意水準と信頼係数は表裏の関係にあるため,\n",
        "有意水準に合わせて信頼係数を変更する."
      ]
    },
    {
      "cell_type": "code",
      "execution_count": null,
      "id": "74438fa3-4a1c-45c0-aacd-30e09f1d712b",
      "metadata": {},
      "outputs": [],
      "source": [
        "summ(res, \n",
        "     confint  = TRUE, \n",
        "     ci.width = .95)"
      ]
    },
    {
      "cell_type": "markdown",
      "id": "8163bb5d-0410-42df-9207-987e5afe68c7",
      "metadata": {},
      "source": [
        "### t値の求め方\n",
        "\n",
        "t値は回帰係数を標準誤差で除することで求めることができる."
      ]
    },
    {
      "cell_type": "code",
      "execution_count": null,
      "id": "44337035-71d5-4ebb-9f9d-47ccdf49dd14",
      "metadata": {},
      "outputs": [],
      "source": [
        "res$coefficients[2] / summary(res)$coefficients[2, 2]"
      ]
    },
    {
      "cell_type": "markdown",
      "id": "5e071dcb-240f-4566-aee9-19543bdadb65",
      "metadata": {},
      "source": [
        "### p値\n",
        "\n",
        "p値は帰無仮説が正しい場合に分析したデータが得られる確率.\n",
        "t分布からt値が得られる確率を求める. 両側検定のため2倍する."
      ]
    },
    {
      "cell_type": "code",
      "execution_count": null,
      "id": "567a2413-78ba-469b-ace3-2588809d6355",
      "metadata": {},
      "outputs": [],
      "source": [
        "p_load(magrittr)\n",
        "summary(res)$coefficients[2, 3] |>\n",
        "  pt(df = 16, lower.tail = FALSE) |> \n",
        "  multiply_by(2)"
      ]
    },
    {
      "cell_type": "markdown",
      "id": "f72d5385-2c32-4e1d-8374-bdbb124e456d",
      "metadata": {},
      "source": [
        "### p値のグラフ化\n",
        "\n",
        "t分布を描いて直感的にp値を捉える."
      ]
    },
    {
      "cell_type": "code",
      "execution_count": null,
      "id": "e19862ce-e89a-44f7-8667-8bf005dbaf05",
      "metadata": {},
      "outputs": [],
      "source": [
        "p_load(ggplot2)\n",
        "ggplot(data = NULL) +\n",
        "  xlim(-30, 30) +\n",
        "  geom_function(fun  = dt,\n",
        "                args = list(df = 16)) +\n",
        "  geom_vline(xintercept = 24) +\n",
        "  geom_vline(xintercept = -24)"
      ]
    },
    {
      "cell_type": "markdown",
      "id": "a5ebdb01-0558-43e8-86b8-b61446b1ffb8",
      "metadata": {},
      "source": [
        "# シミュレーションによる理解\n",
        "\n",
        "## データの準備\n",
        "\n",
        "### データの準備\n",
        "\n",
        "ここからの演習ではシミュレーションデータを用いる.\n",
        "母集団としてサイズが100万で平均2,\n",
        "分散4の正規分布に従う説明変数のデータを作成する. 応答変数は定数項が2,\n",
        "回帰係数は3とする."
      ]
    },
    {
      "cell_type": "code",
      "execution_count": null,
      "id": "669ecc5d-4b96-4dfc-91b6-1f9425298e62",
      "metadata": {},
      "outputs": [],
      "source": [
        "p_load(withr, dplyr, tibble)\n",
        "pop <- with_seed(\n",
        "  2718,\n",
        "  tibble(\n",
        "    x = rnorm(n    = 1000000,\n",
        "              mean = 2,\n",
        "              sd   = 4)) |> \n",
        "    mutate(y = 2 + 3 * x + rnorm(n = 1000000)))"
      ]
    },
    {
      "cell_type": "markdown",
      "id": "654f9bae-d7bc-4f7f-bda0-084c1fb44993",
      "metadata": {},
      "source": [
        "### 母集団のデータの概要\n",
        "\n",
        "母集団のデータの概要を確認する."
      ]
    },
    {
      "cell_type": "code",
      "execution_count": null,
      "id": "68da9305-855e-40f3-9052-3f1d676021da",
      "metadata": {},
      "outputs": [],
      "source": [
        "summary(pop)"
      ]
    },
    {
      "cell_type": "markdown",
      "id": "f2b91bde-cbf0-4841-95c0-a036dbe445bd",
      "metadata": {},
      "source": [
        "### 母集団の回帰係数\n",
        "\n",
        "母集団を作成した際に利用した係数と推定された回帰係数は一致する."
      ]
    },
    {
      "cell_type": "code",
      "execution_count": null,
      "id": "ea603e19-7181-448f-a0da-246beffbcca3",
      "metadata": {},
      "outputs": [],
      "source": [
        "pop_lm <- lm(y ~ x, data = pop)\n",
        "summ(pop_lm)"
      ]
    },
    {
      "cell_type": "markdown",
      "id": "e90a6655-d9a4-4859-bb70-1e02a78db874",
      "metadata": {},
      "source": [
        "### 別の母集団の準備\n",
        "\n",
        "-   説明変数の効果の小さな母集団も用意する"
      ]
    },
    {
      "cell_type": "code",
      "execution_count": null,
      "id": "df253418-291f-48c5-92b6-38650083df8d",
      "metadata": {},
      "outputs": [],
      "source": [
        "pop2 <- with_seed(\n",
        "  2718,\n",
        "  tibble(\n",
        "    x = rnorm(n    = 1000000,\n",
        "              mean = 2, \n",
        "              sd   = 4)) |> \n",
        "    mutate(y = 2 + 0.1 * x + rnorm(n  = 1000000,\n",
        "                                   sd = 5)))"
      ]
    },
    {
      "cell_type": "markdown",
      "id": "c2fd6879-8c7b-4237-80c7-bfee28f38902",
      "metadata": {},
      "source": [
        "### 別の母集団のデータの概要\n",
        "\n",
        "母集団のデータの概要を確認する."
      ]
    },
    {
      "cell_type": "code",
      "execution_count": null,
      "id": "2272e723-b0a6-48b5-ace9-755bcc5f2237",
      "metadata": {},
      "outputs": [],
      "source": [
        "summary(pop2)"
      ]
    },
    {
      "cell_type": "markdown",
      "id": "af1619e7-dd79-4f67-9b88-c9c2c4fc21dd",
      "metadata": {},
      "source": [
        "### 別の母集団の回帰係数\n",
        "\n",
        "母集団を作成した際に利用した係数と推定された回帰係数は一致する."
      ]
    },
    {
      "cell_type": "code",
      "execution_count": null,
      "id": "491ad2af-8ceb-49e0-b8dc-1e043bc424b1",
      "metadata": {},
      "outputs": [],
      "source": [
        "pop_lm2 <- lm(y ~ x, data = pop2)\n",
        "summ(pop_lm2)"
      ]
    },
    {
      "cell_type": "markdown",
      "id": "d5ddc9cf-3115-40b1-936b-22468093327b",
      "metadata": {},
      "source": [
        "## サンプルサイズと回帰係数\n",
        "\n",
        "### 標本による回帰\n",
        "\n",
        "標本としてサイズが5, 10, 30, 100, 1000, 5000のデータを無作為抽出し,\n",
        "回帰分析を行う. `confint()`を利用して回帰係数の95%信頼区間を得る."
      ]
    },
    {
      "cell_type": "code",
      "execution_count": null,
      "id": "10d8a0fa-0efb-4437-9f4e-39d9831f614e",
      "metadata": {},
      "outputs": [],
      "source": [
        "p_load(purrr)\n",
        "sample_lm <- with_seed(\n",
        "  2718,\n",
        "  list(5, 10, 30, 100, 1000, 5000) |> \n",
        "    purrr::map(\\(size) slice_sample(pop,\n",
        "                                    n = size)) |>\n",
        "    purrr::set_names(5, 10, 30, 100, 1000, 5000) |> \n",
        "    purrr::map(\\(data) lm(y ~ x, data = data)) |> \n",
        "    purrr::map(\\(result) confint(result,\n",
        "                                 parm = \"x\") |> \n",
        "                     as_tibble()) |> \n",
        "    list_rbind(names_to = \"size\"))"
      ]
    },
    {
      "cell_type": "markdown",
      "id": "b40b8663-11f9-4f34-a77b-41b52f5b6412",
      "metadata": {},
      "source": [
        "### 標本による回帰結果の図示\n",
        "\n",
        "結果を確認するときちんと95%信頼区間の範囲内に真値があることがわかる."
      ]
    },
    {
      "cell_type": "code",
      "execution_count": null,
      "id": "17dc2605-089b-46ed-8008-c4bb180ed763",
      "metadata": {},
      "outputs": [],
      "source": [
        "sample_lm |> \n",
        "  rename(low = 2, high = 3) |> \n",
        "  mutate(estimate = (low + high) / 2) |> \n",
        "  mutate(size = as.numeric(size) |> \n",
        "           as.factor()) |> \n",
        "  ggplot() +\n",
        "  geom_point() +\n",
        "  aes(x = size,\n",
        "      y = estimate) +\n",
        "  geom_errorbar(aes(x    = size, \n",
        "                    ymin = low,\n",
        "                    ymax = high), \n",
        "                width = .2) +\n",
        "  geom_hline(yintercept = 3,\n",
        "             linetype   = \"dashed\")"
      ]
    },
    {
      "cell_type": "markdown",
      "id": "6f013667-054a-4565-94d2-e8749cfc533e",
      "metadata": {},
      "source": [
        "## サンプルサイズと回帰係数(回帰係数の小さい場合)\n",
        "\n",
        "### 標本による回帰\n",
        "\n",
        "標本としてサイズが5, 10, 30, 100, 1000, 5000のデータを無作為抽出し,\n",
        "回帰分析を行う. `confint()`を利用して回帰係数の95%信頼区間を得る."
      ]
    },
    {
      "cell_type": "code",
      "execution_count": null,
      "id": "66674ef7-74cb-49d3-bda3-3dd605a2adba",
      "metadata": {},
      "outputs": [],
      "source": [
        "sample_lm2 <- with_seed(\n",
        "  2718,\n",
        "  list(5, 10, 30, 100, 1000, 5000) |> \n",
        "    purrr::map(\\(size) slice_sample(pop2,\n",
        "                                    n = size)) |>\n",
        "    purrr::set_names(5, 10, 30, 100, 1000, 5000) |> \n",
        "    purrr::map(\\(data) lm(y ~ x, data = data)) |> \n",
        "    purrr::map(\\(result) confint(result,\n",
        "                                 parm = \"x\") |> \n",
        "                 as_tibble()) |> \n",
        "    list_rbind(names_to = \"size\"))"
      ]
    },
    {
      "cell_type": "markdown",
      "id": "54435e93-09d9-4212-a0e5-585cfbacc15a",
      "metadata": {},
      "source": [
        "### 標本による回帰結果の図示\n",
        "\n",
        "結果を確認するときちんと95%信頼区間の範囲内に真値があることがわかる.\n",
        "説明変数の効果が小さい場合,\n",
        "サンプルサイズが小さいと帰無仮説を棄却できない."
      ]
    },
    {
      "cell_type": "code",
      "execution_count": null,
      "id": "1843e558-b858-4dc0-8bc7-43d93b5e841f",
      "metadata": {},
      "outputs": [],
      "source": [
        "sample_lm2 |> \n",
        "  rename(low = 2, high = 3) |> \n",
        "  mutate(estimate = (low + high) / 2) |> \n",
        "  mutate(size = as.numeric(size) |> \n",
        "           as.factor()) |> \n",
        "  ggplot() +\n",
        "  geom_point() +\n",
        "  aes(x = size,\n",
        "      y = estimate) +\n",
        "  geom_errorbar(aes(x    = size, \n",
        "                    ymin = low,\n",
        "                    ymax = high), \n",
        "                width = .2) +\n",
        "  geom_hline(yintercept = 0.1,\n",
        "             linetype   = \"dashed\") +\n",
        "  geom_hline(yintercept = 0,\n",
        "             colour     = \"red\")"
      ]
    },
    {
      "cell_type": "markdown",
      "id": "5b0dd9fe-46e6-474b-9aba-7a2719b243c5",
      "metadata": {},
      "source": [
        "## 信頼区間の意味\n",
        "\n",
        "### モンテカルロ・シミュレーション\n",
        "\n",
        "初めに作った母集団からサイズ300の標本を1000個作成し,\n",
        "xの回帰係数の95%信頼区間を求める.\n",
        "信頼区間に真値(母集団の係数)を含むか否かのダミー変数を作成する."
      ]
    },
    {
      "cell_type": "code",
      "execution_count": null,
      "id": "cf408a1f-096b-4be2-ac36-fad9671431e4",
      "metadata": {},
      "outputs": [],
      "source": [
        "sim_data <- with_seed(\n",
        "  2718,\n",
        "  map(1:1000,\n",
        "      \\(x) slice_sample(pop,\n",
        "                        n = 300)) |> \n",
        "    map(\\(data) lm(y ~ x, data = data)) |>\n",
        "    purrr::set_names(1:1000) |> \n",
        "    map(\\(result) confint(result,\n",
        "                          parm = \"x\") |> \n",
        "              as_tibble()) |>\n",
        "    list_rbind() |> \n",
        "    rename(low = 1, high = 2) |> \n",
        "    mutate(estimate = (low + high) / 2) |> \n",
        "    mutate(TF = low < pop_lm$coefficients[2] &\n",
        "            high > pop_lm$coefficients[2])) "
      ]
    },
    {
      "cell_type": "markdown",
      "id": "7804cbf2-da3d-4532-b11e-12b8cacc2b8b",
      "metadata": {},
      "source": [
        "### 真値を含む割合\n",
        "\n",
        "真値を含む割合は, 約95%に収束する."
      ]
    },
    {
      "cell_type": "code",
      "execution_count": null,
      "id": "38f9a877-a139-4620-b327-2a1f61986785",
      "metadata": {},
      "outputs": [],
      "source": [
        "sim_data |> \n",
        "  summarise(TF        = mean(TF),\n",
        "            conf_low  = mean(low),\n",
        "            estimate  = mean(estimate),\n",
        "            conf_high = mean(high))"
      ]
    },
    {
      "cell_type": "markdown",
      "id": "dceef5a1-9af3-4bc7-ab3a-5b58a40f14bf",
      "metadata": {},
      "source": [
        "### 95%信頼区間を図示\n",
        "\n",
        "作成データからさらに100個抽出し, 95%信頼区間をプロットする."
      ]
    },
    {
      "cell_type": "code",
      "execution_count": null,
      "id": "cc7530ae-6f4b-42de-a6ba-4bdd2b4fdbaa",
      "metadata": {},
      "outputs": [],
      "source": [
        "with_seed(\n",
        "  2718,\n",
        "  sim_data |> \n",
        "    mutate(TF = as.factor(TF)) |> \n",
        "    slice_sample(n = 100) |> \n",
        "    mutate(number = row_number())) |> \n",
        "    ggplot() +\n",
        "    aes(x      = number, \n",
        "        y      = estimate, \n",
        "        colour = TF) +\n",
        "  geom_point() +\n",
        "  geom_errorbar(aes(ymin = low, \n",
        "                    ymax = high), \n",
        "                width = .2) +\n",
        "  geom_hline(\n",
        "    yintercept = pop_lm$coefficients[2],\n",
        "    linetype   = \"dashed\", \n",
        "    colour     = \"black\")"
      ]
    }
  ],
  "metadata": {
    "kernelspec": {
      "display_name": "Python 3",
      "language": "python",
      "name": "python3"
    }
  },
  "nbformat": 4,
  "nbformat_minor": 5
}
