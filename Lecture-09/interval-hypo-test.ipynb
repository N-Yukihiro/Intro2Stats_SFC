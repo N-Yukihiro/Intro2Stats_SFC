{
  "cells": [
    {
      "cell_type": "markdown",
      "metadata": {},
      "source": [
        "# 信頼区間, 仮説検定\n",
        "\n",
        "# 分析結果の見方\n",
        "\n",
        "### データの読み込み\n",
        "\n",
        "『家計調査』2017年11月、第2−6表「年間収入階級別1世帯当たり1か月間の収入と支出」から作成した所得階級と支出のデータ`kakei201709_l18.csv`を用いる\\[^url\\].\n",
        "\n",
        "月間消費支出(円)(`CONS`), 月間消費支出(1万円)(`CONS1`),\n",
        "年間収入(1万円)(INC), 有業人員(人)(`WORK`). いずれも調査世帯の平均値."
      ],
      "id": "ed3b0e0d-429b-48c2-84f0-7e7dbe37c26a"
    },
    {
      "cell_type": "code",
      "execution_count": null,
      "metadata": {},
      "outputs": [],
      "source": [
        "library(pacman)\n",
        "p_load(readr, here)\n",
        "kakei <- readr::read_csv(here(\"data\", \"kakei201709_l18.csv\"))"
      ],
      "id": "20f0d485-ee9b-4c83-9f7f-4e2e7a647c49"
    },
    {
      "cell_type": "markdown",
      "metadata": {},
      "source": [
        "### 回帰分析の実行\n",
        "\n",
        "応答変数を`CONS1`, 説明変数を`INC`として単回帰分析を行う."
      ],
      "id": "175c9b51-5c20-4cb0-b8e4-ec86bd904110"
    },
    {
      "cell_type": "code",
      "execution_count": null,
      "metadata": {},
      "outputs": [],
      "source": [
        "res <- lm(CONS1 ~ INC, data = kakei)"
      ],
      "id": "5227ee9d-e8fa-48d3-8daa-5fd1caeeb50d"
    },
    {
      "cell_type": "markdown",
      "metadata": {},
      "source": [
        "### 結果の表示\n",
        "\n",
        "`jtools`パッケージを利用して回帰分析の結果を表示する."
      ],
      "id": "a5328e2d-6a8d-41e5-a11e-8fbe3ab04ef8"
    },
    {
      "cell_type": "code",
      "execution_count": null,
      "metadata": {},
      "outputs": [],
      "source": [
        "p_load(jtools)\n",
        "summ(res)"
      ],
      "id": "80b2c131-68f4-4aeb-b97c-63191a1fd409"
    },
    {
      "cell_type": "markdown",
      "metadata": {},
      "source": [
        "### 結果の読み方\n",
        "\n",
        "下方の表に推定結果がまとめられている. Est.(回帰係数)は以前紹介した通り.\n",
        "S.E.の列に標準誤差が示される.\n",
        "おおよそ$\\pm 2$倍して(正確な値は信頼区間)0を跨がなければ符号が変わらないのでその変数は意味が有る(有意)と言える.\n",
        "\n",
        "t val.にt値が示される. 回帰係数が0でないかどうかを検定した場合のt値.\n",
        "回帰係数が0であるという帰無仮説が棄却できるかを検証する.\n",
        "\n",
        "最後の列のpにp値が示される.\n",
        "帰無仮説が正しい(回帰係数が0である)と仮定した場合に,\n",
        "分析したデータが得られる確率($P(D|H_0)$).\n",
        "事前に有意水準($\\alpha$)を事前に設定し, それを下回るか否かで判断する.\n",
        "p値の大きさによって星をつけたり,\n",
        "小さいほどよいという解釈をしたりすることは本来のNeyman-Pearson流の考え方ではない.\n",
        "\n",
        "### 信頼区間の示し方\n",
        "\n",
        "回帰係数の95%信頼区間を表示するには, `summ(confint = TRUE)`を指定する.\n",
        "S.E.の代わりに信頼区間の下限と上限が示される.\n",
        "信頼区間が0をまたいでいなければ符号が変わらず有意な変数だと言える.\n",
        "`ci.width`という引数で信頼係数(信頼区間の幅)を変えることができる.\n",
        "指定をしない場合はデフォルトで95%信頼区間となる.\n",
        "有意水準と信頼係数は表裏の関係にあるため,\n",
        "有意水準に合わせて信頼係数を変更する."
      ],
      "id": "7fcaff07-5c84-4e48-890f-e86af8c2d7fe"
    },
    {
      "cell_type": "code",
      "execution_count": null,
      "metadata": {},
      "outputs": [],
      "source": [
        "summ(res, \n",
        "     confint  = TRUE, \n",
        "     ci.width = .95)"
      ],
      "id": "24933ab5-9427-4f02-a9cf-3bd84cd70261"
    },
    {
      "cell_type": "markdown",
      "metadata": {},
      "source": [
        "### t値の求め方\n",
        "\n",
        "t値は回帰係数を標準誤差で除することで求めることができる."
      ],
      "id": "8c1bd230-0713-4253-96e8-8db8ad85ff91"
    },
    {
      "cell_type": "code",
      "execution_count": null,
      "metadata": {},
      "outputs": [],
      "source": [
        "res$coefficients[2] / summary(res)$coefficients[2, 2]\n",
        "all.equal(summary(res)$coefficients[2, 1] /\n",
        "            summary(res)$coefficients[2, 2],\n",
        "          summary(res)$coefficients[2, 3])"
      ],
      "id": "94f4049d-1f02-40d9-9173-c7a3ed7021ce"
    },
    {
      "cell_type": "markdown",
      "metadata": {},
      "source": [
        "### p値\n",
        "\n",
        "p値は帰無仮説が正しい場合に分析したデータが得られる確率.\n",
        "t分布からt値が得られる確率を求める. 両側検定のため2倍する."
      ],
      "id": "c3ee63aa-ed4d-4b28-9359-def88d2afd1a"
    },
    {
      "cell_type": "code",
      "execution_count": null,
      "metadata": {},
      "outputs": [],
      "source": [
        "p_load(magrittr)\n",
        "summary(res)$coefficients[2, 3] |>\n",
        "  pt(df = 16, lower.tail = FALSE) |> \n",
        "  multiply_by(2)\n",
        "summary(res)$coefficients[2, 4]"
      ],
      "id": "fd81be38-e5ba-48d8-aec1-74a9d277c529"
    },
    {
      "cell_type": "markdown",
      "metadata": {},
      "source": [
        "### p値のグラフ化\n",
        "\n",
        "t分布を描いて直感的にp値を捉える."
      ],
      "id": "767f60f9-3c93-4887-a697-640f11d0d226"
    },
    {
      "cell_type": "code",
      "execution_count": null,
      "metadata": {},
      "outputs": [],
      "source": [
        "p_load(ggplot2)\n",
        "ggplot(data = NULL) +\n",
        "  aes(xmin = -30,\n",
        "      xmax = 30) +\n",
        "  stat_function(fun  = dt,\n",
        "                args = list(df = 16)) +\n",
        "  geom_vline(xintercept = 24) +\n",
        "  geom_vline(xintercept = -24)"
      ],
      "id": "e9d5f4f6-aa16-44ed-8bd1-4eb21ae0cd80"
    },
    {
      "cell_type": "markdown",
      "metadata": {},
      "source": [
        "# シミュレーションによる理解\n",
        "\n",
        "## データの準備\n",
        "\n",
        "### データの準備\n",
        "\n",
        "ここからの演習ではシミュレーションデータを用いる.\n",
        "母集団としてサイズが100万で平均2,\n",
        "分散4の正規分布に従う説明変数のデータを作成する. 応答変数は定数項が2,\n",
        "回帰係数は3とする."
      ],
      "id": "ffaf7cbf-3940-4b13-8081-ae266b7fdfb7"
    },
    {
      "cell_type": "code",
      "execution_count": null,
      "metadata": {},
      "outputs": [],
      "source": [
        "p_load(withr, dplyr, tibble)\n",
        "pop <- with_seed(\n",
        "  2718,\n",
        "  tibble(\n",
        "    x = rnorm(n    = 1000000,\n",
        "              mean = 2,\n",
        "              sd   = 4)) |> \n",
        "    mutate(y = 2 + 3 * x + rnorm(n = 1000000)))"
      ],
      "id": "a866f5cd-ef5b-4e1f-afe0-8261165353d9"
    },
    {
      "cell_type": "markdown",
      "metadata": {},
      "source": [
        "### 母集団のデータの概要\n",
        "\n",
        "母集団のデータの概要を確認する."
      ],
      "id": "7426c1bf-73ce-4a0b-9588-22fc485f7826"
    },
    {
      "cell_type": "code",
      "execution_count": null,
      "metadata": {},
      "outputs": [],
      "source": [
        "summary(pop)"
      ],
      "id": "75c64882-92e1-4b03-a9f7-69c073c9bea4"
    },
    {
      "cell_type": "markdown",
      "metadata": {},
      "source": [
        "### 母集団の回帰係数\n",
        "\n",
        "母集団を作成した際に利用した係数と推定された回帰係数は一致する."
      ],
      "id": "a18e1f61-c7d0-44b4-8589-415b7d536fbc"
    },
    {
      "cell_type": "code",
      "execution_count": null,
      "metadata": {},
      "outputs": [],
      "source": [
        "pop_lm <- lm(y ~ x, data = pop)\n",
        "summ(pop_lm)"
      ],
      "id": "d666aa40-3120-4a28-8762-064a67cf2849"
    },
    {
      "cell_type": "markdown",
      "metadata": {},
      "source": [
        "### 別の母集団の準備\n",
        "\n",
        "-   説明変数の効果の小さな母集団も用意する"
      ],
      "id": "2008744a-d72f-4309-90b1-c58650e4c91c"
    },
    {
      "cell_type": "code",
      "execution_count": null,
      "metadata": {},
      "outputs": [],
      "source": [
        "pop2 <- with_seed(\n",
        "  2718,\n",
        "  tibble(\n",
        "    x = rnorm(n    = 1000000,\n",
        "              mean = 2, \n",
        "              sd   = 4)) |> \n",
        "    mutate(y = 2 + 0.1 * x + rnorm(n  = 1000000,\n",
        "                                   sd = 5)))"
      ],
      "id": "d6d96606-3683-44e0-b696-69bf89d6bb3d"
    },
    {
      "cell_type": "markdown",
      "metadata": {},
      "source": [
        "### 別の母集団のデータの概要\n",
        "\n",
        "母集団のデータの概要を確認する."
      ],
      "id": "93fe6141-b04f-448f-8130-ee2f7e27837e"
    },
    {
      "cell_type": "code",
      "execution_count": null,
      "metadata": {},
      "outputs": [],
      "source": [
        "summary(pop2)"
      ],
      "id": "8eeee895-e498-4dcc-9d16-a8f05bd73492"
    },
    {
      "cell_type": "markdown",
      "metadata": {},
      "source": [
        "### 別の母集団の回帰係数\n",
        "\n",
        "母集団を作成した際に利用した係数と推定された回帰係数は一致する."
      ],
      "id": "9483a53d-c836-4ad0-908e-753e349c870c"
    },
    {
      "cell_type": "code",
      "execution_count": null,
      "metadata": {},
      "outputs": [],
      "source": [
        "pop_lm2 <- lm(y ~ x, data = pop2)\n",
        "summ(pop_lm2)"
      ],
      "id": "1bcf5a22-18fd-4f8b-9854-e331d22a8892"
    },
    {
      "cell_type": "markdown",
      "metadata": {},
      "source": [
        "## サンプルサイズと回帰係数\n",
        "\n",
        "### 標本による回帰\n",
        "\n",
        "標本としてサイズが5, 10, 30, 100, 1000, 5000のデータを無作為抽出し,\n",
        "回帰分析を行う. `confint()`を利用して回帰係数の95%信頼区間を得る."
      ],
      "id": "49b5659f-3d87-409c-a002-fd915b7a5740"
    },
    {
      "cell_type": "code",
      "execution_count": null,
      "metadata": {},
      "outputs": [],
      "source": [
        "p_load(purrr)\n",
        "sample_lm <- with_seed(\n",
        "  2718,\n",
        "  list(5, 10, 30, 100, 1000, 5000) |> \n",
        "    purrr::map(\\(size) slice_sample(pop,\n",
        "                                    n = size)) |>\n",
        "    purrr::set_names(5, 10, 30, 100, 1000, 5000) |> \n",
        "    purrr::map(\\(data) lm(y ~ x, data = data)) |> \n",
        "    purrr::map(\\(result) confint(result,\n",
        "                                 parm = \"x\") |> \n",
        "                     as_tibble()) |> \n",
        "    list_rbind(names_to = \"size\"))"
      ],
      "id": "422fe88f-87ed-4266-989d-91a273589e76"
    },
    {
      "cell_type": "markdown",
      "metadata": {},
      "source": [
        "### 標本による回帰結果の図示\n",
        "\n",
        "結果を確認するときちんと95%信頼区間の範囲内に真値があることがわかる."
      ],
      "id": "8897967f-4fc9-4cda-a427-1c1f4b13a423"
    },
    {
      "cell_type": "code",
      "execution_count": null,
      "metadata": {},
      "outputs": [],
      "source": [
        "sample_lm |> \n",
        "  rename(low = 2, high = 3) |> \n",
        "  mutate(estimate = (low + high) / 2) |> \n",
        "  mutate(size = as.numeric(size) |> \n",
        "           as.factor()) |> \n",
        "  ggplot() +\n",
        "  geom_point() +\n",
        "  aes(x = size,\n",
        "      y = estimate) +\n",
        "  geom_errorbar(aes(x    = size, \n",
        "                    ymin = low,\n",
        "                    ymax = high), \n",
        "                width = .2) +\n",
        "  geom_hline(yintercept = 3,\n",
        "             linetype   = \"dashed\")"
      ],
      "id": "68626cc5-ff20-492e-acb9-c483c7ffce80"
    },
    {
      "cell_type": "markdown",
      "metadata": {},
      "source": [
        "## サンプルサイズと回帰係数(回帰係数の小さい場合)\n",
        "\n",
        "### 標本による回帰\n",
        "\n",
        "標本としてサイズが5, 10, 30, 100, 1000, 5000のデータを無作為抽出し,\n",
        "回帰分析を行う. `confint()`を利用して回帰係数の95%信頼区間を得る."
      ],
      "id": "75a46257-a89c-4fdd-860e-c933b176d765"
    },
    {
      "cell_type": "code",
      "execution_count": null,
      "metadata": {},
      "outputs": [],
      "source": [
        "sample_lm2 <- with_seed(\n",
        "  2718,\n",
        "  list(5, 10, 30, 100, 1000, 5000) |> \n",
        "    purrr::map(\\(size) slice_sample(pop2,\n",
        "                                    n = size)) |>\n",
        "    purrr::set_names(5, 10, 30, 100, 1000, 5000) |> \n",
        "    purrr::map(\\(data) lm(y ~ x, data = data)) |> \n",
        "    purrr::map(\\(result) confint(result,\n",
        "                                 parm = \"x\") |> \n",
        "                 as_tibble()) |> \n",
        "    list_rbind(names_to = \"size\"))"
      ],
      "id": "aa9e322b-2502-4202-a196-39c307f093b9"
    },
    {
      "cell_type": "markdown",
      "metadata": {},
      "source": [
        "### 標本による回帰結果の図示\n",
        "\n",
        "結果を確認するときちんと95%信頼区間の範囲内に真値があることがわかる.\n",
        "説明変数の効果が小さい場合,\n",
        "サンプルサイズが小さいと帰無仮説を棄却できない."
      ],
      "id": "00eb8f09-49ec-46cf-9e42-5c673de5ba16"
    },
    {
      "cell_type": "code",
      "execution_count": null,
      "metadata": {},
      "outputs": [],
      "source": [
        "sample_lm2 |> \n",
        "  rename(low = 2, high = 3) |> \n",
        "  mutate(estimate = (low + high) / 2) |> \n",
        "  mutate(size = as.numeric(size) |> \n",
        "           as.factor()) |> \n",
        "  ggplot() +\n",
        "  geom_point() +\n",
        "  aes(x = size,\n",
        "      y = estimate) +\n",
        "  geom_errorbar(aes(x    = size, \n",
        "                    ymin = low,\n",
        "                    ymax = high), \n",
        "                width = .2) +\n",
        "  geom_hline(yintercept = 0.1,\n",
        "             linetype   = \"dashed\") +\n",
        "  geom_hline(yintercept = 0,\n",
        "             colour     = \"red\")"
      ],
      "id": "d78b21be-6174-4118-af6a-570b5a2e9c34"
    },
    {
      "cell_type": "markdown",
      "metadata": {},
      "source": [
        "## 信頼区間の意味\n",
        "\n",
        "### モンテカルロ・シミュレーション\n",
        "\n",
        "初めに作った母集団からサイズ300の標本を1000個作成し,\n",
        "xの回帰係数の95%信頼区間を求める.\n",
        "信頼区間に真値(母集団の係数)を含むか否かのダミー変数を作成する."
      ],
      "id": "8eef7de1-6f42-4362-9133-ec8745782220"
    },
    {
      "cell_type": "code",
      "execution_count": null,
      "metadata": {},
      "outputs": [],
      "source": [
        "sim_data <- with_seed(\n",
        "  2718,\n",
        "  map(1:1000,\n",
        "      ~ slice_sample(pop,\n",
        "                     n = 300)) |> \n",
        "    map(\\(data) lm(y ~ x, data = data)) |>\n",
        "    purrr::set_names(1:1000) |> \n",
        "    map(\\(result) confint(result,\n",
        "                          parm = \"x\") |> \n",
        "              as_tibble()) |>\n",
        "    list_rbind() |> \n",
        "    rename(low = 1, high = 2) |> \n",
        "    mutate(estimate = (low + high) / 2) |> \n",
        "    mutate(TF = if_else(\n",
        "      low < pop_lm$coefficients[2] &\n",
        "        high > pop_lm$coefficients[2],\n",
        "      1, 0)))"
      ],
      "id": "25c3ca7b-7407-466e-b7cd-6a6f20ad5d85"
    },
    {
      "cell_type": "markdown",
      "metadata": {},
      "source": [
        "### 真値を含む割合\n",
        "\n",
        "真値を含む割合は, 約95%に収束する."
      ],
      "id": "63229722-5692-4aa3-89a2-e1f137ea539a"
    },
    {
      "cell_type": "code",
      "execution_count": null,
      "metadata": {},
      "outputs": [],
      "source": [
        "sim_data |> \n",
        "  summarise(TF        = mean(TF),\n",
        "            conf_low  = mean(low),\n",
        "            estimate  = mean(estimate),\n",
        "            conf_high = mean(high))"
      ],
      "id": "8b84dfd5-4297-463e-b042-6a740f76b240"
    },
    {
      "cell_type": "markdown",
      "metadata": {},
      "source": [
        "### 95%信頼区間を図示\n",
        "\n",
        "作成データからさらに100個抽出し, 95%信頼区間をプロットする."
      ],
      "id": "59346df0-f2d9-4a02-9496-39e7f88f9db8"
    },
    {
      "cell_type": "code",
      "execution_count": null,
      "metadata": {},
      "outputs": [],
      "source": [
        "with_seed(\n",
        "  2718,\n",
        "  sim_data |> \n",
        "    mutate(TF = as.factor(TF)) |> \n",
        "    slice_sample(n = 100) |> \n",
        "    mutate(number = row_number())) |> \n",
        "    ggplot() +\n",
        "    aes(x      = number, \n",
        "        y      = estimate, \n",
        "        colour = TF) +\n",
        "  geom_point() +\n",
        "  geom_errorbar(aes(ymin = low, \n",
        "                    ymax = high), \n",
        "                width = .2) +\n",
        "  geom_hline(\n",
        "    yintercept = pop_lm$coefficients[2],\n",
        "    linetype   = \"dashed\", \n",
        "    colour     = \"black\")"
      ],
      "id": "d5298f87-cd62-4748-ad2c-e8fc08c14cee"
    }
  ],
  "nbformat": 4,
  "nbformat_minor": 5,
  "metadata": {
    "kernelspec": {
      "display_name": "Python 3",
      "language": "python",
      "name": "python3"
    }
  }
}