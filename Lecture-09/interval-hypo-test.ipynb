{
  "cells": [
    {
      "cell_type": "markdown",
      "metadata": {},
      "source": [
        "# 信頼区間, 仮説検定\n",
        "\n",
        "# 分析結果の見方\n",
        "\n",
        "### データの読み込み\n",
        "\n",
        "『家計調査』2017年11月、第2−6表「年間収入階級別1世帯当たり1か月間の収入と支出」から作成した所得階級と支出のデータ`kakei201709_l18.csv`を用いる\\[^url\\].\n",
        "\n",
        "月間消費支出(円)(`CONS`), 月間消費支出(1万円)(`CONS1`),\n",
        "年間収入(1万円)(INC), 有業人員(人)(`WORK`). いずれも調査世帯の平均値."
      ],
      "id": "06ce471b-e610-4215-b106-22d4243d7af7"
    },
    {
      "cell_type": "code",
      "execution_count": null,
      "metadata": {},
      "outputs": [
        {
          "output_type": "stream",
          "name": "stderr",
          "text": [
            "Rows: 18 Columns: 4\n",
            "── Column specification ────────────────────────────────────────────────────────\n",
            "Delimiter: \",\"\n",
            "dbl (4): CONS, CONS1, INC, WORK\n",
            "\n",
            "ℹ Use `spec()` to retrieve the full column specification for this data.\n",
            "ℹ Specify the column types or set `show_col_types = FALSE` to quiet this message."
          ]
        }
      ],
      "source": [
        "library(pacman)\n",
        "p_load(readr, here)\n",
        "kakei <- readr::read_csv(here(\"data\", \"kakei201709_l18.csv\"))"
      ],
      "id": "0ece352b-ee2f-4e8b-8347-b2c38d962aa0"
    },
    {
      "cell_type": "markdown",
      "metadata": {},
      "source": [
        "### 回帰分析の実行\n",
        "\n",
        "応答変数を`CONS1`, 説明変数を`INC`として単回帰分析を行う."
      ],
      "id": "4a0ab4e8-915c-4f63-aab6-e2541b27e818"
    },
    {
      "cell_type": "code",
      "execution_count": null,
      "metadata": {},
      "outputs": [],
      "source": [
        "res <- lm(CONS1 ~ INC, data = kakei)"
      ],
      "id": "79cb1f9f-8f4d-4173-bb24-9592ef4b80ae"
    },
    {
      "cell_type": "markdown",
      "metadata": {},
      "source": [
        "### 結果の表示\n",
        "\n",
        "`jtools`パッケージを利用して回帰分析の結果を表示する."
      ],
      "id": "93966c6c-a5c4-46aa-8bd6-96b56d2545d9"
    },
    {
      "cell_type": "code",
      "execution_count": null,
      "metadata": {},
      "outputs": [
        {
          "output_type": "stream",
          "name": "stdout",
          "text": [
            "MODEL INFO:\n",
            "Observations: 18\n",
            "Dependent Variable: CONS1\n",
            "Type: OLS linear regression \n",
            "\n",
            "MODEL FIT:\n",
            "F(1,16) = 584.11, p = 0.00\n",
            "R² = 0.97\n",
            "Adj. R² = 0.97 \n",
            "\n",
            "Standard errors:OLS\n",
            "------------------------------------------------\n",
            "                     Est.   S.E.   t val.      p\n",
            "----------------- ------- ------ -------- ------\n",
            "(Intercept)         14.35   0.73    19.71   0.00\n",
            "INC                  0.02   0.00    24.17   0.00\n",
            "------------------------------------------------"
          ]
        }
      ],
      "source": [
        "p_load(jtools)\n",
        "summ(res)"
      ],
      "id": "223dd1c3-002e-4d36-975b-685a2a74f64f"
    },
    {
      "cell_type": "markdown",
      "metadata": {},
      "source": [
        "### 結果の読み方\n",
        "\n",
        "下方の表に推定結果がまとめられている. Est.(回帰係数)は以前紹介した通り.\n",
        "S.E.の列に標準誤差が示される.\n",
        "おおよそ$\\pm 2$倍して(正確な値は信頼区間)0を跨がなければ符号が変わらないのでその変数は意味が有る(有意)と言える.\n",
        "\n",
        "t val.にt値が示される. 回帰係数が0でないかどうかを検定した場合のt値.\n",
        "回帰係数が0であるという帰無仮説が棄却できるかを検証する.\n",
        "\n",
        "最後の列のpにp値が示される.\n",
        "帰無仮説が正しい(回帰係数が0である)と仮定した場合に,\n",
        "分析したデータが得られる確率($P(D|H_0)$).\n",
        "事前に有意水準($\\alpha$)を事前に設定し, それを下回るか否かで判断する.\n",
        "p値の大きさによって星をつけたり,\n",
        "小さいほどよいという解釈をしたりすることは本来のNeyman-Pearson流の考え方ではない.\n",
        "\n",
        "### 信頼区間の示し方\n",
        "\n",
        "回帰係数の95%信頼区間を表示するには, `summ(confint = TRUE)`を指定する.\n",
        "S.E.の代わりに信頼区間の下限と上限が示される.\n",
        "信頼区間が0をまたいでいなければ符号が変わらず有意な変数だと言える.\n",
        "`ci.width`という引数で信頼係数(信頼区間の幅)を変えることができる.\n",
        "指定をしない場合はデフォルトで95%信頼区間となる.\n",
        "有意水準と信頼係数は表裏の関係にあるため,\n",
        "有意水準に合わせて信頼係数を変更する."
      ],
      "id": "1da001af-a27c-4294-bce9-e82151a46de1"
    },
    {
      "cell_type": "code",
      "execution_count": null,
      "metadata": {},
      "outputs": [
        {
          "output_type": "stream",
          "name": "stdout",
          "text": [
            "MODEL INFO:\n",
            "Observations: 18\n",
            "Dependent Variable: CONS1\n",
            "Type: OLS linear regression \n",
            "\n",
            "MODEL FIT:\n",
            "F(1,16) = 584.11, p = 0.00\n",
            "R² = 0.97\n",
            "Adj. R² = 0.97 \n",
            "\n",
            "Standard errors:OLS\n",
            "---------------------------------------------------------\n",
            "                     Est.    2.5%   97.5%   t val.      p\n",
            "----------------- ------- ------- ------- -------- ------\n",
            "(Intercept)         14.35   12.81   15.89    19.71   0.00\n",
            "INC                  0.02    0.02    0.02    24.17   0.00\n",
            "---------------------------------------------------------"
          ]
        }
      ],
      "source": [
        "summ(res, \n",
        "     confint  = TRUE, \n",
        "     ci.width = .95)"
      ],
      "id": "637ee696-b081-4dc4-afbf-423b921523ae"
    },
    {
      "cell_type": "markdown",
      "metadata": {},
      "source": [
        "### t値の求め方\n",
        "\n",
        "t値は回帰係数を標準誤差で除することで求めることができる."
      ],
      "id": "e40c435b-cfd7-4d7a-873a-f4bc1891f38f"
    },
    {
      "cell_type": "code",
      "execution_count": null,
      "metadata": {},
      "outputs": [
        {
          "output_type": "stream",
          "name": "stdout",
          "text": [
            "     INC \n",
            "24.16845 "
          ]
        },
        {
          "output_type": "stream",
          "name": "stdout",
          "text": [
            "[1] TRUE"
          ]
        }
      ],
      "source": [
        "res$coefficients[2] / summary(res)$coefficients[2, 2]"
      ],
      "id": "aca76c2a-000e-44e5-8e0c-7bed9f1c5a18"
    },
    {
      "cell_type": "markdown",
      "metadata": {},
      "source": [
        "### p値\n",
        "\n",
        "p値は帰無仮説が正しい場合に分析したデータが得られる確率.\n",
        "t分布からt値が得られる確率を求める. 両側検定のため2倍する."
      ],
      "id": "e04d3070-6ac2-4c0f-9022-48a0011366a6"
    },
    {
      "cell_type": "code",
      "execution_count": null,
      "metadata": {},
      "outputs": [
        {
          "output_type": "stream",
          "name": "stdout",
          "text": [
            "[1] 5.074551e-14"
          ]
        },
        {
          "output_type": "stream",
          "name": "stdout",
          "text": [
            "[1] 5.074551e-14"
          ]
        }
      ],
      "source": [
        "p_load(magrittr)\n",
        "summary(res)$coefficients[2, 3] |>\n",
        "  pt(df = 16, lower.tail = FALSE) |> \n",
        "  multiply_by(2)"
      ],
      "id": "6ab5f80e-5776-46d8-bef8-261292f2913d"
    },
    {
      "cell_type": "markdown",
      "metadata": {},
      "source": [
        "### p値のグラフ化\n",
        "\n",
        "t分布を描いて直感的にp値を捉える."
      ],
      "id": "47a6e8db-10fb-46da-b6dd-e33d2f889330"
    },
    {
      "cell_type": "code",
      "execution_count": null,
      "metadata": {},
      "outputs": [
        {
          "output_type": "display_data",
          "metadata": {},
          "data": {
            "image/png": "[encoded data removed]"
          }
        }
      ],
      "source": [
        "p_load(ggplot2)\n",
        "ggplot(data = NULL) +\n",
        "  xlim(-30, 30) +\n",
        "  geom_function(fun  = dt,\n",
        "                args = list(df = 16)) +\n",
        "  geom_vline(xintercept = 24) +\n",
        "  geom_vline(xintercept = -24)"
      ],
      "id": "86f739cb-56c5-4d40-a138-88a416b3d0fb"
    },
    {
      "cell_type": "markdown",
      "metadata": {},
      "source": [
        "# シミュレーションによる理解\n",
        "\n",
        "## データの準備\n",
        "\n",
        "### データの準備\n",
        "\n",
        "ここからの演習ではシミュレーションデータを用いる.\n",
        "母集団としてサイズが100万で平均2,\n",
        "分散4の正規分布に従う説明変数のデータを作成する. 応答変数は定数項が2,\n",
        "回帰係数は3とする."
      ],
      "id": "5173f1d5-0b4d-40e0-98c8-01d009b005c3"
    },
    {
      "cell_type": "code",
      "execution_count": null,
      "metadata": {},
      "outputs": [],
      "source": [
        "p_load(withr, dplyr, tibble)\n",
        "pop <- with_seed(\n",
        "  2718,\n",
        "  tibble(\n",
        "    x = rnorm(n    = 1000000,\n",
        "              mean = 2,\n",
        "              sd   = 4)) |> \n",
        "    mutate(y = 2 + 3 * x + rnorm(n = 1000000)))"
      ],
      "id": "855bcec1-ab43-4e56-9998-47a166d306c7"
    },
    {
      "cell_type": "markdown",
      "metadata": {},
      "source": [
        "### 母集団のデータの概要\n",
        "\n",
        "母集団のデータの概要を確認する."
      ],
      "id": "9fbfef9a-d930-4bef-8bba-e015306c2349"
    },
    {
      "cell_type": "code",
      "execution_count": null,
      "metadata": {},
      "outputs": [
        {
          "output_type": "stream",
          "name": "stdout",
          "text": [
            "       x                  y           \n",
            " Min.   :-16.9822   Min.   :-49.1780  \n",
            " 1st Qu.: -0.6958   1st Qu.: -0.1162  \n",
            " Median :  1.9975   Median :  7.9842  \n",
            " Mean   :  1.9993   Mean   :  7.9982  \n",
            " 3rd Qu.:  4.6972   3rd Qu.: 16.1196  \n",
            " Max.   : 23.2266   Max.   : 71.0073  "
          ]
        }
      ],
      "source": [
        "summary(pop)"
      ],
      "id": "50a7ec29-bcff-4f27-ba28-ddc0447b250f"
    },
    {
      "cell_type": "markdown",
      "metadata": {},
      "source": [
        "### 母集団の回帰係数\n",
        "\n",
        "母集団を作成した際に利用した係数と推定された回帰係数は一致する."
      ],
      "id": "65584df7-ea9b-4aec-9acb-9d07e7e1ea69"
    },
    {
      "cell_type": "code",
      "execution_count": null,
      "metadata": {},
      "outputs": [
        {
          "output_type": "stream",
          "name": "stdout",
          "text": [
            "MODEL INFO:\n",
            "Observations: 1000000\n",
            "Dependent Variable: y\n",
            "Type: OLS linear regression \n",
            "\n",
            "MODEL FIT:\n",
            "F(1,999998) = 144324145.11, p = 0.00\n",
            "R² = 0.99\n",
            "Adj. R² = 0.99 \n",
            "\n",
            "Standard errors:OLS\n",
            "-------------------------------------------------\n",
            "                    Est.   S.E.     t val.      p\n",
            "----------------- ------ ------ ---------- ------\n",
            "(Intercept)         2.00   0.00    1790.45   0.00\n",
            "x                   3.00   0.00   12013.50   0.00\n",
            "-------------------------------------------------"
          ]
        }
      ],
      "source": [
        "pop_lm <- lm(y ~ x, data = pop)\n",
        "summ(pop_lm)"
      ],
      "id": "c13989d4-852a-422d-ad6d-693e7b009ced"
    },
    {
      "cell_type": "markdown",
      "metadata": {},
      "source": [
        "### 別の母集団の準備\n",
        "\n",
        "-   説明変数の効果の小さな母集団も用意する"
      ],
      "id": "24501266-e33d-4f0e-b94a-26e761f293a4"
    },
    {
      "cell_type": "code",
      "execution_count": null,
      "metadata": {},
      "outputs": [],
      "source": [
        "pop2 <- with_seed(\n",
        "  2718,\n",
        "  tibble(\n",
        "    x = rnorm(n    = 1000000,\n",
        "              mean = 2, \n",
        "              sd   = 4)) |> \n",
        "    mutate(y = 2 + 0.1 * x + rnorm(n  = 1000000,\n",
        "                                   sd = 5)))"
      ],
      "id": "5c4167e5-8016-4c7d-8b42-bd235c4a802d"
    },
    {
      "cell_type": "markdown",
      "metadata": {},
      "source": [
        "### 別の母集団のデータの概要\n",
        "\n",
        "母集団のデータの概要を確認する."
      ],
      "id": "930539c6-83cf-4e84-a881-5866007398a9"
    },
    {
      "cell_type": "code",
      "execution_count": null,
      "metadata": {},
      "outputs": [
        {
          "output_type": "stream",
          "name": "stdout",
          "text": [
            "       x                  y          \n",
            " Min.   :-16.9822   Min.   :-24.814  \n",
            " 1st Qu.: -0.6958   1st Qu.: -1.184  \n",
            " Median :  1.9975   Median :  2.202  \n",
            " Mean   :  1.9993   Mean   :  2.202  \n",
            " 3rd Qu.:  4.6972   3rd Qu.:  5.585  \n",
            " Max.   : 23.2266   Max.   : 27.175  "
          ]
        }
      ],
      "source": [
        "summary(pop2)"
      ],
      "id": "01240c15-34b9-4b8c-b6e7-c960288e33a8"
    },
    {
      "cell_type": "markdown",
      "metadata": {},
      "source": [
        "### 別の母集団の回帰係数\n",
        "\n",
        "母集団を作成した際に利用した係数と推定された回帰係数は一致する."
      ],
      "id": "0818cbf8-7b6f-4580-b418-21c461fa4e7a"
    },
    {
      "cell_type": "code",
      "execution_count": null,
      "metadata": {},
      "outputs": [
        {
          "output_type": "stream",
          "name": "stdout",
          "text": [
            "MODEL INFO:\n",
            "Observations: 1000000\n",
            "Dependent Variable: y\n",
            "Type: OLS linear regression \n",
            "\n",
            "MODEL FIT:\n",
            "F(1,999998) = 6525.26, p = 0.00\n",
            "R² = 0.01\n",
            "Adj. R² = 0.01 \n",
            "\n",
            "Standard errors:OLS\n",
            "-----------------------------------------------\n",
            "                    Est.   S.E.   t val.      p\n",
            "----------------- ------ ------ -------- ------\n",
            "(Intercept)         2.00   0.01   358.10   0.00\n",
            "x                   0.10   0.00    80.78   0.00\n",
            "-----------------------------------------------"
          ]
        }
      ],
      "source": [
        "pop_lm2 <- lm(y ~ x, data = pop2)\n",
        "summ(pop_lm2)"
      ],
      "id": "ebfd3b4c-8d0c-4918-836f-6fb6798e0e43"
    },
    {
      "cell_type": "markdown",
      "metadata": {},
      "source": [
        "## サンプルサイズと回帰係数\n",
        "\n",
        "### 標本による回帰\n",
        "\n",
        "標本としてサイズが5, 10, 30, 100, 1000, 5000のデータを無作為抽出し,\n",
        "回帰分析を行う. `confint()`を利用して回帰係数の95%信頼区間を得る."
      ],
      "id": "3e3c3403-2daf-4e99-997c-96e5a5e2db6d"
    },
    {
      "cell_type": "code",
      "execution_count": null,
      "metadata": {},
      "outputs": [],
      "source": [
        "p_load(purrr)\n",
        "sample_lm <- with_seed(\n",
        "  2718,\n",
        "  list(5, 10, 30, 100, 1000, 5000) |> \n",
        "    purrr::map(\\(size) slice_sample(pop,\n",
        "                                    n = size)) |>\n",
        "    purrr::set_names(5, 10, 30, 100, 1000, 5000) |> \n",
        "    purrr::map(\\(data) lm(y ~ x, data = data)) |> \n",
        "    purrr::map(\\(result) confint(result,\n",
        "                                 parm = \"x\") |> \n",
        "                     as_tibble()) |> \n",
        "    list_rbind(names_to = \"size\"))"
      ],
      "id": "f971e8bb-6141-420b-9b51-fffe0692f416"
    },
    {
      "cell_type": "markdown",
      "metadata": {},
      "source": [
        "### 標本による回帰結果の図示\n",
        "\n",
        "結果を確認するときちんと95%信頼区間の範囲内に真値があることがわかる."
      ],
      "id": "95b4e2df-498a-4833-82d3-cccad94b282a"
    },
    {
      "cell_type": "code",
      "execution_count": null,
      "metadata": {},
      "outputs": [
        {
          "output_type": "display_data",
          "metadata": {},
          "data": {
            "image/png": "[encoded data removed]"
          }
        }
      ],
      "source": [
        "sample_lm |> \n",
        "  rename(low = 2, high = 3) |> \n",
        "  mutate(estimate = (low + high) / 2) |> \n",
        "  mutate(size = as.numeric(size) |> \n",
        "           as.factor()) |> \n",
        "  ggplot() +\n",
        "  geom_point() +\n",
        "  aes(x = size,\n",
        "      y = estimate) +\n",
        "  geom_errorbar(aes(x    = size, \n",
        "                    ymin = low,\n",
        "                    ymax = high), \n",
        "                width = .2) +\n",
        "  geom_hline(yintercept = 3,\n",
        "             linetype   = \"dashed\")"
      ],
      "id": "728e420b-20b4-4c86-902b-6e49a0f27397"
    },
    {
      "cell_type": "markdown",
      "metadata": {},
      "source": [
        "## サンプルサイズと回帰係数(回帰係数の小さい場合)\n",
        "\n",
        "### 標本による回帰\n",
        "\n",
        "標本としてサイズが5, 10, 30, 100, 1000, 5000のデータを無作為抽出し,\n",
        "回帰分析を行う. `confint()`を利用して回帰係数の95%信頼区間を得る."
      ],
      "id": "29a9259f-a0fe-4ef8-8074-1137dae7f24c"
    },
    {
      "cell_type": "code",
      "execution_count": null,
      "metadata": {},
      "outputs": [],
      "source": [
        "sample_lm2 <- with_seed(\n",
        "  2718,\n",
        "  list(5, 10, 30, 100, 1000, 5000) |> \n",
        "    purrr::map(\\(size) slice_sample(pop2,\n",
        "                                    n = size)) |>\n",
        "    purrr::set_names(5, 10, 30, 100, 1000, 5000) |> \n",
        "    purrr::map(\\(data) lm(y ~ x, data = data)) |> \n",
        "    purrr::map(\\(result) confint(result,\n",
        "                                 parm = \"x\") |> \n",
        "                 as_tibble()) |> \n",
        "    list_rbind(names_to = \"size\"))"
      ],
      "id": "214c0bcb-3378-4efb-a774-120ea7f6cde4"
    },
    {
      "cell_type": "markdown",
      "metadata": {},
      "source": [
        "### 標本による回帰結果の図示\n",
        "\n",
        "結果を確認するときちんと95%信頼区間の範囲内に真値があることがわかる.\n",
        "説明変数の効果が小さい場合,\n",
        "サンプルサイズが小さいと帰無仮説を棄却できない."
      ],
      "id": "51e2cf11-f04a-45d3-89cf-956ec541d910"
    },
    {
      "cell_type": "code",
      "execution_count": null,
      "metadata": {},
      "outputs": [
        {
          "output_type": "display_data",
          "metadata": {},
          "data": {
            "image/png": "[encoded data removed]"
          }
        }
      ],
      "source": [
        "sample_lm2 |> \n",
        "  rename(low = 2, high = 3) |> \n",
        "  mutate(estimate = (low + high) / 2) |> \n",
        "  mutate(size = as.numeric(size) |> \n",
        "           as.factor()) |> \n",
        "  ggplot() +\n",
        "  geom_point() +\n",
        "  aes(x = size,\n",
        "      y = estimate) +\n",
        "  geom_errorbar(aes(x    = size, \n",
        "                    ymin = low,\n",
        "                    ymax = high), \n",
        "                width = .2) +\n",
        "  geom_hline(yintercept = 0.1,\n",
        "             linetype   = \"dashed\") +\n",
        "  geom_hline(yintercept = 0,\n",
        "             colour     = \"red\")"
      ],
      "id": "483ca4fc-cd42-4412-adbc-005c6c16f340"
    },
    {
      "cell_type": "markdown",
      "metadata": {},
      "source": [
        "## 信頼区間の意味\n",
        "\n",
        "### モンテカルロ・シミュレーション\n",
        "\n",
        "初めに作った母集団からサイズ300の標本を1000個作成し,\n",
        "xの回帰係数の95%信頼区間を求める.\n",
        "信頼区間に真値(母集団の係数)を含むか否かのダミー変数を作成する."
      ],
      "id": "b6fb988c-9892-4d37-b826-fad0d8cadb29"
    },
    {
      "cell_type": "code",
      "execution_count": null,
      "metadata": {},
      "outputs": [],
      "source": [
        "sim_data <- with_seed(\n",
        "  2718,\n",
        "  map(1:1000,\n",
        "      \\(x) slice_sample(pop,\n",
        "                        n = 300)) |> \n",
        "    map(\\(data) lm(y ~ x, data = data)) |>\n",
        "    purrr::set_names(1:1000) |> \n",
        "    map(\\(result) confint(result,\n",
        "                          parm = \"x\") |> \n",
        "              as_tibble()) |>\n",
        "    list_rbind() |> \n",
        "    rename(low = 1, high = 2) |> \n",
        "    mutate(estimate = (low + high) / 2) |> \n",
        "    mutate(TF = low < pop_lm$coefficients[2] &\n",
        "            high > pop_lm$coefficients[2])) "
      ],
      "id": "a56ba4fa-8892-4ede-a599-70026a038bb4"
    },
    {
      "cell_type": "markdown",
      "metadata": {},
      "source": [
        "### 真値を含む割合\n",
        "\n",
        "真値を含む割合は, 約95%に収束する."
      ],
      "id": "f019f50f-7f81-45fc-979c-aefb5b8065cf"
    },
    {
      "cell_type": "code",
      "execution_count": null,
      "metadata": {},
      "outputs": [
        {
          "output_type": "stream",
          "name": "stdout",
          "text": [
            "# A tibble: 1 × 4\n",
            "     TF conf_low estimate conf_high\n",
            "  <dbl>    <dbl>    <dbl>     <dbl>\n",
            "1 0.961     2.97     3.00      3.03"
          ]
        }
      ],
      "source": [
        "sim_data |> \n",
        "  summarise(TF        = mean(TF),\n",
        "            conf_low  = mean(low),\n",
        "            estimate  = mean(estimate),\n",
        "            conf_high = mean(high))"
      ],
      "id": "889be565-8e4b-4597-b954-f70cc39f1c89"
    },
    {
      "cell_type": "markdown",
      "metadata": {},
      "source": [
        "### 95%信頼区間を図示\n",
        "\n",
        "作成データからさらに100個抽出し, 95%信頼区間をプロットする."
      ],
      "id": "6b70663b-6340-4af9-835f-4f02f546c992"
    },
    {
      "cell_type": "code",
      "execution_count": null,
      "metadata": {},
      "outputs": [
        {
          "output_type": "display_data",
          "metadata": {},
          "data": {
            "image/png": "[encoded data removed]"
          }
        }
      ],
      "source": [
        "with_seed(\n",
        "  2718,\n",
        "  sim_data |> \n",
        "    mutate(TF = as.factor(TF)) |> \n",
        "    slice_sample(n = 100) |> \n",
        "    mutate(number = row_number())) |> \n",
        "    ggplot() +\n",
        "    aes(x      = number, \n",
        "        y      = estimate, \n",
        "        colour = TF) +\n",
        "  geom_point() +\n",
        "  geom_errorbar(aes(ymin = low, \n",
        "                    ymax = high), \n",
        "                width = .2) +\n",
        "  geom_hline(\n",
        "    yintercept = pop_lm$coefficients[2],\n",
        "    linetype   = \"dashed\", \n",
        "    colour     = \"black\")"
      ],
      "id": "d0bd7e27-a852-4969-8f14-40db5cf6917c"
    }
  ],
  "nbformat": 4,
  "nbformat_minor": 5,
  "metadata": {
    "kernelspec": {
      "display_name": "Python 3",
      "language": "python",
      "name": "python3"
    }
  }
}